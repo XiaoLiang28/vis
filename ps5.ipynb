{
  "nbformat": 4,
  "nbformat_minor": 0,
  "metadata": {
    "colab": {
      "provenance": [],
      "include_colab_link": true
    },
    "kernelspec": {
      "name": "python3",
      "display_name": "Python 3"
    },
    "language_info": {
      "name": "python"
    }
  },
  "cells": [
    {
      "cell_type": "markdown",
      "metadata": {
        "id": "view-in-github",
        "colab_type": "text"
      },
      "source": [
        "<a href=\"https://colab.research.google.com/github/XiaoLiang28/Xiao/blob/main/ps5.ipynb\" target=\"_parent\"><img src=\"https://colab.research.google.com/assets/colab-badge.svg\" alt=\"Open In Colab\"/></a>"
      ]
    },
    {
      "cell_type": "markdown",
      "source": [
        "ok good progress! but need to beef it up, need more data, eg read literature what affects your variables of interest and add them; may talk to prakash, \n",
        "he's doint country level development stuff too\n",
        "\n",
        "but the submission was late so only partial credit"
      ],
      "metadata": {
        "id": "1qUnshUZ5ATc"
      }
    },
    {
      "cell_type": "code",
      "source": [
        "#---------------------------SETUP----------------------------------\n",
        "#get useful libraries\n",
        "import time, os, sys, re #basics\n",
        "import zipfile, json, datetime, string   #string for annotating points in scatter \n",
        "import numpy as np #basic math\n",
        "from statistics import * #stats\n",
        "\n",
        "import matplotlib.pyplot as plt #import pylab as plt #apparently discouraged now: \n",
        " #https://stackoverflow.com/questions/11469336/what-is-the-difference-between-pylab-and-pyplot\n",
        " #https://www.tutorialspoint.com/matplotlib/matplotlib_pylab_module.htm\n",
        "\n",
        "import pandas as pd\n",
        "import pandas_datareader as pdr\n",
        "from pandas_datareader import wb\n",
        "from pandas.io.formats.style import Styler\n",
        "#s4 = Styler(df4, uuid_len=0, cell_ids=False)\n",
        "\n",
        "import urllib  #weird, guess need to have os and pandas imported for this to work  %TODO/LATER ditch it, its weird anyway, just use wget/curl                                                 \n",
        "\n",
        "from google.colab import files\n",
        "\n",
        "#import webbrowser                                                                                                           \n",
        "\n",
        "import seaborn as sns\n",
        "\n",
        "from google.colab import data_table\n",
        "data_table.enable_dataframe_formatter() #this enables spreadsheet view upon calling dataframe (without() )\n",
        "\n",
        "#many tricks how to extend notebook functionality\n",
        "#https://coderzcolumn.com/tutorials/python/list-of-useful-magic-commands-in-jupyter-notebook-lab\n",
        "#will display all output not just last command\n",
        "from IPython.core.interactiveshell import InteractiveShell\n",
        "InteractiveShell.ast_node_interactivity = \"all\"\n",
        "\n",
        "#MAGICS and THEMES/STYLES: important! does affect not just shading/colors, but also fonts, spacing, etc\n",
        "#(even if you only select default (v not selecting anything) [but does seem to work better if you do make explicit sleections]) \n",
        "\n",
        "###magics: https://ipython.readthedocs.io/en/stable/interactive/magics.html\n",
        "#most essential setup for vis: it does affect vis! careful!! stick with inline, maybe notebook; others mostly for non-notebook, eg spyder environ\n",
        "#https://jakevdp.github.io/PythonDataScienceHandbook/04.00-introduction-to-matplotlib.html recomends *inline*!\n",
        "#show current one:\n",
        "#%matplotlib \n",
        "#%matplotlib --list \n",
        "#interactive plots:\n",
        "#%matplotlib notebook  \n",
        "#static images of your plot:\n",
        "%matplotlib inline \n",
        "#may play with this one and other magics (btw default is probably agg)\n",
        "#%matplotlib nbagg\n",
        "\n",
        "###themes/styles: https://matplotlib.org/stable/gallery/style_sheets/style_sheets_reference.html\n",
        "#https://jakevdp.github.io/PythonDataScienceHandbook/04.11-settings-and-stylesheets.html\n",
        "#https://matplotlib.org/stable/tutorials/introductory/customizing.html\n",
        "#here more about art and style than under the hood functionality as with magics, explore and experiment\n",
        "#many may find 'default' or seaborn ones more pleasing; my fav 'classic' is back from 90s ;) \n",
        "#plt.style.available #list available styles :) may install more\n",
        "#plt.style.use('default') # more delicate subtle than classic\n",
        "plt.style.use('classic')  #  'seaborn-whitegrid' 'seaborn-white' 'seaborn-poster'\n",
        "# btw: magics v theme/style sequence matters, eg if i specify classic style before inline magic, i wouldnt get grey bounding box im getting"
      ],
      "metadata": {
        "id": "6lqMZO-tYj9X"
      },
      "execution_count": 1,
      "outputs": []
    },
    {
      "cell_type": "markdown",
      "source": [
        "In this project I'm planning to explore the relationship among a country's HDI and its gender development and gender inequality condition. My hypothesis is the country with higher scores in gender development and lower scores in gender inequality will have a better performance in HDI.\n",
        "\n",
        "Sources from: https://hdr.undp.org/data-center/documentation-and-downloads\n"
      ],
      "metadata": {
        "id": "RFjswmBKi20A"
      }
    },
    {
      "cell_type": "code",
      "source": [
        "urllib.request.urlretrieve(\"https://github.com/XiaoLiang28/Xiao/raw/main/development.xlsx\",\"development\")"
      ],
      "metadata": {
        "id": "02UqH-b1Y70f",
        "colab": {
          "base_uri": "https://localhost:8080/"
        },
        "outputId": "fbd3a91f-26ae-4834-a209-3a27a8784be9"
      },
      "execution_count": 2,
      "outputs": [
        {
          "output_type": "execute_result",
          "data": {
            "text/plain": [
              "('development', <http.client.HTTPMessage at 0x7f4a14536400>)"
            ]
          },
          "metadata": {},
          "execution_count": 2
        }
      ]
    },
    {
      "cell_type": "code",
      "source": [
        "os.getcwd() #pwd\n",
        "os.listdir() #compare to clicking on the left the folder icon #dir"
      ],
      "metadata": {
        "colab": {
          "base_uri": "https://localhost:8080/",
          "height": 36
        },
        "id": "4BdxwTGXnAeo",
        "outputId": "dde434ca-ff6e-4363-8edc-205346097ccd"
      },
      "execution_count": 3,
      "outputs": [
        {
          "output_type": "execute_result",
          "data": {
            "text/plain": [
              "'/content'"
            ],
            "application/vnd.google.colaboratory.intrinsic+json": {
              "type": "string"
            }
          },
          "metadata": {},
          "execution_count": 3
        },
        {
          "output_type": "execute_result",
          "data": {
            "text/plain": [
              "['.config', 'development', 'sample_data']"
            ]
          },
          "metadata": {},
          "execution_count": 3
        }
      ]
    },
    {
      "cell_type": "code",
      "source": [
        "development = pd.read_excel('development')"
      ],
      "metadata": {
        "id": "s33NfuRgZUSW"
      },
      "execution_count": 4,
      "outputs": []
    },
    {
      "cell_type": "code",
      "source": [
        "urllib.request.urlretrieve(\"https://github.com/XiaoLiang28/Xiao/raw/main/inequality.xlsx\",\"inequality\")"
      ],
      "metadata": {
        "colab": {
          "base_uri": "https://localhost:8080/"
        },
        "id": "57Z553DBbJQd",
        "outputId": "b0f9b761-5bd6-4497-c743-246114d60cce"
      },
      "execution_count": 5,
      "outputs": [
        {
          "output_type": "execute_result",
          "data": {
            "text/plain": [
              "('inequality', <http.client.HTTPMessage at 0x7f4a15e36d30>)"
            ]
          },
          "metadata": {},
          "execution_count": 5
        }
      ]
    },
    {
      "cell_type": "code",
      "source": [
        "inequality=pd.read_excel(\"inequality\")"
      ],
      "metadata": {
        "id": "rfZmJ7wubmLB"
      },
      "execution_count": 6,
      "outputs": []
    },
    {
      "cell_type": "code",
      "source": [
        "mergedOuter = pd.merge(development, inequality, how='outer', left_on=['Country'], right_on=['Country'], indicator=True)\n",
        "#mergedOuter\n",
        "#aok after merge always need to investigate!!!\n",
        "mergedOuter['_merge'].value_counts()"
      ],
      "metadata": {
        "colab": {
          "base_uri": "https://localhost:8080/"
        },
        "id": "4LQRU3gJssVv",
        "outputId": "3c800ee6-7696-4646-aca4-04b231544580"
      },
      "execution_count": 12,
      "outputs": [
        {
          "output_type": "execute_result",
          "data": {
            "text/plain": [
              "both          191\n",
              "right_only      5\n",
              "left_only       0\n",
              "Name: _merge, dtype: int64"
            ]
          },
          "metadata": {},
          "execution_count": 12
        }
      ]
    },
    {
      "cell_type": "code",
      "source": [
        "mergedOuter[mergedOuter._merge=='right_only'] #aok these are the places on right only; but thats fine, everything from left did merge! "
      ],
      "metadata": {
        "id": "afarIUpG3IIr",
        "outputId": "b171a2fe-170c-494d-8fbc-2dbb1ab83b19",
        "colab": {
          "base_uri": "https://localhost:8080/",
          "height": 206
        }
      },
      "execution_count": 14,
      "outputs": [
        {
          "output_type": "execute_result",
          "data": {
            "text/plain": [
              "     HDI rank_x                              Country Value  HDI rank_y  \\\n",
              "191         NaN                                  NaN   NaN         NaN   \n",
              "192         NaN  Korea (Democratic People's Rep. of)   NaN         NaN   \n",
              "193         NaN                               Monaco   NaN         NaN   \n",
              "194         NaN                                Nauru   NaN         NaN   \n",
              "195         NaN                              Somalia   NaN         NaN   \n",
              "\n",
              "    Inequality Value      _merge  \n",
              "191              NaN  right_only  \n",
              "192               ..  right_only  \n",
              "193               ..  right_only  \n",
              "194               ..  right_only  \n",
              "195               ..  right_only  "
            ],
            "text/html": [
              "\n",
              "  <div id=\"df-b78ce3de-76ae-4e46-ba6a-57309df35c34\">\n",
              "    <div class=\"colab-df-container\">\n",
              "      <div>\n",
              "<style scoped>\n",
              "    .dataframe tbody tr th:only-of-type {\n",
              "        vertical-align: middle;\n",
              "    }\n",
              "\n",
              "    .dataframe tbody tr th {\n",
              "        vertical-align: top;\n",
              "    }\n",
              "\n",
              "    .dataframe thead th {\n",
              "        text-align: right;\n",
              "    }\n",
              "</style>\n",
              "<table border=\"1\" class=\"dataframe\">\n",
              "  <thead>\n",
              "    <tr style=\"text-align: right;\">\n",
              "      <th></th>\n",
              "      <th>HDI rank_x</th>\n",
              "      <th>Country</th>\n",
              "      <th>Value</th>\n",
              "      <th>HDI rank_y</th>\n",
              "      <th>Inequality Value</th>\n",
              "      <th>_merge</th>\n",
              "    </tr>\n",
              "  </thead>\n",
              "  <tbody>\n",
              "    <tr>\n",
              "      <th>191</th>\n",
              "      <td>NaN</td>\n",
              "      <td>NaN</td>\n",
              "      <td>NaN</td>\n",
              "      <td>NaN</td>\n",
              "      <td>NaN</td>\n",
              "      <td>right_only</td>\n",
              "    </tr>\n",
              "    <tr>\n",
              "      <th>192</th>\n",
              "      <td>NaN</td>\n",
              "      <td>Korea (Democratic People's Rep. of)</td>\n",
              "      <td>NaN</td>\n",
              "      <td>NaN</td>\n",
              "      <td>..</td>\n",
              "      <td>right_only</td>\n",
              "    </tr>\n",
              "    <tr>\n",
              "      <th>193</th>\n",
              "      <td>NaN</td>\n",
              "      <td>Monaco</td>\n",
              "      <td>NaN</td>\n",
              "      <td>NaN</td>\n",
              "      <td>..</td>\n",
              "      <td>right_only</td>\n",
              "    </tr>\n",
              "    <tr>\n",
              "      <th>194</th>\n",
              "      <td>NaN</td>\n",
              "      <td>Nauru</td>\n",
              "      <td>NaN</td>\n",
              "      <td>NaN</td>\n",
              "      <td>..</td>\n",
              "      <td>right_only</td>\n",
              "    </tr>\n",
              "    <tr>\n",
              "      <th>195</th>\n",
              "      <td>NaN</td>\n",
              "      <td>Somalia</td>\n",
              "      <td>NaN</td>\n",
              "      <td>NaN</td>\n",
              "      <td>..</td>\n",
              "      <td>right_only</td>\n",
              "    </tr>\n",
              "  </tbody>\n",
              "</table>\n",
              "</div>\n",
              "      <button class=\"colab-df-convert\" onclick=\"convertToInteractive('df-b78ce3de-76ae-4e46-ba6a-57309df35c34')\"\n",
              "              title=\"Convert this dataframe to an interactive table.\"\n",
              "              style=\"display:none;\">\n",
              "        \n",
              "  <svg xmlns=\"http://www.w3.org/2000/svg\" height=\"24px\"viewBox=\"0 0 24 24\"\n",
              "       width=\"24px\">\n",
              "    <path d=\"M0 0h24v24H0V0z\" fill=\"none\"/>\n",
              "    <path d=\"M18.56 5.44l.94 2.06.94-2.06 2.06-.94-2.06-.94-.94-2.06-.94 2.06-2.06.94zm-11 1L8.5 8.5l.94-2.06 2.06-.94-2.06-.94L8.5 2.5l-.94 2.06-2.06.94zm10 10l.94 2.06.94-2.06 2.06-.94-2.06-.94-.94-2.06-.94 2.06-2.06.94z\"/><path d=\"M17.41 7.96l-1.37-1.37c-.4-.4-.92-.59-1.43-.59-.52 0-1.04.2-1.43.59L10.3 9.45l-7.72 7.72c-.78.78-.78 2.05 0 2.83L4 21.41c.39.39.9.59 1.41.59.51 0 1.02-.2 1.41-.59l7.78-7.78 2.81-2.81c.8-.78.8-2.07 0-2.86zM5.41 20L4 18.59l7.72-7.72 1.47 1.35L5.41 20z\"/>\n",
              "  </svg>\n",
              "      </button>\n",
              "      \n",
              "  <style>\n",
              "    .colab-df-container {\n",
              "      display:flex;\n",
              "      flex-wrap:wrap;\n",
              "      gap: 12px;\n",
              "    }\n",
              "\n",
              "    .colab-df-convert {\n",
              "      background-color: #E8F0FE;\n",
              "      border: none;\n",
              "      border-radius: 50%;\n",
              "      cursor: pointer;\n",
              "      display: none;\n",
              "      fill: #1967D2;\n",
              "      height: 32px;\n",
              "      padding: 0 0 0 0;\n",
              "      width: 32px;\n",
              "    }\n",
              "\n",
              "    .colab-df-convert:hover {\n",
              "      background-color: #E2EBFA;\n",
              "      box-shadow: 0px 1px 2px rgba(60, 64, 67, 0.3), 0px 1px 3px 1px rgba(60, 64, 67, 0.15);\n",
              "      fill: #174EA6;\n",
              "    }\n",
              "\n",
              "    [theme=dark] .colab-df-convert {\n",
              "      background-color: #3B4455;\n",
              "      fill: #D2E3FC;\n",
              "    }\n",
              "\n",
              "    [theme=dark] .colab-df-convert:hover {\n",
              "      background-color: #434B5C;\n",
              "      box-shadow: 0px 1px 3px 1px rgba(0, 0, 0, 0.15);\n",
              "      filter: drop-shadow(0px 1px 2px rgba(0, 0, 0, 0.3));\n",
              "      fill: #FFFFFF;\n",
              "    }\n",
              "  </style>\n",
              "\n",
              "      <script>\n",
              "        const buttonEl =\n",
              "          document.querySelector('#df-b78ce3de-76ae-4e46-ba6a-57309df35c34 button.colab-df-convert');\n",
              "        buttonEl.style.display =\n",
              "          google.colab.kernel.accessAllowed ? 'block' : 'none';\n",
              "\n",
              "        async function convertToInteractive(key) {\n",
              "          const element = document.querySelector('#df-b78ce3de-76ae-4e46-ba6a-57309df35c34');\n",
              "          const dataTable =\n",
              "            await google.colab.kernel.invokeFunction('convertToInteractive',\n",
              "                                                     [key], {});\n",
              "          if (!dataTable) return;\n",
              "\n",
              "          const docLinkHtml = 'Like what you see? Visit the ' +\n",
              "            '<a target=\"_blank\" href=https://colab.research.google.com/notebooks/data_table.ipynb>data table notebook</a>'\n",
              "            + ' to learn more about interactive tables.';\n",
              "          element.innerHTML = '';\n",
              "          dataTable['output_type'] = 'display_data';\n",
              "          await google.colab.output.renderOutput(dataTable, element);\n",
              "          const docLink = document.createElement('div');\n",
              "          docLink.innerHTML = docLinkHtml;\n",
              "          element.appendChild(docLink);\n",
              "        }\n",
              "      </script>\n",
              "    </div>\n",
              "  </div>\n",
              "  "
            ],
            "application/vnd.google.colaboratory.module+javascript": "\n      import \"https://ssl.gstatic.com/colaboratory/data_table/99dac6621f6ae8c4/data_table.js\";\n\n      window.createDataTable({\n        data: [[{\n            'v': 191,\n            'f': \"191\",\n        },\n{\n            'v': NaN,\n            'f': \"NaN\",\n        },\nNaN,\n{\n            'v': NaN,\n            'f': \"NaN\",\n        },\n{\n            'v': NaN,\n            'f': \"NaN\",\n        },\nNaN,\n\"right_only\"],\n [{\n            'v': 192,\n            'f': \"192\",\n        },\n{\n            'v': NaN,\n            'f': \"NaN\",\n        },\n\"Korea (Democratic People's Rep. of)\",\n{\n            'v': NaN,\n            'f': \"NaN\",\n        },\n{\n            'v': NaN,\n            'f': \"NaN\",\n        },\n\"..\",\n\"right_only\"],\n [{\n            'v': 193,\n            'f': \"193\",\n        },\n{\n            'v': NaN,\n            'f': \"NaN\",\n        },\n\"Monaco\",\n{\n            'v': NaN,\n            'f': \"NaN\",\n        },\n{\n            'v': NaN,\n            'f': \"NaN\",\n        },\n\"..\",\n\"right_only\"],\n [{\n            'v': 194,\n            'f': \"194\",\n        },\n{\n            'v': NaN,\n            'f': \"NaN\",\n        },\n\"Nauru\",\n{\n            'v': NaN,\n            'f': \"NaN\",\n        },\n{\n            'v': NaN,\n            'f': \"NaN\",\n        },\n\"..\",\n\"right_only\"],\n [{\n            'v': 195,\n            'f': \"195\",\n        },\n{\n            'v': NaN,\n            'f': \"NaN\",\n        },\n\"Somalia\",\n{\n            'v': NaN,\n            'f': \"NaN\",\n        },\n{\n            'v': NaN,\n            'f': \"NaN\",\n        },\n\"..\",\n\"right_only\"]],\n        columns: [[\"number\", \"index\"], [\"number\", \"HDI rank_x\"], [\"string\", \"Country\"], [\"number\", \"Value\"], [\"number\", \"HDI rank_y\"], [\"string\", \"Inequality Value\"], [\"string\", \"_merge\"]],\n        columnOptions: [{\"width\": \"1px\", \"className\": \"index_column\"}],\n        rowsPerPage: 25,\n        helpUrl: \"https://colab.research.google.com/notebooks/data_table.ipynb\",\n        suppressOutputScrolling: true,\n        minimumWidth: undefined,\n      });\n    "
          },
          "metadata": {},
          "execution_count": 14
        }
      ]
    },
    {
      "cell_type": "code",
      "source": [
        "del mergedOuter['HDI rank_y']"
      ],
      "metadata": {
        "id": "ddhOR4Pdaozv"
      },
      "execution_count": 15,
      "outputs": []
    },
    {
      "cell_type": "code",
      "source": [
        "mergedOuter"
      ],
      "metadata": {
        "id": "JPkvgBQIbIzm",
        "outputId": "b677440e-b995-4ca9-b0c7-b8695025ba44",
        "colab": {
          "base_uri": "https://localhost:8080/",
          "height": 637
        }
      },
      "execution_count": 16,
      "outputs": [
        {
          "output_type": "execute_result",
          "data": {
            "text/plain": [
              "     HDI rank_x                              Country  Value Inequality Value  \\\n",
              "0           1.0                          Switzerland  0.967            0.018   \n",
              "1           2.0                               Norway  0.983            0.016   \n",
              "2           3.0                              Iceland  0.976            0.043   \n",
              "3           4.0               Hong Kong, China (SAR)  0.976               ..   \n",
              "4           5.0                            Australia  0.968            0.073   \n",
              "..          ...                                  ...    ...              ...   \n",
              "191         NaN                                  NaN    NaN              NaN   \n",
              "192         NaN  Korea (Democratic People's Rep. of)    NaN               ..   \n",
              "193         NaN                               Monaco    NaN               ..   \n",
              "194         NaN                                Nauru    NaN               ..   \n",
              "195         NaN                              Somalia    NaN               ..   \n",
              "\n",
              "         _merge  \n",
              "0          both  \n",
              "1          both  \n",
              "2          both  \n",
              "3          both  \n",
              "4          both  \n",
              "..          ...  \n",
              "191  right_only  \n",
              "192  right_only  \n",
              "193  right_only  \n",
              "194  right_only  \n",
              "195  right_only  \n",
              "\n",
              "[196 rows x 5 columns]"
            ],
            "text/html": [
              "\n",
              "  <div id=\"df-5ae93f8a-82bf-4a6a-9d13-973801920496\">\n",
              "    <div class=\"colab-df-container\">\n",
              "      <div>\n",
              "<style scoped>\n",
              "    .dataframe tbody tr th:only-of-type {\n",
              "        vertical-align: middle;\n",
              "    }\n",
              "\n",
              "    .dataframe tbody tr th {\n",
              "        vertical-align: top;\n",
              "    }\n",
              "\n",
              "    .dataframe thead th {\n",
              "        text-align: right;\n",
              "    }\n",
              "</style>\n",
              "<table border=\"1\" class=\"dataframe\">\n",
              "  <thead>\n",
              "    <tr style=\"text-align: right;\">\n",
              "      <th></th>\n",
              "      <th>HDI rank_x</th>\n",
              "      <th>Country</th>\n",
              "      <th>Value</th>\n",
              "      <th>Inequality Value</th>\n",
              "      <th>_merge</th>\n",
              "    </tr>\n",
              "  </thead>\n",
              "  <tbody>\n",
              "    <tr>\n",
              "      <th>0</th>\n",
              "      <td>1.0</td>\n",
              "      <td>Switzerland</td>\n",
              "      <td>0.967</td>\n",
              "      <td>0.018</td>\n",
              "      <td>both</td>\n",
              "    </tr>\n",
              "    <tr>\n",
              "      <th>1</th>\n",
              "      <td>2.0</td>\n",
              "      <td>Norway</td>\n",
              "      <td>0.983</td>\n",
              "      <td>0.016</td>\n",
              "      <td>both</td>\n",
              "    </tr>\n",
              "    <tr>\n",
              "      <th>2</th>\n",
              "      <td>3.0</td>\n",
              "      <td>Iceland</td>\n",
              "      <td>0.976</td>\n",
              "      <td>0.043</td>\n",
              "      <td>both</td>\n",
              "    </tr>\n",
              "    <tr>\n",
              "      <th>3</th>\n",
              "      <td>4.0</td>\n",
              "      <td>Hong Kong, China (SAR)</td>\n",
              "      <td>0.976</td>\n",
              "      <td>..</td>\n",
              "      <td>both</td>\n",
              "    </tr>\n",
              "    <tr>\n",
              "      <th>4</th>\n",
              "      <td>5.0</td>\n",
              "      <td>Australia</td>\n",
              "      <td>0.968</td>\n",
              "      <td>0.073</td>\n",
              "      <td>both</td>\n",
              "    </tr>\n",
              "    <tr>\n",
              "      <th>...</th>\n",
              "      <td>...</td>\n",
              "      <td>...</td>\n",
              "      <td>...</td>\n",
              "      <td>...</td>\n",
              "      <td>...</td>\n",
              "    </tr>\n",
              "    <tr>\n",
              "      <th>191</th>\n",
              "      <td>NaN</td>\n",
              "      <td>NaN</td>\n",
              "      <td>NaN</td>\n",
              "      <td>NaN</td>\n",
              "      <td>right_only</td>\n",
              "    </tr>\n",
              "    <tr>\n",
              "      <th>192</th>\n",
              "      <td>NaN</td>\n",
              "      <td>Korea (Democratic People's Rep. of)</td>\n",
              "      <td>NaN</td>\n",
              "      <td>..</td>\n",
              "      <td>right_only</td>\n",
              "    </tr>\n",
              "    <tr>\n",
              "      <th>193</th>\n",
              "      <td>NaN</td>\n",
              "      <td>Monaco</td>\n",
              "      <td>NaN</td>\n",
              "      <td>..</td>\n",
              "      <td>right_only</td>\n",
              "    </tr>\n",
              "    <tr>\n",
              "      <th>194</th>\n",
              "      <td>NaN</td>\n",
              "      <td>Nauru</td>\n",
              "      <td>NaN</td>\n",
              "      <td>..</td>\n",
              "      <td>right_only</td>\n",
              "    </tr>\n",
              "    <tr>\n",
              "      <th>195</th>\n",
              "      <td>NaN</td>\n",
              "      <td>Somalia</td>\n",
              "      <td>NaN</td>\n",
              "      <td>..</td>\n",
              "      <td>right_only</td>\n",
              "    </tr>\n",
              "  </tbody>\n",
              "</table>\n",
              "<p>196 rows × 5 columns</p>\n",
              "</div>\n",
              "      <button class=\"colab-df-convert\" onclick=\"convertToInteractive('df-5ae93f8a-82bf-4a6a-9d13-973801920496')\"\n",
              "              title=\"Convert this dataframe to an interactive table.\"\n",
              "              style=\"display:none;\">\n",
              "        \n",
              "  <svg xmlns=\"http://www.w3.org/2000/svg\" height=\"24px\"viewBox=\"0 0 24 24\"\n",
              "       width=\"24px\">\n",
              "    <path d=\"M0 0h24v24H0V0z\" fill=\"none\"/>\n",
              "    <path d=\"M18.56 5.44l.94 2.06.94-2.06 2.06-.94-2.06-.94-.94-2.06-.94 2.06-2.06.94zm-11 1L8.5 8.5l.94-2.06 2.06-.94-2.06-.94L8.5 2.5l-.94 2.06-2.06.94zm10 10l.94 2.06.94-2.06 2.06-.94-2.06-.94-.94-2.06-.94 2.06-2.06.94z\"/><path d=\"M17.41 7.96l-1.37-1.37c-.4-.4-.92-.59-1.43-.59-.52 0-1.04.2-1.43.59L10.3 9.45l-7.72 7.72c-.78.78-.78 2.05 0 2.83L4 21.41c.39.39.9.59 1.41.59.51 0 1.02-.2 1.41-.59l7.78-7.78 2.81-2.81c.8-.78.8-2.07 0-2.86zM5.41 20L4 18.59l7.72-7.72 1.47 1.35L5.41 20z\"/>\n",
              "  </svg>\n",
              "      </button>\n",
              "      \n",
              "  <style>\n",
              "    .colab-df-container {\n",
              "      display:flex;\n",
              "      flex-wrap:wrap;\n",
              "      gap: 12px;\n",
              "    }\n",
              "\n",
              "    .colab-df-convert {\n",
              "      background-color: #E8F0FE;\n",
              "      border: none;\n",
              "      border-radius: 50%;\n",
              "      cursor: pointer;\n",
              "      display: none;\n",
              "      fill: #1967D2;\n",
              "      height: 32px;\n",
              "      padding: 0 0 0 0;\n",
              "      width: 32px;\n",
              "    }\n",
              "\n",
              "    .colab-df-convert:hover {\n",
              "      background-color: #E2EBFA;\n",
              "      box-shadow: 0px 1px 2px rgba(60, 64, 67, 0.3), 0px 1px 3px 1px rgba(60, 64, 67, 0.15);\n",
              "      fill: #174EA6;\n",
              "    }\n",
              "\n",
              "    [theme=dark] .colab-df-convert {\n",
              "      background-color: #3B4455;\n",
              "      fill: #D2E3FC;\n",
              "    }\n",
              "\n",
              "    [theme=dark] .colab-df-convert:hover {\n",
              "      background-color: #434B5C;\n",
              "      box-shadow: 0px 1px 3px 1px rgba(0, 0, 0, 0.15);\n",
              "      filter: drop-shadow(0px 1px 2px rgba(0, 0, 0, 0.3));\n",
              "      fill: #FFFFFF;\n",
              "    }\n",
              "  </style>\n",
              "\n",
              "      <script>\n",
              "        const buttonEl =\n",
              "          document.querySelector('#df-5ae93f8a-82bf-4a6a-9d13-973801920496 button.colab-df-convert');\n",
              "        buttonEl.style.display =\n",
              "          google.colab.kernel.accessAllowed ? 'block' : 'none';\n",
              "\n",
              "        async function convertToInteractive(key) {\n",
              "          const element = document.querySelector('#df-5ae93f8a-82bf-4a6a-9d13-973801920496');\n",
              "          const dataTable =\n",
              "            await google.colab.kernel.invokeFunction('convertToInteractive',\n",
              "                                                     [key], {});\n",
              "          if (!dataTable) return;\n",
              "\n",
              "          const docLinkHtml = 'Like what you see? Visit the ' +\n",
              "            '<a target=\"_blank\" href=https://colab.research.google.com/notebooks/data_table.ipynb>data table notebook</a>'\n",
              "            + ' to learn more about interactive tables.';\n",
              "          element.innerHTML = '';\n",
              "          dataTable['output_type'] = 'display_data';\n",
              "          await google.colab.output.renderOutput(dataTable, element);\n",
              "          const docLink = document.createElement('div');\n",
              "          docLink.innerHTML = docLinkHtml;\n",
              "          element.appendChild(docLink);\n",
              "        }\n",
              "      </script>\n",
              "    </div>\n",
              "  </div>\n",
              "  "
            ],
            "application/vnd.google.colaboratory.module+javascript": "\n      import \"https://ssl.gstatic.com/colaboratory/data_table/99dac6621f6ae8c4/data_table.js\";\n\n      window.createDataTable({\n        data: [[{\n            'v': 0,\n            'f': \"0\",\n        },\n{\n            'v': 1.0,\n            'f': \"1.0\",\n        },\n\"Switzerland\",\n0.967,\n0.018,\n\"both\"],\n [{\n            'v': 1,\n            'f': \"1\",\n        },\n{\n            'v': 2.0,\n            'f': \"2.0\",\n        },\n\"Norway\",\n0.983,\n0.016,\n\"both\"],\n [{\n            'v': 2,\n            'f': \"2\",\n        },\n{\n            'v': 3.0,\n            'f': \"3.0\",\n        },\n\"Iceland\",\n0.976,\n0.043,\n\"both\"],\n [{\n            'v': 3,\n            'f': \"3\",\n        },\n{\n            'v': 4.0,\n            'f': \"4.0\",\n        },\n\"Hong Kong, China (SAR)\",\n0.976,\n\"..\",\n\"both\"],\n [{\n            'v': 4,\n            'f': \"4\",\n        },\n{\n            'v': 5.0,\n            'f': \"5.0\",\n        },\n\"Australia\",\n0.968,\n0.073,\n\"both\"],\n [{\n            'v': 5,\n            'f': \"5\",\n        },\n{\n            'v': 6.0,\n            'f': \"6.0\",\n        },\n\"Denmark\",\n0.98,\n0.013,\n\"both\"],\n [{\n            'v': 6,\n            'f': \"6\",\n        },\n{\n            'v': 7.0,\n            'f': \"7.0\",\n        },\n\"Sweden\",\n0.988,\n0.023,\n\"both\"],\n [{\n            'v': 7,\n            'f': \"7\",\n        },\n{\n            'v': 8.0,\n            'f': \"8.0\",\n        },\n\"Ireland\",\n0.987,\n0.074,\n\"both\"],\n [{\n            'v': 8,\n            'f': \"8\",\n        },\n{\n            'v': 9.0,\n            'f': \"9.0\",\n        },\n\"Germany\",\n0.978,\n0.073,\n\"both\"],\n [{\n            'v': 9,\n            'f': \"9\",\n        },\n{\n            'v': 10.0,\n            'f': \"10.0\",\n        },\n\"Netherlands\",\n0.968,\n0.025,\n\"both\"],\n [{\n            'v': 10,\n            'f': \"10\",\n        },\n{\n            'v': 11.0,\n            'f': \"11.0\",\n        },\n\"Finland\",\n0.989,\n0.033,\n\"both\"],\n [{\n            'v': 11,\n            'f': \"11\",\n        },\n{\n            'v': 12.0,\n            'f': \"12.0\",\n        },\n\"Singapore\",\n0.992,\n0.04,\n\"both\"],\n [{\n            'v': 12,\n            'f': \"12\",\n        },\n{\n            'v': 13.0,\n            'f': \"13.0\",\n        },\n\"Belgium\",\n0.978,\n0.048,\n\"both\"],\n [{\n            'v': 13,\n            'f': \"13\",\n        },\n{\n            'v': 13.0,\n            'f': \"13.0\",\n        },\n\"New Zealand\",\n0.975,\n0.088,\n\"both\"],\n [{\n            'v': 14,\n            'f': \"14\",\n        },\n{\n            'v': 15.0,\n            'f': \"15.0\",\n        },\n\"Canada\",\n0.988,\n0.069,\n\"both\"],\n [{\n            'v': 15,\n            'f': \"15\",\n        },\n{\n            'v': 16.0,\n            'f': \"16.0\",\n        },\n\"Liechtenstein\",\n\"..\",\n\"..\",\n\"both\"],\n [{\n            'v': 16,\n            'f': \"16\",\n        },\n{\n            'v': 17.0,\n            'f': \"17.0\",\n        },\n\"Luxembourg\",\n0.993,\n0.044,\n\"both\"],\n [{\n            'v': 17,\n            'f': \"17\",\n        },\n{\n            'v': 18.0,\n            'f': \"18.0\",\n        },\n\"United Kingdom\",\n0.987,\n0.098,\n\"both\"],\n [{\n            'v': 18,\n            'f': \"18\",\n        },\n{\n            'v': 19.0,\n            'f': \"19.0\",\n        },\n\"Japan\",\n0.97,\n0.083,\n\"both\"],\n [{\n            'v': 19,\n            'f': \"19\",\n        },\n{\n            'v': 19.0,\n            'f': \"19.0\",\n        },\n\"Korea (Republic of)\",\n0.944,\n0.067,\n\"both\"],\n [{\n            'v': 20,\n            'f': \"20\",\n        },\n{\n            'v': 21.0,\n            'f': \"21.0\",\n        },\n\"United States\",\n1.001,\n0.179,\n\"both\"],\n [{\n            'v': 21,\n            'f': \"21\",\n        },\n{\n            'v': 22.0,\n            'f': \"22.0\",\n        },\n\"Israel\",\n0.992,\n0.083,\n\"both\"],\n [{\n            'v': 22,\n            'f': \"22\",\n        },\n{\n            'v': 23.0,\n            'f': \"23.0\",\n        },\n\"Malta\",\n0.98,\n0.167,\n\"both\"],\n [{\n            'v': 23,\n            'f': \"23\",\n        },\n{\n            'v': 23.0,\n            'f': \"23.0\",\n        },\n\"Slovenia\",\n0.999,\n0.071,\n\"both\"],\n [{\n            'v': 24,\n            'f': \"24\",\n        },\n{\n            'v': 25.0,\n            'f': \"25.0\",\n        },\n\"Austria\",\n0.98,\n0.053,\n\"both\"],\n [{\n            'v': 25,\n            'f': \"25\",\n        },\n{\n            'v': 26.0,\n            'f': \"26.0\",\n        },\n\"United Arab Emirates\",\n0.953,\n0.049,\n\"both\"],\n [{\n            'v': 26,\n            'f': \"26\",\n        },\n{\n            'v': 27.0,\n            'f': \"27.0\",\n        },\n\"Spain\",\n0.986,\n0.057,\n\"both\"],\n [{\n            'v': 27,\n            'f': \"27\",\n        },\n{\n            'v': 28.0,\n            'f': \"28.0\",\n        },\n\"France\",\n0.99,\n0.083,\n\"both\"],\n [{\n            'v': 28,\n            'f': \"28\",\n        },\n{\n            'v': 29.0,\n            'f': \"29.0\",\n        },\n\"Cyprus\",\n0.972,\n0.123,\n\"both\"],\n [{\n            'v': 29,\n            'f': \"29\",\n        },\n{\n            'v': 30.0,\n            'f': \"30.0\",\n        },\n\"Italy\",\n0.97,\n0.056,\n\"both\"],\n [{\n            'v': 30,\n            'f': \"30\",\n        },\n{\n            'v': 31.0,\n            'f': \"31.0\",\n        },\n\"Estonia\",\n1.021,\n0.1,\n\"both\"],\n [{\n            'v': 31,\n            'f': \"31\",\n        },\n{\n            'v': 32.0,\n            'f': \"32.0\",\n        },\n\"Czechia\",\n0.989,\n0.12,\n\"both\"],\n [{\n            'v': 32,\n            'f': \"32\",\n        },\n{\n            'v': 33.0,\n            'f': \"33.0\",\n        },\n\"Greece\",\n0.969,\n0.119,\n\"both\"],\n [{\n            'v': 33,\n            'f': \"33\",\n        },\n{\n            'v': 34.0,\n            'f': \"34.0\",\n        },\n\"Poland\",\n1.008,\n0.109,\n\"both\"],\n [{\n            'v': 34,\n            'f': \"34\",\n        },\n{\n            'v': 35.0,\n            'f': \"35.0\",\n        },\n\"Bahrain\",\n0.927,\n0.181,\n\"both\"],\n [{\n            'v': 35,\n            'f': \"35\",\n        },\n{\n            'v': 35.0,\n            'f': \"35.0\",\n        },\n\"Lithuania\",\n1.03,\n0.105,\n\"both\"],\n [{\n            'v': 36,\n            'f': \"36\",\n        },\n{\n            'v': 35.0,\n            'f': \"35.0\",\n        },\n\"Saudi Arabia\",\n0.917,\n0.247,\n\"both\"],\n [{\n            'v': 37,\n            'f': \"37\",\n        },\n{\n            'v': 38.0,\n            'f': \"38.0\",\n        },\n\"Portugal\",\n0.994,\n0.067,\n\"both\"],\n [{\n            'v': 38,\n            'f': \"38\",\n        },\n{\n            'v': 39.0,\n            'f': \"39.0\",\n        },\n\"Latvia\",\n1.025,\n0.151,\n\"both\"],\n [{\n            'v': 39,\n            'f': \"39\",\n        },\n{\n            'v': 40.0,\n            'f': \"40.0\",\n        },\n\"Andorra\",\n\"..\",\n\"..\",\n\"both\"],\n [{\n            'v': 40,\n            'f': \"40\",\n        },\n{\n            'v': 40.0,\n            'f': \"40.0\",\n        },\n\"Croatia\",\n0.995,\n0.093,\n\"both\"],\n [{\n            'v': 41,\n            'f': \"41\",\n        },\n{\n            'v': 42.0,\n            'f': \"42.0\",\n        },\n\"Chile\",\n0.967,\n0.187,\n\"both\"],\n [{\n            'v': 42,\n            'f': \"42\",\n        },\n{\n            'v': 42.0,\n            'f': \"42.0\",\n        },\n\"Qatar\",\n1.019,\n0.22,\n\"both\"],\n [{\n            'v': 43,\n            'f': \"43\",\n        },\n{\n            'v': 44.0,\n            'f': \"44.0\",\n        },\n\"San Marino\",\n\"..\",\n\"..\",\n\"both\"],\n [{\n            'v': 44,\n            'f': \"44\",\n        },\n{\n            'v': 45.0,\n            'f': \"45.0\",\n        },\n\"Slovakia\",\n0.999,\n0.18,\n\"both\"],\n [{\n            'v': 45,\n            'f': \"45\",\n        },\n{\n            'v': 46.0,\n            'f': \"46.0\",\n        },\n\"Hungary\",\n0.987,\n0.221,\n\"both\"],\n [{\n            'v': 46,\n            'f': \"46\",\n        },\n{\n            'v': 47.0,\n            'f': \"47.0\",\n        },\n\"Argentina\",\n0.997,\n0.287,\n\"both\"],\n [{\n            'v': 47,\n            'f': \"47\",\n        },\n{\n            'v': 48.0,\n            'f': \"48.0\",\n        },\n\"T\\u00fcrkiye\",\n0.937,\n0.272,\n\"both\"],\n [{\n            'v': 48,\n            'f': \"48\",\n        },\n{\n            'v': 49.0,\n            'f': \"49.0\",\n        },\n\"Montenegro\",\n0.981,\n0.119,\n\"both\"],\n [{\n            'v': 49,\n            'f': \"49\",\n        },\n{\n            'v': 50.0,\n            'f': \"50.0\",\n        },\n\"Kuwait\",\n1.009,\n0.305,\n\"both\"],\n [{\n            'v': 50,\n            'f': \"50\",\n        },\n{\n            'v': 51.0,\n            'f': \"51.0\",\n        },\n\"Brunei Darussalam\",\n0.984,\n0.259,\n\"both\"],\n [{\n            'v': 51,\n            'f': \"51\",\n        },\n{\n            'v': 52.0,\n            'f': \"52.0\",\n        },\n\"Russian Federation\",\n1.016,\n0.203,\n\"both\"],\n [{\n            'v': 52,\n            'f': \"52\",\n        },\n{\n            'v': 53.0,\n            'f': \"53.0\",\n        },\n\"Romania\",\n0.994,\n0.282,\n\"both\"],\n [{\n            'v': 53,\n            'f': \"53\",\n        },\n{\n            'v': 54.0,\n            'f': \"54.0\",\n        },\n\"Oman\",\n0.9,\n0.3,\n\"both\"],\n [{\n            'v': 54,\n            'f': \"54\",\n        },\n{\n            'v': 55.0,\n            'f': \"55.0\",\n        },\n\"Bahamas\",\n\"..\",\n0.329,\n\"both\"],\n [{\n            'v': 55,\n            'f': \"55\",\n        },\n{\n            'v': 56.0,\n            'f': \"56.0\",\n        },\n\"Kazakhstan\",\n0.998,\n0.161,\n\"both\"],\n [{\n            'v': 56,\n            'f': \"56\",\n        },\n{\n            'v': 57.0,\n            'f': \"57.0\",\n        },\n\"Trinidad and Tobago\",\n0.985,\n0.344,\n\"both\"],\n [{\n            'v': 57,\n            'f': \"57\",\n        },\n{\n            'v': 58.0,\n            'f': \"58.0\",\n        },\n\"Costa Rica\",\n0.996,\n0.256,\n\"both\"],\n [{\n            'v': 58,\n            'f': \"58\",\n        },\n{\n            'v': 58.0,\n            'f': \"58.0\",\n        },\n\"Uruguay\",\n1.022,\n0.235,\n\"both\"],\n [{\n            'v': 59,\n            'f': \"59\",\n        },\n{\n            'v': 60.0,\n            'f': \"60.0\",\n        },\n\"Belarus\",\n1.011,\n0.104,\n\"both\"],\n [{\n            'v': 60,\n            'f': \"60\",\n        },\n{\n            'v': 61.0,\n            'f': \"61.0\",\n        },\n\"Panama\",\n1.017,\n0.392,\n\"both\"],\n [{\n            'v': 61,\n            'f': \"61\",\n        },\n{\n            'v': 62.0,\n            'f': \"62.0\",\n        },\n\"Malaysia\",\n0.982,\n0.228,\n\"both\"],\n [{\n            'v': 62,\n            'f': \"62\",\n        },\n{\n            'v': 63.0,\n            'f': \"63.0\",\n        },\n\"Georgia\",\n1.007,\n0.28,\n\"both\"],\n [{\n            'v': 63,\n            'f': \"63\",\n        },\n{\n            'v': 63.0,\n            'f': \"63.0\",\n        },\n\"Mauritius\",\n0.973,\n0.347,\n\"both\"],\n [{\n            'v': 64,\n            'f': \"64\",\n        },\n{\n            'v': 63.0,\n            'f': \"63.0\",\n        },\n\"Serbia\",\n0.982,\n0.131,\n\"both\"],\n [{\n            'v': 65,\n            'f': \"65\",\n        },\n{\n            'v': 66.0,\n            'f': \"66.0\",\n        },\n\"Thailand\",\n1.012,\n0.333,\n\"both\"],\n [{\n            'v': 66,\n            'f': \"66\",\n        },\n{\n            'v': 67.0,\n            'f': \"67.0\",\n        },\n\"Albania\",\n1.007,\n0.144,\n\"both\"],\n [{\n            'v': 67,\n            'f': \"67\",\n        },\n{\n            'v': 68.0,\n            'f': \"68.0\",\n        },\n\"Bulgaria\",\n0.995,\n0.21,\n\"both\"],\n [{\n            'v': 68,\n            'f': \"68\",\n        },\n{\n            'v': 68.0,\n            'f': \"68.0\",\n        },\n\"Grenada\",\n\"..\",\n\"..\",\n\"both\"],\n [{\n            'v': 69,\n            'f': \"69\",\n        },\n{\n            'v': 70.0,\n            'f': \"70.0\",\n        },\n\"Barbados\",\n1.034,\n0.268,\n\"both\"],\n [{\n            'v': 70,\n            'f': \"70\",\n        },\n{\n            'v': 71.0,\n            'f': \"71.0\",\n        },\n\"Antigua and Barbuda\",\n\"..\",\n\"..\",\n\"both\"],\n [{\n            'v': 71,\n            'f': \"71\",\n        },\n{\n            'v': 72.0,\n            'f': \"72.0\",\n        },\n\"Seychelles\",\n\"..\",\n\"..\",\n\"both\"],\n [{\n            'v': 72,\n            'f': \"72\",\n        },\n{\n            'v': 73.0,\n            'f': \"73.0\",\n        },\n\"Sri Lanka\",\n0.949,\n0.383,\n\"both\"],\n [{\n            'v': 73,\n            'f': \"73\",\n        },\n{\n            'v': 74.0,\n            'f': \"74.0\",\n        },\n\"Bosnia and Herzegovina\",\n0.94,\n0.136,\n\"both\"],\n [{\n            'v': 74,\n            'f': \"74\",\n        },\n{\n            'v': 75.0,\n            'f': \"75.0\",\n        },\n\"Saint Kitts and Nevis\",\n\"..\",\n\"..\",\n\"both\"],\n [{\n            'v': 75,\n            'f': \"75\",\n        },\n{\n            'v': 76.0,\n            'f': \"76.0\",\n        },\n\"Iran (Islamic Republic of)\",\n0.88,\n0.459,\n\"both\"],\n [{\n            'v': 76,\n            'f': \"76\",\n        },\n{\n            'v': 77.0,\n            'f': \"77.0\",\n        },\n\"Ukraine\",\n1.012,\n0.2,\n\"both\"],\n [{\n            'v': 77,\n            'f': \"77\",\n        },\n{\n            'v': 78.0,\n            'f': \"78.0\",\n        },\n\"North Macedonia\",\n0.945,\n0.134,\n\"both\"],\n [{\n            'v': 78,\n            'f': \"78\",\n        },\n{\n            'v': 79.0,\n            'f': \"79.0\",\n        },\n\"China\",\n0.984,\n0.192,\n\"both\"],\n [{\n            'v': 79,\n            'f': \"79\",\n        },\n{\n            'v': 80.0,\n            'f': \"80.0\",\n        },\n\"Dominican Republic\",\n1.014,\n0.429,\n\"both\"],\n [{\n            'v': 80,\n            'f': \"80\",\n        },\n{\n            'v': 80.0,\n            'f': \"80.0\",\n        },\n\"Moldova (Republic of)\",\n1.01,\n0.205,\n\"both\"],\n [{\n            'v': 81,\n            'f': \"81\",\n        },\n{\n            'v': 80.0,\n            'f': \"80.0\",\n        },\n\"Palau\",\n\"..\",\n\"..\",\n\"both\"],\n [{\n            'v': 82,\n            'f': \"82\",\n        },\n{\n            'v': 83.0,\n            'f': \"83.0\",\n        },\n\"Cuba\",\n0.961,\n0.303,\n\"both\"],\n [{\n            'v': 83,\n            'f': \"83\",\n        },\n{\n            'v': 84.0,\n            'f': \"84.0\",\n        },\n\"Peru\",\n0.95,\n0.38,\n\"both\"],\n [{\n            'v': 84,\n            'f': \"84\",\n        },\n{\n            'v': 85.0,\n            'f': \"85.0\",\n        },\n\"Armenia\",\n1.001,\n0.216,\n\"both\"],\n [{\n            'v': 85,\n            'f': \"85\",\n        },\n{\n            'v': 86.0,\n            'f': \"86.0\",\n        },\n\"Mexico\",\n0.989,\n0.309,\n\"both\"],\n [{\n            'v': 86,\n            'f': \"86\",\n        },\n{\n            'v': 87.0,\n            'f': \"87.0\",\n        },\n\"Brazil\",\n0.994,\n0.39,\n\"both\"],\n [{\n            'v': 87,\n            'f': \"87\",\n        },\n{\n            'v': 88.0,\n            'f': \"88.0\",\n        },\n\"Colombia\",\n0.984,\n0.424,\n\"both\"],\n [{\n            'v': 88,\n            'f': \"88\",\n        },\n{\n            'v': 89.0,\n            'f': \"89.0\",\n        },\n\"Saint Vincent and the Grenadines\",\n0.97,\n0.39,\n\"both\"],\n [{\n            'v': 89,\n            'f': \"89\",\n        },\n{\n            'v': 90.0,\n            'f': \"90.0\",\n        },\n\"Maldives\",\n0.925,\n0.348,\n\"both\"],\n [{\n            'v': 90,\n            'f': \"90\",\n        },\n{\n            'v': 91.0,\n            'f': \"91.0\",\n        },\n\"Algeria\",\n0.88,\n0.499,\n\"both\"],\n [{\n            'v': 91,\n            'f': \"91\",\n        },\n{\n            'v': 91.0,\n            'f': \"91.0\",\n        },\n\"Azerbaijan\",\n0.974,\n0.294,\n\"both\"],\n [{\n            'v': 92,\n            'f': \"92\",\n        },\n{\n            'v': 91.0,\n            'f': \"91.0\",\n        },\n\"Tonga\",\n0.965,\n0.631,\n\"both\"],\n [{\n            'v': 93,\n            'f': \"93\",\n        },\n{\n            'v': 91.0,\n            'f': \"91.0\",\n        },\n\"Turkmenistan\",\n0.956,\n0.177,\n\"both\"],\n [{\n            'v': 94,\n            'f': \"94\",\n        },\n{\n            'v': 95.0,\n            'f': \"95.0\",\n        },\n\"Ecuador\",\n0.98,\n0.362,\n\"both\"],\n [{\n            'v': 95,\n            'f': \"95\",\n        },\n{\n            'v': 96.0,\n            'f': \"96.0\",\n        },\n\"Mongolia\",\n1.031,\n0.313,\n\"both\"],\n [{\n            'v': 96,\n            'f': \"96\",\n        },\n{\n            'v': 97.0,\n            'f': \"97.0\",\n        },\n\"Egypt\",\n0.882,\n0.443,\n\"both\"],\n [{\n            'v': 97,\n            'f': \"97\",\n        },\n{\n            'v': 97.0,\n            'f': \"97.0\",\n        },\n\"Tunisia\",\n0.931,\n0.259,\n\"both\"],\n [{\n            'v': 98,\n            'f': \"98\",\n        },\n{\n            'v': 99.0,\n            'f': \"99.0\",\n        },\n\"Fiji\",\n0.931,\n0.318,\n\"both\"],\n [{\n            'v': 99,\n            'f': \"99\",\n        },\n{\n            'v': 99.0,\n            'f': \"99.0\",\n        },\n\"Suriname\",\n1.001,\n0.427,\n\"both\"],\n [{\n            'v': 100,\n            'f': \"100\",\n        },\n{\n            'v': 101.0,\n            'f': \"101.0\",\n        },\n\"Uzbekistan\",\n0.944,\n0.227,\n\"both\"],\n [{\n            'v': 101,\n            'f': \"101\",\n        },\n{\n            'v': 102.0,\n            'f': \"102.0\",\n        },\n\"Dominica\",\n\"..\",\n\"..\",\n\"both\"],\n [{\n            'v': 102,\n            'f': \"102\",\n        },\n{\n            'v': 102.0,\n            'f': \"102.0\",\n        },\n\"Jordan\",\n0.887,\n0.471,\n\"both\"],\n [{\n            'v': 103,\n            'f': \"103\",\n        },\n{\n            'v': 104.0,\n            'f': \"104.0\",\n        },\n\"Libya\",\n0.975,\n0.259,\n\"both\"],\n [{\n            'v': 104,\n            'f': \"104\",\n        },\n{\n            'v': 105.0,\n            'f': \"105.0\",\n        },\n\"Paraguay\",\n0.99,\n0.445,\n\"both\"],\n [{\n            'v': 105,\n            'f': \"105\",\n        },\n{\n            'v': 106.0,\n            'f': \"106.0\",\n        },\n\"Palestine, State of\",\n0.891,\n\"..\",\n\"both\"],\n [{\n            'v': 106,\n            'f': \"106\",\n        },\n{\n            'v': 106.0,\n            'f': \"106.0\",\n        },\n\"Saint Lucia\",\n1.011,\n0.381,\n\"both\"],\n [{\n            'v': 107,\n            'f': \"107\",\n        },\n{\n            'v': 108.0,\n            'f': \"108.0\",\n        },\n\"Guyana\",\n0.978,\n0.454,\n\"both\"],\n [{\n            'v': 108,\n            'f': \"108\",\n        },\n{\n            'v': 109.0,\n            'f': \"109.0\",\n        },\n\"South Africa\",\n0.944,\n0.405,\n\"both\"],\n [{\n            'v': 109,\n            'f': \"109\",\n        },\n{\n            'v': 110.0,\n            'f': \"110.0\",\n        },\n\"Jamaica\",\n0.99,\n0.335,\n\"both\"],\n [{\n            'v': 110,\n            'f': \"110\",\n        },\n{\n            'v': 111.0,\n            'f': \"111.0\",\n        },\n\"Samoa\",\n0.957,\n0.418,\n\"both\"],\n [{\n            'v': 111,\n            'f': \"111\",\n        },\n{\n            'v': 112.0,\n            'f': \"112.0\",\n        },\n\"Gabon\",\n0.908,\n0.541,\n\"both\"],\n [{\n            'v': 112,\n            'f': \"112\",\n        },\n{\n            'v': 112.0,\n            'f': \"112.0\",\n        },\n\"Lebanon\",\n0.882,\n0.432,\n\"both\"],\n [{\n            'v': 113,\n            'f': \"113\",\n        },\n{\n            'v': 114.0,\n            'f': \"114.0\",\n        },\n\"Indonesia\",\n0.941,\n0.444,\n\"both\"],\n [{\n            'v': 114,\n            'f': \"114\",\n        },\n{\n            'v': 115.0,\n            'f': \"115.0\",\n        },\n\"Viet Nam\",\n1.002,\n0.296,\n\"both\"],\n [{\n            'v': 115,\n            'f': \"115\",\n        },\n{\n            'v': 116.0,\n            'f': \"116.0\",\n        },\n\"Philippines\",\n0.99,\n0.419,\n\"both\"],\n [{\n            'v': 116,\n            'f': \"116\",\n        },\n{\n            'v': 117.0,\n            'f': \"117.0\",\n        },\n\"Botswana\",\n0.981,\n0.468,\n\"both\"],\n [{\n            'v': 117,\n            'f': \"117\",\n        },\n{\n            'v': 118.0,\n            'f': \"118.0\",\n        },\n\"Bolivia (Plurinational State of)\",\n0.964,\n0.418,\n\"both\"],\n [{\n            'v': 118,\n            'f': \"118\",\n        },\n{\n            'v': 118.0,\n            'f': \"118.0\",\n        },\n\"Kyrgyzstan\",\n0.966,\n0.37,\n\"both\"],\n [{\n            'v': 119,\n            'f': \"119\",\n        },\n{\n            'v': 120.0,\n            'f': \"120.0\",\n        },\n\"Venezuela (Bolivarian Republic of)\",\n0.983,\n0.492,\n\"both\"],\n [{\n            'v': 120,\n            'f': \"120\",\n        },\n{\n            'v': 121.0,\n            'f': \"121.0\",\n        },\n\"Iraq\",\n0.803,\n0.558,\n\"both\"],\n [{\n            'v': 121,\n            'f': \"121\",\n        },\n{\n            'v': 122.0,\n            'f': \"122.0\",\n        },\n\"Tajikistan\",\n0.909,\n0.285,\n\"both\"],\n [{\n            'v': 122,\n            'f': \"122\",\n        },\n{\n            'v': 123.0,\n            'f': \"123.0\",\n        },\n\"Belize\",\n0.975,\n0.364,\n\"both\"],\n [{\n            'v': 123,\n            'f': \"123\",\n        },\n{\n            'v': 123.0,\n            'f': \"123.0\",\n        },\n\"Morocco\",\n0.861,\n0.425,\n\"both\"],\n [{\n            'v': 124,\n            'f': \"124\",\n        },\n{\n            'v': 125.0,\n            'f': \"125.0\",\n        },\n\"El Salvador\",\n0.964,\n0.376,\n\"both\"],\n [{\n            'v': 125,\n            'f': \"125\",\n        },\n{\n            'v': 126.0,\n            'f': \"126.0\",\n        },\n\"Nicaragua\",\n0.956,\n0.424,\n\"both\"],\n [{\n            'v': 126,\n            'f': \"126\",\n        },\n{\n            'v': 127.0,\n            'f': \"127.0\",\n        },\n\"Bhutan\",\n0.937,\n0.415,\n\"both\"],\n [{\n            'v': 127,\n            'f': \"127\",\n        },\n{\n            'v': 128.0,\n            'f': \"128.0\",\n        },\n\"Cabo Verde\",\n0.981,\n0.349,\n\"both\"],\n [{\n            'v': 128,\n            'f': \"128\",\n        },\n{\n            'v': 129.0,\n            'f': \"129.0\",\n        },\n\"Bangladesh\",\n0.898,\n0.53,\n\"both\"],\n [{\n            'v': 129,\n            'f': \"129\",\n        },\n{\n            'v': 130.0,\n            'f': \"130.0\",\n        },\n\"Tuvalu\",\n\"..\",\n\"..\",\n\"both\"],\n [{\n            'v': 130,\n            'f': \"130\",\n        },\n{\n            'v': 131.0,\n            'f': \"131.0\",\n        },\n\"Marshall Islands\",\n\"..\",\n\"..\",\n\"both\"],\n [{\n            'v': 131,\n            'f': \"131\",\n        },\n{\n            'v': 132.0,\n            'f': \"132.0\",\n        },\n\"India\",\n0.849,\n0.49,\n\"both\"],\n [{\n            'v': 132,\n            'f': \"132\",\n        },\n{\n            'v': 133.0,\n            'f': \"133.0\",\n        },\n\"Ghana\",\n0.946,\n0.529,\n\"both\"],\n [{\n            'v': 133,\n            'f': \"133\",\n        },\n{\n            'v': 134.0,\n            'f': \"134.0\",\n        },\n\"Micronesia (Federated States of)\",\n\"..\",\n\"..\",\n\"both\"],\n [{\n            'v': 134,\n            'f': \"134\",\n        },\n{\n            'v': 135.0,\n            'f': \"135.0\",\n        },\n\"Guatemala\",\n0.917,\n0.481,\n\"both\"],\n [{\n            'v': 135,\n            'f': \"135\",\n        },\n{\n            'v': 136.0,\n            'f': \"136.0\",\n        },\n\"Kiribati\",\n\"..\",\n\"..\",\n\"both\"],\n [{\n            'v': 136,\n            'f': \"136\",\n        },\n{\n            'v': 137.0,\n            'f': \"137.0\",\n        },\n\"Honduras\",\n0.96,\n0.431,\n\"both\"],\n [{\n            'v': 137,\n            'f': \"137\",\n        },\n{\n            'v': 138.0,\n            'f': \"138.0\",\n        },\n\"Sao Tome and Principe\",\n0.907,\n0.494,\n\"both\"],\n [{\n            'v': 138,\n            'f': \"138\",\n        },\n{\n            'v': 139.0,\n            'f': \"139.0\",\n        },\n\"Namibia\",\n1.004,\n0.445,\n\"both\"],\n [{\n            'v': 139,\n            'f': \"139\",\n        },\n{\n            'v': 140.0,\n            'f': \"140.0\",\n        },\n\"Lao People's Democratic Republic\",\n0.949,\n0.478,\n\"both\"],\n [{\n            'v': 140,\n            'f': \"140\",\n        },\n{\n            'v': 140.0,\n            'f': \"140.0\",\n        },\n\"Timor-Leste\",\n0.917,\n0.378,\n\"both\"],\n [{\n            'v': 141,\n            'f': \"141\",\n        },\n{\n            'v': 140.0,\n            'f': \"140.0\",\n        },\n\"Vanuatu\",\n\"..\",\n\"..\",\n\"both\"],\n [{\n            'v': 142,\n            'f': \"142\",\n        },\n{\n            'v': 143.0,\n            'f': \"143.0\",\n        },\n\"Nepal\",\n0.942,\n0.452,\n\"both\"],\n [{\n            'v': 143,\n            'f': \"143\",\n        },\n{\n            'v': 144.0,\n            'f': \"144.0\",\n        },\n\"Eswatini (Kingdom of)\",\n0.986,\n0.54,\n\"both\"],\n [{\n            'v': 144,\n            'f': \"144\",\n        },\n{\n            'v': 145.0,\n            'f': \"145.0\",\n        },\n\"Equatorial Guinea\",\n\"..\",\n\"..\",\n\"both\"],\n [{\n            'v': 145,\n            'f': \"145\",\n        },\n{\n            'v': 146.0,\n            'f': \"146.0\",\n        },\n\"Cambodia\",\n0.926,\n0.461,\n\"both\"],\n [{\n            'v': 146,\n            'f': \"146\",\n        },\n{\n            'v': 146.0,\n            'f': \"146.0\",\n        },\n\"Zimbabwe\",\n0.961,\n0.532,\n\"both\"],\n [{\n            'v': 147,\n            'f': \"147\",\n        },\n{\n            'v': 148.0,\n            'f': \"148.0\",\n        },\n\"Angola\",\n0.903,\n0.537,\n\"both\"],\n [{\n            'v': 148,\n            'f': \"148\",\n        },\n{\n            'v': 149.0,\n            'f': \"149.0\",\n        },\n\"Myanmar\",\n0.944,\n0.498,\n\"both\"],\n [{\n            'v': 149,\n            'f': \"149\",\n        },\n{\n            'v': 150.0,\n            'f': \"150.0\",\n        },\n\"Syrian Arab Republic\",\n0.825,\n0.477,\n\"both\"],\n [{\n            'v': 150,\n            'f': \"150\",\n        },\n{\n            'v': 151.0,\n            'f': \"151.0\",\n        },\n\"Cameroon\",\n0.885,\n0.565,\n\"both\"],\n [{\n            'v': 151,\n            'f': \"151\",\n        },\n{\n            'v': 152.0,\n            'f': \"152.0\",\n        },\n\"Kenya\",\n0.941,\n0.506,\n\"both\"],\n [{\n            'v': 152,\n            'f': \"152\",\n        },\n{\n            'v': 153.0,\n            'f': \"153.0\",\n        },\n\"Congo\",\n0.934,\n0.564,\n\"both\"],\n [{\n            'v': 153,\n            'f': \"153\",\n        },\n{\n            'v': 154.0,\n            'f': \"154.0\",\n        },\n\"Zambia\",\n0.965,\n0.54,\n\"both\"],\n [{\n            'v': 154,\n            'f': \"154\",\n        },\n{\n            'v': 155.0,\n            'f': \"155.0\",\n        },\n\"Solomon Islands\",\n\"..\",\n\"..\",\n\"both\"],\n [{\n            'v': 155,\n            'f': \"155\",\n        },\n{\n            'v': 156.0,\n            'f': \"156.0\",\n        },\n\"Comoros\",\n0.891,\n\"..\",\n\"both\"],\n [{\n            'v': 156,\n            'f': \"156\",\n        },\n{\n            'v': 156.0,\n            'f': \"156.0\",\n        },\n\"Papua New Guinea\",\n0.931,\n0.725,\n\"both\"],\n [{\n            'v': 157,\n            'f': \"157\",\n        },\n{\n            'v': 158.0,\n            'f': \"158.0\",\n        },\n\"Mauritania\",\n0.89,\n0.632,\n\"both\"],\n [{\n            'v': 158,\n            'f': \"158\",\n        },\n{\n            'v': 159.0,\n            'f': \"159.0\",\n        },\n\"C\\u00f4te d'Ivoire\",\n0.887,\n0.613,\n\"both\"],\n [{\n            'v': 159,\n            'f': \"159\",\n        },\n{\n            'v': 160.0,\n            'f': \"160.0\",\n        },\n\"Tanzania (United Republic of)\",\n0.943,\n0.56,\n\"both\"],\n [{\n            'v': 160,\n            'f': \"160\",\n        },\n{\n            'v': 161.0,\n            'f': \"161.0\",\n        },\n\"Pakistan\",\n0.81,\n0.534,\n\"both\"],\n [{\n            'v': 161,\n            'f': \"161\",\n        },\n{\n            'v': 162.0,\n            'f': \"162.0\",\n        },\n\"Togo\",\n0.849,\n0.58,\n\"both\"],\n [{\n            'v': 162,\n            'f': \"162\",\n        },\n{\n            'v': 163.0,\n            'f': \"163.0\",\n        },\n\"Haiti\",\n0.898,\n0.635,\n\"both\"],\n [{\n            'v': 163,\n            'f': \"163\",\n        },\n{\n            'v': 163.0,\n            'f': \"163.0\",\n        },\n\"Nigeria\",\n0.863,\n0.68,\n\"both\"],\n [{\n            'v': 164,\n            'f': \"164\",\n        },\n{\n            'v': 165.0,\n            'f': \"165.0\",\n        },\n\"Rwanda\",\n0.954,\n0.388,\n\"both\"],\n [{\n            'v': 165,\n            'f': \"165\",\n        },\n{\n            'v': 166.0,\n            'f': \"166.0\",\n        },\n\"Benin\",\n0.88,\n0.602,\n\"both\"],\n [{\n            'v': 166,\n            'f': \"166\",\n        },\n{\n            'v': 166.0,\n            'f': \"166.0\",\n        },\n\"Uganda\",\n0.927,\n0.53,\n\"both\"],\n [{\n            'v': 167,\n            'f': \"167\",\n        },\n{\n            'v': 168.0,\n            'f': \"168.0\",\n        },\n\"Lesotho\",\n0.985,\n0.557,\n\"both\"],\n [{\n            'v': 168,\n            'f': \"168\",\n        },\n{\n            'v': 169.0,\n            'f': \"169.0\",\n        },\n\"Malawi\",\n0.968,\n0.554,\n\"both\"],\n [{\n            'v': 169,\n            'f': \"169\",\n        },\n{\n            'v': 170.0,\n            'f': \"170.0\",\n        },\n\"Senegal\",\n0.874,\n0.53,\n\"both\"],\n [{\n            'v': 170,\n            'f': \"170\",\n        },\n{\n            'v': 171.0,\n            'f': \"171.0\",\n        },\n\"Djibouti\",\n\"..\",\n\"..\",\n\"both\"],\n [{\n            'v': 171,\n            'f': \"171\",\n        },\n{\n            'v': 172.0,\n            'f': \"172.0\",\n        },\n\"Sudan\",\n0.87,\n0.553,\n\"both\"],\n [{\n            'v': 172,\n            'f': \"172\",\n        },\n{\n            'v': 173.0,\n            'f': \"173.0\",\n        },\n\"Madagascar\",\n0.956,\n0.556,\n\"both\"],\n [{\n            'v': 173,\n            'f': \"173\",\n        },\n{\n            'v': 174.0,\n            'f': \"174.0\",\n        },\n\"Gambia\",\n0.924,\n0.611,\n\"both\"],\n [{\n            'v': 174,\n            'f': \"174\",\n        },\n{\n            'v': 175.0,\n            'f': \"175.0\",\n        },\n\"Ethiopia\",\n0.921,\n0.52,\n\"both\"],\n [{\n            'v': 175,\n            'f': \"175\",\n        },\n{\n            'v': 176.0,\n            'f': \"176.0\",\n        },\n\"Eritrea\",\n\"..\",\n\"..\",\n\"both\"],\n [{\n            'v': 176,\n            'f': \"176\",\n        },\n{\n            'v': 177.0,\n            'f': \"177.0\",\n        },\n\"Guinea-Bissau\",\n0.867,\n0.627,\n\"both\"],\n [{\n            'v': 177,\n            'f': \"177\",\n        },\n{\n            'v': 178.0,\n            'f': \"178.0\",\n        },\n\"Liberia\",\n0.871,\n0.648,\n\"both\"],\n [{\n            'v': 178,\n            'f': \"178\",\n        },\n{\n            'v': 179.0,\n            'f': \"179.0\",\n        },\n\"Congo (Democratic Republic of the)\",\n0.885,\n0.601,\n\"both\"],\n [{\n            'v': 179,\n            'f': \"179\",\n        },\n{\n            'v': 180.0,\n            'f': \"180.0\",\n        },\n\"Afghanistan\",\n0.681,\n0.678,\n\"both\"],\n [{\n            'v': 180,\n            'f': \"180\",\n        },\n{\n            'v': 181.0,\n            'f': \"181.0\",\n        },\n\"Sierra Leone\",\n0.893,\n0.633,\n\"both\"],\n [{\n            'v': 181,\n            'f': \"181\",\n        },\n{\n            'v': 182.0,\n            'f': \"182.0\",\n        },\n\"Guinea\",\n0.85,\n0.621,\n\"both\"],\n [{\n            'v': 182,\n            'f': \"182\",\n        },\n{\n            'v': 183.0,\n            'f': \"183.0\",\n        },\n\"Yemen\",\n0.496,\n0.82,\n\"both\"],\n [{\n            'v': 183,\n            'f': \"183\",\n        },\n{\n            'v': 184.0,\n            'f': \"184.0\",\n        },\n\"Burkina Faso\",\n0.903,\n0.621,\n\"both\"],\n [{\n            'v': 184,\n            'f': \"184\",\n        },\n{\n            'v': 185.0,\n            'f': \"185.0\",\n        },\n\"Mozambique\",\n0.922,\n0.537,\n\"both\"],\n [{\n            'v': 185,\n            'f': \"185\",\n        },\n{\n            'v': 186.0,\n            'f': \"186.0\",\n        },\n\"Mali\",\n0.887,\n0.613,\n\"both\"],\n [{\n            'v': 186,\n            'f': \"186\",\n        },\n{\n            'v': 187.0,\n            'f': \"187.0\",\n        },\n\"Burundi\",\n0.935,\n0.505,\n\"both\"],\n [{\n            'v': 187,\n            'f': \"187\",\n        },\n{\n            'v': 188.0,\n            'f': \"188.0\",\n        },\n\"Central African Republic\",\n0.81,\n0.672,\n\"both\"],\n [{\n            'v': 188,\n            'f': \"188\",\n        },\n{\n            'v': 189.0,\n            'f': \"189.0\",\n        },\n\"Niger\",\n0.835,\n0.611,\n\"both\"],\n [{\n            'v': 189,\n            'f': \"189\",\n        },\n{\n            'v': 190.0,\n            'f': \"190.0\",\n        },\n\"Chad\",\n0.77,\n0.652,\n\"both\"],\n [{\n            'v': 190,\n            'f': \"190\",\n        },\n{\n            'v': 191.0,\n            'f': \"191.0\",\n        },\n\"South Sudan\",\n0.843,\n0.587,\n\"both\"],\n [{\n            'v': 191,\n            'f': \"191\",\n        },\n{\n            'v': NaN,\n            'f': \"NaN\",\n        },\nNaN,\nNaN,\nNaN,\n\"right_only\"],\n [{\n            'v': 192,\n            'f': \"192\",\n        },\n{\n            'v': NaN,\n            'f': \"NaN\",\n        },\n\"Korea (Democratic People's Rep. of)\",\nNaN,\n\"..\",\n\"right_only\"],\n [{\n            'v': 193,\n            'f': \"193\",\n        },\n{\n            'v': NaN,\n            'f': \"NaN\",\n        },\n\"Monaco\",\nNaN,\n\"..\",\n\"right_only\"],\n [{\n            'v': 194,\n            'f': \"194\",\n        },\n{\n            'v': NaN,\n            'f': \"NaN\",\n        },\n\"Nauru\",\nNaN,\n\"..\",\n\"right_only\"],\n [{\n            'v': 195,\n            'f': \"195\",\n        },\n{\n            'v': NaN,\n            'f': \"NaN\",\n        },\n\"Somalia\",\nNaN,\n\"..\",\n\"right_only\"]],\n        columns: [[\"number\", \"index\"], [\"number\", \"HDI rank_x\"], [\"string\", \"Country\"], [\"string\", \"Value\"], [\"string\", \"Inequality Value\"], [\"string\", \"_merge\"]],\n        columnOptions: [{\"width\": \"1px\", \"className\": \"index_column\"}],\n        rowsPerPage: 25,\n        helpUrl: \"https://colab.research.google.com/notebooks/data_table.ipynb\",\n        suppressOutputScrolling: true,\n        minimumWidth: undefined,\n      });\n    "
          },
          "metadata": {},
          "execution_count": 16
        }
      ]
    },
    {
      "cell_type": "code",
      "source": [
        "pd1=mergedOuter"
      ],
      "metadata": {
        "id": "G8Q9TqghbO0R"
      },
      "execution_count": 17,
      "outputs": []
    },
    {
      "cell_type": "code",
      "source": [
        "del pd1['_merge']"
      ],
      "metadata": {
        "id": "fzVuCl4fbb81"
      },
      "execution_count": 18,
      "outputs": []
    },
    {
      "cell_type": "code",
      "source": [
        "pd1.rename(columns={'HDI rank_x': 'HDI rank','Value': 'Gender Development Value','Inequality Value': 'Gender Inequality Value'},inplace=True)"
      ],
      "metadata": {
        "id": "8L3Ol012biky"
      },
      "execution_count": 19,
      "outputs": []
    },
    {
      "cell_type": "code",
      "source": [
        "pd1"
      ],
      "metadata": {
        "id": "Xa6LsKXndE55",
        "outputId": "55ab061f-7a71-40e9-94da-425514d74c86",
        "colab": {
          "base_uri": "https://localhost:8080/",
          "height": 637
        }
      },
      "execution_count": 20,
      "outputs": [
        {
          "output_type": "execute_result",
          "data": {
            "text/plain": [
              "     HDI rank                              Country Gender Development Value  \\\n",
              "0         1.0                          Switzerland                    0.967   \n",
              "1         2.0                               Norway                    0.983   \n",
              "2         3.0                              Iceland                    0.976   \n",
              "3         4.0               Hong Kong, China (SAR)                    0.976   \n",
              "4         5.0                            Australia                    0.968   \n",
              "..        ...                                  ...                      ...   \n",
              "191       NaN                                  NaN                      NaN   \n",
              "192       NaN  Korea (Democratic People's Rep. of)                      NaN   \n",
              "193       NaN                               Monaco                      NaN   \n",
              "194       NaN                                Nauru                      NaN   \n",
              "195       NaN                              Somalia                      NaN   \n",
              "\n",
              "    Gender Inequality Value  \n",
              "0                     0.018  \n",
              "1                     0.016  \n",
              "2                     0.043  \n",
              "3                        ..  \n",
              "4                     0.073  \n",
              "..                      ...  \n",
              "191                     NaN  \n",
              "192                      ..  \n",
              "193                      ..  \n",
              "194                      ..  \n",
              "195                      ..  \n",
              "\n",
              "[196 rows x 4 columns]"
            ],
            "text/html": [
              "\n",
              "  <div id=\"df-27a437f7-4677-4d05-93ef-e85fb9509499\">\n",
              "    <div class=\"colab-df-container\">\n",
              "      <div>\n",
              "<style scoped>\n",
              "    .dataframe tbody tr th:only-of-type {\n",
              "        vertical-align: middle;\n",
              "    }\n",
              "\n",
              "    .dataframe tbody tr th {\n",
              "        vertical-align: top;\n",
              "    }\n",
              "\n",
              "    .dataframe thead th {\n",
              "        text-align: right;\n",
              "    }\n",
              "</style>\n",
              "<table border=\"1\" class=\"dataframe\">\n",
              "  <thead>\n",
              "    <tr style=\"text-align: right;\">\n",
              "      <th></th>\n",
              "      <th>HDI rank</th>\n",
              "      <th>Country</th>\n",
              "      <th>Gender Development Value</th>\n",
              "      <th>Gender Inequality Value</th>\n",
              "    </tr>\n",
              "  </thead>\n",
              "  <tbody>\n",
              "    <tr>\n",
              "      <th>0</th>\n",
              "      <td>1.0</td>\n",
              "      <td>Switzerland</td>\n",
              "      <td>0.967</td>\n",
              "      <td>0.018</td>\n",
              "    </tr>\n",
              "    <tr>\n",
              "      <th>1</th>\n",
              "      <td>2.0</td>\n",
              "      <td>Norway</td>\n",
              "      <td>0.983</td>\n",
              "      <td>0.016</td>\n",
              "    </tr>\n",
              "    <tr>\n",
              "      <th>2</th>\n",
              "      <td>3.0</td>\n",
              "      <td>Iceland</td>\n",
              "      <td>0.976</td>\n",
              "      <td>0.043</td>\n",
              "    </tr>\n",
              "    <tr>\n",
              "      <th>3</th>\n",
              "      <td>4.0</td>\n",
              "      <td>Hong Kong, China (SAR)</td>\n",
              "      <td>0.976</td>\n",
              "      <td>..</td>\n",
              "    </tr>\n",
              "    <tr>\n",
              "      <th>4</th>\n",
              "      <td>5.0</td>\n",
              "      <td>Australia</td>\n",
              "      <td>0.968</td>\n",
              "      <td>0.073</td>\n",
              "    </tr>\n",
              "    <tr>\n",
              "      <th>...</th>\n",
              "      <td>...</td>\n",
              "      <td>...</td>\n",
              "      <td>...</td>\n",
              "      <td>...</td>\n",
              "    </tr>\n",
              "    <tr>\n",
              "      <th>191</th>\n",
              "      <td>NaN</td>\n",
              "      <td>NaN</td>\n",
              "      <td>NaN</td>\n",
              "      <td>NaN</td>\n",
              "    </tr>\n",
              "    <tr>\n",
              "      <th>192</th>\n",
              "      <td>NaN</td>\n",
              "      <td>Korea (Democratic People's Rep. of)</td>\n",
              "      <td>NaN</td>\n",
              "      <td>..</td>\n",
              "    </tr>\n",
              "    <tr>\n",
              "      <th>193</th>\n",
              "      <td>NaN</td>\n",
              "      <td>Monaco</td>\n",
              "      <td>NaN</td>\n",
              "      <td>..</td>\n",
              "    </tr>\n",
              "    <tr>\n",
              "      <th>194</th>\n",
              "      <td>NaN</td>\n",
              "      <td>Nauru</td>\n",
              "      <td>NaN</td>\n",
              "      <td>..</td>\n",
              "    </tr>\n",
              "    <tr>\n",
              "      <th>195</th>\n",
              "      <td>NaN</td>\n",
              "      <td>Somalia</td>\n",
              "      <td>NaN</td>\n",
              "      <td>..</td>\n",
              "    </tr>\n",
              "  </tbody>\n",
              "</table>\n",
              "<p>196 rows × 4 columns</p>\n",
              "</div>\n",
              "      <button class=\"colab-df-convert\" onclick=\"convertToInteractive('df-27a437f7-4677-4d05-93ef-e85fb9509499')\"\n",
              "              title=\"Convert this dataframe to an interactive table.\"\n",
              "              style=\"display:none;\">\n",
              "        \n",
              "  <svg xmlns=\"http://www.w3.org/2000/svg\" height=\"24px\"viewBox=\"0 0 24 24\"\n",
              "       width=\"24px\">\n",
              "    <path d=\"M0 0h24v24H0V0z\" fill=\"none\"/>\n",
              "    <path d=\"M18.56 5.44l.94 2.06.94-2.06 2.06-.94-2.06-.94-.94-2.06-.94 2.06-2.06.94zm-11 1L8.5 8.5l.94-2.06 2.06-.94-2.06-.94L8.5 2.5l-.94 2.06-2.06.94zm10 10l.94 2.06.94-2.06 2.06-.94-2.06-.94-.94-2.06-.94 2.06-2.06.94z\"/><path d=\"M17.41 7.96l-1.37-1.37c-.4-.4-.92-.59-1.43-.59-.52 0-1.04.2-1.43.59L10.3 9.45l-7.72 7.72c-.78.78-.78 2.05 0 2.83L4 21.41c.39.39.9.59 1.41.59.51 0 1.02-.2 1.41-.59l7.78-7.78 2.81-2.81c.8-.78.8-2.07 0-2.86zM5.41 20L4 18.59l7.72-7.72 1.47 1.35L5.41 20z\"/>\n",
              "  </svg>\n",
              "      </button>\n",
              "      \n",
              "  <style>\n",
              "    .colab-df-container {\n",
              "      display:flex;\n",
              "      flex-wrap:wrap;\n",
              "      gap: 12px;\n",
              "    }\n",
              "\n",
              "    .colab-df-convert {\n",
              "      background-color: #E8F0FE;\n",
              "      border: none;\n",
              "      border-radius: 50%;\n",
              "      cursor: pointer;\n",
              "      display: none;\n",
              "      fill: #1967D2;\n",
              "      height: 32px;\n",
              "      padding: 0 0 0 0;\n",
              "      width: 32px;\n",
              "    }\n",
              "\n",
              "    .colab-df-convert:hover {\n",
              "      background-color: #E2EBFA;\n",
              "      box-shadow: 0px 1px 2px rgba(60, 64, 67, 0.3), 0px 1px 3px 1px rgba(60, 64, 67, 0.15);\n",
              "      fill: #174EA6;\n",
              "    }\n",
              "\n",
              "    [theme=dark] .colab-df-convert {\n",
              "      background-color: #3B4455;\n",
              "      fill: #D2E3FC;\n",
              "    }\n",
              "\n",
              "    [theme=dark] .colab-df-convert:hover {\n",
              "      background-color: #434B5C;\n",
              "      box-shadow: 0px 1px 3px 1px rgba(0, 0, 0, 0.15);\n",
              "      filter: drop-shadow(0px 1px 2px rgba(0, 0, 0, 0.3));\n",
              "      fill: #FFFFFF;\n",
              "    }\n",
              "  </style>\n",
              "\n",
              "      <script>\n",
              "        const buttonEl =\n",
              "          document.querySelector('#df-27a437f7-4677-4d05-93ef-e85fb9509499 button.colab-df-convert');\n",
              "        buttonEl.style.display =\n",
              "          google.colab.kernel.accessAllowed ? 'block' : 'none';\n",
              "\n",
              "        async function convertToInteractive(key) {\n",
              "          const element = document.querySelector('#df-27a437f7-4677-4d05-93ef-e85fb9509499');\n",
              "          const dataTable =\n",
              "            await google.colab.kernel.invokeFunction('convertToInteractive',\n",
              "                                                     [key], {});\n",
              "          if (!dataTable) return;\n",
              "\n",
              "          const docLinkHtml = 'Like what you see? Visit the ' +\n",
              "            '<a target=\"_blank\" href=https://colab.research.google.com/notebooks/data_table.ipynb>data table notebook</a>'\n",
              "            + ' to learn more about interactive tables.';\n",
              "          element.innerHTML = '';\n",
              "          dataTable['output_type'] = 'display_data';\n",
              "          await google.colab.output.renderOutput(dataTable, element);\n",
              "          const docLink = document.createElement('div');\n",
              "          docLink.innerHTML = docLinkHtml;\n",
              "          element.appendChild(docLink);\n",
              "        }\n",
              "      </script>\n",
              "    </div>\n",
              "  </div>\n",
              "  "
            ],
            "application/vnd.google.colaboratory.module+javascript": "\n      import \"https://ssl.gstatic.com/colaboratory/data_table/99dac6621f6ae8c4/data_table.js\";\n\n      window.createDataTable({\n        data: [[{\n            'v': 0,\n            'f': \"0\",\n        },\n{\n            'v': 1.0,\n            'f': \"1.0\",\n        },\n\"Switzerland\",\n0.967,\n0.018],\n [{\n            'v': 1,\n            'f': \"1\",\n        },\n{\n            'v': 2.0,\n            'f': \"2.0\",\n        },\n\"Norway\",\n0.983,\n0.016],\n [{\n            'v': 2,\n            'f': \"2\",\n        },\n{\n            'v': 3.0,\n            'f': \"3.0\",\n        },\n\"Iceland\",\n0.976,\n0.043],\n [{\n            'v': 3,\n            'f': \"3\",\n        },\n{\n            'v': 4.0,\n            'f': \"4.0\",\n        },\n\"Hong Kong, China (SAR)\",\n0.976,\n\"..\"],\n [{\n            'v': 4,\n            'f': \"4\",\n        },\n{\n            'v': 5.0,\n            'f': \"5.0\",\n        },\n\"Australia\",\n0.968,\n0.073],\n [{\n            'v': 5,\n            'f': \"5\",\n        },\n{\n            'v': 6.0,\n            'f': \"6.0\",\n        },\n\"Denmark\",\n0.98,\n0.013],\n [{\n            'v': 6,\n            'f': \"6\",\n        },\n{\n            'v': 7.0,\n            'f': \"7.0\",\n        },\n\"Sweden\",\n0.988,\n0.023],\n [{\n            'v': 7,\n            'f': \"7\",\n        },\n{\n            'v': 8.0,\n            'f': \"8.0\",\n        },\n\"Ireland\",\n0.987,\n0.074],\n [{\n            'v': 8,\n            'f': \"8\",\n        },\n{\n            'v': 9.0,\n            'f': \"9.0\",\n        },\n\"Germany\",\n0.978,\n0.073],\n [{\n            'v': 9,\n            'f': \"9\",\n        },\n{\n            'v': 10.0,\n            'f': \"10.0\",\n        },\n\"Netherlands\",\n0.968,\n0.025],\n [{\n            'v': 10,\n            'f': \"10\",\n        },\n{\n            'v': 11.0,\n            'f': \"11.0\",\n        },\n\"Finland\",\n0.989,\n0.033],\n [{\n            'v': 11,\n            'f': \"11\",\n        },\n{\n            'v': 12.0,\n            'f': \"12.0\",\n        },\n\"Singapore\",\n0.992,\n0.04],\n [{\n            'v': 12,\n            'f': \"12\",\n        },\n{\n            'v': 13.0,\n            'f': \"13.0\",\n        },\n\"Belgium\",\n0.978,\n0.048],\n [{\n            'v': 13,\n            'f': \"13\",\n        },\n{\n            'v': 13.0,\n            'f': \"13.0\",\n        },\n\"New Zealand\",\n0.975,\n0.088],\n [{\n            'v': 14,\n            'f': \"14\",\n        },\n{\n            'v': 15.0,\n            'f': \"15.0\",\n        },\n\"Canada\",\n0.988,\n0.069],\n [{\n            'v': 15,\n            'f': \"15\",\n        },\n{\n            'v': 16.0,\n            'f': \"16.0\",\n        },\n\"Liechtenstein\",\n\"..\",\n\"..\"],\n [{\n            'v': 16,\n            'f': \"16\",\n        },\n{\n            'v': 17.0,\n            'f': \"17.0\",\n        },\n\"Luxembourg\",\n0.993,\n0.044],\n [{\n            'v': 17,\n            'f': \"17\",\n        },\n{\n            'v': 18.0,\n            'f': \"18.0\",\n        },\n\"United Kingdom\",\n0.987,\n0.098],\n [{\n            'v': 18,\n            'f': \"18\",\n        },\n{\n            'v': 19.0,\n            'f': \"19.0\",\n        },\n\"Japan\",\n0.97,\n0.083],\n [{\n            'v': 19,\n            'f': \"19\",\n        },\n{\n            'v': 19.0,\n            'f': \"19.0\",\n        },\n\"Korea (Republic of)\",\n0.944,\n0.067],\n [{\n            'v': 20,\n            'f': \"20\",\n        },\n{\n            'v': 21.0,\n            'f': \"21.0\",\n        },\n\"United States\",\n1.001,\n0.179],\n [{\n            'v': 21,\n            'f': \"21\",\n        },\n{\n            'v': 22.0,\n            'f': \"22.0\",\n        },\n\"Israel\",\n0.992,\n0.083],\n [{\n            'v': 22,\n            'f': \"22\",\n        },\n{\n            'v': 23.0,\n            'f': \"23.0\",\n        },\n\"Malta\",\n0.98,\n0.167],\n [{\n            'v': 23,\n            'f': \"23\",\n        },\n{\n            'v': 23.0,\n            'f': \"23.0\",\n        },\n\"Slovenia\",\n0.999,\n0.071],\n [{\n            'v': 24,\n            'f': \"24\",\n        },\n{\n            'v': 25.0,\n            'f': \"25.0\",\n        },\n\"Austria\",\n0.98,\n0.053],\n [{\n            'v': 25,\n            'f': \"25\",\n        },\n{\n            'v': 26.0,\n            'f': \"26.0\",\n        },\n\"United Arab Emirates\",\n0.953,\n0.049],\n [{\n            'v': 26,\n            'f': \"26\",\n        },\n{\n            'v': 27.0,\n            'f': \"27.0\",\n        },\n\"Spain\",\n0.986,\n0.057],\n [{\n            'v': 27,\n            'f': \"27\",\n        },\n{\n            'v': 28.0,\n            'f': \"28.0\",\n        },\n\"France\",\n0.99,\n0.083],\n [{\n            'v': 28,\n            'f': \"28\",\n        },\n{\n            'v': 29.0,\n            'f': \"29.0\",\n        },\n\"Cyprus\",\n0.972,\n0.123],\n [{\n            'v': 29,\n            'f': \"29\",\n        },\n{\n            'v': 30.0,\n            'f': \"30.0\",\n        },\n\"Italy\",\n0.97,\n0.056],\n [{\n            'v': 30,\n            'f': \"30\",\n        },\n{\n            'v': 31.0,\n            'f': \"31.0\",\n        },\n\"Estonia\",\n1.021,\n0.1],\n [{\n            'v': 31,\n            'f': \"31\",\n        },\n{\n            'v': 32.0,\n            'f': \"32.0\",\n        },\n\"Czechia\",\n0.989,\n0.12],\n [{\n            'v': 32,\n            'f': \"32\",\n        },\n{\n            'v': 33.0,\n            'f': \"33.0\",\n        },\n\"Greece\",\n0.969,\n0.119],\n [{\n            'v': 33,\n            'f': \"33\",\n        },\n{\n            'v': 34.0,\n            'f': \"34.0\",\n        },\n\"Poland\",\n1.008,\n0.109],\n [{\n            'v': 34,\n            'f': \"34\",\n        },\n{\n            'v': 35.0,\n            'f': \"35.0\",\n        },\n\"Bahrain\",\n0.927,\n0.181],\n [{\n            'v': 35,\n            'f': \"35\",\n        },\n{\n            'v': 35.0,\n            'f': \"35.0\",\n        },\n\"Lithuania\",\n1.03,\n0.105],\n [{\n            'v': 36,\n            'f': \"36\",\n        },\n{\n            'v': 35.0,\n            'f': \"35.0\",\n        },\n\"Saudi Arabia\",\n0.917,\n0.247],\n [{\n            'v': 37,\n            'f': \"37\",\n        },\n{\n            'v': 38.0,\n            'f': \"38.0\",\n        },\n\"Portugal\",\n0.994,\n0.067],\n [{\n            'v': 38,\n            'f': \"38\",\n        },\n{\n            'v': 39.0,\n            'f': \"39.0\",\n        },\n\"Latvia\",\n1.025,\n0.151],\n [{\n            'v': 39,\n            'f': \"39\",\n        },\n{\n            'v': 40.0,\n            'f': \"40.0\",\n        },\n\"Andorra\",\n\"..\",\n\"..\"],\n [{\n            'v': 40,\n            'f': \"40\",\n        },\n{\n            'v': 40.0,\n            'f': \"40.0\",\n        },\n\"Croatia\",\n0.995,\n0.093],\n [{\n            'v': 41,\n            'f': \"41\",\n        },\n{\n            'v': 42.0,\n            'f': \"42.0\",\n        },\n\"Chile\",\n0.967,\n0.187],\n [{\n            'v': 42,\n            'f': \"42\",\n        },\n{\n            'v': 42.0,\n            'f': \"42.0\",\n        },\n\"Qatar\",\n1.019,\n0.22],\n [{\n            'v': 43,\n            'f': \"43\",\n        },\n{\n            'v': 44.0,\n            'f': \"44.0\",\n        },\n\"San Marino\",\n\"..\",\n\"..\"],\n [{\n            'v': 44,\n            'f': \"44\",\n        },\n{\n            'v': 45.0,\n            'f': \"45.0\",\n        },\n\"Slovakia\",\n0.999,\n0.18],\n [{\n            'v': 45,\n            'f': \"45\",\n        },\n{\n            'v': 46.0,\n            'f': \"46.0\",\n        },\n\"Hungary\",\n0.987,\n0.221],\n [{\n            'v': 46,\n            'f': \"46\",\n        },\n{\n            'v': 47.0,\n            'f': \"47.0\",\n        },\n\"Argentina\",\n0.997,\n0.287],\n [{\n            'v': 47,\n            'f': \"47\",\n        },\n{\n            'v': 48.0,\n            'f': \"48.0\",\n        },\n\"T\\u00fcrkiye\",\n0.937,\n0.272],\n [{\n            'v': 48,\n            'f': \"48\",\n        },\n{\n            'v': 49.0,\n            'f': \"49.0\",\n        },\n\"Montenegro\",\n0.981,\n0.119],\n [{\n            'v': 49,\n            'f': \"49\",\n        },\n{\n            'v': 50.0,\n            'f': \"50.0\",\n        },\n\"Kuwait\",\n1.009,\n0.305],\n [{\n            'v': 50,\n            'f': \"50\",\n        },\n{\n            'v': 51.0,\n            'f': \"51.0\",\n        },\n\"Brunei Darussalam\",\n0.984,\n0.259],\n [{\n            'v': 51,\n            'f': \"51\",\n        },\n{\n            'v': 52.0,\n            'f': \"52.0\",\n        },\n\"Russian Federation\",\n1.016,\n0.203],\n [{\n            'v': 52,\n            'f': \"52\",\n        },\n{\n            'v': 53.0,\n            'f': \"53.0\",\n        },\n\"Romania\",\n0.994,\n0.282],\n [{\n            'v': 53,\n            'f': \"53\",\n        },\n{\n            'v': 54.0,\n            'f': \"54.0\",\n        },\n\"Oman\",\n0.9,\n0.3],\n [{\n            'v': 54,\n            'f': \"54\",\n        },\n{\n            'v': 55.0,\n            'f': \"55.0\",\n        },\n\"Bahamas\",\n\"..\",\n0.329],\n [{\n            'v': 55,\n            'f': \"55\",\n        },\n{\n            'v': 56.0,\n            'f': \"56.0\",\n        },\n\"Kazakhstan\",\n0.998,\n0.161],\n [{\n            'v': 56,\n            'f': \"56\",\n        },\n{\n            'v': 57.0,\n            'f': \"57.0\",\n        },\n\"Trinidad and Tobago\",\n0.985,\n0.344],\n [{\n            'v': 57,\n            'f': \"57\",\n        },\n{\n            'v': 58.0,\n            'f': \"58.0\",\n        },\n\"Costa Rica\",\n0.996,\n0.256],\n [{\n            'v': 58,\n            'f': \"58\",\n        },\n{\n            'v': 58.0,\n            'f': \"58.0\",\n        },\n\"Uruguay\",\n1.022,\n0.235],\n [{\n            'v': 59,\n            'f': \"59\",\n        },\n{\n            'v': 60.0,\n            'f': \"60.0\",\n        },\n\"Belarus\",\n1.011,\n0.104],\n [{\n            'v': 60,\n            'f': \"60\",\n        },\n{\n            'v': 61.0,\n            'f': \"61.0\",\n        },\n\"Panama\",\n1.017,\n0.392],\n [{\n            'v': 61,\n            'f': \"61\",\n        },\n{\n            'v': 62.0,\n            'f': \"62.0\",\n        },\n\"Malaysia\",\n0.982,\n0.228],\n [{\n            'v': 62,\n            'f': \"62\",\n        },\n{\n            'v': 63.0,\n            'f': \"63.0\",\n        },\n\"Georgia\",\n1.007,\n0.28],\n [{\n            'v': 63,\n            'f': \"63\",\n        },\n{\n            'v': 63.0,\n            'f': \"63.0\",\n        },\n\"Mauritius\",\n0.973,\n0.347],\n [{\n            'v': 64,\n            'f': \"64\",\n        },\n{\n            'v': 63.0,\n            'f': \"63.0\",\n        },\n\"Serbia\",\n0.982,\n0.131],\n [{\n            'v': 65,\n            'f': \"65\",\n        },\n{\n            'v': 66.0,\n            'f': \"66.0\",\n        },\n\"Thailand\",\n1.012,\n0.333],\n [{\n            'v': 66,\n            'f': \"66\",\n        },\n{\n            'v': 67.0,\n            'f': \"67.0\",\n        },\n\"Albania\",\n1.007,\n0.144],\n [{\n            'v': 67,\n            'f': \"67\",\n        },\n{\n            'v': 68.0,\n            'f': \"68.0\",\n        },\n\"Bulgaria\",\n0.995,\n0.21],\n [{\n            'v': 68,\n            'f': \"68\",\n        },\n{\n            'v': 68.0,\n            'f': \"68.0\",\n        },\n\"Grenada\",\n\"..\",\n\"..\"],\n [{\n            'v': 69,\n            'f': \"69\",\n        },\n{\n            'v': 70.0,\n            'f': \"70.0\",\n        },\n\"Barbados\",\n1.034,\n0.268],\n [{\n            'v': 70,\n            'f': \"70\",\n        },\n{\n            'v': 71.0,\n            'f': \"71.0\",\n        },\n\"Antigua and Barbuda\",\n\"..\",\n\"..\"],\n [{\n            'v': 71,\n            'f': \"71\",\n        },\n{\n            'v': 72.0,\n            'f': \"72.0\",\n        },\n\"Seychelles\",\n\"..\",\n\"..\"],\n [{\n            'v': 72,\n            'f': \"72\",\n        },\n{\n            'v': 73.0,\n            'f': \"73.0\",\n        },\n\"Sri Lanka\",\n0.949,\n0.383],\n [{\n            'v': 73,\n            'f': \"73\",\n        },\n{\n            'v': 74.0,\n            'f': \"74.0\",\n        },\n\"Bosnia and Herzegovina\",\n0.94,\n0.136],\n [{\n            'v': 74,\n            'f': \"74\",\n        },\n{\n            'v': 75.0,\n            'f': \"75.0\",\n        },\n\"Saint Kitts and Nevis\",\n\"..\",\n\"..\"],\n [{\n            'v': 75,\n            'f': \"75\",\n        },\n{\n            'v': 76.0,\n            'f': \"76.0\",\n        },\n\"Iran (Islamic Republic of)\",\n0.88,\n0.459],\n [{\n            'v': 76,\n            'f': \"76\",\n        },\n{\n            'v': 77.0,\n            'f': \"77.0\",\n        },\n\"Ukraine\",\n1.012,\n0.2],\n [{\n            'v': 77,\n            'f': \"77\",\n        },\n{\n            'v': 78.0,\n            'f': \"78.0\",\n        },\n\"North Macedonia\",\n0.945,\n0.134],\n [{\n            'v': 78,\n            'f': \"78\",\n        },\n{\n            'v': 79.0,\n            'f': \"79.0\",\n        },\n\"China\",\n0.984,\n0.192],\n [{\n            'v': 79,\n            'f': \"79\",\n        },\n{\n            'v': 80.0,\n            'f': \"80.0\",\n        },\n\"Dominican Republic\",\n1.014,\n0.429],\n [{\n            'v': 80,\n            'f': \"80\",\n        },\n{\n            'v': 80.0,\n            'f': \"80.0\",\n        },\n\"Moldova (Republic of)\",\n1.01,\n0.205],\n [{\n            'v': 81,\n            'f': \"81\",\n        },\n{\n            'v': 80.0,\n            'f': \"80.0\",\n        },\n\"Palau\",\n\"..\",\n\"..\"],\n [{\n            'v': 82,\n            'f': \"82\",\n        },\n{\n            'v': 83.0,\n            'f': \"83.0\",\n        },\n\"Cuba\",\n0.961,\n0.303],\n [{\n            'v': 83,\n            'f': \"83\",\n        },\n{\n            'v': 84.0,\n            'f': \"84.0\",\n        },\n\"Peru\",\n0.95,\n0.38],\n [{\n            'v': 84,\n            'f': \"84\",\n        },\n{\n            'v': 85.0,\n            'f': \"85.0\",\n        },\n\"Armenia\",\n1.001,\n0.216],\n [{\n            'v': 85,\n            'f': \"85\",\n        },\n{\n            'v': 86.0,\n            'f': \"86.0\",\n        },\n\"Mexico\",\n0.989,\n0.309],\n [{\n            'v': 86,\n            'f': \"86\",\n        },\n{\n            'v': 87.0,\n            'f': \"87.0\",\n        },\n\"Brazil\",\n0.994,\n0.39],\n [{\n            'v': 87,\n            'f': \"87\",\n        },\n{\n            'v': 88.0,\n            'f': \"88.0\",\n        },\n\"Colombia\",\n0.984,\n0.424],\n [{\n            'v': 88,\n            'f': \"88\",\n        },\n{\n            'v': 89.0,\n            'f': \"89.0\",\n        },\n\"Saint Vincent and the Grenadines\",\n0.97,\n0.39],\n [{\n            'v': 89,\n            'f': \"89\",\n        },\n{\n            'v': 90.0,\n            'f': \"90.0\",\n        },\n\"Maldives\",\n0.925,\n0.348],\n [{\n            'v': 90,\n            'f': \"90\",\n        },\n{\n            'v': 91.0,\n            'f': \"91.0\",\n        },\n\"Algeria\",\n0.88,\n0.499],\n [{\n            'v': 91,\n            'f': \"91\",\n        },\n{\n            'v': 91.0,\n            'f': \"91.0\",\n        },\n\"Azerbaijan\",\n0.974,\n0.294],\n [{\n            'v': 92,\n            'f': \"92\",\n        },\n{\n            'v': 91.0,\n            'f': \"91.0\",\n        },\n\"Tonga\",\n0.965,\n0.631],\n [{\n            'v': 93,\n            'f': \"93\",\n        },\n{\n            'v': 91.0,\n            'f': \"91.0\",\n        },\n\"Turkmenistan\",\n0.956,\n0.177],\n [{\n            'v': 94,\n            'f': \"94\",\n        },\n{\n            'v': 95.0,\n            'f': \"95.0\",\n        },\n\"Ecuador\",\n0.98,\n0.362],\n [{\n            'v': 95,\n            'f': \"95\",\n        },\n{\n            'v': 96.0,\n            'f': \"96.0\",\n        },\n\"Mongolia\",\n1.031,\n0.313],\n [{\n            'v': 96,\n            'f': \"96\",\n        },\n{\n            'v': 97.0,\n            'f': \"97.0\",\n        },\n\"Egypt\",\n0.882,\n0.443],\n [{\n            'v': 97,\n            'f': \"97\",\n        },\n{\n            'v': 97.0,\n            'f': \"97.0\",\n        },\n\"Tunisia\",\n0.931,\n0.259],\n [{\n            'v': 98,\n            'f': \"98\",\n        },\n{\n            'v': 99.0,\n            'f': \"99.0\",\n        },\n\"Fiji\",\n0.931,\n0.318],\n [{\n            'v': 99,\n            'f': \"99\",\n        },\n{\n            'v': 99.0,\n            'f': \"99.0\",\n        },\n\"Suriname\",\n1.001,\n0.427],\n [{\n            'v': 100,\n            'f': \"100\",\n        },\n{\n            'v': 101.0,\n            'f': \"101.0\",\n        },\n\"Uzbekistan\",\n0.944,\n0.227],\n [{\n            'v': 101,\n            'f': \"101\",\n        },\n{\n            'v': 102.0,\n            'f': \"102.0\",\n        },\n\"Dominica\",\n\"..\",\n\"..\"],\n [{\n            'v': 102,\n            'f': \"102\",\n        },\n{\n            'v': 102.0,\n            'f': \"102.0\",\n        },\n\"Jordan\",\n0.887,\n0.471],\n [{\n            'v': 103,\n            'f': \"103\",\n        },\n{\n            'v': 104.0,\n            'f': \"104.0\",\n        },\n\"Libya\",\n0.975,\n0.259],\n [{\n            'v': 104,\n            'f': \"104\",\n        },\n{\n            'v': 105.0,\n            'f': \"105.0\",\n        },\n\"Paraguay\",\n0.99,\n0.445],\n [{\n            'v': 105,\n            'f': \"105\",\n        },\n{\n            'v': 106.0,\n            'f': \"106.0\",\n        },\n\"Palestine, State of\",\n0.891,\n\"..\"],\n [{\n            'v': 106,\n            'f': \"106\",\n        },\n{\n            'v': 106.0,\n            'f': \"106.0\",\n        },\n\"Saint Lucia\",\n1.011,\n0.381],\n [{\n            'v': 107,\n            'f': \"107\",\n        },\n{\n            'v': 108.0,\n            'f': \"108.0\",\n        },\n\"Guyana\",\n0.978,\n0.454],\n [{\n            'v': 108,\n            'f': \"108\",\n        },\n{\n            'v': 109.0,\n            'f': \"109.0\",\n        },\n\"South Africa\",\n0.944,\n0.405],\n [{\n            'v': 109,\n            'f': \"109\",\n        },\n{\n            'v': 110.0,\n            'f': \"110.0\",\n        },\n\"Jamaica\",\n0.99,\n0.335],\n [{\n            'v': 110,\n            'f': \"110\",\n        },\n{\n            'v': 111.0,\n            'f': \"111.0\",\n        },\n\"Samoa\",\n0.957,\n0.418],\n [{\n            'v': 111,\n            'f': \"111\",\n        },\n{\n            'v': 112.0,\n            'f': \"112.0\",\n        },\n\"Gabon\",\n0.908,\n0.541],\n [{\n            'v': 112,\n            'f': \"112\",\n        },\n{\n            'v': 112.0,\n            'f': \"112.0\",\n        },\n\"Lebanon\",\n0.882,\n0.432],\n [{\n            'v': 113,\n            'f': \"113\",\n        },\n{\n            'v': 114.0,\n            'f': \"114.0\",\n        },\n\"Indonesia\",\n0.941,\n0.444],\n [{\n            'v': 114,\n            'f': \"114\",\n        },\n{\n            'v': 115.0,\n            'f': \"115.0\",\n        },\n\"Viet Nam\",\n1.002,\n0.296],\n [{\n            'v': 115,\n            'f': \"115\",\n        },\n{\n            'v': 116.0,\n            'f': \"116.0\",\n        },\n\"Philippines\",\n0.99,\n0.419],\n [{\n            'v': 116,\n            'f': \"116\",\n        },\n{\n            'v': 117.0,\n            'f': \"117.0\",\n        },\n\"Botswana\",\n0.981,\n0.468],\n [{\n            'v': 117,\n            'f': \"117\",\n        },\n{\n            'v': 118.0,\n            'f': \"118.0\",\n        },\n\"Bolivia (Plurinational State of)\",\n0.964,\n0.418],\n [{\n            'v': 118,\n            'f': \"118\",\n        },\n{\n            'v': 118.0,\n            'f': \"118.0\",\n        },\n\"Kyrgyzstan\",\n0.966,\n0.37],\n [{\n            'v': 119,\n            'f': \"119\",\n        },\n{\n            'v': 120.0,\n            'f': \"120.0\",\n        },\n\"Venezuela (Bolivarian Republic of)\",\n0.983,\n0.492],\n [{\n            'v': 120,\n            'f': \"120\",\n        },\n{\n            'v': 121.0,\n            'f': \"121.0\",\n        },\n\"Iraq\",\n0.803,\n0.558],\n [{\n            'v': 121,\n            'f': \"121\",\n        },\n{\n            'v': 122.0,\n            'f': \"122.0\",\n        },\n\"Tajikistan\",\n0.909,\n0.285],\n [{\n            'v': 122,\n            'f': \"122\",\n        },\n{\n            'v': 123.0,\n            'f': \"123.0\",\n        },\n\"Belize\",\n0.975,\n0.364],\n [{\n            'v': 123,\n            'f': \"123\",\n        },\n{\n            'v': 123.0,\n            'f': \"123.0\",\n        },\n\"Morocco\",\n0.861,\n0.425],\n [{\n            'v': 124,\n            'f': \"124\",\n        },\n{\n            'v': 125.0,\n            'f': \"125.0\",\n        },\n\"El Salvador\",\n0.964,\n0.376],\n [{\n            'v': 125,\n            'f': \"125\",\n        },\n{\n            'v': 126.0,\n            'f': \"126.0\",\n        },\n\"Nicaragua\",\n0.956,\n0.424],\n [{\n            'v': 126,\n            'f': \"126\",\n        },\n{\n            'v': 127.0,\n            'f': \"127.0\",\n        },\n\"Bhutan\",\n0.937,\n0.415],\n [{\n            'v': 127,\n            'f': \"127\",\n        },\n{\n            'v': 128.0,\n            'f': \"128.0\",\n        },\n\"Cabo Verde\",\n0.981,\n0.349],\n [{\n            'v': 128,\n            'f': \"128\",\n        },\n{\n            'v': 129.0,\n            'f': \"129.0\",\n        },\n\"Bangladesh\",\n0.898,\n0.53],\n [{\n            'v': 129,\n            'f': \"129\",\n        },\n{\n            'v': 130.0,\n            'f': \"130.0\",\n        },\n\"Tuvalu\",\n\"..\",\n\"..\"],\n [{\n            'v': 130,\n            'f': \"130\",\n        },\n{\n            'v': 131.0,\n            'f': \"131.0\",\n        },\n\"Marshall Islands\",\n\"..\",\n\"..\"],\n [{\n            'v': 131,\n            'f': \"131\",\n        },\n{\n            'v': 132.0,\n            'f': \"132.0\",\n        },\n\"India\",\n0.849,\n0.49],\n [{\n            'v': 132,\n            'f': \"132\",\n        },\n{\n            'v': 133.0,\n            'f': \"133.0\",\n        },\n\"Ghana\",\n0.946,\n0.529],\n [{\n            'v': 133,\n            'f': \"133\",\n        },\n{\n            'v': 134.0,\n            'f': \"134.0\",\n        },\n\"Micronesia (Federated States of)\",\n\"..\",\n\"..\"],\n [{\n            'v': 134,\n            'f': \"134\",\n        },\n{\n            'v': 135.0,\n            'f': \"135.0\",\n        },\n\"Guatemala\",\n0.917,\n0.481],\n [{\n            'v': 135,\n            'f': \"135\",\n        },\n{\n            'v': 136.0,\n            'f': \"136.0\",\n        },\n\"Kiribati\",\n\"..\",\n\"..\"],\n [{\n            'v': 136,\n            'f': \"136\",\n        },\n{\n            'v': 137.0,\n            'f': \"137.0\",\n        },\n\"Honduras\",\n0.96,\n0.431],\n [{\n            'v': 137,\n            'f': \"137\",\n        },\n{\n            'v': 138.0,\n            'f': \"138.0\",\n        },\n\"Sao Tome and Principe\",\n0.907,\n0.494],\n [{\n            'v': 138,\n            'f': \"138\",\n        },\n{\n            'v': 139.0,\n            'f': \"139.0\",\n        },\n\"Namibia\",\n1.004,\n0.445],\n [{\n            'v': 139,\n            'f': \"139\",\n        },\n{\n            'v': 140.0,\n            'f': \"140.0\",\n        },\n\"Lao People's Democratic Republic\",\n0.949,\n0.478],\n [{\n            'v': 140,\n            'f': \"140\",\n        },\n{\n            'v': 140.0,\n            'f': \"140.0\",\n        },\n\"Timor-Leste\",\n0.917,\n0.378],\n [{\n            'v': 141,\n            'f': \"141\",\n        },\n{\n            'v': 140.0,\n            'f': \"140.0\",\n        },\n\"Vanuatu\",\n\"..\",\n\"..\"],\n [{\n            'v': 142,\n            'f': \"142\",\n        },\n{\n            'v': 143.0,\n            'f': \"143.0\",\n        },\n\"Nepal\",\n0.942,\n0.452],\n [{\n            'v': 143,\n            'f': \"143\",\n        },\n{\n            'v': 144.0,\n            'f': \"144.0\",\n        },\n\"Eswatini (Kingdom of)\",\n0.986,\n0.54],\n [{\n            'v': 144,\n            'f': \"144\",\n        },\n{\n            'v': 145.0,\n            'f': \"145.0\",\n        },\n\"Equatorial Guinea\",\n\"..\",\n\"..\"],\n [{\n            'v': 145,\n            'f': \"145\",\n        },\n{\n            'v': 146.0,\n            'f': \"146.0\",\n        },\n\"Cambodia\",\n0.926,\n0.461],\n [{\n            'v': 146,\n            'f': \"146\",\n        },\n{\n            'v': 146.0,\n            'f': \"146.0\",\n        },\n\"Zimbabwe\",\n0.961,\n0.532],\n [{\n            'v': 147,\n            'f': \"147\",\n        },\n{\n            'v': 148.0,\n            'f': \"148.0\",\n        },\n\"Angola\",\n0.903,\n0.537],\n [{\n            'v': 148,\n            'f': \"148\",\n        },\n{\n            'v': 149.0,\n            'f': \"149.0\",\n        },\n\"Myanmar\",\n0.944,\n0.498],\n [{\n            'v': 149,\n            'f': \"149\",\n        },\n{\n            'v': 150.0,\n            'f': \"150.0\",\n        },\n\"Syrian Arab Republic\",\n0.825,\n0.477],\n [{\n            'v': 150,\n            'f': \"150\",\n        },\n{\n            'v': 151.0,\n            'f': \"151.0\",\n        },\n\"Cameroon\",\n0.885,\n0.565],\n [{\n            'v': 151,\n            'f': \"151\",\n        },\n{\n            'v': 152.0,\n            'f': \"152.0\",\n        },\n\"Kenya\",\n0.941,\n0.506],\n [{\n            'v': 152,\n            'f': \"152\",\n        },\n{\n            'v': 153.0,\n            'f': \"153.0\",\n        },\n\"Congo\",\n0.934,\n0.564],\n [{\n            'v': 153,\n            'f': \"153\",\n        },\n{\n            'v': 154.0,\n            'f': \"154.0\",\n        },\n\"Zambia\",\n0.965,\n0.54],\n [{\n            'v': 154,\n            'f': \"154\",\n        },\n{\n            'v': 155.0,\n            'f': \"155.0\",\n        },\n\"Solomon Islands\",\n\"..\",\n\"..\"],\n [{\n            'v': 155,\n            'f': \"155\",\n        },\n{\n            'v': 156.0,\n            'f': \"156.0\",\n        },\n\"Comoros\",\n0.891,\n\"..\"],\n [{\n            'v': 156,\n            'f': \"156\",\n        },\n{\n            'v': 156.0,\n            'f': \"156.0\",\n        },\n\"Papua New Guinea\",\n0.931,\n0.725],\n [{\n            'v': 157,\n            'f': \"157\",\n        },\n{\n            'v': 158.0,\n            'f': \"158.0\",\n        },\n\"Mauritania\",\n0.89,\n0.632],\n [{\n            'v': 158,\n            'f': \"158\",\n        },\n{\n            'v': 159.0,\n            'f': \"159.0\",\n        },\n\"C\\u00f4te d'Ivoire\",\n0.887,\n0.613],\n [{\n            'v': 159,\n            'f': \"159\",\n        },\n{\n            'v': 160.0,\n            'f': \"160.0\",\n        },\n\"Tanzania (United Republic of)\",\n0.943,\n0.56],\n [{\n            'v': 160,\n            'f': \"160\",\n        },\n{\n            'v': 161.0,\n            'f': \"161.0\",\n        },\n\"Pakistan\",\n0.81,\n0.534],\n [{\n            'v': 161,\n            'f': \"161\",\n        },\n{\n            'v': 162.0,\n            'f': \"162.0\",\n        },\n\"Togo\",\n0.849,\n0.58],\n [{\n            'v': 162,\n            'f': \"162\",\n        },\n{\n            'v': 163.0,\n            'f': \"163.0\",\n        },\n\"Haiti\",\n0.898,\n0.635],\n [{\n            'v': 163,\n            'f': \"163\",\n        },\n{\n            'v': 163.0,\n            'f': \"163.0\",\n        },\n\"Nigeria\",\n0.863,\n0.68],\n [{\n            'v': 164,\n            'f': \"164\",\n        },\n{\n            'v': 165.0,\n            'f': \"165.0\",\n        },\n\"Rwanda\",\n0.954,\n0.388],\n [{\n            'v': 165,\n            'f': \"165\",\n        },\n{\n            'v': 166.0,\n            'f': \"166.0\",\n        },\n\"Benin\",\n0.88,\n0.602],\n [{\n            'v': 166,\n            'f': \"166\",\n        },\n{\n            'v': 166.0,\n            'f': \"166.0\",\n        },\n\"Uganda\",\n0.927,\n0.53],\n [{\n            'v': 167,\n            'f': \"167\",\n        },\n{\n            'v': 168.0,\n            'f': \"168.0\",\n        },\n\"Lesotho\",\n0.985,\n0.557],\n [{\n            'v': 168,\n            'f': \"168\",\n        },\n{\n            'v': 169.0,\n            'f': \"169.0\",\n        },\n\"Malawi\",\n0.968,\n0.554],\n [{\n            'v': 169,\n            'f': \"169\",\n        },\n{\n            'v': 170.0,\n            'f': \"170.0\",\n        },\n\"Senegal\",\n0.874,\n0.53],\n [{\n            'v': 170,\n            'f': \"170\",\n        },\n{\n            'v': 171.0,\n            'f': \"171.0\",\n        },\n\"Djibouti\",\n\"..\",\n\"..\"],\n [{\n            'v': 171,\n            'f': \"171\",\n        },\n{\n            'v': 172.0,\n            'f': \"172.0\",\n        },\n\"Sudan\",\n0.87,\n0.553],\n [{\n            'v': 172,\n            'f': \"172\",\n        },\n{\n            'v': 173.0,\n            'f': \"173.0\",\n        },\n\"Madagascar\",\n0.956,\n0.556],\n [{\n            'v': 173,\n            'f': \"173\",\n        },\n{\n            'v': 174.0,\n            'f': \"174.0\",\n        },\n\"Gambia\",\n0.924,\n0.611],\n [{\n            'v': 174,\n            'f': \"174\",\n        },\n{\n            'v': 175.0,\n            'f': \"175.0\",\n        },\n\"Ethiopia\",\n0.921,\n0.52],\n [{\n            'v': 175,\n            'f': \"175\",\n        },\n{\n            'v': 176.0,\n            'f': \"176.0\",\n        },\n\"Eritrea\",\n\"..\",\n\"..\"],\n [{\n            'v': 176,\n            'f': \"176\",\n        },\n{\n            'v': 177.0,\n            'f': \"177.0\",\n        },\n\"Guinea-Bissau\",\n0.867,\n0.627],\n [{\n            'v': 177,\n            'f': \"177\",\n        },\n{\n            'v': 178.0,\n            'f': \"178.0\",\n        },\n\"Liberia\",\n0.871,\n0.648],\n [{\n            'v': 178,\n            'f': \"178\",\n        },\n{\n            'v': 179.0,\n            'f': \"179.0\",\n        },\n\"Congo (Democratic Republic of the)\",\n0.885,\n0.601],\n [{\n            'v': 179,\n            'f': \"179\",\n        },\n{\n            'v': 180.0,\n            'f': \"180.0\",\n        },\n\"Afghanistan\",\n0.681,\n0.678],\n [{\n            'v': 180,\n            'f': \"180\",\n        },\n{\n            'v': 181.0,\n            'f': \"181.0\",\n        },\n\"Sierra Leone\",\n0.893,\n0.633],\n [{\n            'v': 181,\n            'f': \"181\",\n        },\n{\n            'v': 182.0,\n            'f': \"182.0\",\n        },\n\"Guinea\",\n0.85,\n0.621],\n [{\n            'v': 182,\n            'f': \"182\",\n        },\n{\n            'v': 183.0,\n            'f': \"183.0\",\n        },\n\"Yemen\",\n0.496,\n0.82],\n [{\n            'v': 183,\n            'f': \"183\",\n        },\n{\n            'v': 184.0,\n            'f': \"184.0\",\n        },\n\"Burkina Faso\",\n0.903,\n0.621],\n [{\n            'v': 184,\n            'f': \"184\",\n        },\n{\n            'v': 185.0,\n            'f': \"185.0\",\n        },\n\"Mozambique\",\n0.922,\n0.537],\n [{\n            'v': 185,\n            'f': \"185\",\n        },\n{\n            'v': 186.0,\n            'f': \"186.0\",\n        },\n\"Mali\",\n0.887,\n0.613],\n [{\n            'v': 186,\n            'f': \"186\",\n        },\n{\n            'v': 187.0,\n            'f': \"187.0\",\n        },\n\"Burundi\",\n0.935,\n0.505],\n [{\n            'v': 187,\n            'f': \"187\",\n        },\n{\n            'v': 188.0,\n            'f': \"188.0\",\n        },\n\"Central African Republic\",\n0.81,\n0.672],\n [{\n            'v': 188,\n            'f': \"188\",\n        },\n{\n            'v': 189.0,\n            'f': \"189.0\",\n        },\n\"Niger\",\n0.835,\n0.611],\n [{\n            'v': 189,\n            'f': \"189\",\n        },\n{\n            'v': 190.0,\n            'f': \"190.0\",\n        },\n\"Chad\",\n0.77,\n0.652],\n [{\n            'v': 190,\n            'f': \"190\",\n        },\n{\n            'v': 191.0,\n            'f': \"191.0\",\n        },\n\"South Sudan\",\n0.843,\n0.587],\n [{\n            'v': 191,\n            'f': \"191\",\n        },\n{\n            'v': NaN,\n            'f': \"NaN\",\n        },\nNaN,\nNaN,\nNaN],\n [{\n            'v': 192,\n            'f': \"192\",\n        },\n{\n            'v': NaN,\n            'f': \"NaN\",\n        },\n\"Korea (Democratic People's Rep. of)\",\nNaN,\n\"..\"],\n [{\n            'v': 193,\n            'f': \"193\",\n        },\n{\n            'v': NaN,\n            'f': \"NaN\",\n        },\n\"Monaco\",\nNaN,\n\"..\"],\n [{\n            'v': 194,\n            'f': \"194\",\n        },\n{\n            'v': NaN,\n            'f': \"NaN\",\n        },\n\"Nauru\",\nNaN,\n\"..\"],\n [{\n            'v': 195,\n            'f': \"195\",\n        },\n{\n            'v': NaN,\n            'f': \"NaN\",\n        },\n\"Somalia\",\nNaN,\n\"..\"]],\n        columns: [[\"number\", \"index\"], [\"number\", \"HDI rank\"], [\"string\", \"Country\"], [\"string\", \"Gender Development Value\"], [\"string\", \"Gender Inequality Value\"]],\n        columnOptions: [{\"width\": \"1px\", \"className\": \"index_column\"}],\n        rowsPerPage: 25,\n        helpUrl: \"https://colab.research.google.com/notebooks/data_table.ipynb\",\n        suppressOutputScrolling: true,\n        minimumWidth: undefined,\n      });\n    "
          },
          "metadata": {},
          "execution_count": 20
        }
      ]
    },
    {
      "cell_type": "code",
      "source": [
        "pd1 = pd1.replace('..', np.nan)"
      ],
      "metadata": {
        "id": "QlQVwuuNdey0"
      },
      "execution_count": 21,
      "outputs": []
    },
    {
      "cell_type": "code",
      "source": [
        "pd1.isna().sum()"
      ],
      "metadata": {
        "id": "v20lsCPOduNW",
        "outputId": "a7f4ebf4-cb72-4efd-9a13-1cc1f04a6e93",
        "colab": {
          "base_uri": "https://localhost:8080/"
        }
      },
      "execution_count": null,
      "outputs": [
        {
          "output_type": "execute_result",
          "data": {
            "text/plain": [
              "HDI rank                     5\n",
              "Country                      1\n",
              "Gender Development Value    24\n",
              "Gender Inequality Value     26\n",
              "dtype: int64"
            ]
          },
          "metadata": {},
          "execution_count": 52
        }
      ]
    },
    {
      "cell_type": "code",
      "source": [
        "count_row = pd1.shape[0]  \n",
        "count_row"
      ],
      "metadata": {
        "id": "COb4q1RId1oK",
        "outputId": "5ebdccea-253c-4676-fbe3-d993ccbe5c2c",
        "colab": {
          "base_uri": "https://localhost:8080/"
        }
      },
      "execution_count": 22,
      "outputs": [
        {
          "output_type": "execute_result",
          "data": {
            "text/plain": [
              "196"
            ]
          },
          "metadata": {},
          "execution_count": 22
        }
      ]
    },
    {
      "cell_type": "code",
      "source": [
        "#replace null values with the mean of the variable\n",
        "pd1 = pd1.fillna(pd1.mean())"
      ],
      "metadata": {
        "id": "vcVh6IDad8SV",
        "outputId": "0939bcee-9152-40ff-c989-034daefbd965",
        "colab": {
          "base_uri": "https://localhost:8080/"
        }
      },
      "execution_count": null,
      "outputs": [
        {
          "output_type": "stream",
          "name": "stderr",
          "text": [
            "<ipython-input-54-1e1531c69794>:2: FutureWarning: Dropping of nuisance columns in DataFrame reductions (with 'numeric_only=None') is deprecated; in a future version this will raise TypeError.  Select only valid columns before calling the reduction.\n",
            "  pd1 = pd1.fillna(pd1.mean())\n"
          ]
        }
      ]
    },
    {
      "cell_type": "code",
      "source": [
        "pd1.head()"
      ],
      "metadata": {
        "id": "Vd5z-upEeEpe",
        "outputId": "f58441ca-2e76-4905-ab97-54225566e7d3",
        "colab": {
          "base_uri": "https://localhost:8080/",
          "height": 193
        }
      },
      "execution_count": null,
      "outputs": [
        {
          "output_type": "execute_result",
          "data": {
            "text/plain": [
              "   HDI rank                 Country  Gender Development Value  \\\n",
              "0       1.0             Switzerland                     0.967   \n",
              "1       2.0                  Norway                     0.983   \n",
              "2       3.0                 Iceland                     0.976   \n",
              "3       4.0  Hong Kong, China (SAR)                     0.976   \n",
              "4       5.0               Australia                     0.968   \n",
              "\n",
              "   Gender Inequality Value  \n",
              "0                 0.018000  \n",
              "1                 0.016000  \n",
              "2                 0.043000  \n",
              "3                 0.344376  \n",
              "4                 0.073000  "
            ],
            "text/html": [
              "\n",
              "  <div id=\"df-cefd5d5e-06f9-4122-b8bf-7cd3962be4f9\">\n",
              "    <div class=\"colab-df-container\">\n",
              "      <div>\n",
              "<style scoped>\n",
              "    .dataframe tbody tr th:only-of-type {\n",
              "        vertical-align: middle;\n",
              "    }\n",
              "\n",
              "    .dataframe tbody tr th {\n",
              "        vertical-align: top;\n",
              "    }\n",
              "\n",
              "    .dataframe thead th {\n",
              "        text-align: right;\n",
              "    }\n",
              "</style>\n",
              "<table border=\"1\" class=\"dataframe\">\n",
              "  <thead>\n",
              "    <tr style=\"text-align: right;\">\n",
              "      <th></th>\n",
              "      <th>HDI rank</th>\n",
              "      <th>Country</th>\n",
              "      <th>Gender Development Value</th>\n",
              "      <th>Gender Inequality Value</th>\n",
              "    </tr>\n",
              "  </thead>\n",
              "  <tbody>\n",
              "    <tr>\n",
              "      <th>0</th>\n",
              "      <td>1.0</td>\n",
              "      <td>Switzerland</td>\n",
              "      <td>0.967</td>\n",
              "      <td>0.018000</td>\n",
              "    </tr>\n",
              "    <tr>\n",
              "      <th>1</th>\n",
              "      <td>2.0</td>\n",
              "      <td>Norway</td>\n",
              "      <td>0.983</td>\n",
              "      <td>0.016000</td>\n",
              "    </tr>\n",
              "    <tr>\n",
              "      <th>2</th>\n",
              "      <td>3.0</td>\n",
              "      <td>Iceland</td>\n",
              "      <td>0.976</td>\n",
              "      <td>0.043000</td>\n",
              "    </tr>\n",
              "    <tr>\n",
              "      <th>3</th>\n",
              "      <td>4.0</td>\n",
              "      <td>Hong Kong, China (SAR)</td>\n",
              "      <td>0.976</td>\n",
              "      <td>0.344376</td>\n",
              "    </tr>\n",
              "    <tr>\n",
              "      <th>4</th>\n",
              "      <td>5.0</td>\n",
              "      <td>Australia</td>\n",
              "      <td>0.968</td>\n",
              "      <td>0.073000</td>\n",
              "    </tr>\n",
              "  </tbody>\n",
              "</table>\n",
              "</div>\n",
              "      <button class=\"colab-df-convert\" onclick=\"convertToInteractive('df-cefd5d5e-06f9-4122-b8bf-7cd3962be4f9')\"\n",
              "              title=\"Convert this dataframe to an interactive table.\"\n",
              "              style=\"display:none;\">\n",
              "        \n",
              "  <svg xmlns=\"http://www.w3.org/2000/svg\" height=\"24px\"viewBox=\"0 0 24 24\"\n",
              "       width=\"24px\">\n",
              "    <path d=\"M0 0h24v24H0V0z\" fill=\"none\"/>\n",
              "    <path d=\"M18.56 5.44l.94 2.06.94-2.06 2.06-.94-2.06-.94-.94-2.06-.94 2.06-2.06.94zm-11 1L8.5 8.5l.94-2.06 2.06-.94-2.06-.94L8.5 2.5l-.94 2.06-2.06.94zm10 10l.94 2.06.94-2.06 2.06-.94-2.06-.94-.94-2.06-.94 2.06-2.06.94z\"/><path d=\"M17.41 7.96l-1.37-1.37c-.4-.4-.92-.59-1.43-.59-.52 0-1.04.2-1.43.59L10.3 9.45l-7.72 7.72c-.78.78-.78 2.05 0 2.83L4 21.41c.39.39.9.59 1.41.59.51 0 1.02-.2 1.41-.59l7.78-7.78 2.81-2.81c.8-.78.8-2.07 0-2.86zM5.41 20L4 18.59l7.72-7.72 1.47 1.35L5.41 20z\"/>\n",
              "  </svg>\n",
              "      </button>\n",
              "      \n",
              "  <style>\n",
              "    .colab-df-container {\n",
              "      display:flex;\n",
              "      flex-wrap:wrap;\n",
              "      gap: 12px;\n",
              "    }\n",
              "\n",
              "    .colab-df-convert {\n",
              "      background-color: #E8F0FE;\n",
              "      border: none;\n",
              "      border-radius: 50%;\n",
              "      cursor: pointer;\n",
              "      display: none;\n",
              "      fill: #1967D2;\n",
              "      height: 32px;\n",
              "      padding: 0 0 0 0;\n",
              "      width: 32px;\n",
              "    }\n",
              "\n",
              "    .colab-df-convert:hover {\n",
              "      background-color: #E2EBFA;\n",
              "      box-shadow: 0px 1px 2px rgba(60, 64, 67, 0.3), 0px 1px 3px 1px rgba(60, 64, 67, 0.15);\n",
              "      fill: #174EA6;\n",
              "    }\n",
              "\n",
              "    [theme=dark] .colab-df-convert {\n",
              "      background-color: #3B4455;\n",
              "      fill: #D2E3FC;\n",
              "    }\n",
              "\n",
              "    [theme=dark] .colab-df-convert:hover {\n",
              "      background-color: #434B5C;\n",
              "      box-shadow: 0px 1px 3px 1px rgba(0, 0, 0, 0.15);\n",
              "      filter: drop-shadow(0px 1px 2px rgba(0, 0, 0, 0.3));\n",
              "      fill: #FFFFFF;\n",
              "    }\n",
              "  </style>\n",
              "\n",
              "      <script>\n",
              "        const buttonEl =\n",
              "          document.querySelector('#df-cefd5d5e-06f9-4122-b8bf-7cd3962be4f9 button.colab-df-convert');\n",
              "        buttonEl.style.display =\n",
              "          google.colab.kernel.accessAllowed ? 'block' : 'none';\n",
              "\n",
              "        async function convertToInteractive(key) {\n",
              "          const element = document.querySelector('#df-cefd5d5e-06f9-4122-b8bf-7cd3962be4f9');\n",
              "          const dataTable =\n",
              "            await google.colab.kernel.invokeFunction('convertToInteractive',\n",
              "                                                     [key], {});\n",
              "          if (!dataTable) return;\n",
              "\n",
              "          const docLinkHtml = 'Like what you see? Visit the ' +\n",
              "            '<a target=\"_blank\" href=https://colab.research.google.com/notebooks/data_table.ipynb>data table notebook</a>'\n",
              "            + ' to learn more about interactive tables.';\n",
              "          element.innerHTML = '';\n",
              "          dataTable['output_type'] = 'display_data';\n",
              "          await google.colab.output.renderOutput(dataTable, element);\n",
              "          const docLink = document.createElement('div');\n",
              "          docLink.innerHTML = docLinkHtml;\n",
              "          element.appendChild(docLink);\n",
              "        }\n",
              "      </script>\n",
              "    </div>\n",
              "  </div>\n",
              "  "
            ],
            "application/vnd.google.colaboratory.module+javascript": "\n      import \"https://ssl.gstatic.com/colaboratory/data_table/99dac6621f6ae8c4/data_table.js\";\n\n      window.createDataTable({\n        data: [[{\n            'v': 0,\n            'f': \"0\",\n        },\n{\n            'v': 1.0,\n            'f': \"1.0\",\n        },\n\"Switzerland\",\n{\n            'v': 0.967,\n            'f': \"0.967\",\n        },\n{\n            'v': 0.018,\n            'f': \"0.018\",\n        }],\n [{\n            'v': 1,\n            'f': \"1\",\n        },\n{\n            'v': 2.0,\n            'f': \"2.0\",\n        },\n\"Norway\",\n{\n            'v': 0.983,\n            'f': \"0.983\",\n        },\n{\n            'v': 0.016,\n            'f': \"0.016\",\n        }],\n [{\n            'v': 2,\n            'f': \"2\",\n        },\n{\n            'v': 3.0,\n            'f': \"3.0\",\n        },\n\"Iceland\",\n{\n            'v': 0.976,\n            'f': \"0.976\",\n        },\n{\n            'v': 0.043,\n            'f': \"0.043\",\n        }],\n [{\n            'v': 3,\n            'f': \"3\",\n        },\n{\n            'v': 4.0,\n            'f': \"4.0\",\n        },\n\"Hong Kong, China (SAR)\",\n{\n            'v': 0.976,\n            'f': \"0.976\",\n        },\n{\n            'v': 0.3443764705882353,\n            'f': \"0.3443764705882353\",\n        }],\n [{\n            'v': 4,\n            'f': \"4\",\n        },\n{\n            'v': 5.0,\n            'f': \"5.0\",\n        },\n\"Australia\",\n{\n            'v': 0.968,\n            'f': \"0.968\",\n        },\n{\n            'v': 0.073,\n            'f': \"0.073\",\n        }]],\n        columns: [[\"number\", \"index\"], [\"number\", \"HDI rank\"], [\"string\", \"Country\"], [\"number\", \"Gender Development Value\"], [\"number\", \"Gender Inequality Value\"]],\n        columnOptions: [{\"width\": \"1px\", \"className\": \"index_column\"}],\n        rowsPerPage: 25,\n        helpUrl: \"https://colab.research.google.com/notebooks/data_table.ipynb\",\n        suppressOutputScrolling: true,\n        minimumWidth: undefined,\n      });\n    "
          },
          "metadata": {},
          "execution_count": 55
        }
      ]
    },
    {
      "cell_type": "code",
      "source": [
        "pd1.describe()"
      ],
      "metadata": {
        "id": "Yg-B1jzMeMx-",
        "outputId": "3147ff14-59e5-4a69-ea68-2b6adc6dbb35",
        "colab": {
          "base_uri": "https://localhost:8080/",
          "height": 257
        }
      },
      "execution_count": null,
      "outputs": [
        {
          "output_type": "execute_result",
          "data": {
            "text/plain": [
              "         HDI rank  Gender Development Value  Gender Inequality Value\n",
              "count  196.000000                196.000000               196.000000\n",
              "mean    95.811518                  0.947285                 0.344376\n",
              "std     54.593661                  0.061717                 0.183495\n",
              "min      1.000000                  0.496000                 0.013000\n",
              "25%     49.750000                  0.927000                 0.202250\n",
              "50%     95.811518                  0.956000                 0.344376\n",
              "75%    140.750000                  0.986250                 0.483250\n",
              "max    191.000000                  1.034000                 0.820000"
            ],
            "text/html": [
              "\n",
              "  <div id=\"df-61af2bc2-aedf-4385-bd30-e9e016dea3f2\">\n",
              "    <div class=\"colab-df-container\">\n",
              "      <div>\n",
              "<style scoped>\n",
              "    .dataframe tbody tr th:only-of-type {\n",
              "        vertical-align: middle;\n",
              "    }\n",
              "\n",
              "    .dataframe tbody tr th {\n",
              "        vertical-align: top;\n",
              "    }\n",
              "\n",
              "    .dataframe thead th {\n",
              "        text-align: right;\n",
              "    }\n",
              "</style>\n",
              "<table border=\"1\" class=\"dataframe\">\n",
              "  <thead>\n",
              "    <tr style=\"text-align: right;\">\n",
              "      <th></th>\n",
              "      <th>HDI rank</th>\n",
              "      <th>Gender Development Value</th>\n",
              "      <th>Gender Inequality Value</th>\n",
              "    </tr>\n",
              "  </thead>\n",
              "  <tbody>\n",
              "    <tr>\n",
              "      <th>count</th>\n",
              "      <td>196.000000</td>\n",
              "      <td>196.000000</td>\n",
              "      <td>196.000000</td>\n",
              "    </tr>\n",
              "    <tr>\n",
              "      <th>mean</th>\n",
              "      <td>95.811518</td>\n",
              "      <td>0.947285</td>\n",
              "      <td>0.344376</td>\n",
              "    </tr>\n",
              "    <tr>\n",
              "      <th>std</th>\n",
              "      <td>54.593661</td>\n",
              "      <td>0.061717</td>\n",
              "      <td>0.183495</td>\n",
              "    </tr>\n",
              "    <tr>\n",
              "      <th>min</th>\n",
              "      <td>1.000000</td>\n",
              "      <td>0.496000</td>\n",
              "      <td>0.013000</td>\n",
              "    </tr>\n",
              "    <tr>\n",
              "      <th>25%</th>\n",
              "      <td>49.750000</td>\n",
              "      <td>0.927000</td>\n",
              "      <td>0.202250</td>\n",
              "    </tr>\n",
              "    <tr>\n",
              "      <th>50%</th>\n",
              "      <td>95.811518</td>\n",
              "      <td>0.956000</td>\n",
              "      <td>0.344376</td>\n",
              "    </tr>\n",
              "    <tr>\n",
              "      <th>75%</th>\n",
              "      <td>140.750000</td>\n",
              "      <td>0.986250</td>\n",
              "      <td>0.483250</td>\n",
              "    </tr>\n",
              "    <tr>\n",
              "      <th>max</th>\n",
              "      <td>191.000000</td>\n",
              "      <td>1.034000</td>\n",
              "      <td>0.820000</td>\n",
              "    </tr>\n",
              "  </tbody>\n",
              "</table>\n",
              "</div>\n",
              "      <button class=\"colab-df-convert\" onclick=\"convertToInteractive('df-61af2bc2-aedf-4385-bd30-e9e016dea3f2')\"\n",
              "              title=\"Convert this dataframe to an interactive table.\"\n",
              "              style=\"display:none;\">\n",
              "        \n",
              "  <svg xmlns=\"http://www.w3.org/2000/svg\" height=\"24px\"viewBox=\"0 0 24 24\"\n",
              "       width=\"24px\">\n",
              "    <path d=\"M0 0h24v24H0V0z\" fill=\"none\"/>\n",
              "    <path d=\"M18.56 5.44l.94 2.06.94-2.06 2.06-.94-2.06-.94-.94-2.06-.94 2.06-2.06.94zm-11 1L8.5 8.5l.94-2.06 2.06-.94-2.06-.94L8.5 2.5l-.94 2.06-2.06.94zm10 10l.94 2.06.94-2.06 2.06-.94-2.06-.94-.94-2.06-.94 2.06-2.06.94z\"/><path d=\"M17.41 7.96l-1.37-1.37c-.4-.4-.92-.59-1.43-.59-.52 0-1.04.2-1.43.59L10.3 9.45l-7.72 7.72c-.78.78-.78 2.05 0 2.83L4 21.41c.39.39.9.59 1.41.59.51 0 1.02-.2 1.41-.59l7.78-7.78 2.81-2.81c.8-.78.8-2.07 0-2.86zM5.41 20L4 18.59l7.72-7.72 1.47 1.35L5.41 20z\"/>\n",
              "  </svg>\n",
              "      </button>\n",
              "      \n",
              "  <style>\n",
              "    .colab-df-container {\n",
              "      display:flex;\n",
              "      flex-wrap:wrap;\n",
              "      gap: 12px;\n",
              "    }\n",
              "\n",
              "    .colab-df-convert {\n",
              "      background-color: #E8F0FE;\n",
              "      border: none;\n",
              "      border-radius: 50%;\n",
              "      cursor: pointer;\n",
              "      display: none;\n",
              "      fill: #1967D2;\n",
              "      height: 32px;\n",
              "      padding: 0 0 0 0;\n",
              "      width: 32px;\n",
              "    }\n",
              "\n",
              "    .colab-df-convert:hover {\n",
              "      background-color: #E2EBFA;\n",
              "      box-shadow: 0px 1px 2px rgba(60, 64, 67, 0.3), 0px 1px 3px 1px rgba(60, 64, 67, 0.15);\n",
              "      fill: #174EA6;\n",
              "    }\n",
              "\n",
              "    [theme=dark] .colab-df-convert {\n",
              "      background-color: #3B4455;\n",
              "      fill: #D2E3FC;\n",
              "    }\n",
              "\n",
              "    [theme=dark] .colab-df-convert:hover {\n",
              "      background-color: #434B5C;\n",
              "      box-shadow: 0px 1px 3px 1px rgba(0, 0, 0, 0.15);\n",
              "      filter: drop-shadow(0px 1px 2px rgba(0, 0, 0, 0.3));\n",
              "      fill: #FFFFFF;\n",
              "    }\n",
              "  </style>\n",
              "\n",
              "      <script>\n",
              "        const buttonEl =\n",
              "          document.querySelector('#df-61af2bc2-aedf-4385-bd30-e9e016dea3f2 button.colab-df-convert');\n",
              "        buttonEl.style.display =\n",
              "          google.colab.kernel.accessAllowed ? 'block' : 'none';\n",
              "\n",
              "        async function convertToInteractive(key) {\n",
              "          const element = document.querySelector('#df-61af2bc2-aedf-4385-bd30-e9e016dea3f2');\n",
              "          const dataTable =\n",
              "            await google.colab.kernel.invokeFunction('convertToInteractive',\n",
              "                                                     [key], {});\n",
              "          if (!dataTable) return;\n",
              "\n",
              "          const docLinkHtml = 'Like what you see? Visit the ' +\n",
              "            '<a target=\"_blank\" href=https://colab.research.google.com/notebooks/data_table.ipynb>data table notebook</a>'\n",
              "            + ' to learn more about interactive tables.';\n",
              "          element.innerHTML = '';\n",
              "          dataTable['output_type'] = 'display_data';\n",
              "          await google.colab.output.renderOutput(dataTable, element);\n",
              "          const docLink = document.createElement('div');\n",
              "          docLink.innerHTML = docLinkHtml;\n",
              "          element.appendChild(docLink);\n",
              "        }\n",
              "      </script>\n",
              "    </div>\n",
              "  </div>\n",
              "  "
            ],
            "application/vnd.google.colaboratory.module+javascript": "\n      import \"https://ssl.gstatic.com/colaboratory/data_table/99dac6621f6ae8c4/data_table.js\";\n\n      window.createDataTable({\n        data: [[\"count\",\n{\n            'v': 196.0,\n            'f': \"196.0\",\n        },\n{\n            'v': 196.0,\n            'f': \"196.0\",\n        },\n{\n            'v': 196.0,\n            'f': \"196.0\",\n        }],\n [\"mean\",\n{\n            'v': 95.81151832460735,\n            'f': \"95.81151832460735\",\n        },\n{\n            'v': 0.9472848837209302,\n            'f': \"0.9472848837209302\",\n        },\n{\n            'v': 0.34437647058823534,\n            'f': \"0.34437647058823534\",\n        }],\n [\"std\",\n{\n            'v': 54.59366050637719,\n            'f': \"54.59366050637719\",\n        },\n{\n            'v': 0.061716932003182956,\n            'f': \"0.061716932003182956\",\n        },\n{\n            'v': 0.18349504158580465,\n            'f': \"0.18349504158580465\",\n        }],\n [\"min\",\n{\n            'v': 1.0,\n            'f': \"1.0\",\n        },\n{\n            'v': 0.496,\n            'f': \"0.496\",\n        },\n{\n            'v': 0.013,\n            'f': \"0.013\",\n        }],\n [\"25%\",\n{\n            'v': 49.75,\n            'f': \"49.75\",\n        },\n{\n            'v': 0.927,\n            'f': \"0.927\",\n        },\n{\n            'v': 0.20225,\n            'f': \"0.20225\",\n        }],\n [\"50%\",\n{\n            'v': 95.81151832460733,\n            'f': \"95.81151832460733\",\n        },\n{\n            'v': 0.956,\n            'f': \"0.956\",\n        },\n{\n            'v': 0.3443764705882353,\n            'f': \"0.3443764705882353\",\n        }],\n [\"75%\",\n{\n            'v': 140.75,\n            'f': \"140.75\",\n        },\n{\n            'v': 0.98625,\n            'f': \"0.98625\",\n        },\n{\n            'v': 0.48324999999999996,\n            'f': \"0.48324999999999996\",\n        }],\n [\"max\",\n{\n            'v': 191.0,\n            'f': \"191.0\",\n        },\n{\n            'v': 1.034,\n            'f': \"1.034\",\n        },\n{\n            'v': 0.82,\n            'f': \"0.82\",\n        }]],\n        columns: [[\"string\", \"index\"], [\"number\", \"HDI rank\"], [\"number\", \"Gender Development Value\"], [\"number\", \"Gender Inequality Value\"]],\n        columnOptions: [{\"width\": \"1px\", \"className\": \"index_column\"}],\n        rowsPerPage: 25,\n        helpUrl: \"https://colab.research.google.com/notebooks/data_table.ipynb\",\n        suppressOutputScrolling: true,\n        minimumWidth: undefined,\n      });\n    "
          },
          "metadata": {},
          "execution_count": 56
        }
      ]
    },
    {
      "cell_type": "code",
      "source": [
        "pd1.dtypes"
      ],
      "metadata": {
        "id": "Tvp77zygeT2G",
        "outputId": "14fed597-662f-4656-e003-0095f362487b",
        "colab": {
          "base_uri": "https://localhost:8080/"
        }
      },
      "execution_count": 23,
      "outputs": [
        {
          "output_type": "execute_result",
          "data": {
            "text/plain": [
              "HDI rank                    float64\n",
              "Country                      object\n",
              "Gender Development Value    float64\n",
              "Gender Inequality Value     float64\n",
              "dtype: object"
            ]
          },
          "metadata": {},
          "execution_count": 23
        }
      ]
    },
    {
      "cell_type": "code",
      "source": [
        "for col in pd1.columns[1:]:\n",
        "    pd1[col] = pd1[col].apply(pd.to_numeric, errors='coerce')"
      ],
      "metadata": {
        "id": "Vie_nntIeYeF"
      },
      "execution_count": 24,
      "outputs": []
    },
    {
      "cell_type": "code",
      "source": [
        "# show median\n",
        "cols = pd1.columns.tolist()\n",
        "\n",
        "for i in cols[2:]:\n",
        "    print('the median of ',i ,'is ',pd1[i].median())"
      ],
      "metadata": {
        "id": "BdAHPPh0fKSQ",
        "outputId": "f681946a-5231-4200-8057-4c50e3e44661",
        "colab": {
          "base_uri": "https://localhost:8080/"
        }
      },
      "execution_count": 25,
      "outputs": [
        {
          "output_type": "stream",
          "name": "stdout",
          "text": [
            "the median of  Gender Development Value is  0.967\n",
            "the median of  Gender Inequality Value is  0.363\n"
          ]
        }
      ]
    },
    {
      "cell_type": "code",
      "source": [
        "sns.distplot(pd1['Gender Development Value'], hist = True, kde = True, \n",
        "             bins = int(25), color = 'b', \n",
        "             hist_kws = {'edgecolor':'black'},\n",
        "             kde_kws = {'linewidth': 2})"
      ],
      "metadata": {
        "id": "1qcehDP-fWoE",
        "outputId": "122a26b6-b272-4921-8a24-7de887db8138",
        "colab": {
          "base_uri": "https://localhost:8080/",
          "height": 685
        }
      },
      "execution_count": 26,
      "outputs": [
        {
          "output_type": "stream",
          "name": "stderr",
          "text": [
            "<ipython-input-26-caa8fc7cacc4>:1: UserWarning: \n",
            "\n",
            "`distplot` is a deprecated function and will be removed in seaborn v0.14.0.\n",
            "\n",
            "Please adapt your code to use either `displot` (a figure-level function with\n",
            "similar flexibility) or `histplot` (an axes-level function for histograms).\n",
            "\n",
            "For a guide to updating your code to use the new functions, please see\n",
            "https://gist.github.com/mwaskom/de44147ed2974457ad6372750bbe5751\n",
            "\n",
            "  sns.distplot(pd1['Gender Development Value'], hist = True, kde = True,\n"
          ]
        },
        {
          "output_type": "execute_result",
          "data": {
            "text/plain": [
              "<Axes: xlabel='Gender Development Value', ylabel='Density'>"
            ]
          },
          "metadata": {},
          "execution_count": 26
        },
        {
          "output_type": "display_data",
          "data": {
            "text/plain": [
              "<Figure size 640x480 with 1 Axes>"
            ],
            "image/png": "[encoded data removed]"
          },
          "metadata": {}
        }
      ]
    },
    {
      "cell_type": "code",
      "source": [
        "sns.distplot(pd1['Gender Inequality Value'], hist = True, kde = True, \n",
        "             bins = int(25), color = 'b', \n",
        "             hist_kws = {'edgecolor':'black'},\n",
        "             kde_kws = {'linewidth': 2})"
      ],
      "metadata": {
        "id": "PgwpZqwdfmZf",
        "outputId": "8ba04504-a398-4da7-efe8-64a9feb2aba1",
        "colab": {
          "base_uri": "https://localhost:8080/",
          "height": 676
        }
      },
      "execution_count": null,
      "outputs": [
        {
          "output_type": "stream",
          "name": "stderr",
          "text": [
            "<ipython-input-61-d16e410eff91>:1: UserWarning: \n",
            "\n",
            "`distplot` is a deprecated function and will be removed in seaborn v0.14.0.\n",
            "\n",
            "Please adapt your code to use either `displot` (a figure-level function with\n",
            "similar flexibility) or `histplot` (an axes-level function for histograms).\n",
            "\n",
            "For a guide to updating your code to use the new functions, please see\n",
            "https://gist.github.com/mwaskom/de44147ed2974457ad6372750bbe5751\n",
            "\n",
            "  sns.distplot(pd1['Gender Inequality Value'], hist = True, kde = True,\n"
          ]
        },
        {
          "output_type": "execute_result",
          "data": {
            "text/plain": [
              "<Axes: xlabel='Gender Inequality Value', ylabel='Density'>"
            ]
          },
          "metadata": {},
          "execution_count": 61
        },
        {
          "output_type": "display_data",
          "data": {
            "text/plain": [
              "<Figure size 640x480 with 1 Axes>"
            ],
            "image/png": "[encoded data removed]"
          },
          "metadata": {}
        }
      ]
    },
    {
      "cell_type": "code",
      "source": [
        "sns.set()\n",
        "cols = ['HDI rank',\n",
        "        'Gender Development Value',\n",
        "        'Gender Inequality Value']\n",
        "sns.pairplot(pd1[cols], height = 2.5)\n",
        "plt.show();"
      ],
      "metadata": {
        "id": "pHTUIXcBggEm",
        "outputId": "26e96e35-2a40-4041-8643-7dd54d44ea83",
        "colab": {
          "base_uri": "https://localhost:8080/",
          "height": 607
        }
      },
      "execution_count": null,
      "outputs": [
        {
          "output_type": "display_data",
          "data": {
            "text/plain": [
              "<Figure size 600x600 with 12 Axes>"
            ],
            "image/png": "[encoded data removed]"
          },
          "metadata": {}
        }
      ]
    },
    {
      "cell_type": "markdown",
      "source": [
        "It shows that countries with a higher rank in HDI have lower gender inequality value scores, which means these countries have a better condition in gender equality. And countries with a higher rank in HDI also have higher scores in gender development value. The hypothesis has been proved."
      ],
      "metadata": {
        "id": "pjLlw4RMxJqs"
      }
    },
    {
      "cell_type": "code",
      "source": [
        "corrmat = pd1.corr()\n",
        "f, ax = plt.subplots(figsize = (20, 20))\n",
        "sns.heatmap(corrmat, cmap = \"RdBu\", square = True, annot = True, center = 0);"
      ],
      "metadata": {
        "id": "mFBCG6C2pFV7",
        "outputId": "b867861f-a9fd-4f7c-aafc-5578badfb636",
        "colab": {
          "base_uri": "https://localhost:8080/",
          "height": 1000
        }
      },
      "execution_count": null,
      "outputs": [
        {
          "output_type": "display_data",
          "data": {
            "text/plain": [
              "<Figure size 1600x1600 with 2 Axes>"
            ],
            "image/png": "[encoded data removed]"
          },
          "metadata": {}
        }
      ]
    }
  ]
}