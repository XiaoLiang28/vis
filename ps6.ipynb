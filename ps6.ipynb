{
  "nbformat": 4,
  "nbformat_minor": 0,
  "metadata": {
    "colab": {
      "provenance": [],
      "authorship_tag": "ABX9TyOEdNqaiFZslSz9IET7Sqe9",
      "include_colab_link": true
    },
    "kernelspec": {
      "name": "python3",
      "display_name": "Python 3"
    },
    "language_info": {
      "name": "python"
    }
  },
  "cells": [
    {
      "cell_type": "markdown",
      "metadata": {
        "id": "view-in-github",
        "colab_type": "text"
      },
      "source": [
        "<a href=\"https://colab.research.google.com/github/XiaoLiang28/Xiao/blob/main/ps6.ipynb\" target=\"_parent\"><img src=\"https://colab.research.google.com/assets/colab-badge.svg\" alt=\"Open In Colab\"/></a>"
      ]
    },
    {
      "cell_type": "code",
      "execution_count": 18,
      "metadata": {
        "id": "6hAOpJopDiIK"
      },
      "outputs": [],
      "source": [
        "#---------------------------SETUP----------------------------------\n",
        "#get useful libraries\n",
        "import time, os, sys, re #basics\n",
        "import zipfile, json, datetime, string   #string for annotating points in scatter \n",
        "import numpy as np #basic math\n",
        "from statistics import * #stats\n",
        "\n",
        "import matplotlib.pyplot as plt #import pylab as plt #apparently discouraged now: \n",
        " #https://stackoverflow.com/questions/11469336/what-is-the-difference-between-pylab-and-pyplot\n",
        " #https://www.tutorialspoint.com/matplotlib/matplotlib_pylab_module.htm\n",
        "\n",
        "import pandas as pd\n",
        "import pandas_datareader as pdr\n",
        "from pandas_datareader import wb\n",
        "from pandas.io.formats.style import Styler\n",
        "#s4 = Styler(df4, uuid_len=0, cell_ids=False)\n",
        "\n",
        "import urllib  #weird, guess need to have os and pandas imported for this to work  %TODO/LATER ditch it, its weird anyway, just use wget/curl                                                 \n",
        "\n",
        "from google.colab import files\n",
        "\n",
        "#import webbrowser                                                                                                           \n",
        "\n",
        "import seaborn as sns\n",
        "\n",
        "from google.colab import data_table\n",
        "data_table.enable_dataframe_formatter() #this enables spreadsheet view upon calling dataframe (without() )\n",
        "\n",
        "#many tricks how to extend notebook functionality\n",
        "#https://coderzcolumn.com/tutorials/python/list-of-useful-magic-commands-in-jupyter-notebook-lab\n",
        "#will display all output not just last command\n",
        "from IPython.core.interactiveshell import InteractiveShell\n",
        "InteractiveShell.ast_node_interactivity = \"all\"\n",
        "\n",
        "#MAGICS and THEMES/STYLES: important! does affect not just shading/colors, but also fonts, spacing, etc\n",
        "#(even if you only select default (v not selecting anything) [but does seem to work better if you do make explicit sleections]) \n",
        "\n",
        "###magics: https://ipython.readthedocs.io/en/stable/interactive/magics.html\n",
        "#most essential setup for vis: it does affect vis! careful!! stick with inline, maybe notebook; others mostly for non-notebook, eg spyder environ\n",
        "#https://jakevdp.github.io/PythonDataScienceHandbook/04.00-introduction-to-matplotlib.html recomends *inline*!\n",
        "#show current one:\n",
        "#%matplotlib \n",
        "#%matplotlib --list \n",
        "#interactive plots:\n",
        "#%matplotlib notebook  \n",
        "#static images of your plot:\n",
        "%matplotlib inline \n",
        "#may play with this one and other magics (btw default is probably agg)\n",
        "#%matplotlib nbagg\n",
        "\n",
        "###themes/styles: https://matplotlib.org/stable/gallery/style_sheets/style_sheets_reference.html\n",
        "#https://jakevdp.github.io/PythonDataScienceHandbook/04.11-settings-and-stylesheets.html\n",
        "#https://matplotlib.org/stable/tutorials/introductory/customizing.html\n",
        "#here more about art and style than under the hood functionality as with magics, explore and experiment\n",
        "#many may find 'default' or seaborn ones more pleasing; my fav 'classic' is back from 90s ;) \n",
        "#plt.style.available #list available styles :) may install more\n",
        "#plt.style.use('default') # more delicate subtle than classic\n",
        "plt.style.use('classic')  #  'seaborn-whitegrid' 'seaborn-white' 'seaborn-poster'\n",
        "# btw: magics v theme/style sequence matters, eg if i specify classic style before inline magic, i wouldnt get grey bounding box im getting"
      ]
    },
    {
      "cell_type": "code",
      "source": [
        "gd=pd.read_excel(\"https://github.com/XiaoLiang28/Xiao/blob/main/Gender%20Development%20Index.xlsx?raw=true\")"
      ],
      "metadata": {
        "id": "n_WtYY8iEC_M"
      },
      "execution_count": 19,
      "outputs": []
    },
    {
      "cell_type": "code",
      "source": [
        "gd"
      ],
      "metadata": {
        "colab": {
          "base_uri": "https://localhost:8080/",
          "height": 679
        },
        "id": "xlg0EJFFEtKl",
        "outputId": "4bdbe8d0-84cb-4fc4-ed6c-3aaf745fd0e3"
      },
      "execution_count": 20,
      "outputs": [
        {
          "output_type": "stream",
          "name": "stdout",
          "text": [
            "Warning: Total number of columns (25) exceeds max_columns (20). Falling back to pandas display.\n"
          ]
        },
        {
          "output_type": "execute_result",
          "data": {
            "text/plain": [
              "    Unnamed: 0                Unnamed: 1                Unnamed: 2  \\\n",
              "0          NaN                       NaN                       NaN   \n",
              "1          NaN                       NaN                       NaN   \n",
              "2          NaN                       NaN  Gender Development Index   \n",
              "3          NaN                       NaN                       NaN   \n",
              "4     HDI rank                   Country                     Value   \n",
              "..         ...                       ...                       ...   \n",
              "192        187                   Burundi                     0.935   \n",
              "193        188  Central African Republic                      0.81   \n",
              "194        189                     Niger                     0.835   \n",
              "195        190                      Chad                      0.77   \n",
              "196        191               South Sudan                     0.843   \n",
              "\n",
              "     Unnamed: 3 Unnamed: 4  Unnamed: 5               Unnamed: 6  Unnamed: 7  \\\n",
              "0           NaN        NaN         NaN                      NaN         NaN   \n",
              "1           NaN        NaN         NaN                      NaN         NaN   \n",
              "2           NaN        NaN         NaN  Human Development Index         NaN   \n",
              "3           NaN        NaN         NaN                    Value         NaN   \n",
              "4           NaN      Group         NaN                   Female         NaN   \n",
              "..          ...        ...         ...                      ...         ...   \n",
              "192         NaN          3         NaN                 0.412236         NaN   \n",
              "193         NaN          5         NaN                 0.359111         NaN   \n",
              "194         NaN          5         NaN                 0.364315         NaN   \n",
              "195         NaN          5         NaN                 0.339312         NaN   \n",
              "196         NaN          5         NaN                 0.348199         NaN   \n",
              "\n",
              "    Unnamed: 8  Unnamed: 9  ... Unnamed: 15  Unnamed: 16 Unnamed: 17  \\\n",
              "0          NaN         NaN  ...         NaN          NaN         NaN   \n",
              "1          NaN         NaN  ...         NaN          NaN         NaN   \n",
              "2          NaN         NaN  ...         NaN          NaN         NaN   \n",
              "3          NaN         NaN  ...         NaN          NaN         NaN   \n",
              "4         Male         NaN  ...         NaN         Male         NaN   \n",
              "..         ...         ...  ...         ...          ...         ...   \n",
              "192   0.440935         NaN  ...         NaN    10.535239         NaN   \n",
              "193   0.443254         NaN  ...         NaN     9.393839         NaN   \n",
              "194   0.436371         NaN  ...         NaN     7.638221         NaN   \n",
              "195   0.440889         NaN  ...         NaN     9.464517         NaN   \n",
              "196   0.413259         NaN  ...         NaN      6.61495         NaN   \n",
              "\n",
              "                 Unnamed: 18 Unnamed: 19  Unnamed: 20 Unnamed: 21  \\\n",
              "0                     SDG4.4         NaN          NaN         NaN   \n",
              "1                        NaN         NaN          NaN         NaN   \n",
              "2    Mean years of schooling         NaN          NaN         NaN   \n",
              "3                    (years)         NaN          NaN         NaN   \n",
              "4                     Female         NaN         Male         NaN   \n",
              "..                       ...         ...          ...         ...   \n",
              "192                 2.491789         NaN     3.851801         NaN   \n",
              "193                    3.108         NaN        5.594         NaN   \n",
              "194                 1.708292         NaN     2.789488         NaN   \n",
              "195                 1.489174         NaN     3.681625         NaN   \n",
              "196                  4.76217         NaN      6.18948         NaN   \n",
              "\n",
              "                                     Unnamed: 22 Unnamed: 23  Unnamed: 24  \n",
              "0                                         SDG8.5         NaN          NaN  \n",
              "1                                            NaN         NaN          NaN  \n",
              "2    Estimated  gross national income per capita         NaN          NaN  \n",
              "3                                   (2017 PPP $)         NaN          NaN  \n",
              "4                                         Female         NaN         Male  \n",
              "..                                           ...         ...          ...  \n",
              "192                                   667.520768         NaN   796.956456  \n",
              "193                                   769.842841         NaN  1162.317208  \n",
              "194                                   936.484843         NaN  1534.591089  \n",
              "195                                   965.151078         NaN    1760.0728  \n",
              "196                                   664.423768         NaN   873.230937  \n",
              "\n",
              "[197 rows x 25 columns]"
            ],
            "text/html": [
              "\n",
              "  <div id=\"df-d107f811-3ea0-4495-91c6-7109179cbf36\">\n",
              "    <div class=\"colab-df-container\">\n",
              "      <div>\n",
              "<style scoped>\n",
              "    .dataframe tbody tr th:only-of-type {\n",
              "        vertical-align: middle;\n",
              "    }\n",
              "\n",
              "    .dataframe tbody tr th {\n",
              "        vertical-align: top;\n",
              "    }\n",
              "\n",
              "    .dataframe thead th {\n",
              "        text-align: right;\n",
              "    }\n",
              "</style>\n",
              "<table border=\"1\" class=\"dataframe\">\n",
              "  <thead>\n",
              "    <tr style=\"text-align: right;\">\n",
              "      <th></th>\n",
              "      <th>Unnamed: 0</th>\n",
              "      <th>Unnamed: 1</th>\n",
              "      <th>Unnamed: 2</th>\n",
              "      <th>Unnamed: 3</th>\n",
              "      <th>Unnamed: 4</th>\n",
              "      <th>Unnamed: 5</th>\n",
              "      <th>Unnamed: 6</th>\n",
              "      <th>Unnamed: 7</th>\n",
              "      <th>Unnamed: 8</th>\n",
              "      <th>Unnamed: 9</th>\n",
              "      <th>...</th>\n",
              "      <th>Unnamed: 15</th>\n",
              "      <th>Unnamed: 16</th>\n",
              "      <th>Unnamed: 17</th>\n",
              "      <th>Unnamed: 18</th>\n",
              "      <th>Unnamed: 19</th>\n",
              "      <th>Unnamed: 20</th>\n",
              "      <th>Unnamed: 21</th>\n",
              "      <th>Unnamed: 22</th>\n",
              "      <th>Unnamed: 23</th>\n",
              "      <th>Unnamed: 24</th>\n",
              "    </tr>\n",
              "  </thead>\n",
              "  <tbody>\n",
              "    <tr>\n",
              "      <th>0</th>\n",
              "      <td>NaN</td>\n",
              "      <td>NaN</td>\n",
              "      <td>NaN</td>\n",
              "      <td>NaN</td>\n",
              "      <td>NaN</td>\n",
              "      <td>NaN</td>\n",
              "      <td>NaN</td>\n",
              "      <td>NaN</td>\n",
              "      <td>NaN</td>\n",
              "      <td>NaN</td>\n",
              "      <td>...</td>\n",
              "      <td>NaN</td>\n",
              "      <td>NaN</td>\n",
              "      <td>NaN</td>\n",
              "      <td>SDG4.4</td>\n",
              "      <td>NaN</td>\n",
              "      <td>NaN</td>\n",
              "      <td>NaN</td>\n",
              "      <td>SDG8.5</td>\n",
              "      <td>NaN</td>\n",
              "      <td>NaN</td>\n",
              "    </tr>\n",
              "    <tr>\n",
              "      <th>1</th>\n",
              "      <td>NaN</td>\n",
              "      <td>NaN</td>\n",
              "      <td>NaN</td>\n",
              "      <td>NaN</td>\n",
              "      <td>NaN</td>\n",
              "      <td>NaN</td>\n",
              "      <td>NaN</td>\n",
              "      <td>NaN</td>\n",
              "      <td>NaN</td>\n",
              "      <td>NaN</td>\n",
              "      <td>...</td>\n",
              "      <td>NaN</td>\n",
              "      <td>NaN</td>\n",
              "      <td>NaN</td>\n",
              "      <td>NaN</td>\n",
              "      <td>NaN</td>\n",
              "      <td>NaN</td>\n",
              "      <td>NaN</td>\n",
              "      <td>NaN</td>\n",
              "      <td>NaN</td>\n",
              "      <td>NaN</td>\n",
              "    </tr>\n",
              "    <tr>\n",
              "      <th>2</th>\n",
              "      <td>NaN</td>\n",
              "      <td>NaN</td>\n",
              "      <td>Gender Development Index</td>\n",
              "      <td>NaN</td>\n",
              "      <td>NaN</td>\n",
              "      <td>NaN</td>\n",
              "      <td>Human Development Index</td>\n",
              "      <td>NaN</td>\n",
              "      <td>NaN</td>\n",
              "      <td>NaN</td>\n",
              "      <td>...</td>\n",
              "      <td>NaN</td>\n",
              "      <td>NaN</td>\n",
              "      <td>NaN</td>\n",
              "      <td>Mean years of schooling</td>\n",
              "      <td>NaN</td>\n",
              "      <td>NaN</td>\n",
              "      <td>NaN</td>\n",
              "      <td>Estimated  gross national income per capita</td>\n",
              "      <td>NaN</td>\n",
              "      <td>NaN</td>\n",
              "    </tr>\n",
              "    <tr>\n",
              "      <th>3</th>\n",
              "      <td>NaN</td>\n",
              "      <td>NaN</td>\n",
              "      <td>NaN</td>\n",
              "      <td>NaN</td>\n",
              "      <td>NaN</td>\n",
              "      <td>NaN</td>\n",
              "      <td>Value</td>\n",
              "      <td>NaN</td>\n",
              "      <td>NaN</td>\n",
              "      <td>NaN</td>\n",
              "      <td>...</td>\n",
              "      <td>NaN</td>\n",
              "      <td>NaN</td>\n",
              "      <td>NaN</td>\n",
              "      <td>(years)</td>\n",
              "      <td>NaN</td>\n",
              "      <td>NaN</td>\n",
              "      <td>NaN</td>\n",
              "      <td>(2017 PPP $)</td>\n",
              "      <td>NaN</td>\n",
              "      <td>NaN</td>\n",
              "    </tr>\n",
              "    <tr>\n",
              "      <th>4</th>\n",
              "      <td>HDI rank</td>\n",
              "      <td>Country</td>\n",
              "      <td>Value</td>\n",
              "      <td>NaN</td>\n",
              "      <td>Group</td>\n",
              "      <td>NaN</td>\n",
              "      <td>Female</td>\n",
              "      <td>NaN</td>\n",
              "      <td>Male</td>\n",
              "      <td>NaN</td>\n",
              "      <td>...</td>\n",
              "      <td>NaN</td>\n",
              "      <td>Male</td>\n",
              "      <td>NaN</td>\n",
              "      <td>Female</td>\n",
              "      <td>NaN</td>\n",
              "      <td>Male</td>\n",
              "      <td>NaN</td>\n",
              "      <td>Female</td>\n",
              "      <td>NaN</td>\n",
              "      <td>Male</td>\n",
              "    </tr>\n",
              "    <tr>\n",
              "      <th>...</th>\n",
              "      <td>...</td>\n",
              "      <td>...</td>\n",
              "      <td>...</td>\n",
              "      <td>...</td>\n",
              "      <td>...</td>\n",
              "      <td>...</td>\n",
              "      <td>...</td>\n",
              "      <td>...</td>\n",
              "      <td>...</td>\n",
              "      <td>...</td>\n",
              "      <td>...</td>\n",
              "      <td>...</td>\n",
              "      <td>...</td>\n",
              "      <td>...</td>\n",
              "      <td>...</td>\n",
              "      <td>...</td>\n",
              "      <td>...</td>\n",
              "      <td>...</td>\n",
              "      <td>...</td>\n",
              "      <td>...</td>\n",
              "      <td>...</td>\n",
              "    </tr>\n",
              "    <tr>\n",
              "      <th>192</th>\n",
              "      <td>187</td>\n",
              "      <td>Burundi</td>\n",
              "      <td>0.935</td>\n",
              "      <td>NaN</td>\n",
              "      <td>3</td>\n",
              "      <td>NaN</td>\n",
              "      <td>0.412236</td>\n",
              "      <td>NaN</td>\n",
              "      <td>0.440935</td>\n",
              "      <td>NaN</td>\n",
              "      <td>...</td>\n",
              "      <td>NaN</td>\n",
              "      <td>10.535239</td>\n",
              "      <td>NaN</td>\n",
              "      <td>2.491789</td>\n",
              "      <td>NaN</td>\n",
              "      <td>3.851801</td>\n",
              "      <td>NaN</td>\n",
              "      <td>667.520768</td>\n",
              "      <td>NaN</td>\n",
              "      <td>796.956456</td>\n",
              "    </tr>\n",
              "    <tr>\n",
              "      <th>193</th>\n",
              "      <td>188</td>\n",
              "      <td>Central African Republic</td>\n",
              "      <td>0.81</td>\n",
              "      <td>NaN</td>\n",
              "      <td>5</td>\n",
              "      <td>NaN</td>\n",
              "      <td>0.359111</td>\n",
              "      <td>NaN</td>\n",
              "      <td>0.443254</td>\n",
              "      <td>NaN</td>\n",
              "      <td>...</td>\n",
              "      <td>NaN</td>\n",
              "      <td>9.393839</td>\n",
              "      <td>NaN</td>\n",
              "      <td>3.108</td>\n",
              "      <td>NaN</td>\n",
              "      <td>5.594</td>\n",
              "      <td>NaN</td>\n",
              "      <td>769.842841</td>\n",
              "      <td>NaN</td>\n",
              "      <td>1162.317208</td>\n",
              "    </tr>\n",
              "    <tr>\n",
              "      <th>194</th>\n",
              "      <td>189</td>\n",
              "      <td>Niger</td>\n",
              "      <td>0.835</td>\n",
              "      <td>NaN</td>\n",
              "      <td>5</td>\n",
              "      <td>NaN</td>\n",
              "      <td>0.364315</td>\n",
              "      <td>NaN</td>\n",
              "      <td>0.436371</td>\n",
              "      <td>NaN</td>\n",
              "      <td>...</td>\n",
              "      <td>NaN</td>\n",
              "      <td>7.638221</td>\n",
              "      <td>NaN</td>\n",
              "      <td>1.708292</td>\n",
              "      <td>NaN</td>\n",
              "      <td>2.789488</td>\n",
              "      <td>NaN</td>\n",
              "      <td>936.484843</td>\n",
              "      <td>NaN</td>\n",
              "      <td>1534.591089</td>\n",
              "    </tr>\n",
              "    <tr>\n",
              "      <th>195</th>\n",
              "      <td>190</td>\n",
              "      <td>Chad</td>\n",
              "      <td>0.77</td>\n",
              "      <td>NaN</td>\n",
              "      <td>5</td>\n",
              "      <td>NaN</td>\n",
              "      <td>0.339312</td>\n",
              "      <td>NaN</td>\n",
              "      <td>0.440889</td>\n",
              "      <td>NaN</td>\n",
              "      <td>...</td>\n",
              "      <td>NaN</td>\n",
              "      <td>9.464517</td>\n",
              "      <td>NaN</td>\n",
              "      <td>1.489174</td>\n",
              "      <td>NaN</td>\n",
              "      <td>3.681625</td>\n",
              "      <td>NaN</td>\n",
              "      <td>965.151078</td>\n",
              "      <td>NaN</td>\n",
              "      <td>1760.0728</td>\n",
              "    </tr>\n",
              "    <tr>\n",
              "      <th>196</th>\n",
              "      <td>191</td>\n",
              "      <td>South Sudan</td>\n",
              "      <td>0.843</td>\n",
              "      <td>NaN</td>\n",
              "      <td>5</td>\n",
              "      <td>NaN</td>\n",
              "      <td>0.348199</td>\n",
              "      <td>NaN</td>\n",
              "      <td>0.413259</td>\n",
              "      <td>NaN</td>\n",
              "      <td>...</td>\n",
              "      <td>NaN</td>\n",
              "      <td>6.61495</td>\n",
              "      <td>NaN</td>\n",
              "      <td>4.76217</td>\n",
              "      <td>NaN</td>\n",
              "      <td>6.18948</td>\n",
              "      <td>NaN</td>\n",
              "      <td>664.423768</td>\n",
              "      <td>NaN</td>\n",
              "      <td>873.230937</td>\n",
              "    </tr>\n",
              "  </tbody>\n",
              "</table>\n",
              "<p>197 rows × 25 columns</p>\n",
              "</div>\n",
              "      <button class=\"colab-df-convert\" onclick=\"convertToInteractive('df-d107f811-3ea0-4495-91c6-7109179cbf36')\"\n",
              "              title=\"Convert this dataframe to an interactive table.\"\n",
              "              style=\"display:none;\">\n",
              "        \n",
              "  <svg xmlns=\"http://www.w3.org/2000/svg\" height=\"24px\"viewBox=\"0 0 24 24\"\n",
              "       width=\"24px\">\n",
              "    <path d=\"M0 0h24v24H0V0z\" fill=\"none\"/>\n",
              "    <path d=\"M18.56 5.44l.94 2.06.94-2.06 2.06-.94-2.06-.94-.94-2.06-.94 2.06-2.06.94zm-11 1L8.5 8.5l.94-2.06 2.06-.94-2.06-.94L8.5 2.5l-.94 2.06-2.06.94zm10 10l.94 2.06.94-2.06 2.06-.94-2.06-.94-.94-2.06-.94 2.06-2.06.94z\"/><path d=\"M17.41 7.96l-1.37-1.37c-.4-.4-.92-.59-1.43-.59-.52 0-1.04.2-1.43.59L10.3 9.45l-7.72 7.72c-.78.78-.78 2.05 0 2.83L4 21.41c.39.39.9.59 1.41.59.51 0 1.02-.2 1.41-.59l7.78-7.78 2.81-2.81c.8-.78.8-2.07 0-2.86zM5.41 20L4 18.59l7.72-7.72 1.47 1.35L5.41 20z\"/>\n",
              "  </svg>\n",
              "      </button>\n",
              "      \n",
              "  <style>\n",
              "    .colab-df-container {\n",
              "      display:flex;\n",
              "      flex-wrap:wrap;\n",
              "      gap: 12px;\n",
              "    }\n",
              "\n",
              "    .colab-df-convert {\n",
              "      background-color: #E8F0FE;\n",
              "      border: none;\n",
              "      border-radius: 50%;\n",
              "      cursor: pointer;\n",
              "      display: none;\n",
              "      fill: #1967D2;\n",
              "      height: 32px;\n",
              "      padding: 0 0 0 0;\n",
              "      width: 32px;\n",
              "    }\n",
              "\n",
              "    .colab-df-convert:hover {\n",
              "      background-color: #E2EBFA;\n",
              "      box-shadow: 0px 1px 2px rgba(60, 64, 67, 0.3), 0px 1px 3px 1px rgba(60, 64, 67, 0.15);\n",
              "      fill: #174EA6;\n",
              "    }\n",
              "\n",
              "    [theme=dark] .colab-df-convert {\n",
              "      background-color: #3B4455;\n",
              "      fill: #D2E3FC;\n",
              "    }\n",
              "\n",
              "    [theme=dark] .colab-df-convert:hover {\n",
              "      background-color: #434B5C;\n",
              "      box-shadow: 0px 1px 3px 1px rgba(0, 0, 0, 0.15);\n",
              "      filter: drop-shadow(0px 1px 2px rgba(0, 0, 0, 0.3));\n",
              "      fill: #FFFFFF;\n",
              "    }\n",
              "  </style>\n",
              "\n",
              "      <script>\n",
              "        const buttonEl =\n",
              "          document.querySelector('#df-d107f811-3ea0-4495-91c6-7109179cbf36 button.colab-df-convert');\n",
              "        buttonEl.style.display =\n",
              "          google.colab.kernel.accessAllowed ? 'block' : 'none';\n",
              "\n",
              "        async function convertToInteractive(key) {\n",
              "          const element = document.querySelector('#df-d107f811-3ea0-4495-91c6-7109179cbf36');\n",
              "          const dataTable =\n",
              "            await google.colab.kernel.invokeFunction('convertToInteractive',\n",
              "                                                     [key], {});\n",
              "          if (!dataTable) return;\n",
              "\n",
              "          const docLinkHtml = 'Like what you see? Visit the ' +\n",
              "            '<a target=\"_blank\" href=https://colab.research.google.com/notebooks/data_table.ipynb>data table notebook</a>'\n",
              "            + ' to learn more about interactive tables.';\n",
              "          element.innerHTML = '';\n",
              "          dataTable['output_type'] = 'display_data';\n",
              "          await google.colab.output.renderOutput(dataTable, element);\n",
              "          const docLink = document.createElement('div');\n",
              "          docLink.innerHTML = docLinkHtml;\n",
              "          element.appendChild(docLink);\n",
              "        }\n",
              "      </script>\n",
              "    </div>\n",
              "  </div>\n",
              "  "
            ]
          },
          "metadata": {},
          "execution_count": 20
        }
      ]
    },
    {
      "cell_type": "code",
      "source": [
        "gd=gd[6:197]"
      ],
      "metadata": {
        "id": "xSaTN9o8FV9j"
      },
      "execution_count": 27,
      "outputs": []
    },
    {
      "cell_type": "code",
      "source": [
        "gd"
      ],
      "metadata": {
        "colab": {
          "base_uri": "https://localhost:8080/",
          "height": 627
        },
        "id": "2zmbF2j2FyA_",
        "outputId": "da0ac222-330b-487a-a83f-c8c0747b566c"
      },
      "execution_count": 28,
      "outputs": [
        {
          "output_type": "stream",
          "name": "stdout",
          "text": [
            "Warning: Total number of columns (25) exceeds max_columns (20). Falling back to pandas display.\n"
          ]
        },
        {
          "output_type": "execute_result",
          "data": {
            "text/plain": [
              "    Unnamed: 0                Unnamed: 1 Unnamed: 2  Unnamed: 3 Unnamed: 4  \\\n",
              "6            1               Switzerland      0.967         NaN          2   \n",
              "7            2                    Norway      0.983         NaN          1   \n",
              "8            3                   Iceland      0.976         NaN          1   \n",
              "9            4    Hong Kong, China (SAR)      0.976         NaN          1   \n",
              "10           5                 Australia      0.968         NaN          2   \n",
              "..         ...                       ...        ...         ...        ...   \n",
              "192        187                   Burundi      0.935         NaN          3   \n",
              "193        188  Central African Republic       0.81         NaN          5   \n",
              "194        189                     Niger      0.835         NaN          5   \n",
              "195        190                      Chad       0.77         NaN          5   \n",
              "196        191               South Sudan      0.843         NaN          5   \n",
              "\n",
              "     Unnamed: 5 Unnamed: 6  Unnamed: 7 Unnamed: 8  Unnamed: 9  ...  \\\n",
              "6           NaN   0.943709         NaN   0.975611         NaN  ...   \n",
              "7           NaN     0.9499         NaN   0.966061         NaN  ...   \n",
              "8           NaN   0.946936         NaN   0.970604         NaN  ...   \n",
              "9           NaN   0.941078         NaN   0.964311         NaN  ...   \n",
              "10          NaN   0.931672         NaN   0.962956         NaN  ...   \n",
              "..          ...        ...         ...        ...         ...  ...   \n",
              "192         NaN   0.412236         NaN   0.440935         NaN  ...   \n",
              "193         NaN   0.359111         NaN   0.443254         NaN  ...   \n",
              "194         NaN   0.364315         NaN   0.436371         NaN  ...   \n",
              "195         NaN   0.339312         NaN   0.440889         NaN  ...   \n",
              "196         NaN   0.348199         NaN   0.413259         NaN  ...   \n",
              "\n",
              "    Unnamed: 15  Unnamed: 16 Unnamed: 17  Unnamed: 18 Unnamed: 19  \\\n",
              "6           NaN    16.593439         NaN     13.48301         NaN   \n",
              "7           NaN     17.52533         NaN     13.13508         NaN   \n",
              "8           NaN    18.090469         NaN     13.86953         NaN   \n",
              "9           NaN    17.033239         NaN      11.8457         NaN   \n",
              "10          NaN     20.30188         NaN     12.81059         NaN   \n",
              "..          ...          ...         ...          ...         ...   \n",
              "192         NaN    10.535239         NaN     2.491789         NaN   \n",
              "193         NaN     9.393839         NaN        3.108         NaN   \n",
              "194         NaN     7.638221         NaN     1.708292         NaN   \n",
              "195         NaN     9.464517         NaN     1.489174         NaN   \n",
              "196         NaN      6.61495         NaN      4.76217         NaN   \n",
              "\n",
              "     Unnamed: 20 Unnamed: 21   Unnamed: 22 Unnamed: 23   Unnamed: 24  \n",
              "6       14.24829         NaN  54596.873938         NaN   79450.51016  \n",
              "7       12.87032         NaN  54699.445557         NaN  74444.990916  \n",
              "8       13.67178         NaN  47135.914239         NaN  64004.128579  \n",
              "9       12.70688         NaN  51735.256517         NaN  75306.957306  \n",
              "10      12.63971         NaN    37485.5883         NaN  61160.790107  \n",
              "..           ...         ...           ...         ...           ...  \n",
              "192     3.851801         NaN    667.520768         NaN    796.956456  \n",
              "193        5.594         NaN    769.842841         NaN   1162.317208  \n",
              "194     2.789488         NaN    936.484843         NaN   1534.591089  \n",
              "195     3.681625         NaN    965.151078         NaN     1760.0728  \n",
              "196      6.18948         NaN    664.423768         NaN    873.230937  \n",
              "\n",
              "[191 rows x 25 columns]"
            ],
            "text/html": [
              "\n",
              "  <div id=\"df-42223d3c-508e-461c-8cf3-e3dbba0874d2\">\n",
              "    <div class=\"colab-df-container\">\n",
              "      <div>\n",
              "<style scoped>\n",
              "    .dataframe tbody tr th:only-of-type {\n",
              "        vertical-align: middle;\n",
              "    }\n",
              "\n",
              "    .dataframe tbody tr th {\n",
              "        vertical-align: top;\n",
              "    }\n",
              "\n",
              "    .dataframe thead th {\n",
              "        text-align: right;\n",
              "    }\n",
              "</style>\n",
              "<table border=\"1\" class=\"dataframe\">\n",
              "  <thead>\n",
              "    <tr style=\"text-align: right;\">\n",
              "      <th></th>\n",
              "      <th>Unnamed: 0</th>\n",
              "      <th>Unnamed: 1</th>\n",
              "      <th>Unnamed: 2</th>\n",
              "      <th>Unnamed: 3</th>\n",
              "      <th>Unnamed: 4</th>\n",
              "      <th>Unnamed: 5</th>\n",
              "      <th>Unnamed: 6</th>\n",
              "      <th>Unnamed: 7</th>\n",
              "      <th>Unnamed: 8</th>\n",
              "      <th>Unnamed: 9</th>\n",
              "      <th>...</th>\n",
              "      <th>Unnamed: 15</th>\n",
              "      <th>Unnamed: 16</th>\n",
              "      <th>Unnamed: 17</th>\n",
              "      <th>Unnamed: 18</th>\n",
              "      <th>Unnamed: 19</th>\n",
              "      <th>Unnamed: 20</th>\n",
              "      <th>Unnamed: 21</th>\n",
              "      <th>Unnamed: 22</th>\n",
              "      <th>Unnamed: 23</th>\n",
              "      <th>Unnamed: 24</th>\n",
              "    </tr>\n",
              "  </thead>\n",
              "  <tbody>\n",
              "    <tr>\n",
              "      <th>6</th>\n",
              "      <td>1</td>\n",
              "      <td>Switzerland</td>\n",
              "      <td>0.967</td>\n",
              "      <td>NaN</td>\n",
              "      <td>2</td>\n",
              "      <td>NaN</td>\n",
              "      <td>0.943709</td>\n",
              "      <td>NaN</td>\n",
              "      <td>0.975611</td>\n",
              "      <td>NaN</td>\n",
              "      <td>...</td>\n",
              "      <td>NaN</td>\n",
              "      <td>16.593439</td>\n",
              "      <td>NaN</td>\n",
              "      <td>13.48301</td>\n",
              "      <td>NaN</td>\n",
              "      <td>14.24829</td>\n",
              "      <td>NaN</td>\n",
              "      <td>54596.873938</td>\n",
              "      <td>NaN</td>\n",
              "      <td>79450.51016</td>\n",
              "    </tr>\n",
              "    <tr>\n",
              "      <th>7</th>\n",
              "      <td>2</td>\n",
              "      <td>Norway</td>\n",
              "      <td>0.983</td>\n",
              "      <td>NaN</td>\n",
              "      <td>1</td>\n",
              "      <td>NaN</td>\n",
              "      <td>0.9499</td>\n",
              "      <td>NaN</td>\n",
              "      <td>0.966061</td>\n",
              "      <td>NaN</td>\n",
              "      <td>...</td>\n",
              "      <td>NaN</td>\n",
              "      <td>17.52533</td>\n",
              "      <td>NaN</td>\n",
              "      <td>13.13508</td>\n",
              "      <td>NaN</td>\n",
              "      <td>12.87032</td>\n",
              "      <td>NaN</td>\n",
              "      <td>54699.445557</td>\n",
              "      <td>NaN</td>\n",
              "      <td>74444.990916</td>\n",
              "    </tr>\n",
              "    <tr>\n",
              "      <th>8</th>\n",
              "      <td>3</td>\n",
              "      <td>Iceland</td>\n",
              "      <td>0.976</td>\n",
              "      <td>NaN</td>\n",
              "      <td>1</td>\n",
              "      <td>NaN</td>\n",
              "      <td>0.946936</td>\n",
              "      <td>NaN</td>\n",
              "      <td>0.970604</td>\n",
              "      <td>NaN</td>\n",
              "      <td>...</td>\n",
              "      <td>NaN</td>\n",
              "      <td>18.090469</td>\n",
              "      <td>NaN</td>\n",
              "      <td>13.86953</td>\n",
              "      <td>NaN</td>\n",
              "      <td>13.67178</td>\n",
              "      <td>NaN</td>\n",
              "      <td>47135.914239</td>\n",
              "      <td>NaN</td>\n",
              "      <td>64004.128579</td>\n",
              "    </tr>\n",
              "    <tr>\n",
              "      <th>9</th>\n",
              "      <td>4</td>\n",
              "      <td>Hong Kong, China (SAR)</td>\n",
              "      <td>0.976</td>\n",
              "      <td>NaN</td>\n",
              "      <td>1</td>\n",
              "      <td>NaN</td>\n",
              "      <td>0.941078</td>\n",
              "      <td>NaN</td>\n",
              "      <td>0.964311</td>\n",
              "      <td>NaN</td>\n",
              "      <td>...</td>\n",
              "      <td>NaN</td>\n",
              "      <td>17.033239</td>\n",
              "      <td>NaN</td>\n",
              "      <td>11.8457</td>\n",
              "      <td>NaN</td>\n",
              "      <td>12.70688</td>\n",
              "      <td>NaN</td>\n",
              "      <td>51735.256517</td>\n",
              "      <td>NaN</td>\n",
              "      <td>75306.957306</td>\n",
              "    </tr>\n",
              "    <tr>\n",
              "      <th>10</th>\n",
              "      <td>5</td>\n",
              "      <td>Australia</td>\n",
              "      <td>0.968</td>\n",
              "      <td>NaN</td>\n",
              "      <td>2</td>\n",
              "      <td>NaN</td>\n",
              "      <td>0.931672</td>\n",
              "      <td>NaN</td>\n",
              "      <td>0.962956</td>\n",
              "      <td>NaN</td>\n",
              "      <td>...</td>\n",
              "      <td>NaN</td>\n",
              "      <td>20.30188</td>\n",
              "      <td>NaN</td>\n",
              "      <td>12.81059</td>\n",
              "      <td>NaN</td>\n",
              "      <td>12.63971</td>\n",
              "      <td>NaN</td>\n",
              "      <td>37485.5883</td>\n",
              "      <td>NaN</td>\n",
              "      <td>61160.790107</td>\n",
              "    </tr>\n",
              "    <tr>\n",
              "      <th>...</th>\n",
              "      <td>...</td>\n",
              "      <td>...</td>\n",
              "      <td>...</td>\n",
              "      <td>...</td>\n",
              "      <td>...</td>\n",
              "      <td>...</td>\n",
              "      <td>...</td>\n",
              "      <td>...</td>\n",
              "      <td>...</td>\n",
              "      <td>...</td>\n",
              "      <td>...</td>\n",
              "      <td>...</td>\n",
              "      <td>...</td>\n",
              "      <td>...</td>\n",
              "      <td>...</td>\n",
              "      <td>...</td>\n",
              "      <td>...</td>\n",
              "      <td>...</td>\n",
              "      <td>...</td>\n",
              "      <td>...</td>\n",
              "      <td>...</td>\n",
              "    </tr>\n",
              "    <tr>\n",
              "      <th>192</th>\n",
              "      <td>187</td>\n",
              "      <td>Burundi</td>\n",
              "      <td>0.935</td>\n",
              "      <td>NaN</td>\n",
              "      <td>3</td>\n",
              "      <td>NaN</td>\n",
              "      <td>0.412236</td>\n",
              "      <td>NaN</td>\n",
              "      <td>0.440935</td>\n",
              "      <td>NaN</td>\n",
              "      <td>...</td>\n",
              "      <td>NaN</td>\n",
              "      <td>10.535239</td>\n",
              "      <td>NaN</td>\n",
              "      <td>2.491789</td>\n",
              "      <td>NaN</td>\n",
              "      <td>3.851801</td>\n",
              "      <td>NaN</td>\n",
              "      <td>667.520768</td>\n",
              "      <td>NaN</td>\n",
              "      <td>796.956456</td>\n",
              "    </tr>\n",
              "    <tr>\n",
              "      <th>193</th>\n",
              "      <td>188</td>\n",
              "      <td>Central African Republic</td>\n",
              "      <td>0.81</td>\n",
              "      <td>NaN</td>\n",
              "      <td>5</td>\n",
              "      <td>NaN</td>\n",
              "      <td>0.359111</td>\n",
              "      <td>NaN</td>\n",
              "      <td>0.443254</td>\n",
              "      <td>NaN</td>\n",
              "      <td>...</td>\n",
              "      <td>NaN</td>\n",
              "      <td>9.393839</td>\n",
              "      <td>NaN</td>\n",
              "      <td>3.108</td>\n",
              "      <td>NaN</td>\n",
              "      <td>5.594</td>\n",
              "      <td>NaN</td>\n",
              "      <td>769.842841</td>\n",
              "      <td>NaN</td>\n",
              "      <td>1162.317208</td>\n",
              "    </tr>\n",
              "    <tr>\n",
              "      <th>194</th>\n",
              "      <td>189</td>\n",
              "      <td>Niger</td>\n",
              "      <td>0.835</td>\n",
              "      <td>NaN</td>\n",
              "      <td>5</td>\n",
              "      <td>NaN</td>\n",
              "      <td>0.364315</td>\n",
              "      <td>NaN</td>\n",
              "      <td>0.436371</td>\n",
              "      <td>NaN</td>\n",
              "      <td>...</td>\n",
              "      <td>NaN</td>\n",
              "      <td>7.638221</td>\n",
              "      <td>NaN</td>\n",
              "      <td>1.708292</td>\n",
              "      <td>NaN</td>\n",
              "      <td>2.789488</td>\n",
              "      <td>NaN</td>\n",
              "      <td>936.484843</td>\n",
              "      <td>NaN</td>\n",
              "      <td>1534.591089</td>\n",
              "    </tr>\n",
              "    <tr>\n",
              "      <th>195</th>\n",
              "      <td>190</td>\n",
              "      <td>Chad</td>\n",
              "      <td>0.77</td>\n",
              "      <td>NaN</td>\n",
              "      <td>5</td>\n",
              "      <td>NaN</td>\n",
              "      <td>0.339312</td>\n",
              "      <td>NaN</td>\n",
              "      <td>0.440889</td>\n",
              "      <td>NaN</td>\n",
              "      <td>...</td>\n",
              "      <td>NaN</td>\n",
              "      <td>9.464517</td>\n",
              "      <td>NaN</td>\n",
              "      <td>1.489174</td>\n",
              "      <td>NaN</td>\n",
              "      <td>3.681625</td>\n",
              "      <td>NaN</td>\n",
              "      <td>965.151078</td>\n",
              "      <td>NaN</td>\n",
              "      <td>1760.0728</td>\n",
              "    </tr>\n",
              "    <tr>\n",
              "      <th>196</th>\n",
              "      <td>191</td>\n",
              "      <td>South Sudan</td>\n",
              "      <td>0.843</td>\n",
              "      <td>NaN</td>\n",
              "      <td>5</td>\n",
              "      <td>NaN</td>\n",
              "      <td>0.348199</td>\n",
              "      <td>NaN</td>\n",
              "      <td>0.413259</td>\n",
              "      <td>NaN</td>\n",
              "      <td>...</td>\n",
              "      <td>NaN</td>\n",
              "      <td>6.61495</td>\n",
              "      <td>NaN</td>\n",
              "      <td>4.76217</td>\n",
              "      <td>NaN</td>\n",
              "      <td>6.18948</td>\n",
              "      <td>NaN</td>\n",
              "      <td>664.423768</td>\n",
              "      <td>NaN</td>\n",
              "      <td>873.230937</td>\n",
              "    </tr>\n",
              "  </tbody>\n",
              "</table>\n",
              "<p>191 rows × 25 columns</p>\n",
              "</div>\n",
              "      <button class=\"colab-df-convert\" onclick=\"convertToInteractive('df-42223d3c-508e-461c-8cf3-e3dbba0874d2')\"\n",
              "              title=\"Convert this dataframe to an interactive table.\"\n",
              "              style=\"display:none;\">\n",
              "        \n",
              "  <svg xmlns=\"http://www.w3.org/2000/svg\" height=\"24px\"viewBox=\"0 0 24 24\"\n",
              "       width=\"24px\">\n",
              "    <path d=\"M0 0h24v24H0V0z\" fill=\"none\"/>\n",
              "    <path d=\"M18.56 5.44l.94 2.06.94-2.06 2.06-.94-2.06-.94-.94-2.06-.94 2.06-2.06.94zm-11 1L8.5 8.5l.94-2.06 2.06-.94-2.06-.94L8.5 2.5l-.94 2.06-2.06.94zm10 10l.94 2.06.94-2.06 2.06-.94-2.06-.94-.94-2.06-.94 2.06-2.06.94z\"/><path d=\"M17.41 7.96l-1.37-1.37c-.4-.4-.92-.59-1.43-.59-.52 0-1.04.2-1.43.59L10.3 9.45l-7.72 7.72c-.78.78-.78 2.05 0 2.83L4 21.41c.39.39.9.59 1.41.59.51 0 1.02-.2 1.41-.59l7.78-7.78 2.81-2.81c.8-.78.8-2.07 0-2.86zM5.41 20L4 18.59l7.72-7.72 1.47 1.35L5.41 20z\"/>\n",
              "  </svg>\n",
              "      </button>\n",
              "      \n",
              "  <style>\n",
              "    .colab-df-container {\n",
              "      display:flex;\n",
              "      flex-wrap:wrap;\n",
              "      gap: 12px;\n",
              "    }\n",
              "\n",
              "    .colab-df-convert {\n",
              "      background-color: #E8F0FE;\n",
              "      border: none;\n",
              "      border-radius: 50%;\n",
              "      cursor: pointer;\n",
              "      display: none;\n",
              "      fill: #1967D2;\n",
              "      height: 32px;\n",
              "      padding: 0 0 0 0;\n",
              "      width: 32px;\n",
              "    }\n",
              "\n",
              "    .colab-df-convert:hover {\n",
              "      background-color: #E2EBFA;\n",
              "      box-shadow: 0px 1px 2px rgba(60, 64, 67, 0.3), 0px 1px 3px 1px rgba(60, 64, 67, 0.15);\n",
              "      fill: #174EA6;\n",
              "    }\n",
              "\n",
              "    [theme=dark] .colab-df-convert {\n",
              "      background-color: #3B4455;\n",
              "      fill: #D2E3FC;\n",
              "    }\n",
              "\n",
              "    [theme=dark] .colab-df-convert:hover {\n",
              "      background-color: #434B5C;\n",
              "      box-shadow: 0px 1px 3px 1px rgba(0, 0, 0, 0.15);\n",
              "      filter: drop-shadow(0px 1px 2px rgba(0, 0, 0, 0.3));\n",
              "      fill: #FFFFFF;\n",
              "    }\n",
              "  </style>\n",
              "\n",
              "      <script>\n",
              "        const buttonEl =\n",
              "          document.querySelector('#df-42223d3c-508e-461c-8cf3-e3dbba0874d2 button.colab-df-convert');\n",
              "        buttonEl.style.display =\n",
              "          google.colab.kernel.accessAllowed ? 'block' : 'none';\n",
              "\n",
              "        async function convertToInteractive(key) {\n",
              "          const element = document.querySelector('#df-42223d3c-508e-461c-8cf3-e3dbba0874d2');\n",
              "          const dataTable =\n",
              "            await google.colab.kernel.invokeFunction('convertToInteractive',\n",
              "                                                     [key], {});\n",
              "          if (!dataTable) return;\n",
              "\n",
              "          const docLinkHtml = 'Like what you see? Visit the ' +\n",
              "            '<a target=\"_blank\" href=https://colab.research.google.com/notebooks/data_table.ipynb>data table notebook</a>'\n",
              "            + ' to learn more about interactive tables.';\n",
              "          element.innerHTML = '';\n",
              "          dataTable['output_type'] = 'display_data';\n",
              "          await google.colab.output.renderOutput(dataTable, element);\n",
              "          const docLink = document.createElement('div');\n",
              "          docLink.innerHTML = docLinkHtml;\n",
              "          element.appendChild(docLink);\n",
              "        }\n",
              "      </script>\n",
              "    </div>\n",
              "  </div>\n",
              "  "
            ]
          },
          "metadata": {},
          "execution_count": 28
        }
      ]
    },
    {
      "cell_type": "code",
      "source": [
        "gd1 = gd.copy()"
      ],
      "metadata": {
        "id": "XGpj2thxWu5o"
      },
      "execution_count": 34,
      "outputs": []
    },
    {
      "cell_type": "code",
      "source": [
        "gd1"
      ],
      "metadata": {
        "colab": {
          "base_uri": "https://localhost:8080/",
          "height": 627
        },
        "id": "ls6PtvjCEyLy",
        "outputId": "d1cf9238-70e4-43c6-86ee-dde61c061deb"
      },
      "execution_count": 35,
      "outputs": [
        {
          "output_type": "stream",
          "name": "stdout",
          "text": [
            "Warning: Total number of columns (25) exceeds max_columns (20). Falling back to pandas display.\n"
          ]
        },
        {
          "output_type": "execute_result",
          "data": {
            "text/plain": [
              "    Unnamed: 0                Unnamed: 1 Unnamed: 2  Unnamed: 3 Unnamed: 4  \\\n",
              "6            1               Switzerland      0.967         NaN          2   \n",
              "7            2                    Norway      0.983         NaN          1   \n",
              "8            3                   Iceland      0.976         NaN          1   \n",
              "9            4    Hong Kong, China (SAR)      0.976         NaN          1   \n",
              "10           5                 Australia      0.968         NaN          2   \n",
              "..         ...                       ...        ...         ...        ...   \n",
              "192        187                   Burundi      0.935         NaN          3   \n",
              "193        188  Central African Republic       0.81         NaN          5   \n",
              "194        189                     Niger      0.835         NaN          5   \n",
              "195        190                      Chad       0.77         NaN          5   \n",
              "196        191               South Sudan      0.843         NaN          5   \n",
              "\n",
              "     Unnamed: 5 Unnamed: 6  Unnamed: 7 Unnamed: 8  Unnamed: 9  ...  \\\n",
              "6           NaN   0.943709         NaN   0.975611         NaN  ...   \n",
              "7           NaN     0.9499         NaN   0.966061         NaN  ...   \n",
              "8           NaN   0.946936         NaN   0.970604         NaN  ...   \n",
              "9           NaN   0.941078         NaN   0.964311         NaN  ...   \n",
              "10          NaN   0.931672         NaN   0.962956         NaN  ...   \n",
              "..          ...        ...         ...        ...         ...  ...   \n",
              "192         NaN   0.412236         NaN   0.440935         NaN  ...   \n",
              "193         NaN   0.359111         NaN   0.443254         NaN  ...   \n",
              "194         NaN   0.364315         NaN   0.436371         NaN  ...   \n",
              "195         NaN   0.339312         NaN   0.440889         NaN  ...   \n",
              "196         NaN   0.348199         NaN   0.413259         NaN  ...   \n",
              "\n",
              "    Unnamed: 15  Unnamed: 16 Unnamed: 17  Unnamed: 18 Unnamed: 19  \\\n",
              "6           NaN    16.593439         NaN     13.48301         NaN   \n",
              "7           NaN     17.52533         NaN     13.13508         NaN   \n",
              "8           NaN    18.090469         NaN     13.86953         NaN   \n",
              "9           NaN    17.033239         NaN      11.8457         NaN   \n",
              "10          NaN     20.30188         NaN     12.81059         NaN   \n",
              "..          ...          ...         ...          ...         ...   \n",
              "192         NaN    10.535239         NaN     2.491789         NaN   \n",
              "193         NaN     9.393839         NaN        3.108         NaN   \n",
              "194         NaN     7.638221         NaN     1.708292         NaN   \n",
              "195         NaN     9.464517         NaN     1.489174         NaN   \n",
              "196         NaN      6.61495         NaN      4.76217         NaN   \n",
              "\n",
              "     Unnamed: 20 Unnamed: 21   Unnamed: 22 Unnamed: 23   Unnamed: 24  \n",
              "6       14.24829         NaN  54596.873938         NaN   79450.51016  \n",
              "7       12.87032         NaN  54699.445557         NaN  74444.990916  \n",
              "8       13.67178         NaN  47135.914239         NaN  64004.128579  \n",
              "9       12.70688         NaN  51735.256517         NaN  75306.957306  \n",
              "10      12.63971         NaN    37485.5883         NaN  61160.790107  \n",
              "..           ...         ...           ...         ...           ...  \n",
              "192     3.851801         NaN    667.520768         NaN    796.956456  \n",
              "193        5.594         NaN    769.842841         NaN   1162.317208  \n",
              "194     2.789488         NaN    936.484843         NaN   1534.591089  \n",
              "195     3.681625         NaN    965.151078         NaN     1760.0728  \n",
              "196      6.18948         NaN    664.423768         NaN    873.230937  \n",
              "\n",
              "[191 rows x 25 columns]"
            ],
            "text/html": [
              "\n",
              "  <div id=\"df-a4c40743-76a0-4e94-90c2-55eadddb27d1\">\n",
              "    <div class=\"colab-df-container\">\n",
              "      <div>\n",
              "<style scoped>\n",
              "    .dataframe tbody tr th:only-of-type {\n",
              "        vertical-align: middle;\n",
              "    }\n",
              "\n",
              "    .dataframe tbody tr th {\n",
              "        vertical-align: top;\n",
              "    }\n",
              "\n",
              "    .dataframe thead th {\n",
              "        text-align: right;\n",
              "    }\n",
              "</style>\n",
              "<table border=\"1\" class=\"dataframe\">\n",
              "  <thead>\n",
              "    <tr style=\"text-align: right;\">\n",
              "      <th></th>\n",
              "      <th>Unnamed: 0</th>\n",
              "      <th>Unnamed: 1</th>\n",
              "      <th>Unnamed: 2</th>\n",
              "      <th>Unnamed: 3</th>\n",
              "      <th>Unnamed: 4</th>\n",
              "      <th>Unnamed: 5</th>\n",
              "      <th>Unnamed: 6</th>\n",
              "      <th>Unnamed: 7</th>\n",
              "      <th>Unnamed: 8</th>\n",
              "      <th>Unnamed: 9</th>\n",
              "      <th>...</th>\n",
              "      <th>Unnamed: 15</th>\n",
              "      <th>Unnamed: 16</th>\n",
              "      <th>Unnamed: 17</th>\n",
              "      <th>Unnamed: 18</th>\n",
              "      <th>Unnamed: 19</th>\n",
              "      <th>Unnamed: 20</th>\n",
              "      <th>Unnamed: 21</th>\n",
              "      <th>Unnamed: 22</th>\n",
              "      <th>Unnamed: 23</th>\n",
              "      <th>Unnamed: 24</th>\n",
              "    </tr>\n",
              "  </thead>\n",
              "  <tbody>\n",
              "    <tr>\n",
              "      <th>6</th>\n",
              "      <td>1</td>\n",
              "      <td>Switzerland</td>\n",
              "      <td>0.967</td>\n",
              "      <td>NaN</td>\n",
              "      <td>2</td>\n",
              "      <td>NaN</td>\n",
              "      <td>0.943709</td>\n",
              "      <td>NaN</td>\n",
              "      <td>0.975611</td>\n",
              "      <td>NaN</td>\n",
              "      <td>...</td>\n",
              "      <td>NaN</td>\n",
              "      <td>16.593439</td>\n",
              "      <td>NaN</td>\n",
              "      <td>13.48301</td>\n",
              "      <td>NaN</td>\n",
              "      <td>14.24829</td>\n",
              "      <td>NaN</td>\n",
              "      <td>54596.873938</td>\n",
              "      <td>NaN</td>\n",
              "      <td>79450.51016</td>\n",
              "    </tr>\n",
              "    <tr>\n",
              "      <th>7</th>\n",
              "      <td>2</td>\n",
              "      <td>Norway</td>\n",
              "      <td>0.983</td>\n",
              "      <td>NaN</td>\n",
              "      <td>1</td>\n",
              "      <td>NaN</td>\n",
              "      <td>0.9499</td>\n",
              "      <td>NaN</td>\n",
              "      <td>0.966061</td>\n",
              "      <td>NaN</td>\n",
              "      <td>...</td>\n",
              "      <td>NaN</td>\n",
              "      <td>17.52533</td>\n",
              "      <td>NaN</td>\n",
              "      <td>13.13508</td>\n",
              "      <td>NaN</td>\n",
              "      <td>12.87032</td>\n",
              "      <td>NaN</td>\n",
              "      <td>54699.445557</td>\n",
              "      <td>NaN</td>\n",
              "      <td>74444.990916</td>\n",
              "    </tr>\n",
              "    <tr>\n",
              "      <th>8</th>\n",
              "      <td>3</td>\n",
              "      <td>Iceland</td>\n",
              "      <td>0.976</td>\n",
              "      <td>NaN</td>\n",
              "      <td>1</td>\n",
              "      <td>NaN</td>\n",
              "      <td>0.946936</td>\n",
              "      <td>NaN</td>\n",
              "      <td>0.970604</td>\n",
              "      <td>NaN</td>\n",
              "      <td>...</td>\n",
              "      <td>NaN</td>\n",
              "      <td>18.090469</td>\n",
              "      <td>NaN</td>\n",
              "      <td>13.86953</td>\n",
              "      <td>NaN</td>\n",
              "      <td>13.67178</td>\n",
              "      <td>NaN</td>\n",
              "      <td>47135.914239</td>\n",
              "      <td>NaN</td>\n",
              "      <td>64004.128579</td>\n",
              "    </tr>\n",
              "    <tr>\n",
              "      <th>9</th>\n",
              "      <td>4</td>\n",
              "      <td>Hong Kong, China (SAR)</td>\n",
              "      <td>0.976</td>\n",
              "      <td>NaN</td>\n",
              "      <td>1</td>\n",
              "      <td>NaN</td>\n",
              "      <td>0.941078</td>\n",
              "      <td>NaN</td>\n",
              "      <td>0.964311</td>\n",
              "      <td>NaN</td>\n",
              "      <td>...</td>\n",
              "      <td>NaN</td>\n",
              "      <td>17.033239</td>\n",
              "      <td>NaN</td>\n",
              "      <td>11.8457</td>\n",
              "      <td>NaN</td>\n",
              "      <td>12.70688</td>\n",
              "      <td>NaN</td>\n",
              "      <td>51735.256517</td>\n",
              "      <td>NaN</td>\n",
              "      <td>75306.957306</td>\n",
              "    </tr>\n",
              "    <tr>\n",
              "      <th>10</th>\n",
              "      <td>5</td>\n",
              "      <td>Australia</td>\n",
              "      <td>0.968</td>\n",
              "      <td>NaN</td>\n",
              "      <td>2</td>\n",
              "      <td>NaN</td>\n",
              "      <td>0.931672</td>\n",
              "      <td>NaN</td>\n",
              "      <td>0.962956</td>\n",
              "      <td>NaN</td>\n",
              "      <td>...</td>\n",
              "      <td>NaN</td>\n",
              "      <td>20.30188</td>\n",
              "      <td>NaN</td>\n",
              "      <td>12.81059</td>\n",
              "      <td>NaN</td>\n",
              "      <td>12.63971</td>\n",
              "      <td>NaN</td>\n",
              "      <td>37485.5883</td>\n",
              "      <td>NaN</td>\n",
              "      <td>61160.790107</td>\n",
              "    </tr>\n",
              "    <tr>\n",
              "      <th>...</th>\n",
              "      <td>...</td>\n",
              "      <td>...</td>\n",
              "      <td>...</td>\n",
              "      <td>...</td>\n",
              "      <td>...</td>\n",
              "      <td>...</td>\n",
              "      <td>...</td>\n",
              "      <td>...</td>\n",
              "      <td>...</td>\n",
              "      <td>...</td>\n",
              "      <td>...</td>\n",
              "      <td>...</td>\n",
              "      <td>...</td>\n",
              "      <td>...</td>\n",
              "      <td>...</td>\n",
              "      <td>...</td>\n",
              "      <td>...</td>\n",
              "      <td>...</td>\n",
              "      <td>...</td>\n",
              "      <td>...</td>\n",
              "      <td>...</td>\n",
              "    </tr>\n",
              "    <tr>\n",
              "      <th>192</th>\n",
              "      <td>187</td>\n",
              "      <td>Burundi</td>\n",
              "      <td>0.935</td>\n",
              "      <td>NaN</td>\n",
              "      <td>3</td>\n",
              "      <td>NaN</td>\n",
              "      <td>0.412236</td>\n",
              "      <td>NaN</td>\n",
              "      <td>0.440935</td>\n",
              "      <td>NaN</td>\n",
              "      <td>...</td>\n",
              "      <td>NaN</td>\n",
              "      <td>10.535239</td>\n",
              "      <td>NaN</td>\n",
              "      <td>2.491789</td>\n",
              "      <td>NaN</td>\n",
              "      <td>3.851801</td>\n",
              "      <td>NaN</td>\n",
              "      <td>667.520768</td>\n",
              "      <td>NaN</td>\n",
              "      <td>796.956456</td>\n",
              "    </tr>\n",
              "    <tr>\n",
              "      <th>193</th>\n",
              "      <td>188</td>\n",
              "      <td>Central African Republic</td>\n",
              "      <td>0.81</td>\n",
              "      <td>NaN</td>\n",
              "      <td>5</td>\n",
              "      <td>NaN</td>\n",
              "      <td>0.359111</td>\n",
              "      <td>NaN</td>\n",
              "      <td>0.443254</td>\n",
              "      <td>NaN</td>\n",
              "      <td>...</td>\n",
              "      <td>NaN</td>\n",
              "      <td>9.393839</td>\n",
              "      <td>NaN</td>\n",
              "      <td>3.108</td>\n",
              "      <td>NaN</td>\n",
              "      <td>5.594</td>\n",
              "      <td>NaN</td>\n",
              "      <td>769.842841</td>\n",
              "      <td>NaN</td>\n",
              "      <td>1162.317208</td>\n",
              "    </tr>\n",
              "    <tr>\n",
              "      <th>194</th>\n",
              "      <td>189</td>\n",
              "      <td>Niger</td>\n",
              "      <td>0.835</td>\n",
              "      <td>NaN</td>\n",
              "      <td>5</td>\n",
              "      <td>NaN</td>\n",
              "      <td>0.364315</td>\n",
              "      <td>NaN</td>\n",
              "      <td>0.436371</td>\n",
              "      <td>NaN</td>\n",
              "      <td>...</td>\n",
              "      <td>NaN</td>\n",
              "      <td>7.638221</td>\n",
              "      <td>NaN</td>\n",
              "      <td>1.708292</td>\n",
              "      <td>NaN</td>\n",
              "      <td>2.789488</td>\n",
              "      <td>NaN</td>\n",
              "      <td>936.484843</td>\n",
              "      <td>NaN</td>\n",
              "      <td>1534.591089</td>\n",
              "    </tr>\n",
              "    <tr>\n",
              "      <th>195</th>\n",
              "      <td>190</td>\n",
              "      <td>Chad</td>\n",
              "      <td>0.77</td>\n",
              "      <td>NaN</td>\n",
              "      <td>5</td>\n",
              "      <td>NaN</td>\n",
              "      <td>0.339312</td>\n",
              "      <td>NaN</td>\n",
              "      <td>0.440889</td>\n",
              "      <td>NaN</td>\n",
              "      <td>...</td>\n",
              "      <td>NaN</td>\n",
              "      <td>9.464517</td>\n",
              "      <td>NaN</td>\n",
              "      <td>1.489174</td>\n",
              "      <td>NaN</td>\n",
              "      <td>3.681625</td>\n",
              "      <td>NaN</td>\n",
              "      <td>965.151078</td>\n",
              "      <td>NaN</td>\n",
              "      <td>1760.0728</td>\n",
              "    </tr>\n",
              "    <tr>\n",
              "      <th>196</th>\n",
              "      <td>191</td>\n",
              "      <td>South Sudan</td>\n",
              "      <td>0.843</td>\n",
              "      <td>NaN</td>\n",
              "      <td>5</td>\n",
              "      <td>NaN</td>\n",
              "      <td>0.348199</td>\n",
              "      <td>NaN</td>\n",
              "      <td>0.413259</td>\n",
              "      <td>NaN</td>\n",
              "      <td>...</td>\n",
              "      <td>NaN</td>\n",
              "      <td>6.61495</td>\n",
              "      <td>NaN</td>\n",
              "      <td>4.76217</td>\n",
              "      <td>NaN</td>\n",
              "      <td>6.18948</td>\n",
              "      <td>NaN</td>\n",
              "      <td>664.423768</td>\n",
              "      <td>NaN</td>\n",
              "      <td>873.230937</td>\n",
              "    </tr>\n",
              "  </tbody>\n",
              "</table>\n",
              "<p>191 rows × 25 columns</p>\n",
              "</div>\n",
              "      <button class=\"colab-df-convert\" onclick=\"convertToInteractive('df-a4c40743-76a0-4e94-90c2-55eadddb27d1')\"\n",
              "              title=\"Convert this dataframe to an interactive table.\"\n",
              "              style=\"display:none;\">\n",
              "        \n",
              "  <svg xmlns=\"http://www.w3.org/2000/svg\" height=\"24px\"viewBox=\"0 0 24 24\"\n",
              "       width=\"24px\">\n",
              "    <path d=\"M0 0h24v24H0V0z\" fill=\"none\"/>\n",
              "    <path d=\"M18.56 5.44l.94 2.06.94-2.06 2.06-.94-2.06-.94-.94-2.06-.94 2.06-2.06.94zm-11 1L8.5 8.5l.94-2.06 2.06-.94-2.06-.94L8.5 2.5l-.94 2.06-2.06.94zm10 10l.94 2.06.94-2.06 2.06-.94-2.06-.94-.94-2.06-.94 2.06-2.06.94z\"/><path d=\"M17.41 7.96l-1.37-1.37c-.4-.4-.92-.59-1.43-.59-.52 0-1.04.2-1.43.59L10.3 9.45l-7.72 7.72c-.78.78-.78 2.05 0 2.83L4 21.41c.39.39.9.59 1.41.59.51 0 1.02-.2 1.41-.59l7.78-7.78 2.81-2.81c.8-.78.8-2.07 0-2.86zM5.41 20L4 18.59l7.72-7.72 1.47 1.35L5.41 20z\"/>\n",
              "  </svg>\n",
              "      </button>\n",
              "      \n",
              "  <style>\n",
              "    .colab-df-container {\n",
              "      display:flex;\n",
              "      flex-wrap:wrap;\n",
              "      gap: 12px;\n",
              "    }\n",
              "\n",
              "    .colab-df-convert {\n",
              "      background-color: #E8F0FE;\n",
              "      border: none;\n",
              "      border-radius: 50%;\n",
              "      cursor: pointer;\n",
              "      display: none;\n",
              "      fill: #1967D2;\n",
              "      height: 32px;\n",
              "      padding: 0 0 0 0;\n",
              "      width: 32px;\n",
              "    }\n",
              "\n",
              "    .colab-df-convert:hover {\n",
              "      background-color: #E2EBFA;\n",
              "      box-shadow: 0px 1px 2px rgba(60, 64, 67, 0.3), 0px 1px 3px 1px rgba(60, 64, 67, 0.15);\n",
              "      fill: #174EA6;\n",
              "    }\n",
              "\n",
              "    [theme=dark] .colab-df-convert {\n",
              "      background-color: #3B4455;\n",
              "      fill: #D2E3FC;\n",
              "    }\n",
              "\n",
              "    [theme=dark] .colab-df-convert:hover {\n",
              "      background-color: #434B5C;\n",
              "      box-shadow: 0px 1px 3px 1px rgba(0, 0, 0, 0.15);\n",
              "      filter: drop-shadow(0px 1px 2px rgba(0, 0, 0, 0.3));\n",
              "      fill: #FFFFFF;\n",
              "    }\n",
              "  </style>\n",
              "\n",
              "      <script>\n",
              "        const buttonEl =\n",
              "          document.querySelector('#df-a4c40743-76a0-4e94-90c2-55eadddb27d1 button.colab-df-convert');\n",
              "        buttonEl.style.display =\n",
              "          google.colab.kernel.accessAllowed ? 'block' : 'none';\n",
              "\n",
              "        async function convertToInteractive(key) {\n",
              "          const element = document.querySelector('#df-a4c40743-76a0-4e94-90c2-55eadddb27d1');\n",
              "          const dataTable =\n",
              "            await google.colab.kernel.invokeFunction('convertToInteractive',\n",
              "                                                     [key], {});\n",
              "          if (!dataTable) return;\n",
              "\n",
              "          const docLinkHtml = 'Like what you see? Visit the ' +\n",
              "            '<a target=\"_blank\" href=https://colab.research.google.com/notebooks/data_table.ipynb>data table notebook</a>'\n",
              "            + ' to learn more about interactive tables.';\n",
              "          element.innerHTML = '';\n",
              "          dataTable['output_type'] = 'display_data';\n",
              "          await google.colab.output.renderOutput(dataTable, element);\n",
              "          const docLink = document.createElement('div');\n",
              "          docLink.innerHTML = docLinkHtml;\n",
              "          element.appendChild(docLink);\n",
              "        }\n",
              "      </script>\n",
              "    </div>\n",
              "  </div>\n",
              "  "
            ]
          },
          "metadata": {},
          "execution_count": 35
        }
      ]
    },
    {
      "cell_type": "code",
      "source": [
        "gd1.rename(columns={'Unnamed:0':'rank'},inplace=True)\n",
        "gd1.rename(columns={'Unnamed:1':'country'},inplace=True)\n",
        "gd1.rename(columns={'Unnamed:2':'Gender Development Index'},inplace=True)\n",
        "gd1.rename(columns={'Unnamed:6':'HDI Female'},inplace=True)\n",
        "gd1.rename(columns={'Unnamed:8':'HDI Male'},inplace=True)\n",
        "gd1.rename(columns={'Unnamed:10':'Life expectancy at birth female'},inplace=True)\n",
        "gd1.rename(columns={'Unnamed:12':'Life expectancy at birth male'},inplace=True)\n",
        "gd1.rename(columns={'Unnamed:14':'Expected years of schooling female'},inplace=True)\n",
        "gd1.rename(columns={'Unnamed:16':'Expected years of schooling male'},inplace=True)\n",
        "gd1.rename(columns={'Unnamed:18':'Mean years of schooling female'},inplace=True)\n",
        "gd1.rename(columns={'Unnamed:20':'Mean years of schooling male'},inplace=True)\n",
        "gd1.rename(columns={'Unnamed:22':'GNI female'},inplace=True)\n",
        "gd1.rename(columns={'Unnamed:24':'GNI male'},inplace=True)"
      ],
      "metadata": {
        "id": "4NGaO-LKW8Vk"
      },
      "execution_count": 48,
      "outputs": []
    },
    {
      "cell_type": "code",
      "source": [
        "gd1 #question: why only one name be changed with the same code? "
      ],
      "metadata": {
        "colab": {
          "base_uri": "https://localhost:8080/",
          "height": 627
        },
        "id": "8l1U9G_AGpKa",
        "outputId": "ca028e6b-c2bf-4c9c-df70-5e89b5c15416"
      },
      "execution_count": 49,
      "outputs": [
        {
          "output_type": "stream",
          "name": "stdout",
          "text": [
            "Warning: Total number of columns (25) exceeds max_columns (20). Falling back to pandas display.\n"
          ]
        },
        {
          "output_type": "execute_result",
          "data": {
            "text/plain": [
              "    rank                Unnamed: 1 Unnamed: 2  Unnamed: 3 Unnamed: 4  \\\n",
              "6      1               Switzerland      0.967         NaN          2   \n",
              "7      2                    Norway      0.983         NaN          1   \n",
              "8      3                   Iceland      0.976         NaN          1   \n",
              "9      4    Hong Kong, China (SAR)      0.976         NaN          1   \n",
              "10     5                 Australia      0.968         NaN          2   \n",
              "..   ...                       ...        ...         ...        ...   \n",
              "192  187                   Burundi      0.935         NaN          3   \n",
              "193  188  Central African Republic       0.81         NaN          5   \n",
              "194  189                     Niger      0.835         NaN          5   \n",
              "195  190                      Chad       0.77         NaN          5   \n",
              "196  191               South Sudan      0.843         NaN          5   \n",
              "\n",
              "     Unnamed: 5 Unnamed: 6  Unnamed: 7 Unnamed: 8  Unnamed: 9  ...  \\\n",
              "6           NaN   0.943709         NaN   0.975611         NaN  ...   \n",
              "7           NaN     0.9499         NaN   0.966061         NaN  ...   \n",
              "8           NaN   0.946936         NaN   0.970604         NaN  ...   \n",
              "9           NaN   0.941078         NaN   0.964311         NaN  ...   \n",
              "10          NaN   0.931672         NaN   0.962956         NaN  ...   \n",
              "..          ...        ...         ...        ...         ...  ...   \n",
              "192         NaN   0.412236         NaN   0.440935         NaN  ...   \n",
              "193         NaN   0.359111         NaN   0.443254         NaN  ...   \n",
              "194         NaN   0.364315         NaN   0.436371         NaN  ...   \n",
              "195         NaN   0.339312         NaN   0.440889         NaN  ...   \n",
              "196         NaN   0.348199         NaN   0.413259         NaN  ...   \n",
              "\n",
              "    Unnamed: 15  Unnamed: 16 Unnamed: 17  Unnamed: 18 Unnamed: 19  \\\n",
              "6           NaN    16.593439         NaN     13.48301         NaN   \n",
              "7           NaN     17.52533         NaN     13.13508         NaN   \n",
              "8           NaN    18.090469         NaN     13.86953         NaN   \n",
              "9           NaN    17.033239         NaN      11.8457         NaN   \n",
              "10          NaN     20.30188         NaN     12.81059         NaN   \n",
              "..          ...          ...         ...          ...         ...   \n",
              "192         NaN    10.535239         NaN     2.491789         NaN   \n",
              "193         NaN     9.393839         NaN        3.108         NaN   \n",
              "194         NaN     7.638221         NaN     1.708292         NaN   \n",
              "195         NaN     9.464517         NaN     1.489174         NaN   \n",
              "196         NaN      6.61495         NaN      4.76217         NaN   \n",
              "\n",
              "     Unnamed: 20 Unnamed: 21   Unnamed: 22 Unnamed: 23   Unnamed: 24  \n",
              "6       14.24829         NaN  54596.873938         NaN   79450.51016  \n",
              "7       12.87032         NaN  54699.445557         NaN  74444.990916  \n",
              "8       13.67178         NaN  47135.914239         NaN  64004.128579  \n",
              "9       12.70688         NaN  51735.256517         NaN  75306.957306  \n",
              "10      12.63971         NaN    37485.5883         NaN  61160.790107  \n",
              "..           ...         ...           ...         ...           ...  \n",
              "192     3.851801         NaN    667.520768         NaN    796.956456  \n",
              "193        5.594         NaN    769.842841         NaN   1162.317208  \n",
              "194     2.789488         NaN    936.484843         NaN   1534.591089  \n",
              "195     3.681625         NaN    965.151078         NaN     1760.0728  \n",
              "196      6.18948         NaN    664.423768         NaN    873.230937  \n",
              "\n",
              "[191 rows x 25 columns]"
            ],
            "text/html": [
              "\n",
              "  <div id=\"df-b086fd84-4f6c-4cd5-ba50-44f79038b92c\">\n",
              "    <div class=\"colab-df-container\">\n",
              "      <div>\n",
              "<style scoped>\n",
              "    .dataframe tbody tr th:only-of-type {\n",
              "        vertical-align: middle;\n",
              "    }\n",
              "\n",
              "    .dataframe tbody tr th {\n",
              "        vertical-align: top;\n",
              "    }\n",
              "\n",
              "    .dataframe thead th {\n",
              "        text-align: right;\n",
              "    }\n",
              "</style>\n",
              "<table border=\"1\" class=\"dataframe\">\n",
              "  <thead>\n",
              "    <tr style=\"text-align: right;\">\n",
              "      <th></th>\n",
              "      <th>rank</th>\n",
              "      <th>Unnamed: 1</th>\n",
              "      <th>Unnamed: 2</th>\n",
              "      <th>Unnamed: 3</th>\n",
              "      <th>Unnamed: 4</th>\n",
              "      <th>Unnamed: 5</th>\n",
              "      <th>Unnamed: 6</th>\n",
              "      <th>Unnamed: 7</th>\n",
              "      <th>Unnamed: 8</th>\n",
              "      <th>Unnamed: 9</th>\n",
              "      <th>...</th>\n",
              "      <th>Unnamed: 15</th>\n",
              "      <th>Unnamed: 16</th>\n",
              "      <th>Unnamed: 17</th>\n",
              "      <th>Unnamed: 18</th>\n",
              "      <th>Unnamed: 19</th>\n",
              "      <th>Unnamed: 20</th>\n",
              "      <th>Unnamed: 21</th>\n",
              "      <th>Unnamed: 22</th>\n",
              "      <th>Unnamed: 23</th>\n",
              "      <th>Unnamed: 24</th>\n",
              "    </tr>\n",
              "  </thead>\n",
              "  <tbody>\n",
              "    <tr>\n",
              "      <th>6</th>\n",
              "      <td>1</td>\n",
              "      <td>Switzerland</td>\n",
              "      <td>0.967</td>\n",
              "      <td>NaN</td>\n",
              "      <td>2</td>\n",
              "      <td>NaN</td>\n",
              "      <td>0.943709</td>\n",
              "      <td>NaN</td>\n",
              "      <td>0.975611</td>\n",
              "      <td>NaN</td>\n",
              "      <td>...</td>\n",
              "      <td>NaN</td>\n",
              "      <td>16.593439</td>\n",
              "      <td>NaN</td>\n",
              "      <td>13.48301</td>\n",
              "      <td>NaN</td>\n",
              "      <td>14.24829</td>\n",
              "      <td>NaN</td>\n",
              "      <td>54596.873938</td>\n",
              "      <td>NaN</td>\n",
              "      <td>79450.51016</td>\n",
              "    </tr>\n",
              "    <tr>\n",
              "      <th>7</th>\n",
              "      <td>2</td>\n",
              "      <td>Norway</td>\n",
              "      <td>0.983</td>\n",
              "      <td>NaN</td>\n",
              "      <td>1</td>\n",
              "      <td>NaN</td>\n",
              "      <td>0.9499</td>\n",
              "      <td>NaN</td>\n",
              "      <td>0.966061</td>\n",
              "      <td>NaN</td>\n",
              "      <td>...</td>\n",
              "      <td>NaN</td>\n",
              "      <td>17.52533</td>\n",
              "      <td>NaN</td>\n",
              "      <td>13.13508</td>\n",
              "      <td>NaN</td>\n",
              "      <td>12.87032</td>\n",
              "      <td>NaN</td>\n",
              "      <td>54699.445557</td>\n",
              "      <td>NaN</td>\n",
              "      <td>74444.990916</td>\n",
              "    </tr>\n",
              "    <tr>\n",
              "      <th>8</th>\n",
              "      <td>3</td>\n",
              "      <td>Iceland</td>\n",
              "      <td>0.976</td>\n",
              "      <td>NaN</td>\n",
              "      <td>1</td>\n",
              "      <td>NaN</td>\n",
              "      <td>0.946936</td>\n",
              "      <td>NaN</td>\n",
              "      <td>0.970604</td>\n",
              "      <td>NaN</td>\n",
              "      <td>...</td>\n",
              "      <td>NaN</td>\n",
              "      <td>18.090469</td>\n",
              "      <td>NaN</td>\n",
              "      <td>13.86953</td>\n",
              "      <td>NaN</td>\n",
              "      <td>13.67178</td>\n",
              "      <td>NaN</td>\n",
              "      <td>47135.914239</td>\n",
              "      <td>NaN</td>\n",
              "      <td>64004.128579</td>\n",
              "    </tr>\n",
              "    <tr>\n",
              "      <th>9</th>\n",
              "      <td>4</td>\n",
              "      <td>Hong Kong, China (SAR)</td>\n",
              "      <td>0.976</td>\n",
              "      <td>NaN</td>\n",
              "      <td>1</td>\n",
              "      <td>NaN</td>\n",
              "      <td>0.941078</td>\n",
              "      <td>NaN</td>\n",
              "      <td>0.964311</td>\n",
              "      <td>NaN</td>\n",
              "      <td>...</td>\n",
              "      <td>NaN</td>\n",
              "      <td>17.033239</td>\n",
              "      <td>NaN</td>\n",
              "      <td>11.8457</td>\n",
              "      <td>NaN</td>\n",
              "      <td>12.70688</td>\n",
              "      <td>NaN</td>\n",
              "      <td>51735.256517</td>\n",
              "      <td>NaN</td>\n",
              "      <td>75306.957306</td>\n",
              "    </tr>\n",
              "    <tr>\n",
              "      <th>10</th>\n",
              "      <td>5</td>\n",
              "      <td>Australia</td>\n",
              "      <td>0.968</td>\n",
              "      <td>NaN</td>\n",
              "      <td>2</td>\n",
              "      <td>NaN</td>\n",
              "      <td>0.931672</td>\n",
              "      <td>NaN</td>\n",
              "      <td>0.962956</td>\n",
              "      <td>NaN</td>\n",
              "      <td>...</td>\n",
              "      <td>NaN</td>\n",
              "      <td>20.30188</td>\n",
              "      <td>NaN</td>\n",
              "      <td>12.81059</td>\n",
              "      <td>NaN</td>\n",
              "      <td>12.63971</td>\n",
              "      <td>NaN</td>\n",
              "      <td>37485.5883</td>\n",
              "      <td>NaN</td>\n",
              "      <td>61160.790107</td>\n",
              "    </tr>\n",
              "    <tr>\n",
              "      <th>...</th>\n",
              "      <td>...</td>\n",
              "      <td>...</td>\n",
              "      <td>...</td>\n",
              "      <td>...</td>\n",
              "      <td>...</td>\n",
              "      <td>...</td>\n",
              "      <td>...</td>\n",
              "      <td>...</td>\n",
              "      <td>...</td>\n",
              "      <td>...</td>\n",
              "      <td>...</td>\n",
              "      <td>...</td>\n",
              "      <td>...</td>\n",
              "      <td>...</td>\n",
              "      <td>...</td>\n",
              "      <td>...</td>\n",
              "      <td>...</td>\n",
              "      <td>...</td>\n",
              "      <td>...</td>\n",
              "      <td>...</td>\n",
              "      <td>...</td>\n",
              "    </tr>\n",
              "    <tr>\n",
              "      <th>192</th>\n",
              "      <td>187</td>\n",
              "      <td>Burundi</td>\n",
              "      <td>0.935</td>\n",
              "      <td>NaN</td>\n",
              "      <td>3</td>\n",
              "      <td>NaN</td>\n",
              "      <td>0.412236</td>\n",
              "      <td>NaN</td>\n",
              "      <td>0.440935</td>\n",
              "      <td>NaN</td>\n",
              "      <td>...</td>\n",
              "      <td>NaN</td>\n",
              "      <td>10.535239</td>\n",
              "      <td>NaN</td>\n",
              "      <td>2.491789</td>\n",
              "      <td>NaN</td>\n",
              "      <td>3.851801</td>\n",
              "      <td>NaN</td>\n",
              "      <td>667.520768</td>\n",
              "      <td>NaN</td>\n",
              "      <td>796.956456</td>\n",
              "    </tr>\n",
              "    <tr>\n",
              "      <th>193</th>\n",
              "      <td>188</td>\n",
              "      <td>Central African Republic</td>\n",
              "      <td>0.81</td>\n",
              "      <td>NaN</td>\n",
              "      <td>5</td>\n",
              "      <td>NaN</td>\n",
              "      <td>0.359111</td>\n",
              "      <td>NaN</td>\n",
              "      <td>0.443254</td>\n",
              "      <td>NaN</td>\n",
              "      <td>...</td>\n",
              "      <td>NaN</td>\n",
              "      <td>9.393839</td>\n",
              "      <td>NaN</td>\n",
              "      <td>3.108</td>\n",
              "      <td>NaN</td>\n",
              "      <td>5.594</td>\n",
              "      <td>NaN</td>\n",
              "      <td>769.842841</td>\n",
              "      <td>NaN</td>\n",
              "      <td>1162.317208</td>\n",
              "    </tr>\n",
              "    <tr>\n",
              "      <th>194</th>\n",
              "      <td>189</td>\n",
              "      <td>Niger</td>\n",
              "      <td>0.835</td>\n",
              "      <td>NaN</td>\n",
              "      <td>5</td>\n",
              "      <td>NaN</td>\n",
              "      <td>0.364315</td>\n",
              "      <td>NaN</td>\n",
              "      <td>0.436371</td>\n",
              "      <td>NaN</td>\n",
              "      <td>...</td>\n",
              "      <td>NaN</td>\n",
              "      <td>7.638221</td>\n",
              "      <td>NaN</td>\n",
              "      <td>1.708292</td>\n",
              "      <td>NaN</td>\n",
              "      <td>2.789488</td>\n",
              "      <td>NaN</td>\n",
              "      <td>936.484843</td>\n",
              "      <td>NaN</td>\n",
              "      <td>1534.591089</td>\n",
              "    </tr>\n",
              "    <tr>\n",
              "      <th>195</th>\n",
              "      <td>190</td>\n",
              "      <td>Chad</td>\n",
              "      <td>0.77</td>\n",
              "      <td>NaN</td>\n",
              "      <td>5</td>\n",
              "      <td>NaN</td>\n",
              "      <td>0.339312</td>\n",
              "      <td>NaN</td>\n",
              "      <td>0.440889</td>\n",
              "      <td>NaN</td>\n",
              "      <td>...</td>\n",
              "      <td>NaN</td>\n",
              "      <td>9.464517</td>\n",
              "      <td>NaN</td>\n",
              "      <td>1.489174</td>\n",
              "      <td>NaN</td>\n",
              "      <td>3.681625</td>\n",
              "      <td>NaN</td>\n",
              "      <td>965.151078</td>\n",
              "      <td>NaN</td>\n",
              "      <td>1760.0728</td>\n",
              "    </tr>\n",
              "    <tr>\n",
              "      <th>196</th>\n",
              "      <td>191</td>\n",
              "      <td>South Sudan</td>\n",
              "      <td>0.843</td>\n",
              "      <td>NaN</td>\n",
              "      <td>5</td>\n",
              "      <td>NaN</td>\n",
              "      <td>0.348199</td>\n",
              "      <td>NaN</td>\n",
              "      <td>0.413259</td>\n",
              "      <td>NaN</td>\n",
              "      <td>...</td>\n",
              "      <td>NaN</td>\n",
              "      <td>6.61495</td>\n",
              "      <td>NaN</td>\n",
              "      <td>4.76217</td>\n",
              "      <td>NaN</td>\n",
              "      <td>6.18948</td>\n",
              "      <td>NaN</td>\n",
              "      <td>664.423768</td>\n",
              "      <td>NaN</td>\n",
              "      <td>873.230937</td>\n",
              "    </tr>\n",
              "  </tbody>\n",
              "</table>\n",
              "<p>191 rows × 25 columns</p>\n",
              "</div>\n",
              "      <button class=\"colab-df-convert\" onclick=\"convertToInteractive('df-b086fd84-4f6c-4cd5-ba50-44f79038b92c')\"\n",
              "              title=\"Convert this dataframe to an interactive table.\"\n",
              "              style=\"display:none;\">\n",
              "        \n",
              "  <svg xmlns=\"http://www.w3.org/2000/svg\" height=\"24px\"viewBox=\"0 0 24 24\"\n",
              "       width=\"24px\">\n",
              "    <path d=\"M0 0h24v24H0V0z\" fill=\"none\"/>\n",
              "    <path d=\"M18.56 5.44l.94 2.06.94-2.06 2.06-.94-2.06-.94-.94-2.06-.94 2.06-2.06.94zm-11 1L8.5 8.5l.94-2.06 2.06-.94-2.06-.94L8.5 2.5l-.94 2.06-2.06.94zm10 10l.94 2.06.94-2.06 2.06-.94-2.06-.94-.94-2.06-.94 2.06-2.06.94z\"/><path d=\"M17.41 7.96l-1.37-1.37c-.4-.4-.92-.59-1.43-.59-.52 0-1.04.2-1.43.59L10.3 9.45l-7.72 7.72c-.78.78-.78 2.05 0 2.83L4 21.41c.39.39.9.59 1.41.59.51 0 1.02-.2 1.41-.59l7.78-7.78 2.81-2.81c.8-.78.8-2.07 0-2.86zM5.41 20L4 18.59l7.72-7.72 1.47 1.35L5.41 20z\"/>\n",
              "  </svg>\n",
              "      </button>\n",
              "      \n",
              "  <style>\n",
              "    .colab-df-container {\n",
              "      display:flex;\n",
              "      flex-wrap:wrap;\n",
              "      gap: 12px;\n",
              "    }\n",
              "\n",
              "    .colab-df-convert {\n",
              "      background-color: #E8F0FE;\n",
              "      border: none;\n",
              "      border-radius: 50%;\n",
              "      cursor: pointer;\n",
              "      display: none;\n",
              "      fill: #1967D2;\n",
              "      height: 32px;\n",
              "      padding: 0 0 0 0;\n",
              "      width: 32px;\n",
              "    }\n",
              "\n",
              "    .colab-df-convert:hover {\n",
              "      background-color: #E2EBFA;\n",
              "      box-shadow: 0px 1px 2px rgba(60, 64, 67, 0.3), 0px 1px 3px 1px rgba(60, 64, 67, 0.15);\n",
              "      fill: #174EA6;\n",
              "    }\n",
              "\n",
              "    [theme=dark] .colab-df-convert {\n",
              "      background-color: #3B4455;\n",
              "      fill: #D2E3FC;\n",
              "    }\n",
              "\n",
              "    [theme=dark] .colab-df-convert:hover {\n",
              "      background-color: #434B5C;\n",
              "      box-shadow: 0px 1px 3px 1px rgba(0, 0, 0, 0.15);\n",
              "      filter: drop-shadow(0px 1px 2px rgba(0, 0, 0, 0.3));\n",
              "      fill: #FFFFFF;\n",
              "    }\n",
              "  </style>\n",
              "\n",
              "      <script>\n",
              "        const buttonEl =\n",
              "          document.querySelector('#df-b086fd84-4f6c-4cd5-ba50-44f79038b92c button.colab-df-convert');\n",
              "        buttonEl.style.display =\n",
              "          google.colab.kernel.accessAllowed ? 'block' : 'none';\n",
              "\n",
              "        async function convertToInteractive(key) {\n",
              "          const element = document.querySelector('#df-b086fd84-4f6c-4cd5-ba50-44f79038b92c');\n",
              "          const dataTable =\n",
              "            await google.colab.kernel.invokeFunction('convertToInteractive',\n",
              "                                                     [key], {});\n",
              "          if (!dataTable) return;\n",
              "\n",
              "          const docLinkHtml = 'Like what you see? Visit the ' +\n",
              "            '<a target=\"_blank\" href=https://colab.research.google.com/notebooks/data_table.ipynb>data table notebook</a>'\n",
              "            + ' to learn more about interactive tables.';\n",
              "          element.innerHTML = '';\n",
              "          dataTable['output_type'] = 'display_data';\n",
              "          await google.colab.output.renderOutput(dataTable, element);\n",
              "          const docLink = document.createElement('div');\n",
              "          docLink.innerHTML = docLinkHtml;\n",
              "          element.appendChild(docLink);\n",
              "        }\n",
              "      </script>\n",
              "    </div>\n",
              "  </div>\n",
              "  "
            ]
          },
          "metadata": {},
          "execution_count": 49
        }
      ]
    },
    {
      "cell_type": "code",
      "source": [
        "gd1.columns"
      ],
      "metadata": {
        "colab": {
          "base_uri": "https://localhost:8080/"
        },
        "id": "TOJerSsHdDqE",
        "outputId": "0f700471-794d-4fc0-e4cf-abebbbe138b0"
      },
      "execution_count": 53,
      "outputs": [
        {
          "output_type": "execute_result",
          "data": {
            "text/plain": [
              "Index(['rank', 'Unnamed: 1', 'Unnamed: 2', 'Unnamed: 3', 'Unnamed: 4',\n",
              "       'Unnamed: 5', 'Unnamed: 6', 'Unnamed: 7', 'Unnamed: 8', 'Unnamed: 9',\n",
              "       'Unnamed: 10', 'Unnamed: 11', 'Unnamed: 12', 'Unnamed: 13',\n",
              "       'Unnamed: 14', 'Unnamed: 15', 'Unnamed: 16', 'Unnamed: 17',\n",
              "       'Unnamed: 18', 'Unnamed: 19', 'Unnamed: 20', 'Unnamed: 21',\n",
              "       'Unnamed: 22', 'Unnamed: 23', 'Unnamed: 24'],\n",
              "      dtype='object')"
            ]
          },
          "metadata": {},
          "execution_count": 53
        }
      ]
    },
    {
      "cell_type": "code",
      "source": [
        "gd1.drop(['Unnamed: 3', 'Unnamed: 4', 'Unnamed: 5', 'Unnamed: 7', 'Unnamed: 9', 'Unnamed: 11', 'Unnamed: 13', 'Unnamed: 15', 'Unnamed: 17', 'Unnamed: 19', 'Unnamed: 21', 'Unnamed: 23'],axis=1, inplace=True)"
      ],
      "metadata": {
        "id": "j7gPkjNXZqrA"
      },
      "execution_count": 54,
      "outputs": []
    },
    {
      "cell_type": "code",
      "source": [
        "gd1"
      ],
      "metadata": {
        "colab": {
          "base_uri": "https://localhost:8080/",
          "height": 721
        },
        "id": "LTHtFfcRdUtB",
        "outputId": "0efd7dc4-3a70-4fba-b350-a3c0ce1a3b49"
      },
      "execution_count": 55,
      "outputs": [
        {
          "output_type": "execute_result",
          "data": {
            "text/plain": [
              "    rank                Unnamed: 1 Unnamed: 2 Unnamed: 6 Unnamed: 8  \\\n",
              "6      1               Switzerland      0.967   0.943709   0.975611   \n",
              "7      2                    Norway      0.983     0.9499   0.966061   \n",
              "8      3                   Iceland      0.976   0.946936   0.970604   \n",
              "9      4    Hong Kong, China (SAR)      0.976   0.941078   0.964311   \n",
              "10     5                 Australia      0.968   0.931672   0.962956   \n",
              "..   ...                       ...        ...        ...        ...   \n",
              "192  187                   Burundi      0.935   0.412236   0.440935   \n",
              "193  188  Central African Republic       0.81   0.359111   0.443254   \n",
              "194  189                     Niger      0.835   0.364315   0.436371   \n",
              "195  190                      Chad       0.77   0.339312   0.440889   \n",
              "196  191               South Sudan      0.843   0.348199   0.413259   \n",
              "\n",
              "    Unnamed: 10 Unnamed: 12 Unnamed: 14 Unnamed: 16 Unnamed: 18 Unnamed: 20  \\\n",
              "6       85.8959     81.9952    16.40519   16.593439    13.48301    14.24829   \n",
              "7       84.8787     81.5622   18.886789    17.52533    13.13508    12.87032   \n",
              "8       84.1804     81.2138    20.27153   18.090469    13.86953    13.67178   \n",
              "9       88.3257     82.6613   17.572201   17.033239     11.8457    12.70688   \n",
              "10      85.8396     83.1718   21.817579    20.30188    12.81059    12.63971   \n",
              "..          ...         ...         ...         ...         ...         ...   \n",
              "192     63.6092     59.7112   10.915472   10.535239    2.491789    3.851801   \n",
              "193     56.3035     51.6455     6.66856    9.393839       3.108       5.594   \n",
              "194     62.7943     60.4065    6.260139    7.638221    1.708292    2.789488   \n",
              "195     54.2828     50.8449    6.611644    9.464517    1.489174    3.681625   \n",
              "196     56.4723     53.4286     4.45054     6.61495     4.76217     6.18948   \n",
              "\n",
              "      Unnamed: 22   Unnamed: 24  \n",
              "6    54596.873938   79450.51016  \n",
              "7    54699.445557  74444.990916  \n",
              "8    47135.914239  64004.128579  \n",
              "9    51735.256517  75306.957306  \n",
              "10     37485.5883  61160.790107  \n",
              "..            ...           ...  \n",
              "192    667.520768    796.956456  \n",
              "193    769.842841   1162.317208  \n",
              "194    936.484843   1534.591089  \n",
              "195    965.151078     1760.0728  \n",
              "196    664.423768    873.230937  \n",
              "\n",
              "[191 rows x 13 columns]"
            ],
            "text/html": [
              "\n",
              "  <div id=\"df-9aaaf388-2b00-4f79-8b5e-99c47258ad98\">\n",
              "    <div class=\"colab-df-container\">\n",
              "      <div>\n",
              "<style scoped>\n",
              "    .dataframe tbody tr th:only-of-type {\n",
              "        vertical-align: middle;\n",
              "    }\n",
              "\n",
              "    .dataframe tbody tr th {\n",
              "        vertical-align: top;\n",
              "    }\n",
              "\n",
              "    .dataframe thead th {\n",
              "        text-align: right;\n",
              "    }\n",
              "</style>\n",
              "<table border=\"1\" class=\"dataframe\">\n",
              "  <thead>\n",
              "    <tr style=\"text-align: right;\">\n",
              "      <th></th>\n",
              "      <th>rank</th>\n",
              "      <th>Unnamed: 1</th>\n",
              "      <th>Unnamed: 2</th>\n",
              "      <th>Unnamed: 6</th>\n",
              "      <th>Unnamed: 8</th>\n",
              "      <th>Unnamed: 10</th>\n",
              "      <th>Unnamed: 12</th>\n",
              "      <th>Unnamed: 14</th>\n",
              "      <th>Unnamed: 16</th>\n",
              "      <th>Unnamed: 18</th>\n",
              "      <th>Unnamed: 20</th>\n",
              "      <th>Unnamed: 22</th>\n",
              "      <th>Unnamed: 24</th>\n",
              "    </tr>\n",
              "  </thead>\n",
              "  <tbody>\n",
              "    <tr>\n",
              "      <th>6</th>\n",
              "      <td>1</td>\n",
              "      <td>Switzerland</td>\n",
              "      <td>0.967</td>\n",
              "      <td>0.943709</td>\n",
              "      <td>0.975611</td>\n",
              "      <td>85.8959</td>\n",
              "      <td>81.9952</td>\n",
              "      <td>16.40519</td>\n",
              "      <td>16.593439</td>\n",
              "      <td>13.48301</td>\n",
              "      <td>14.24829</td>\n",
              "      <td>54596.873938</td>\n",
              "      <td>79450.51016</td>\n",
              "    </tr>\n",
              "    <tr>\n",
              "      <th>7</th>\n",
              "      <td>2</td>\n",
              "      <td>Norway</td>\n",
              "      <td>0.983</td>\n",
              "      <td>0.9499</td>\n",
              "      <td>0.966061</td>\n",
              "      <td>84.8787</td>\n",
              "      <td>81.5622</td>\n",
              "      <td>18.886789</td>\n",
              "      <td>17.52533</td>\n",
              "      <td>13.13508</td>\n",
              "      <td>12.87032</td>\n",
              "      <td>54699.445557</td>\n",
              "      <td>74444.990916</td>\n",
              "    </tr>\n",
              "    <tr>\n",
              "      <th>8</th>\n",
              "      <td>3</td>\n",
              "      <td>Iceland</td>\n",
              "      <td>0.976</td>\n",
              "      <td>0.946936</td>\n",
              "      <td>0.970604</td>\n",
              "      <td>84.1804</td>\n",
              "      <td>81.2138</td>\n",
              "      <td>20.27153</td>\n",
              "      <td>18.090469</td>\n",
              "      <td>13.86953</td>\n",
              "      <td>13.67178</td>\n",
              "      <td>47135.914239</td>\n",
              "      <td>64004.128579</td>\n",
              "    </tr>\n",
              "    <tr>\n",
              "      <th>9</th>\n",
              "      <td>4</td>\n",
              "      <td>Hong Kong, China (SAR)</td>\n",
              "      <td>0.976</td>\n",
              "      <td>0.941078</td>\n",
              "      <td>0.964311</td>\n",
              "      <td>88.3257</td>\n",
              "      <td>82.6613</td>\n",
              "      <td>17.572201</td>\n",
              "      <td>17.033239</td>\n",
              "      <td>11.8457</td>\n",
              "      <td>12.70688</td>\n",
              "      <td>51735.256517</td>\n",
              "      <td>75306.957306</td>\n",
              "    </tr>\n",
              "    <tr>\n",
              "      <th>10</th>\n",
              "      <td>5</td>\n",
              "      <td>Australia</td>\n",
              "      <td>0.968</td>\n",
              "      <td>0.931672</td>\n",
              "      <td>0.962956</td>\n",
              "      <td>85.8396</td>\n",
              "      <td>83.1718</td>\n",
              "      <td>21.817579</td>\n",
              "      <td>20.30188</td>\n",
              "      <td>12.81059</td>\n",
              "      <td>12.63971</td>\n",
              "      <td>37485.5883</td>\n",
              "      <td>61160.790107</td>\n",
              "    </tr>\n",
              "    <tr>\n",
              "      <th>...</th>\n",
              "      <td>...</td>\n",
              "      <td>...</td>\n",
              "      <td>...</td>\n",
              "      <td>...</td>\n",
              "      <td>...</td>\n",
              "      <td>...</td>\n",
              "      <td>...</td>\n",
              "      <td>...</td>\n",
              "      <td>...</td>\n",
              "      <td>...</td>\n",
              "      <td>...</td>\n",
              "      <td>...</td>\n",
              "      <td>...</td>\n",
              "    </tr>\n",
              "    <tr>\n",
              "      <th>192</th>\n",
              "      <td>187</td>\n",
              "      <td>Burundi</td>\n",
              "      <td>0.935</td>\n",
              "      <td>0.412236</td>\n",
              "      <td>0.440935</td>\n",
              "      <td>63.6092</td>\n",
              "      <td>59.7112</td>\n",
              "      <td>10.915472</td>\n",
              "      <td>10.535239</td>\n",
              "      <td>2.491789</td>\n",
              "      <td>3.851801</td>\n",
              "      <td>667.520768</td>\n",
              "      <td>796.956456</td>\n",
              "    </tr>\n",
              "    <tr>\n",
              "      <th>193</th>\n",
              "      <td>188</td>\n",
              "      <td>Central African Republic</td>\n",
              "      <td>0.81</td>\n",
              "      <td>0.359111</td>\n",
              "      <td>0.443254</td>\n",
              "      <td>56.3035</td>\n",
              "      <td>51.6455</td>\n",
              "      <td>6.66856</td>\n",
              "      <td>9.393839</td>\n",
              "      <td>3.108</td>\n",
              "      <td>5.594</td>\n",
              "      <td>769.842841</td>\n",
              "      <td>1162.317208</td>\n",
              "    </tr>\n",
              "    <tr>\n",
              "      <th>194</th>\n",
              "      <td>189</td>\n",
              "      <td>Niger</td>\n",
              "      <td>0.835</td>\n",
              "      <td>0.364315</td>\n",
              "      <td>0.436371</td>\n",
              "      <td>62.7943</td>\n",
              "      <td>60.4065</td>\n",
              "      <td>6.260139</td>\n",
              "      <td>7.638221</td>\n",
              "      <td>1.708292</td>\n",
              "      <td>2.789488</td>\n",
              "      <td>936.484843</td>\n",
              "      <td>1534.591089</td>\n",
              "    </tr>\n",
              "    <tr>\n",
              "      <th>195</th>\n",
              "      <td>190</td>\n",
              "      <td>Chad</td>\n",
              "      <td>0.77</td>\n",
              "      <td>0.339312</td>\n",
              "      <td>0.440889</td>\n",
              "      <td>54.2828</td>\n",
              "      <td>50.8449</td>\n",
              "      <td>6.611644</td>\n",
              "      <td>9.464517</td>\n",
              "      <td>1.489174</td>\n",
              "      <td>3.681625</td>\n",
              "      <td>965.151078</td>\n",
              "      <td>1760.0728</td>\n",
              "    </tr>\n",
              "    <tr>\n",
              "      <th>196</th>\n",
              "      <td>191</td>\n",
              "      <td>South Sudan</td>\n",
              "      <td>0.843</td>\n",
              "      <td>0.348199</td>\n",
              "      <td>0.413259</td>\n",
              "      <td>56.4723</td>\n",
              "      <td>53.4286</td>\n",
              "      <td>4.45054</td>\n",
              "      <td>6.61495</td>\n",
              "      <td>4.76217</td>\n",
              "      <td>6.18948</td>\n",
              "      <td>664.423768</td>\n",
              "      <td>873.230937</td>\n",
              "    </tr>\n",
              "  </tbody>\n",
              "</table>\n",
              "<p>191 rows × 13 columns</p>\n",
              "</div>\n",
              "      <button class=\"colab-df-convert\" onclick=\"convertToInteractive('df-9aaaf388-2b00-4f79-8b5e-99c47258ad98')\"\n",
              "              title=\"Convert this dataframe to an interactive table.\"\n",
              "              style=\"display:none;\">\n",
              "        \n",
              "  <svg xmlns=\"http://www.w3.org/2000/svg\" height=\"24px\"viewBox=\"0 0 24 24\"\n",
              "       width=\"24px\">\n",
              "    <path d=\"M0 0h24v24H0V0z\" fill=\"none\"/>\n",
              "    <path d=\"M18.56 5.44l.94 2.06.94-2.06 2.06-.94-2.06-.94-.94-2.06-.94 2.06-2.06.94zm-11 1L8.5 8.5l.94-2.06 2.06-.94-2.06-.94L8.5 2.5l-.94 2.06-2.06.94zm10 10l.94 2.06.94-2.06 2.06-.94-2.06-.94-.94-2.06-.94 2.06-2.06.94z\"/><path d=\"M17.41 7.96l-1.37-1.37c-.4-.4-.92-.59-1.43-.59-.52 0-1.04.2-1.43.59L10.3 9.45l-7.72 7.72c-.78.78-.78 2.05 0 2.83L4 21.41c.39.39.9.59 1.41.59.51 0 1.02-.2 1.41-.59l7.78-7.78 2.81-2.81c.8-.78.8-2.07 0-2.86zM5.41 20L4 18.59l7.72-7.72 1.47 1.35L5.41 20z\"/>\n",
              "  </svg>\n",
              "      </button>\n",
              "      \n",
              "  <style>\n",
              "    .colab-df-container {\n",
              "      display:flex;\n",
              "      flex-wrap:wrap;\n",
              "      gap: 12px;\n",
              "    }\n",
              "\n",
              "    .colab-df-convert {\n",
              "      background-color: #E8F0FE;\n",
              "      border: none;\n",
              "      border-radius: 50%;\n",
              "      cursor: pointer;\n",
              "      display: none;\n",
              "      fill: #1967D2;\n",
              "      height: 32px;\n",
              "      padding: 0 0 0 0;\n",
              "      width: 32px;\n",
              "    }\n",
              "\n",
              "    .colab-df-convert:hover {\n",
              "      background-color: #E2EBFA;\n",
              "      box-shadow: 0px 1px 2px rgba(60, 64, 67, 0.3), 0px 1px 3px 1px rgba(60, 64, 67, 0.15);\n",
              "      fill: #174EA6;\n",
              "    }\n",
              "\n",
              "    [theme=dark] .colab-df-convert {\n",
              "      background-color: #3B4455;\n",
              "      fill: #D2E3FC;\n",
              "    }\n",
              "\n",
              "    [theme=dark] .colab-df-convert:hover {\n",
              "      background-color: #434B5C;\n",
              "      box-shadow: 0px 1px 3px 1px rgba(0, 0, 0, 0.15);\n",
              "      filter: drop-shadow(0px 1px 2px rgba(0, 0, 0, 0.3));\n",
              "      fill: #FFFFFF;\n",
              "    }\n",
              "  </style>\n",
              "\n",
              "      <script>\n",
              "        const buttonEl =\n",
              "          document.querySelector('#df-9aaaf388-2b00-4f79-8b5e-99c47258ad98 button.colab-df-convert');\n",
              "        buttonEl.style.display =\n",
              "          google.colab.kernel.accessAllowed ? 'block' : 'none';\n",
              "\n",
              "        async function convertToInteractive(key) {\n",
              "          const element = document.querySelector('#df-9aaaf388-2b00-4f79-8b5e-99c47258ad98');\n",
              "          const dataTable =\n",
              "            await google.colab.kernel.invokeFunction('convertToInteractive',\n",
              "                                                     [key], {});\n",
              "          if (!dataTable) return;\n",
              "\n",
              "          const docLinkHtml = 'Like what you see? Visit the ' +\n",
              "            '<a target=\"_blank\" href=https://colab.research.google.com/notebooks/data_table.ipynb>data table notebook</a>'\n",
              "            + ' to learn more about interactive tables.';\n",
              "          element.innerHTML = '';\n",
              "          dataTable['output_type'] = 'display_data';\n",
              "          await google.colab.output.renderOutput(dataTable, element);\n",
              "          const docLink = document.createElement('div');\n",
              "          docLink.innerHTML = docLinkHtml;\n",
              "          element.appendChild(docLink);\n",
              "        }\n",
              "      </script>\n",
              "    </div>\n",
              "  </div>\n",
              "  "
            ],
            "application/vnd.google.colaboratory.module+javascript": "\n      import \"https://ssl.gstatic.com/colaboratory/data_table/99dac6621f6ae8c4/data_table.js\";\n\n      window.createDataTable({\n        data: [[{\n            'v': 6,\n            'f': \"6\",\n        },\n{\n            'v': 1,\n            'f': \"1\",\n        },\n\"Switzerland\",\n0.967,\n0.943709306758023,\n0.97561127252473,\n{\n            'v': 85.8959,\n            'f': \"85.8959\",\n        },\n{\n            'v': 81.9952,\n            'f': \"81.9952\",\n        },\n16.40518951,\n16.5934391,\n13.48301029,\n14.24829006,\n54596.8739378823,\n79450.5101602455],\n [{\n            'v': 7,\n            'f': \"7\",\n        },\n{\n            'v': 2,\n            'f': \"2\",\n        },\n\"Norway\",\n0.983,\n0.949899881040614,\n0.966060981283021,\n{\n            'v': 84.8787,\n            'f': \"84.8787\",\n        },\n{\n            'v': 81.5622,\n            'f': \"81.5622\",\n        },\n18.88678932,\n17.52532959,\n13.13508034,\n12.87032032,\n54699.4455573899,\n74444.9909156756],\n [{\n            'v': 8,\n            'f': \"8\",\n        },\n{\n            'v': 3,\n            'f': \"3\",\n        },\n\"Iceland\",\n0.976,\n0.946935584883962,\n0.970604051881056,\n{\n            'v': 84.1804,\n            'f': \"84.1804\",\n        },\n{\n            'v': 81.2138,\n            'f': \"81.2138\",\n        },\n20.27153015,\n18.09046936,\n13.86952972,\n13.67177963,\n47135.9142393382,\n64004.1285793718],\n [{\n            'v': 9,\n            'f': \"9\",\n        },\n{\n            'v': 4,\n            'f': \"4\",\n        },\n\"Hong Kong, China (SAR)\",\n0.976,\n0.94107751715595,\n0.964310833265346,\n{\n            'v': 88.3257,\n            'f': \"88.3257\",\n        },\n{\n            'v': 82.6613,\n            'f': \"82.6613\",\n        },\n17.57220078,\n17.03323936,\n11.84570026,\n12.70687962,\n51735.2565167101,\n75306.9573059227],\n [{\n            'v': 10,\n            'f': \"10\",\n        },\n{\n            'v': 5,\n            'f': \"5\",\n        },\n\"Australia\",\n0.968,\n0.931672229905923,\n0.962956482669807,\n{\n            'v': 85.8396,\n            'f': \"85.8396\",\n        },\n{\n            'v': 83.1718,\n            'f': \"83.1718\",\n        },\n21.81757927,\n20.30187988,\n12.81058979,\n12.63971043,\n37485.5883003028,\n61160.7901070843],\n [{\n            'v': 11,\n            'f': \"11\",\n        },\n{\n            'v': 6,\n            'f': \"6\",\n        },\n\"Denmark\",\n0.98,\n0.937319032702361,\n0.956524411290307,\n{\n            'v': 83.2762,\n            'f': \"83.2762\",\n        },\n{\n            'v': 79.4848,\n            'f': \"79.4848\",\n        },\n19.34136963,\n18.10860062,\n13.15695,\n12.76414967,\n49876.264628754,\n70961.0915470663],\n [{\n            'v': 12,\n            'f': \"12\",\n        },\n{\n            'v': 7,\n            'f': \"7\",\n        },\n\"Sweden\",\n0.988,\n0.940969463117007,\n0.952156756095642,\n{\n            'v': 84.9097,\n            'f': \"84.9097\",\n        },\n{\n            'v': 81.0775,\n            'f': \"81.0775\",\n        },\n20.53377914,\n18.3472805,\n12.76821041,\n12.44828987,\n49580.1098288725,\n59326.0762468824],\n [{\n            'v': 13,\n            'f': \"13\",\n        },\n{\n            'v': 8,\n            'f': \"8\",\n        },\n\"Ireland\",\n0.987,\n0.934275848391951,\n0.946695538048208,\n{\n            'v': 83.7675,\n            'f': \"83.7675\",\n        },\n{\n            'v': 80.2476,\n            'f': \"80.2476\",\n        },\n19.23660088,\n18.64551926,\n11.78455323,\n11.36747134,\n61104.4939600282,\n91505.9249277234],\n [{\n            'v': 14,\n            'f': \"14\",\n        },\n{\n            'v': 9,\n            'f': \"9\",\n        },\n\"Germany\",\n0.978,\n0.931498430513263,\n0.952180253057389,\n{\n            'v': 83.2215,\n            'f': \"83.2215\",\n        },\n{\n            'v': 78.0809,\n            'f': \"78.0809\",\n        },\n17.00415993,\n17.0161705,\n13.84053479,\n14.3494364,\n46149.952498592,\n63142.6997535196],\n [{\n            'v': 15,\n            'f': \"15\",\n        },\n{\n            'v': 10,\n            'f': \"10\",\n        },\n\"Netherlands\",\n0.968,\n0.924997733192445,\n0.956065753936009,\n{\n            'v': 83.3568,\n            'f': \"83.3568\",\n        },\n{\n            'v': 79.9974,\n            'f': \"79.9974\",\n        },\n19.00924791,\n18.38851776,\n12.3527298,\n12.81820965,\n46301.3411836045,\n65778.4469654018],\n [{\n            'v': 16,\n            'f': \"16\",\n        },\n{\n            'v': 11,\n            'f': \"11\",\n        },\n\"Finland\",\n0.989,\n0.934283258715521,\n0.944567946425914,\n{\n            'v': 84.7177,\n            'f': \"84.7177\",\n        },\n{\n            'v': 79.3458,\n            'f': \"79.3458\",\n        },\n19.85631943,\n18.28832054,\n13.04683971,\n12.69112968,\n41697.5015644962,\n57393.7955345333],\n [{\n            'v': 17,\n            'f': \"17\",\n        },\n{\n            'v': 12,\n            'f': \"12\",\n        },\n\"Singapore\",\n0.992,\n0.935256237014482,\n0.943210265588796,\n{\n            'v': 84.9268,\n            'f': \"84.9268\",\n        },\n{\n            'v': 80.6357,\n            'f': \"80.6357\",\n        },\n16.71208,\n16.39477921,\n11.62705994,\n12.2547102,\n75093.9938620286,\n105348.328286382],\n [{\n            'v': 18,\n            'f': \"18\",\n        },\n{\n            'v': 13,\n            'f': \"13\",\n        },\n\"Belgium\",\n0.978,\n0.925048072885807,\n0.946127575010664,\n{\n            'v': 84.2957,\n            'f': \"84.2957\",\n        },\n{\n            'v': 79.4344,\n            'f': \"79.4344\",\n        },\n20.70512962,\n18.53882027,\n12.31939983,\n12.43480968,\n42532.9343066722,\n62295.0828930701],\n [{\n            'v': 19,\n            'f': \"19\",\n        },\n{\n            'v': 13,\n            'f': \"13\",\n        },\n\"New Zealand\",\n0.975,\n0.924682806655565,\n0.948211622989812,\n{\n            'v': 84.3213,\n            'f': \"84.3213\",\n        },\n{\n            'v': 80.5756,\n            'f': \"80.5756\",\n        },\n20.80978012,\n19.73480988,\n12.93587971,\n12.95394039,\n36864.4872006473,\n51377.4755766416],\n [{\n            'v': 20,\n            'f': \"20\",\n        },\n{\n            'v': 15,\n            'f': \"15\",\n        },\n\"Canada\",\n0.988,\n0.929499536355183,\n0.941126182850819,\n{\n            'v': 84.6711,\n            'f': \"84.6711\",\n        },\n{\n            'v': 80.621,\n            'f': \"80.621\",\n        },\n16.89101982,\n15.91734982,\n13.91497893,\n13.74785411,\n38651.8093900896,\n55065.2548117157],\n [{\n            'v': 21,\n            'f': \"21\",\n        },\n{\n            'v': 16,\n            'f': \"16\",\n        },\n\"Liechtenstein\",\n\"..\",\n\"..\",\n\"..\",\n{\n            'v': 85.35,\n            'f': \"85.35\",\n        },\n{\n            'v': 81.101,\n            'f': \"81.101\",\n        },\n14.16571045,\n16.17333984,\n\"..\",\n\"..\",\n\"..\",\n\"..\"],\n [{\n            'v': 22,\n            'f': \"22\",\n        },\n{\n            'v': 17,\n            'f': \"17\",\n        },\n\"Luxembourg\",\n0.993,\n0.924607692313635,\n0.931456057931993,\n{\n            'v': 84.8055,\n            'f': \"84.8055\",\n        },\n{\n            'v': 80.4463,\n            'f': \"80.4463\",\n        },\n14.38416004,\n14.41333008,\n13.0062666,\n13.02411775,\n70117.3744928982,\n98991.3462000986],\n [{\n            'v': 23,\n            'f': \"23\",\n        },\n{\n            'v': 18,\n            'f': \"18\",\n        },\n\"United Kingdom\",\n0.987,\n0.921594468173546,\n0.933932879522402,\n{\n            'v': 82.7722,\n            'f': \"82.7722\",\n        },\n{\n            'v': 78.7168,\n            'f': \"78.7168\",\n        },\n17.82233047,\n16.80278015,\n13.44999981,\n13.36056995,\n37374.4505059012,\n53264.9393045294],\n [{\n            'v': 24,\n            'f': \"24\",\n        },\n{\n            'v': 19,\n            'f': \"19\",\n        },\n\"Japan\",\n0.97,\n0.907973255534414,\n0.936097221047472,\n{\n            'v': 87.7313,\n            'f': \"87.7313\",\n        },\n{\n            'v': 81.8018,\n            'f': \"81.8018\",\n        },\n15.19815139,\n15.2438166,\n13.30556444,\n13.42565598,\n30620.8067529737,\n54596.8443486755],\n [{\n            'v': 25,\n            'f': \"25\",\n        },\n{\n            'v': 19,\n            'f': \"19\",\n        },\n\"Korea (Republic of)\",\n0.944,\n0.893687773805665,\n0.947120599532303,\n{\n            'v': 86.7603,\n            'f': \"86.7603\",\n        },\n{\n            'v': 80.3864,\n            'f': \"80.3864\",\n        },\n16.06004906,\n16.92740059,\n11.86020016,\n13.17625373,\n29299.8934691973,\n59737.3370407366],\n [{\n            'v': 26,\n            'f': \"26\",\n        },\n{\n            'v': 21,\n            'f': \"21\",\n        },\n\"United States\",\n1.001,\n0.919688966541077,\n0.919186121573777,\n{\n            'v': 80.238,\n            'f': \"80.238\",\n        },\n{\n            'v': 74.2999,\n            'f': \"74.2999\",\n        },\n16.93508911,\n15.64476967,\n13.73783016,\n13.62497997,\n51538.9555072382,\n78238.2140849607],\n [{\n            'v': 27,\n            'f': \"27\",\n        },\n{\n            'v': 22,\n            'f': \"22\",\n        },\n\"Israel\",\n0.992,\n0.914945896168946,\n0.921975238323938,\n{\n            'v': 84.2953,\n            'f': \"84.2953\",\n        },\n{\n            'v': 80.1535,\n            'f': \"80.1535\",\n        },\n16.72323036,\n15.40869045,\n13.38325237,\n13.30354585,\n34959.6986473428,\n48125.8880653021],\n [{\n            'v': 28,\n            'f': \"28\",\n        },\n{\n            'v': 23,\n            'f': \"23\",\n        },\n\"Malta\",\n0.98,\n0.906805756732783,\n0.92531424090035,\n{\n            'v': 86.1085,\n            'f': \"86.1085\",\n        },\n{\n            'v': 81.4414,\n            'f': \"81.4414\",\n        },\n17.38516045,\n16.32799911,\n12.00041962,\n12.40596962,\n30282.1014847071,\n46821.0132431008],\n [{\n            'v': 29,\n            'f': \"29\",\n        },\n{\n            'v': 23,\n            'f': \"23\",\n        },\n\"Slovenia\",\n0.999,\n0.915401466620424,\n0.91624322684683,\n{\n            'v': 83.8366,\n            'f': \"83.8366\",\n        },\n{\n            'v': 77.6469,\n            'f': \"77.6469\",\n        },\n18.41757965,\n16.93939018,\n12.83347034,\n12.77305984,\n33037.5284849374,\n46385.6391169428],\n [{\n            'v': 30,\n            'f': \"30\",\n        },\n{\n            'v': 25,\n            'f': \"25\",\n        },\n\"Austria\",\n0.98,\n0.905682295369603,\n0.923877355881014,\n{\n            'v': 84.084,\n            'f': \"84.084\",\n        },\n{\n            'v': 79.0433,\n            'f': \"79.0433\",\n        },\n16.39508057,\n15.64367962,\n11.97801018,\n12.55373955,\n43413.8873640821,\n64148.4873661337],\n [{\n            'v': 31,\n            'f': \"31\",\n        },\n{\n            'v': 26,\n            'f': \"26\",\n        },\n\"United Arab Emirates\",\n0.953,\n0.877132270313896,\n0.920631428756011,\n{\n            'v': 80.9371,\n            'f': \"80.9371\",\n        },\n{\n            'v': 77.2164,\n            'f': \"77.2164\",\n        },\n16.53561974,\n15.20983028,\n12.52534008,\n12.80508041,\n28921.1448181296,\n77317.6801660486],\n [{\n            'v': 32,\n            'f': \"32\",\n        },\n{\n            'v': 27,\n            'f': \"27\",\n        },\n\"Spain\",\n0.986,\n0.895714434096264,\n0.908603781219383,\n{\n            'v': 85.7735,\n            'f': \"85.7735\",\n        },\n{\n            'v': 80.2091,\n            'f': \"80.2091\",\n        },\n18.43042946,\n17.4191494,\n10.52787018,\n10.68844986,\n31212.6376334239,\n45784.0770108752],\n [{\n            'v': 33,\n            'f': \"33\",\n        },\n{\n            'v': 28,\n            'f': \"28\",\n        },\n\"France\",\n0.99,\n0.89751900872888,\n0.906690801873341,\n{\n            'v': 85.485,\n            'f': \"85.485\",\n        },\n{\n            'v': 79.425,\n            'f': \"79.425\",\n        },\n16.15681076,\n15.47455025,\n11.43721962,\n11.80276966,\n38403.4713023402,\n53987.6769718084],\n [{\n            'v': 34,\n            'f': \"34\",\n        },\n{\n            'v': 29,\n            'f': \"29\",\n        },\n\"Cyprus\",\n0.972,\n0.881957454328509,\n0.907058665812742,\n{\n            'v': 83.2037,\n            'f': \"83.2037\",\n        },\n{\n            'v': 79.2092,\n            'f': \"79.2092\",\n        },\n15.69172001,\n15.61785984,\n12.41040993,\n12.47198009,\n30616.5208378019,\n45734.5501001802],\n [{\n            'v': 35,\n            'f': \"35\",\n        },\n{\n            'v': 30,\n            'f': \"30\",\n        },\n\"Italy\",\n0.97,\n0.879184171966414,\n0.906110064007286,\n{\n            'v': 85.0955,\n            'f': \"85.0955\",\n        },\n{\n            'v': 80.5189,\n            'f': \"80.5189\",\n        },\n16.5740509,\n15.90188026,\n10.60560989,\n10.8870697,\n31099.8655235923,\n55186.5374305787],\n [{\n            'v': 36,\n            'f': \"36\",\n        },\n{\n            'v': 31,\n            'f': \"31\",\n        },\n\"Estonia\",\n1.021,\n0.898020476255881,\n0.879365758523169,\n{\n            'v': 81.2311,\n            'f': \"81.2311\",\n        },\n{\n            'v': 72.8152,\n            'f': \"72.8152\",\n        },\n16.76152992,\n15.14676952,\n13.78102016,\n13.2729702,\n30995.4047127434,\n45866.2068461356],\n [{\n            'v': 37,\n            'f': \"37\",\n        },\n{\n            'v': 32,\n            'f': \"32\",\n        },\n\"Czechia\",\n0.989,\n0.883640143214325,\n0.893197720581678,\n{\n            'v': 80.8885,\n            'f': \"80.8885\",\n        },\n{\n            'v': 74.6662,\n            'f': \"74.6662\",\n        },\n16.7543602,\n15.71041012,\n12.71214962,\n13.03565979,\n30454.505422077,\n47288.8088147064],\n [{\n            'v': 38,\n            'f': \"38\",\n        },\n{\n            'v': 33,\n            'f': \"33\",\n        },\n\"Greece\",\n0.969,\n0.871930103672562,\n0.900182194227927,\n{\n            'v': 82.8521,\n            'f': \"82.8521\",\n        },\n{\n            'v': 77.4923,\n            'f': \"77.4923\",\n        },\n20.05644035,\n20.00617981,\n11.09685993,\n11.74693966,\n22889.7921745763,\n35367.9478178113],\n [{\n            'v': 39,\n            'f': \"39\",\n        },\n{\n            'v': 34,\n            'f': \"34\",\n        },\n\"Poland\",\n1.008,\n0.878323947249469,\n0.871513812734441,\n{\n            'v': 80.3888,\n            'f': \"80.3888\",\n        },\n{\n            'v': 72.6255,\n            'f': \"72.6255\",\n        },\n16.7696991,\n15.31564045,\n13.34002972,\n12.96819973,\n25260.740440814,\n41335.5004493955],\n [{\n            'v': 40,\n            'f': \"40\",\n        },\n{\n            'v': 35,\n            'f': \"35\",\n        },\n\"Bahrain\",\n0.927,\n0.828959683366835,\n0.894074659875172,\n{\n            'v': 80.0178,\n            'f': \"80.0178\",\n        },\n{\n            'v': 77.7566,\n            'f': \"77.7566\",\n        },\n17.00485992,\n15.85118008,\n10.78437042,\n11.17325974,\n16786.1730610931,\n53359.4967138605],\n [{\n            'v': 41,\n            'f': \"41\",\n        },\n{\n            'v': 35,\n            'f': \"35\",\n        },\n\"Lithuania\",\n1.03,\n0.887521884692424,\n0.861661897078419,\n{\n            'v': 78.775,\n            'f': \"78.775\",\n        },\n{\n            'v': 68.7778,\n            'f': \"68.7778\",\n        },\n16.73283958,\n15.85984993,\n13.58351994,\n13.39519978,\n33891.3687228578,\n42500.0432599795],\n [{\n            'v': 42,\n            'f': \"42\",\n        },\n{\n            'v': 35,\n            'f': \"35\",\n        },\n\"Saudi Arabia\",\n0.917,\n0.825883187238768,\n0.900720983767021,\n{\n            'v': 78.7714,\n            'f': \"78.7714\",\n        },\n{\n            'v': 75.5902,\n            'f': \"75.5902\",\n        },\n16.20259094,\n16.10305977,\n10.73622036,\n11.67045021,\n20677.9755994882,\n64708.4238532023],\n [{\n            'v': 43,\n            'f': \"43\",\n        },\n{\n            'v': 38,\n            'f': \"38\",\n        },\n\"Portugal\",\n0.994,\n0.862546452391173,\n0.86749287058608,\n{\n            'v': 84.0791,\n            'f': \"84.0791\",\n        },\n{\n            'v': 77.8468,\n            'f': \"77.8468\",\n        },\n16.9929409,\n16.74909019,\n9.607560158,\n9.538669586,\n28713.4369712928,\n38126.79502683],\n [{\n            'v': 44,\n            'f': \"44\",\n        },\n{\n            'v': 39,\n            'f': \"39\",\n        },\n\"Latvia\",\n1.025,\n0.872905527468193,\n0.851825525785682,\n{\n            'v': 77.8257,\n            'f': \"77.8257\",\n        },\n{\n            'v': 69.2021,\n            'f': \"69.2021\",\n        },\n16.7930603,\n15.63866997,\n13.56832981,\n12.89021969,\n27882.2849264741,\n38506.1117070819],\n [{\n            'v': 45,\n            'f': \"45\",\n        },\n{\n            'v': 40,\n            'f': \"40\",\n        },\n\"Andorra\",\n\"..\",\n\"..\",\n\"..\",\n{\n            'v': 84.3238,\n            'f': \"84.3238\",\n        },\n{\n            'v': 77.1723,\n            'f': \"77.1723\",\n        },\n\"..\",\n\"..\",\n10.48113913,\n10.62797735,\n\"..\",\n\"..\"],\n [{\n            'v': 46,\n            'f': \"46\",\n        },\n{\n            'v': 40,\n            'f': \"40\",\n        },\n\"Croatia\",\n0.995,\n0.855338778458225,\n0.859239830853182,\n{\n            'v': 81.0549,\n            'f': \"81.0549\",\n        },\n{\n            'v': 74.233,\n            'f': \"74.233\",\n        },\n15.90723991,\n14.35393047,\n11.93745426,\n12.48016495,\n23887.9946672198,\n36712.7900935022],\n [{\n            'v': 47,\n            'f': \"47\",\n        },\n{\n            'v': 42,\n            'f': \"42\",\n        },\n\"Chile\",\n0.967,\n0.838413011605642,\n0.867267868435852,\n{\n            'v': 81.4368,\n            'f': \"81.4368\",\n        },\n{\n            'v': 76.4722,\n            'f': \"76.4722\",\n        },\n16.96546936,\n16.50263023,\n10.84131778,\n11.04624186,\n17552.929990094,\n31677.2770173509],\n [{\n            'v': 48,\n            'f': \"48\",\n        },\n{\n            'v': 42,\n            'f': \"42\",\n        },\n\"Qatar\",\n1.019,\n0.865842414496017,\n0.849982591645774,\n{\n            'v': 80.9374,\n            'f': \"80.9374\",\n        },\n{\n            'v': 78.3139,\n            'f': \"78.3139\",\n        },\n14.53326988,\n12.09377956,\n11.61881592,\n9.61258181,\n42100.8474303107,\n104066.164056264],\n [{\n            'v': 49,\n            'f': \"49\",\n        },\n{\n            'v': 44,\n            'f': \"44\",\n        },\n\"San Marino\",\n\"..\",\n\"..\",\n\"..\",\n{\n            'v': 83.495,\n            'f': \"83.495\",\n        },\n{\n            'v': 78.3621,\n            'f': \"78.3621\",\n        },\n11.75339031,\n12.81585979,\n10.89807987,\n10.69499016,\n\"..\",\n\"..\"],\n [{\n            'v': 50,\n            'f': \"50\",\n        },\n{\n            'v': 45,\n            'f': \"45\",\n        },\n\"Slovakia\",\n0.999,\n0.846502356712371,\n0.847723638092904,\n{\n            'v': 78.4307,\n            'f': \"78.4307\",\n        },\n{\n            'v': 71.4948,\n            'f': \"71.4948\",\n        },\n15.01887989,\n14.03100014,\n12.86800003,\n12.95855999,\n24848.6679746886,\n36813.1001887973],\n [{\n            'v': 51,\n            'f': \"51\",\n        },\n{\n            'v': 46,\n            'f': \"46\",\n        },\n\"Hungary\",\n0.987,\n0.840092841109874,\n0.850884144897607,\n{\n            'v': 77.9211,\n            'f': \"77.9211\",\n        },\n{\n            'v': 71.1047,\n            'f': \"71.1047\",\n        },\n15.30526079,\n14.77280122,\n12.09698963,\n12.42362022,\n25908.868426218,\n40262.2487631917],\n [{\n            'v': 52,\n            'f': \"52\",\n        },\n{\n            'v': 47,\n            'f': \"47\",\n        },\n\"Argentina\",\n0.997,\n0.833324995495747,\n0.835521147821412,\n{\n            'v': 78.6471,\n            'f': \"78.6471\",\n        },\n{\n            'v': 72.1818,\n            'f': \"72.1818\",\n        },\n19.23380089,\n16.55146027,\n11.35364528,\n10.90602315,\n15580.7157069431,\n26376.4250548888],\n [{\n            'v': 53,\n            'f': \"53\",\n        },\n{\n            'v': 48,\n            'f': \"48\",\n        },\n\"T\\u00fcrkiye\",\n0.937,\n0.806205301480887,\n0.860285269263296,\n{\n            'v': 79.1213,\n            'f': \"79.1213\",\n        },\n{\n            'v': 73.0397,\n            'f': \"73.0397\",\n        },\n17.85655022,\n18.81937981,\n7.87033987,\n9.411600113,\n19079.3504665313,\n42928.7894782511],\n [{\n            'v': 54,\n            'f': \"54\",\n        },\n{\n            'v': 49,\n            'f': \"49\",\n        },\n\"Montenegro\",\n0.981,\n0.82340419273311,\n0.839623822091397,\n{\n            'v': 79.8119,\n            'f': \"79.8119\",\n        },\n{\n            'v': 72.9973,\n            'f': \"72.9973\",\n        },\n15.60083008,\n14.60348034,\n11.795824,\n12.59037047,\n15934.7624932206,\n26000.7427698195],\n [{\n            'v': 55,\n            'f': \"55\",\n        },\n{\n            'v': 50,\n            'f': \"50\",\n        },\n\"Kuwait\",\n1.009,\n0.830933446942819,\n0.823823694749335,\n{\n            'v': 81.4628,\n            'f': \"81.4628\",\n        },\n{\n            'v': 77.1925,\n            'f': \"77.1925\",\n        },\n16.98758886,\n13.88226562,\n8.123162299,\n6.93646169,\n28085.5800910716,\n68826.8182154863],\n [{\n            'v': 56,\n            'f': \"56\",\n        },\n{\n            'v': 51,\n            'f': \"51\",\n        },\n\"Brunei Darussalam\",\n0.984,\n0.819470894364003,\n0.833025563440042,\n{\n            'v': 76.8812,\n            'f': \"76.8812\",\n        },\n{\n            'v': 72.6017,\n            'f': \"72.6017\",\n        },\n14.43284988,\n13.51095009,\n9.162,\n9.198,\n47578.7567634333,\n80260.7848628897],\n [{\n            'v': 57,\n            'f': \"57\",\n        },\n{\n            'v': 52,\n            'f': \"52\",\n        },\n\"Russian Federation\",\n1.016,\n0.828474835105471,\n0.815161030410319,\n{\n            'v': 74.7727,\n            'f': \"74.7727\",\n        },\n{\n            'v': 64.2085,\n            'f': \"64.2085\",\n        },\n15.97797966,\n15.56381035,\n12.75277374,\n12.80649889,\n21857.3324557337,\n33288.0598805046],\n [{\n            'v': 58,\n            'f': \"58\",\n        },\n{\n            'v': 53,\n            'f': \"53\",\n        },\n\"Romania\",\n0.994,\n0.818929277948892,\n0.82346438932339,\n{\n            'v': 77.8898,\n            'f': \"77.8898\",\n        },\n{\n            'v': 70.6364,\n            'f': \"70.6364\",\n        },\n14.7216301,\n13.77198982,\n10.98981953,\n11.58393002,\n24554.4767319832,\n35874.097597933],\n [{\n            'v': 59,\n            'f': \"59\",\n        },\n{\n            'v': 54,\n            'f': \"54\",\n        },\n\"Oman\",\n0.9,\n0.75183858397062,\n0.835466969514068,\n{\n            'v': 74.7155,\n            'f': \"74.7155\",\n        },\n{\n            'v': 70.9841,\n            'f': \"70.9841\",\n        },\n15.04283047,\n14.49594021,\n12.05675983,\n11.44030952,\n7169.21216933021,\n39717.2307243986],\n [{\n            'v': 60,\n            'f': \"60\",\n        },\n{\n            'v': 55,\n            'f': \"55\",\n        },\n\"Bahamas\",\n\"..\",\n\"..\",\n\"..\",\n{\n            'v': 75.0957,\n            'f': \"75.0957\",\n        },\n{\n            'v': 68.1206,\n            'f': \"68.1206\",\n        },\n\"..\",\n\"..\",\n12.7414244,\n12.55653686,\n25896.9841849982,\n35495.4252429557],\n [{\n            'v': 61,\n            'f': \"61\",\n        },\n{\n            'v': 56,\n            'f': \"56\",\n        },\n\"Kazakhstan\",\n0.998,\n0.80886045158257,\n0.810586606328901,\n{\n            'v': 73.0814,\n            'f': \"73.0814\",\n        },\n{\n            'v': 65.4761,\n            'f': \"65.4761\",\n        },\n16.04249954,\n15.49851036,\n12.37770421,\n12.31332986,\n18976.3473403292,\n29305.1269429111],\n [{\n            'v': 62,\n            'f': \"62\",\n        },\n{\n            'v': 57,\n            'f': \"57\",\n        },\n\"Trinidad and Tobago\",\n0.985,\n0.801419798725354,\n0.813863714882395,\n{\n            'v': 76.4032,\n            'f': \"76.4032\",\n        },\n{\n            'v': 69.6616,\n            'f': \"69.6616\",\n        },\n14.8003024,\n14.24290289,\n11.72598705,\n11.49873111,\n16793.8735504204,\n30166.2029841624],\n [{\n            'v': 63,\n            'f': \"63\",\n        },\n{\n            'v': 58,\n            'f': \"58\",\n        },\n\"Costa Rica\",\n0.996,\n0.806325603287496,\n0.809722197171215,\n{\n            'v': 79.8106,\n            'f': \"79.8106\",\n        },\n{\n            'v': 74.4177,\n            'f': \"74.4177\",\n        },\n17.05911064,\n16.04846001,\n8.892390251,\n8.702249527,\n16567.9331467918,\n23375.9577293755],\n [{\n            'v': 64,\n            'f': \"64\",\n        },\n{\n            'v': 58,\n            'f': \"58\",\n        },\n\"Uruguay\",\n1.022,\n0.81217901627522,\n0.794502920206434,\n{\n            'v': 79.2583,\n            'f': \"79.2583\",\n        },\n{\n            'v': 71.6545,\n            'f': \"71.6545\",\n        },\n17.32807722,\n15.44421384,\n9.251560211,\n8.6769104,\n17125.2922509839,\n25680.3291819876],\n [{\n            'v': 65,\n            'f': \"65\",\n        },\n{\n            'v': 60,\n            'f': \"60\",\n        },\n\"Belarus\",\n1.011,\n0.812031187979626,\n0.802832000481084,\n{\n            'v': 77.6972,\n            'f': \"77.6972\",\n        },\n{\n            'v': 67.2978,\n            'f': \"67.2978\",\n        },\n15.3424902,\n15.00576019,\n12.15460014,\n12.12977982,\n15158.3230260127,\n23165.0207652433],\n [{\n            'v': 66,\n            'f': \"66\",\n        },\n{\n            'v': 61,\n            'f': \"61\",\n        },\n\"Panama\",\n1.017,\n0.811685938093607,\n0.798281932492001,\n{\n            'v': 79.594,\n            'f': \"79.594\",\n        },\n{\n            'v': 73.0499,\n            'f': \"73.0499\",\n        },\n13.64869808,\n12.48239661,\n10.79374981,\n10.26064968,\n23379.6502898973,\n30531.1000053826],\n [{\n            'v': 67,\n            'f': \"67\",\n        },\n{\n            'v': 62,\n            'f': \"62\",\n        },\n\"Malaysia\",\n0.982,\n0.794154155626982,\n0.809075377595564,\n{\n            'v': 77.3623,\n            'f': \"77.3623\",\n        },\n{\n            'v': 72.659,\n            'f': \"72.659\",\n        },\n13.84428024,\n12.87180996,\n10.56863976,\n10.71778011,\n20671.5607299975,\n32379.5797368286],\n [{\n            'v': 68,\n            'f': \"68\",\n        },\n{\n            'v': 63,\n            'f': \"63\",\n        },\n\"Georgia\",\n1.007,\n0.803449378968075,\n0.79774145453163,\n{\n            'v': 76.6807,\n            'f': \"76.6807\",\n        },\n{\n            'v': 66.8028,\n            'f': \"66.8028\",\n        },\n15.93873978,\n15.2400198,\n12.86532021,\n12.77040005,\n11284.6655035638,\n18472.482610232],\n [{\n            'v': 69,\n            'f': \"69\",\n        },\n{\n            'v': 63,\n            'f': \"63\",\n        },\n\"Mauritius\",\n0.973,\n0.789107667613809,\n0.811010461550297,\n{\n            'v': 76.8265,\n            'f': \"76.8265\",\n        },\n{\n            'v': 70.44,\n            'f': \"70.44\",\n        },\n15.90719008,\n14.46316987,\n10.04156148,\n10.85802176,\n15015.8211366536,\n29221.0443354663],\n [{\n            'v': 70,\n            'f': \"70\",\n        },\n{\n            'v': 63,\n            'f': \"63\",\n        },\n\"Serbia\",\n0.982,\n0.794081583683848,\n0.808468225467158,\n{\n            'v': 77.1779,\n            'f': \"77.1779\",\n        },\n{\n            'v': 71.2212,\n            'f': \"71.2212\",\n        },\n14.97856998,\n13.85284996,\n11.01638985,\n11.75636005,\n15306.1035746539,\n23270.1670626274],\n [{\n            'v': 71,\n            'f': \"71\",\n        },\n{\n            'v': 66,\n            'f': \"66\",\n        },\n\"Thailand\",\n1.012,\n0.805394309918143,\n0.795766338010727,\n{\n            'v': 83.0408,\n            'f': \"83.0408\",\n        },\n{\n            'v': 74.518,\n            'f': \"74.518\",\n        },\n16.24098024,\n15.56719155,\n8.56564045,\n8.838259697,\n15457.0840999554,\n18694.2363336112],\n [{\n            'v': 72,\n            'f': \"72\",\n        },\n{\n            'v': 67,\n            'f': \"67\",\n        },\n\"Albania\",\n1.007,\n0.799221622279984,\n0.79360461283754,\n{\n            'v': 79.1726,\n            'f': \"79.1726\",\n        },\n{\n            'v': 74.0869,\n            'f': \"74.0869\",\n        },\n15.31414032,\n13.65186977,\n11.68443326,\n10.92069549,\n11637.2156716603,\n16629.9021108478],\n [{\n            'v': 73,\n            'f': \"73\",\n        },\n{\n            'v': 68,\n            'f': \"68\",\n        },\n\"Bulgaria\",\n0.995,\n0.792403351137831,\n0.796486005558525,\n{\n            'v': 75.4824,\n            'f': \"75.4824\",\n        },\n{\n            'v': 68.435,\n            'f': \"68.435\",\n        },\n14.17173004,\n13.64058971,\n11.50780964,\n11.30865955,\n18109.3893558731,\n28356.8151224426],\n [{\n            'v': 74,\n            'f': \"74\",\n        },\n{\n            'v': 68,\n            'f': \"68\",\n        },\n\"Grenada\",\n\"..\",\n\"..\",\n\"..\",\n{\n            'v': 77.8979,\n            'f': \"77.8979\",\n        },\n{\n            'v': 72.2123,\n            'f': \"72.2123\",\n        },\n19.26614739,\n18.07579333,\n\"..\",\n\"..\",\n\"..\",\n\"..\"],\n [{\n            'v': 75,\n            'f': \"75\",\n        },\n{\n            'v': 70,\n            'f': \"70\",\n        },\n\"Barbados\",\n1.034,\n0.799110547670975,\n0.772530746811268,\n{\n            'v': 79.3594,\n            'f': \"79.3594\",\n        },\n{\n            'v': 75.6292,\n            'f': \"75.6292\",\n        },\n17.69855459,\n13.76279051,\n10.28248279,\n9.088873873,\n10235.2143446648,\n14554.6140481282],\n [{\n            'v': 76,\n            'f': \"76\",\n        },\n{\n            'v': 71,\n            'f': \"71\",\n        },\n\"Antigua and Barbuda\",\n\"..\",\n\"..\",\n\"..\",\n{\n            'v': 80.9411,\n            'f': \"80.9411\",\n        },\n{\n            'v': 75.7753,\n            'f': \"75.7753\",\n        },\n15.20951739,\n13.19281252,\n\"..\",\n\"..\",\n\"..\",\n\"..\"],\n [{\n            'v': 77,\n            'f': \"77\",\n        },\n{\n            'v': 72,\n            'f': \"72\",\n        },\n\"Seychelles\",\n\"..\",\n\"..\",\n\"..\",\n{\n            'v': 75.6503,\n            'f': \"75.6503\",\n        },\n{\n            'v': 67.7429,\n            'f': \"67.7429\",\n        },\n15.11960983,\n12.86174011,\n10.21333,\n10.36414,\n\"..\",\n\"..\"],\n [{\n            'v': 78,\n            'f': \"78\",\n        },\n{\n            'v': 73,\n            'f': \"73\",\n        },\n\"Sri Lanka\",\n0.949,\n0.754666487027724,\n0.794880643060017,\n{\n            'v': 79.5018,\n            'f': \"79.5018\",\n        },\n{\n            'v': 73.1101,\n            'f': \"73.1101\",\n        },\n14.49209703,\n13.78702118,\n10.83043003,\n10.82703018,\n7004.61099016414,\n18573.3025486633],\n [{\n            'v': 79,\n            'f': \"79\",\n        },\n{\n            'v': 74,\n            'f': \"74\",\n        },\n\"Bosnia and Herzegovina\",\n0.94,\n0.753943386468645,\n0.802005823607188,\n{\n            'v': 77.5302,\n            'f': \"77.5302\",\n        },\n{\n            'v': 73.1078,\n            'f': \"73.1078\",\n        },\n14.07886364,\n13.52113636,\n9.778189659,\n11.35262966,\n10709.2849239449,\n19917.0061542094],\n [{\n            'v': 80,\n            'f': \"80\",\n        },\n{\n            'v': 75,\n            'f': \"75\",\n        },\n\"Saint Kitts and Nevis\",\n\"..\",\n\"..\",\n\"..\",\n{\n            'v': 75.3413,\n            'f': \"75.3413\",\n        },\n{\n            'v': 68.3456,\n            'f': \"68.3456\",\n        },\n15.99400249,\n14.9184988,\n\"..\",\n\"..\",\n\"..\",\n\"..\"],\n [{\n            'v': 81,\n            'f': \"81\",\n        },\n{\n            'v': 76,\n            'f': \"76\",\n        },\n\"Iran (Islamic Republic of)\",\n0.88,\n0.704065864639817,\n0.799718990025852,\n{\n            'v': 76.8085,\n            'f': \"76.8085\",\n        },\n{\n            'v': 71.2463,\n            'f': \"71.2463\",\n        },\n14.69062996,\n14.53594971,\n10.61832691,\n10.65504347,\n3767.3994597355,\n22040.7096548897],\n [{\n            'v': 82,\n            'f': \"82\",\n        },\n{\n            'v': 77,\n            'f': \"77\",\n        },\n\"Ukraine\",\n1.012,\n0.77570954187598,\n0.766191934849732,\n{\n            'v': 76.7002,\n            'f': \"76.7002\",\n        },\n{\n            'v': 66.5312,\n            'f': \"66.5312\",\n        },\n14.99265633,\n14.93059899,\n11.45783104,\n10.72236653,\n10369.8685562964,\n16604.7420082415],\n [{\n            'v': 83,\n            'f': \"83\",\n        },\n{\n            'v': 78,\n            'f': \"78\",\n        },\n\"North Macedonia\",\n0.945,\n0.746188014080375,\n0.789290228737714,\n{\n            'v': 76.1561,\n            'f': \"76.1561\",\n        },\n{\n            'v': 71.6616,\n            'f': \"71.6616\",\n        },\n13.86275189,\n13.39966973,\n9.653639793,\n10.8074398,\n11146.8390182508,\n20715.6717198476],\n [{\n            'v': 84,\n            'f': \"84\",\n        },\n{\n            'v': 79,\n            'f': \"79\",\n        },\n\"China\",\n0.984,\n0.761168005980658,\n0.773243023883288,\n{\n            'v': 81.1546,\n            'f': \"81.1546\",\n        },\n{\n            'v': 75.4634,\n            'f': \"75.4634\",\n        },\n14.77470471,\n13.69752509,\n7.33460805,\n7.861852212,\n13979.6897097644,\n20882.8663691594],\n [{\n            'v': 85,\n            'f': \"85\",\n        },\n{\n            'v': 80,\n            'f': \"80\",\n        },\n\"Dominican Republic\",\n1.014,\n0.771504074135683,\n0.760780375222154,\n{\n            'v': 76.2914,\n            'f': \"76.2914\",\n        },\n{\n            'v': 69.2978,\n            'f': \"69.2978\",\n        },\n15.35246548,\n13.57888472,\n9.607207455,\n8.988241636,\n13695.3114600437,\n22248.0612511166],\n [{\n            'v': 86,\n            'f': \"86\",\n        },\n{\n            'v': 80,\n            'f': \"80\",\n        },\n\"Moldova (Republic of)\",\n1.01,\n0.77077309927622,\n0.763199633984424,\n{\n            'v': 73.5466,\n            'f': \"73.5466\",\n        },\n{\n            'v': 64.4433,\n            'f': \"64.4433\",\n        },\n14.75263023,\n14.12357998,\n11.85783958,\n11.78106976,\n12086.9609175949,\n17961.1685357807],\n [{\n            'v': 87,\n            'f': \"87\",\n        },\n{\n            'v': 80,\n            'f': \"80\",\n        },\n\"Palau\",\n\"..\",\n\"..\",\n\"..\",\n{\n            'v': 70.5753,\n            'f': \"70.5753\",\n        },\n{\n            'v': 62.4323,\n            'f': \"62.4323\",\n        },\n15.98627,\n15.53672,\n\"..\",\n\"..\",\n\"..\",\n\"..\"],\n [{\n            'v': 88,\n            'f': \"88\",\n        },\n{\n            'v': 83,\n            'f': \"83\",\n        },\n\"Cuba\",\n0.961,\n0.744772410843252,\n0.774843635093927,\n{\n            'v': 76.3585,\n            'f': \"76.3585\",\n        },\n{\n            'v': 71.2446,\n            'f': \"71.2446\",\n        },\n15.10297966,\n13.81696987,\n12.59368627,\n12.40169983,\n5103.3485544724,\n10693.0076839618],\n [{\n            'v': 89,\n            'f': \"89\",\n        },\n{\n            'v': 84,\n            'f': \"84\",\n        },\n\"Peru\",\n0.95,\n0.742054002030932,\n0.781076188704073,\n{\n            'v': 74.7462,\n            'f': \"74.7462\",\n        },\n{\n            'v': 70.1206,\n            'f': \"70.1206\",\n        },\n15.225974,\n15.54962308,\n9.325330482,\n10.45869538,\n9812.53559644605,\n14726.6580215782],\n [{\n            'v': 90,\n            'f': \"90\",\n        },\n{\n            'v': 85,\n            'f': \"85\",\n        },\n\"Armenia\",\n1.001,\n0.756949514180017,\n0.75611056318535,\n{\n            'v': 77.35,\n            'f': \"77.35\",\n        },\n{\n            'v': 66.5544,\n            'f': \"66.5544\",\n        },\n13.81657982,\n12.52400017,\n11.32151985,\n11.34119034,\n8736.26384887973,\n18557.9479948061],\n [{\n            'v': 91,\n            'f': \"91\",\n        },\n{\n            'v': 86,\n            'f': \"86\",\n        },\n\"Mexico\",\n0.989,\n0.752508707905497,\n0.761102121687284,\n{\n            'v': 74.8637,\n            'f': \"74.8637\",\n        },\n{\n            'v': 66.0556,\n            'f': \"66.0556\",\n        },\n15.21201038,\n14.51403046,\n9.096670151,\n9.358039856,\n12455.7662515017,\n23600.0596263886],\n [{\n            'v': 92,\n            'f': \"92\",\n        },\n{\n            'v': 87,\n            'f': \"87\",\n        },\n\"Brazil\",\n0.994,\n0.750013091527245,\n0.754680006192227,\n{\n            'v': 76.0086,\n            'f': \"76.0086\",\n        },\n{\n            'v': 69.5597,\n            'f': \"69.5597\",\n        },\n16.03347969,\n15.16670036,\n8.333614199,\n7.89424439,\n10903.0750004898,\n17959.9647134631],\n [{\n            'v': 93,\n            'f': \"93\",\n        },\n{\n            'v': 88,\n            'f': \"88\",\n        },\n\"Colombia\",\n0.984,\n0.743729498389671,\n0.755726924162749,\n{\n            'v': 76.4421,\n            'f': \"76.4421\",\n        },\n{\n            'v': 69.4041,\n            'f': \"69.4041\",\n        },\n14.68078995,\n14.21420002,\n9.016329765,\n8.697070122,\n10280.7559774788,\n18598.7331638985],\n [{\n            'v': 94,\n            'f': \"94\",\n        },\n{\n            'v': 89,\n            'f': \"89\",\n        },\n\"Saint Vincent and the Grenadines\",\n0.97,\n0.738742139946784,\n0.761468999697585,\n{\n            'v': 72.3958,\n            'f': \"72.3958\",\n        },\n{\n            'v': 67.354,\n            'f': \"67.354\",\n        },\n14.90442804,\n14.45880707,\n10.92370987,\n10.74547958,\n8720.22377793274,\n15074.8975675202],\n [{\n            'v': 95,\n            'f': \"95\",\n        },\n{\n            'v': 90,\n            'f': \"90\",\n        },\n\"Maldives\",\n0.925,\n0.708976174237636,\n0.766385359520433,\n{\n            'v': 81.0193,\n            'f': \"81.0193\",\n        },\n{\n            'v': 79.082,\n            'f': \"79.082\",\n        },\n14.17418957,\n11.93892956,\n7.12,\n7.528,\n6358.7365347176,\n22119.1490135241],\n [{\n            'v': 96,\n            'f': \"96\",\n        },\n{\n            'v': 91,\n            'f': \"91\",\n        },\n\"Algeria\",\n0.88,\n0.680221302277268,\n0.773257247984168,\n{\n            'v': 77.9588,\n            'f': \"77.9588\",\n        },\n{\n            'v': 74.8787,\n            'f': \"74.8787\",\n        },\n15.34625536,\n13.96632659,\n7.735659996,\n8.438411764,\n3549.99674536026,\n17787.3129149831],\n [{\n            'v': 97,\n            'f': \"97\",\n        },\n{\n            'v': 91,\n            'f': \"91\",\n        },\n\"Azerbaijan\",\n0.974,\n0.733874991005832,\n0.753249711152281,\n{\n            'v': 73.2871,\n            'f': \"73.2871\",\n        },\n{\n            'v': 65.6458,\n            'f': \"65.6458\",\n        },\n13.63412952,\n13.37728024,\n10.2091198,\n10.90130997,\n10536.0159315317,\n18075.8323004514],\n [{\n            'v': 98,\n            'f': \"98\",\n        },\n{\n            'v': 91,\n            'f': \"91\",\n        },\n\"Tonga\",\n0.965,\n0.728001833634309,\n0.754353801555566,\n{\n            'v': 73.719,\n            'f': \"73.719\",\n        },\n{\n            'v': 68.4164,\n            'f': \"68.4164\",\n        },\n16.30469398,\n15.65363352,\n11.47622061,\n11.23541736,\n4842.0269916731,\n8845.00397381524],\n [{\n            'v': 99,\n            'f': \"99\",\n        },\n{\n            'v': 91,\n            'f': \"91\",\n        },\n\"Turkmenistan\",\n0.956,\n0.725895846709806,\n0.759567181536898,\n{\n            'v': 72.663,\n            'f': \"72.663\",\n        },\n{\n            'v': 65.8652,\n            'f': \"65.8652\",\n        },\n12.99555016,\n13.4203701,\n10.92442,\n11.62147,\n9227.49913565749,\n16884.4371904096],\n [{\n            'v': 100,\n            'f': \"100\",\n        },\n{\n            'v': 95,\n            'f': \"95\",\n        },\n\"Ecuador\",\n0.98,\n0.730715580711299,\n0.745435731744057,\n{\n            'v': 77.4619,\n            'f': \"77.4619\",\n        },\n{\n            'v': 70.2604,\n            'f': \"70.2604\",\n        },\n14.94892979,\n14.31173992,\n8.800060272,\n8.836270332,\n7450.79566670892,\n13180.2177294588],\n [{\n            'v': 101,\n            'f': \"101\",\n        },\n{\n            'v': 96,\n            'f': \"96\",\n        },\n\"Mongolia\",\n1.031,\n0.74898747657868,\n0.726425807898775,\n{\n            'v': 75.6958,\n            'f': \"75.6958\",\n        },\n{\n            'v': 66.5368,\n            'f': \"66.5368\",\n        },\n15.57209015,\n14.39468002,\n9.949589729,\n8.847709656,\n8540.71984457848,\n12666.3652094862],\n [{\n            'v': 102,\n            'f': \"102\",\n        },\n{\n            'v': 97,\n            'f': \"97\",\n        },\n\"Egypt\",\n0.882,\n0.665947413955719,\n0.755263190319675,\n{\n            'v': 72.6077,\n            'f': \"72.6077\",\n        },\n{\n            'v': 67.9353,\n            'f': \"67.9353\",\n        },\n13.84451035,\n13.73198027,\n9.802207806,\n9.420359504,\n3536.06517754087,\n19740.683936833],\n [{\n            'v': 103,\n            'f': \"103\",\n        },\n{\n            'v': 97,\n            'f': \"97\",\n        },\n\"Tunisia\",\n0.931,\n0.696830059789456,\n0.748367538855562,\n{\n            'v': 77.1448,\n            'f': \"77.1448\",\n        },\n{\n            'v': 70.7428,\n            'f': \"70.7428\",\n        },\n16.45976207,\n14.45251965,\n6.855294122,\n8.034592614,\n4869.59775251937,\n15777.9051500011],\n [{\n            'v': 104,\n            'f': \"104\",\n        },\n{\n            'v': 99,\n            'f': \"99\",\n        },\n\"Fiji\",\n0.931,\n0.69835081821258,\n0.750136509804892,\n{\n            'v': 68.8768,\n            'f': \"68.8768\",\n        },\n{\n            'v': 65.4261,\n            'f': \"65.4261\",\n        },\n14.97936708,\n14.49421292,\n11.00194066,\n10.84056513,\n5664.1868317186,\n14270.3683399562],\n [{\n            'v': 105,\n            'f': \"105\",\n        },\n{\n            'v': 99,\n            'f': \"99\",\n        },\n\"Suriname\",\n1.001,\n0.727709999110813,\n0.727228713685787,\n{\n            'v': 73.5513,\n            'f': \"73.5513\",\n        },\n{\n            'v': 67.2067,\n            'f': \"67.2067\",\n        },\n14.19690286,\n11.92232229,\n9.897562169,\n9.625531504,\n8865.60171275001,\n16506.3524653874],\n [{\n            'v': 106,\n            'f': \"106\",\n        },\n{\n            'v': 101,\n            'f': \"101\",\n        },\n\"Uzbekistan\",\n0.944,\n0.702783954299629,\n0.744266009327342,\n{\n            'v': 73.3899,\n            'f': \"73.3899\",\n        },\n{\n            'v': 68.3335,\n            'f': \"68.3335\",\n        },\n12.37631989,\n12.57161999,\n11.73186016,\n12.06482983,\n5427.35836653771,\n10402.9519307737],\n [{\n            'v': 107,\n            'f': \"107\",\n        },\n{\n            'v': 102,\n            'f': \"102\",\n        },\n\"Dominica\",\n\"..\",\n\"..\",\n\"..\",\n{\n            'v': 76.3013,\n            'f': \"76.3013\",\n        },\n{\n            'v': 69.7249,\n            'f': \"69.7249\",\n        },\n14.61002724,\n12.156349,\n\"..\",\n\"..\",\n\"..\",\n\"..\"],\n [{\n            'v': 108,\n            'f': \"108\",\n        },\n{\n            'v': 102,\n            'f': \"102\",\n        },\n\"Jordan\",\n0.887,\n0.663218429180759,\n0.747658803916358,\n{\n            'v': 76.7726,\n            'f': \"76.7726\",\n        },\n{\n            'v': 72.1277,\n            'f': \"72.1277\",\n        },\n10.84105015,\n10.45506954,\n10.07157993,\n10.8373003,\n3778.06487446032,\n15631.2796505655],\n [{\n            'v': 109,\n            'f': \"109\",\n        },\n{\n            'v': 104,\n            'f': \"104\",\n        },\n\"Libya\",\n0.975,\n0.708031742248212,\n0.72631059650525,\n{\n            'v': 74.3956,\n            'f': \"74.3956\",\n        },\n{\n            'v': 69.6305,\n            'f': \"69.6305\",\n        },\n13.06487113,\n12.64368887,\n8.47,\n7.214,\n9569.73206833024,\n20960.0752853179],\n [{\n            'v': 110,\n            'f': \"110\",\n        },\n{\n            'v': 105,\n            'f': \"105\",\n        },\n\"Paraguay\",\n0.99,\n0.712812675133761,\n0.71987843117796,\n{\n            'v': 73.3847,\n            'f': \"73.3847\",\n        },\n{\n            'v': 67.4336,\n            'f': \"67.4336\",\n        },\n13.63530124,\n12.37616125,\n8.856229782,\n8.867710114,\n9410.45530932146,\n15264.7720772972],\n [{\n            'v': 111,\n            'f': \"111\",\n        },\n{\n            'v': 106,\n            'f': \"106\",\n        },\n\"Palestine, State of\",\n0.891,\n0.655009063848998,\n0.734872626687393,\n{\n            'v': 75.9386,\n            'f': \"75.9386\",\n        },\n{\n            'v': 71.0939,\n            'f': \"71.0939\",\n        },\n14.26461983,\n12.48151016,\n9.916460037,\n9.960129738,\n2250.06755635548,\n10936.9569395981],\n [{\n            'v': 112,\n            'f': \"112\",\n        },\n{\n            'v': 106,\n            'f': \"106\",\n        },\n\"Saint Lucia\",\n1.011,\n0.718726697345967,\n0.710892671214437,\n{\n            'v': 74.7166,\n            'f': \"74.7166\",\n        },\n{\n            'v': 67.8378,\n            'f': \"67.8378\",\n        },\n13.35690022,\n12.37703991,\n8.804559708,\n8.290690422,\n9990.61775768094,\n14146.9746930103],\n [{\n            'v': 113,\n            'f': \"113\",\n        },\n{\n            'v': 108,\n            'f': \"108\",\n        },\n\"Guyana\",\n0.978,\n0.704002156022054,\n0.719594973357622,\n{\n            'v': 69.1042,\n            'f': \"69.1042\",\n        },\n{\n            'v': 62.4812,\n            'f': \"62.4812\",\n        },\n12.76161284,\n12.24144493,\n8.72292,\n8.489497,\n14734.6205638016,\n30534.3451793803],\n [{\n            'v': 114,\n            'f': \"114\",\n        },\n{\n            'v': 109,\n            'f': \"109\",\n        },\n\"South Africa\",\n0.944,\n0.685864456328166,\n0.726844169418606,\n{\n            'v': 64.9992,\n            'f': \"64.9992\",\n        },\n{\n            'v': 59.4575,\n            'f': \"59.4575\",\n        },\n13.9843998,\n13.30751038,\n9.657389641,\n12.15235043,\n9934.61143768003,\n16129.3349296619],\n [{\n            'v': 115,\n            'f': \"115\",\n        },\n{\n            'v': 110,\n            'f': \"110\",\n        },\n\"Jamaica\",\n0.99,\n0.703788216569689,\n0.710547841942973,\n{\n            'v': 72.543,\n            'f': \"72.543\",\n        },\n{\n            'v': 68.469,\n            'f': \"68.469\",\n        },\n13.72101442,\n13.08882643,\n9.744774949,\n8.530893495,\n6982.25134084938,\n10715.4698792703],\n [{\n            'v': 116,\n            'f': \"116\",\n        },\n{\n            'v': 111,\n            'f': \"111\",\n        },\n\"Samoa\",\n0.957,\n0.685493302521641,\n0.71649904694292,\n{\n            'v': 75.5034,\n            'f': \"75.5034\",\n        },\n{\n            'v': 70.3119,\n            'f': \"70.3119\",\n        },\n12.97950554,\n11.90373993,\n11.7741,\n11.02812,\n3222.69805006025,\n7312.13553072018],\n [{\n            'v': 117,\n            'f': \"117\",\n        },\n{\n            'v': 112,\n            'f': \"112\",\n        },\n\"Gabon\",\n0.908,\n0.666954989663341,\n0.734791953519311,\n{\n            'v': 68.4944,\n            'f': \"68.4944\",\n        },\n{\n            'v': 63.4876,\n            'f': \"63.4876\",\n        },\n12.59342306,\n13.36119694,\n7.843676749,\n10.49761667,\n9375.89599297558,\n17211.8952750153],\n [{\n            'v': 118,\n            'f': \"118\",\n        },\n{\n            'v': 112,\n            'f': \"112\",\n        },\n\"Lebanon\",\n0.882,\n0.649614298312712,\n0.73655597447969,\n{\n            'v': 77.2512,\n            'f': \"77.2512\",\n        },\n{\n            'v': 72.8466,\n            'f': \"72.8466\",\n        },\n11.11914,\n11.4526,\n8.4842,\n8.9158,\n3814.52256476512,\n15585.7976870531],\n [{\n            'v': 119,\n            'f': \"119\",\n        },\n{\n            'v': 114,\n            'f': \"114\",\n        },\n\"Indonesia\",\n0.941,\n0.680843111778455,\n0.72334559904842,\n{\n            'v': 69.7437,\n            'f': \"69.7437\",\n        },\n{\n            'v': 65.5327,\n            'f': \"65.5327\",\n        },\n13.83131392,\n13.67382635,\n8.206930161,\n8.912110329,\n7905.91742145043,\n14975.8134258192],\n [{\n            'v': 120,\n            'f': \"120\",\n        },\n{\n            'v': 115,\n            'f': \"115\",\n        },\n\"Viet Nam\",\n1.002,\n0.703772486659416,\n0.702084710051792,\n{\n            'v': 78.2349,\n            'f': \"78.2349\",\n        },\n{\n            'v': 69.117,\n            'f': \"69.117\",\n        },\n13.21517011,\n12.70955587,\n8.034310341,\n8.727129936,\n6932.36754714609,\n8825.59973668502],\n [{\n            'v': 121,\n            'f': \"121\",\n        },\n{\n            'v': 116,\n            'f': \"116\",\n        },\n\"Philippines\",\n0.99,\n0.694706500393723,\n0.70154970177919,\n{\n            'v': 71.4822,\n            'f': \"71.4822\",\n        },\n{\n            'v': 67.1717,\n            'f': \"67.1717\",\n        },\n13.48997021,\n12.78559017,\n9.232720375,\n8.702549934,\n7486.71823516506,\n10310.6296124629],\n [{\n            'v': 122,\n            'f': \"122\",\n        },\n{\n            'v': 117,\n            'f': \"117\",\n        },\n\"Botswana\",\n0.981,\n0.686186100735002,\n0.699553276642086,\n{\n            'v': 63.5942,\n            'f': \"63.5942\",\n        },\n{\n            'v': 58.6909,\n            'f': \"58.6909\",\n        },\n12.37531361,\n12.15496169,\n10.274,\n10.398,\n13839.156834811,\n18618.3231579809],\n [{\n            'v': 123,\n            'f': \"123\",\n        },\n{\n            'v': 118,\n            'f': \"118\",\n        },\n\"Bolivia (Plurinational State of)\",\n0.964,\n0.679814317928878,\n0.704911025662662,\n{\n            'v': 66.7999,\n            'f': \"66.7999\",\n        },\n{\n            'v': 60.879,\n            'f': \"60.879\",\n        },\n14.92614555,\n14.96779156,\n9.216730118,\n10.49209023,\n6855.90466102971,\n9358.68073052619],\n [{\n            'v': 124,\n            'f': \"124\",\n        },\n{\n            'v': 118,\n            'f': \"118\",\n        },\n\"Kyrgyzstan\",\n0.966,\n0.674734308344838,\n0.698277777982738,\n{\n            'v': 74.3515,\n            'f': \"74.3515\",\n        },\n{\n            'v': 65.8,\n            'f': \"65.8\",\n        },\n13.43486977,\n12.96424961,\n11.6026467,\n11.13378012,\n2863.19122408479,\n6331.48718900302],\n [{\n            'v': 125,\n            'f': \"125\",\n        },\n{\n            'v': 120,\n            'f': \"120\",\n        },\n\"Venezuela (Bolivarian Republic of)\",\n0.983,\n0.679218478409963,\n0.690932231750213,\n{\n            'v': 75.2072,\n            'f': \"75.2072\",\n        },\n{\n            'v': 66.2592,\n            'f': \"66.2592\",\n        },\n13.81196,\n11.8202,\n11.36222007,\n10.84877,\n2865.79386852269,\n6795.8637928422],\n [{\n            'v': 126,\n            'f': \"126\",\n        },\n{\n            'v': 121,\n            'f': \"121\",\n        },\n\"Iraq\",\n0.803,\n0.585138843584573,\n0.728293314880112,\n{\n            'v': 72.4219,\n            'f': \"72.4219\",\n        },\n{\n            'v': 68.2004,\n            'f': \"68.2004\",\n        },\n11.4617644,\n12.67899669,\n7.248047674,\n8.426082131,\n2184.12507490671,\n17748.4837662146],\n [{\n            'v': 127,\n            'f': \"127\",\n        },\n{\n            'v': 122,\n            'f': \"122\",\n        },\n\"Tajikistan\",\n0.909,\n0.647971593761769,\n0.712813626100714,\n{\n            'v': 73.7339,\n            'f': \"73.7339\",\n        },\n{\n            'v': 69.5682,\n            'f': \"69.5682\",\n        },\n11.17689865,\n12.10252231,\n10.88014417,\n11.76179455,\n2980.08809109594,\n6095.51503746544],\n [{\n            'v': 128,\n            'f': \"128\",\n        },\n{\n            'v': 123,\n            'f': \"123\",\n        },\n\"Belize\",\n0.975,\n0.671552426237091,\n0.68883798672152,\n{\n            'v': 74.3322,\n            'f': \"74.3322\",\n        },\n{\n            'v': 67.1187,\n            'f': \"67.1187\",\n        },\n13.29214954,\n12.68122959,\n9.042070389,\n8.652890205,\n4248.54338030356,\n8344.77350608919],\n [{\n            'v': 129,\n            'f': \"129\",\n        },\n{\n            'v': 123,\n            'f': \"123\",\n        },\n\"Morocco\",\n0.861,\n0.62125179556916,\n0.721809681581608,\n{\n            'v': 76.3977,\n            'f': \"76.3977\",\n        },\n{\n            'v': 71.8927,\n            'f': \"71.8927\",\n        },\n13.91057014,\n14.39321041,\n4.988,\n6.866,\n3193.53330118439,\n11356.0231495117],\n [{\n            'v': 130,\n            'f': \"130\",\n        },\n{\n            'v': 125,\n            'f': \"125\",\n        },\n\"El Salvador\",\n0.964,\n0.660206920795344,\n0.684866966914397,\n{\n            'v': 75.1492,\n            'f': \"75.1492\",\n        },\n{\n            'v': 66.0775,\n            'f': \"66.0775\",\n        },\n12.70825432,\n12.6377241,\n6.769279957,\n7.624269962,\n5823.67140162037,\n11014.9537984843],\n [{\n            'v': 131,\n            'f': \"131\",\n        },\n{\n            'v': 126,\n            'f': \"126\",\n        },\n\"Nicaragua\",\n0.956,\n0.647750656002047,\n0.677703927704236,\n{\n            'v': 76.8026,\n            'f': \"76.8026\",\n        },\n{\n            'v': 70.8357,\n            'f': \"70.8357\",\n        },\n12.65479952,\n12.62791614,\n7.42,\n6.84,\n3646.34102314576,\n7661.43405217748],\n [{\n            'v': 132,\n            'f': \"132\",\n        },\n{\n            'v': 127,\n            'f': \"127\",\n        },\n\"Bhutan\",\n0.937,\n0.641322529216457,\n0.684476486313076,\n{\n            'v': 73.7734,\n            'f': \"73.7734\",\n        },\n{\n            'v': 70.1411,\n            'f': \"70.1411\",\n        },\n13.63224386,\n12.83391543,\n4.450652072,\n5.761204893,\n6670.57607769609,\n11896.3299819611],\n [{\n            'v': 133,\n            'f': \"133\",\n        },\n{\n            'v': 128,\n            'f': \"128\",\n        },\n\"Cabo Verde\",\n0.981,\n0.653226940636031,\n0.666122006671912,\n{\n            'v': 78.4572,\n            'f': \"78.4572\",\n        },\n{\n            'v': 69.5891,\n            'f': \"69.5891\",\n        },\n12.83086562,\n12.28982854,\n6.025999125,\n6.573896076,\n4681.79174945485,\n7795.74818680473],\n [{\n            'v': 134,\n            'f': \"134\",\n        },\n{\n            'v': 129,\n            'f': \"129\",\n        },\n\"Bangladesh\",\n0.898,\n0.617374769969376,\n0.687568945719214,\n{\n            'v': 74.2672,\n            'f': \"74.2672\",\n        },\n{\n            'v': 70.5989,\n            'f': \"70.5989\",\n        },\n13.00008011,\n11.90853977,\n6.755380154,\n8.020810127,\n2811.24342225273,\n8176.05007673039],\n [{\n            'v': 135,\n            'f': \"135\",\n        },\n{\n            'v': 130,\n            'f': \"130\",\n        },\n\"Tuvalu\",\n\"..\",\n\"..\",\n\"..\",\n{\n            'v': 69.1378,\n            'f': \"69.1378\",\n        },\n{\n            'v': 60.8155,\n            'f': \"60.8155\",\n        },\n9.46434,\n9.34623,\n10.3877,\n10.7575,\n\"..\",\n\"..\"],\n [{\n            'v': 136,\n            'f': \"136\",\n        },\n{\n            'v': 131,\n            'f': \"131\",\n        },\n\"Marshall Islands\",\n\"..\",\n\"..\",\n\"..\",\n{\n            'v': 67.1997,\n            'f': \"67.1997\",\n        },\n{\n            'v': 63.6922,\n            'f': \"63.6922\",\n        },\n10.37392998,\n10.1091404,\n10.70687008,\n11.05574989,\n\"..\",\n\"..\"],\n [{\n            'v': 137,\n            'f': \"137\",\n        },\n{\n            'v': 132,\n            'f': \"132\",\n        },\n\"India\",\n0.849,\n0.566684747760222,\n0.667813532791371,\n{\n            'v': 68.8864,\n            'f': \"68.8864\",\n        },\n{\n            'v': 65.7563,\n            'f': \"65.7563\",\n        },\n11.94211006,\n11.81324005,\n6.251538841,\n7.228794054,\n2277.26552420848,\n10632.9329066072],\n [{\n            'v': 138,\n            'f': \"138\",\n        },\n{\n            'v': 133,\n            'f': \"133\",\n        },\n\"Ghana\",\n0.946,\n0.614164007667739,\n0.64935266523729,\n{\n            'v': 66.0136,\n            'f': \"66.0136\",\n        },\n{\n            'v': 61.6304,\n            'f': \"61.6304\",\n        },\n12.05702972,\n12.03862,\n7.779994279,\n8.969073236,\n4723.28854639103,\n6770.83066744231],\n [{\n            'v': 139,\n            'f': \"139\",\n        },\n{\n            'v': 134,\n            'f': \"134\",\n        },\n\"Micronesia (Federated States of)\",\n\"..\",\n\"..\",\n\"..\",\n{\n            'v': 74.608,\n            'f': \"74.608\",\n        },\n{\n            'v': 67.1203,\n            'f': \"67.1203\",\n        },\n\"..\",\n\"..\",\n\"..\",\n\"..\",\n\"..\",\n\"..\"],\n [{\n            'v': 140,\n            'f': \"140\",\n        },\n{\n            'v': 135,\n            'f': \"135\",\n        },\n\"Guatemala\",\n0.917,\n0.595718044061203,\n0.649879505685285,\n{\n            'v': 72.6514,\n            'f': \"72.6514\",\n        },\n{\n            'v': 66.0046,\n            'f': \"66.0046\",\n        },\n10.48863029,\n10.63549042,\n5.235280037,\n6.237989902,\n4909.09943086505,\n12613.8442265842],\n [{\n            'v': 141,\n            'f': \"141\",\n        },\n{\n            'v': 136,\n            'f': \"136\",\n        },\n\"Kiribati\",\n\"..\",\n\"..\",\n\"..\",\n{\n            'v': 69.0959,\n            'f': \"69.0959\",\n        },\n{\n            'v': 65.504,\n            'f': \"65.504\",\n        },\n12.426346,\n11.252668,\n\"..\",\n\"..\",\n\"..\",\n\"..\"],\n [{\n            'v': 142,\n            'f': \"142\",\n        },\n{\n            'v': 137,\n            'f': \"137\",\n        },\n\"Honduras\",\n0.96,\n0.607425220790325,\n0.633043538885481,\n{\n            'v': 72.5341,\n            'f': \"72.5341\",\n        },\n{\n            'v': 67.8945,\n            'f': \"67.8945\",\n        },\n10.37340486,\n9.901273236,\n6.756909847,\n7.431379795,\n4271.17764783735,\n6304.34665933144],\n [{\n            'v': 143,\n            'f': \"143\",\n        },\n{\n            'v': 138,\n            'f': \"138\",\n        },\n\"Sao Tome and Principe\",\n0.907,\n0.583599404094198,\n0.643189148522934,\n{\n            'v': 70.4194,\n            'f': \"70.4194\",\n        },\n{\n            'v': 65.1607,\n            'f': \"65.1607\",\n        },\n13.46457672,\n13.27850437,\n5.595629228,\n6.810886842,\n2414.87905559746,\n5634.98855657362],\n [{\n            'v': 144,\n            'f': \"144\",\n        },\n{\n            'v': 139,\n            'f': \"139\",\n        },\n\"Namibia\",\n1.004,\n0.615799012945208,\n0.613057327093242,\n{\n            'v': 62.9849,\n            'f': \"62.9849\",\n        },\n{\n            'v': 55.7206,\n            'f': \"55.7206\",\n        },\n11.89989359,\n11.94272709,\n7.454418013,\n6.912215715,\n7270.70465626511,\n10094.308150449],\n [{\n            'v': 145,\n            'f': \"145\",\n        },\n{\n            'v': 140,\n            'f': \"140\",\n        },\n\"Lao People's Democratic Republic\",\n0.949,\n0.590907405437141,\n0.622723508972845,\n{\n            'v': 70.0778,\n            'f': \"70.0778\",\n        },\n{\n            'v': 66.1536,\n            'f': \"66.1536\",\n        },\n9.9354496,\n10.33197975,\n5.008,\n5.764,\n6756.89131878323,\n8627.131679721],\n [{\n            'v': 146,\n            'f': \"146\",\n        },\n{\n            'v': 140,\n            'f': \"140\",\n        },\n\"Timor-Leste\",\n0.917,\n0.580299039479748,\n0.633048483891841,\n{\n            'v': 69.5445,\n            'f': \"69.5445\",\n        },\n{\n            'v': 66.0999,\n            'f': \"66.0999\",\n        },\n12.20868199,\n13.02351401,\n4.74176,\n6.161881,\n3641.65088486548,\n5248.1571197395],\n [{\n            'v': 147,\n            'f': \"147\",\n        },\n{\n            'v': 140,\n            'f': \"140\",\n        },\n\"Vanuatu\",\n\"..\",\n\"..\",\n\"..\",\n{\n            'v': 72.9446,\n            'f': \"72.9446\",\n        },\n{\n            'v': 68.3967,\n            'f': \"68.3967\",\n        },\n11.37982422,\n11.6999255,\n\"..\",\n\"..\",\n2353.69706869948,\n3808.57617010312],\n [{\n            'v': 148,\n            'f': \"148\",\n        },\n{\n            'v': 143,\n            'f': \"143\",\n        },\n\"Nepal\",\n0.942,\n0.584364172122592,\n0.620507696643259,\n{\n            'v': 70.3617,\n            'f': \"70.3617\",\n        },\n{\n            'v': 66.5739,\n            'f': \"66.5739\",\n        },\n12.9240799,\n12.84980011,\n4.160869361,\n6.220635063,\n3677.18314269268,\n4095.45510825047],\n [{\n            'v': 149,\n            'f': \"149\",\n        },\n{\n            'v': 144,\n            'f': \"144\",\n        },\n\"Eswatini (Kingdom of)\",\n0.986,\n0.592739586850899,\n0.601355620634285,\n{\n            'v': 61.2485,\n            'f': \"61.2485\",\n        },\n{\n            'v': 53.366,\n            'f': \"53.366\",\n        },\n13.23686462,\n14.24137883,\n5.662,\n5.53,\n6383.50781913565,\n8992.51691884394],\n [{\n            'v': 150,\n            'f': \"150\",\n        },\n{\n            'v': 145,\n            'f': \"145\",\n        },\n\"Equatorial Guinea\",\n\"..\",\n\"..\",\n\"..\",\n{\n            'v': 62.7256,\n            'f': \"62.7256\",\n        },\n{\n            'v': 58.7813,\n            'f': \"58.7813\",\n        },\n\"..\",\n\"..\",\n4.194548476,\n7.627197168,\n8351.08344722546,\n15398.9052765074],\n [{\n            'v': 151,\n            'f': \"151\",\n        },\n{\n            'v': 146,\n            'f': \"146\",\n        },\n\"Cambodia\",\n0.926,\n0.569886596850555,\n0.615205048613841,\n{\n            'v': 72.2907,\n            'f': \"72.2907\",\n        },\n{\n            'v': 66.8186,\n            'f': \"66.8186\",\n        },\n11.00490454,\n11.93053546,\n4.366,\n5.882,\n3463.50856229119,\n4706.23792166685],\n [{\n            'v': 152,\n            'f': \"152\",\n        },\n{\n            'v': 146,\n            'f': \"146\",\n        },\n\"Zimbabwe\",\n0.961,\n0.580303185949358,\n0.604054039325808,\n{\n            'v': 62.0449,\n            'f': \"62.0449\",\n        },\n{\n            'v': 56.2321,\n            'f': \"56.2321\",\n        },\n11.96458018,\n12.27069982,\n8.296557948,\n9.19064792,\n3285.93358505073,\n4396.77767970836],\n [{\n            'v': 153,\n            'f': \"153\",\n        },\n{\n            'v': 148,\n            'f': \"148\",\n        },\n\"Angola\",\n0.903,\n0.55674505760055,\n0.616557703374739,\n{\n            'v': 64.3066,\n            'f': \"64.3066\",\n        },\n{\n            'v': 59.0291,\n            'f': \"59.0291\",\n        },\n11.5409,\n12.9132,\n4.183875561,\n6.894268513,\n4751.37325620078,\n6196.65048458656],\n [{\n            'v': 154,\n            'f': \"154\",\n        },\n{\n            'v': 149,\n            'f': \"149\",\n        },\n\"Myanmar\",\n0.944,\n0.565270825741211,\n0.598757287133907,\n{\n            'v': 69.0009,\n            'f': \"69.0009\",\n        },\n{\n            'v': 62.5463,\n            'f': \"62.5463\",\n        },\n11.11379202,\n10.70448302,\n6.094560146,\n6.730899811,\n2618.85677302398,\n5092.89498148001],\n [{\n            'v': 155,\n            'f': \"155\",\n        },\n{\n            'v': 150,\n            'f': \"150\",\n        },\n\"Syrian Arab Republic\",\n0.825,\n0.502700292150096,\n0.609549664799253,\n{\n            'v': 75.1752,\n            'f': \"75.1752\",\n        },\n{\n            'v': 69.0583,\n            'f': \"69.0583\",\n        },\n9.074879646,\n9.249540329,\n4.6297,\n5.6,\n1285.23287333802,\n7088.31939905991],\n [{\n            'v': 156,\n            'f': \"156\",\n        },\n{\n            'v': 151,\n            'f': \"151\",\n        },\n\"Cameroon\",\n0.885,\n0.540217006097306,\n0.610395900542271,\n{\n            'v': 62.0182,\n            'f': \"62.0182\",\n        },\n{\n            'v': 58.6899,\n            'f': \"58.6899\",\n        },\n12.42278161,\n13.79085757,\n4.81709,\n7.50058,\n2981.38592866838,\n4263.78713068638],\n [{\n            'v': 157,\n            'f': \"157\",\n        },\n{\n            'v': 152,\n            'f': \"152\",\n        },\n\"Kenya\",\n0.941,\n0.557213851986965,\n0.592213974048735,\n{\n            'v': 64.0899,\n            'f': \"64.0899\",\n        },\n{\n            'v': 58.9354,\n            'f': \"58.9354\",\n        },\n10.34585953,\n11.05279836,\n6.064,\n7.26,\n3873.19105645338,\n5084.16747656608],\n [{\n            'v': 158,\n            'f': \"158\",\n        },\n{\n            'v': 153,\n            'f': \"153\",\n        },\n\"Congo\",\n0.934,\n0.551580285341668,\n0.590449067832358,\n{\n            'v': 64.9346,\n            'f': \"64.9346\",\n        },\n{\n            'v': 62.1236,\n            'f': \"62.1236\",\n        },\n12.2485696,\n12.41765711,\n5.59,\n6.762,\n2532.15297416706,\n3247.26424036521],\n [{\n            'v': 159,\n            'f': \"159\",\n        },\n{\n            'v': 154,\n            'f': \"154\",\n        },\n\"Zambia\",\n0.965,\n0.554427499366867,\n0.574296635910699,\n{\n            'v': 63.9276,\n            'f': \"63.9276\",\n        },\n{\n            'v': 58.4872,\n            'f': \"58.4872\",\n        },\n10.91116947,\n10.95687445,\n7.179212102,\n7.225677844,\n2614.50508407491,\n3837.04688832311],\n [{\n            'v': 160,\n            'f': \"160\",\n        },\n{\n            'v': 155,\n            'f': \"155\",\n        },\n\"Solomon Islands\",\n\"..\",\n\"..\",\n\"..\",\n{\n            'v': 71.9594,\n            'f': \"71.9594\",\n        },\n{\n            'v': 68.931,\n            'f': \"68.931\",\n        },\n10.79809865,\n9.93096504,\n\"..\",\n\"..\",\n2172.53489677988,\n2777.23292663893],\n [{\n            'v': 161,\n            'f': \"161\",\n        },\n{\n            'v': 156,\n            'f': \"156\",\n        },\n\"Comoros\",\n0.891,\n0.52185749626997,\n0.585432330711661,\n{\n            'v': 65.8272,\n            'f': \"65.8272\",\n        },\n{\n            'v': 61.2453,\n            'f': \"61.2453\",\n        },\n12.1795523,\n11.70042118,\n3.953311349,\n6.031009312,\n2013.58048901061,\n4260.2104547047],\n [{\n            'v': 162,\n            'f': \"162\",\n        },\n{\n            'v': 156,\n            'f': \"156\",\n        },\n\"Papua New Guinea\",\n0.931,\n0.537933946517305,\n0.577731744555533,\n{\n            'v': 68.4151,\n            'f': \"68.4151\",\n        },\n{\n            'v': 62.9479,\n            'f': \"62.9479\",\n        },\n9.825603009,\n10.86853449,\n4.08,\n5.378,\n3542.52601367319,\n4445.11710027146],\n [{\n            'v': 163,\n            'f': \"163\",\n        },\n{\n            'v': 158,\n            'f': \"158\",\n        },\n\"Mauritania\",\n0.89,\n0.517783711766824,\n0.581885716977571,\n{\n            'v': 66.0979,\n            'f': \"66.0979\",\n        },\n{\n            'v': 62.6661,\n            'f': \"62.6661\",\n        },\n9.570549965,\n9.187669754,\n4.634968748,\n5.326898062,\n2603.57742986229,\n7649.58943359637],\n [{\n            'v': 164,\n            'f': \"164\",\n        },\n{\n            'v': 159,\n            'f': \"159\",\n        },\n\"C\\u00f4te d'Ivoire\",\n0.887,\n0.515563726849053,\n0.581439618370691,\n{\n            'v': 59.9409,\n            'f': \"59.9409\",\n        },\n{\n            'v': 57.4001,\n            'f': \"57.4001\",\n        },\n10.01710033,\n11.33197021,\n4.6767215,\n5.712839185,\n3763.00304423729,\n6642.84440932222],\n [{\n            'v': 165,\n            'f': \"165\",\n        },\n{\n            'v': 160,\n            'f': \"160\",\n        },\n\"Tanzania (United Republic of)\",\n0.943,\n0.532483590133521,\n0.56476669284267,\n{\n            'v': 68.3107,\n            'f': \"68.3107\",\n        },\n{\n            'v': 64.1827,\n            'f': \"64.1827\",\n        },\n9.296609879,\n9.149600029,\n5.923837807,\n6.892428824,\n2246.73618115805,\n3091.93102011057],\n [{\n            'v': 166,\n            'f': \"166\",\n        },\n{\n            'v': 161,\n            'f': \"161\",\n        },\n\"Pakistan\",\n0.81,\n0.471396425483283,\n0.581877317114022,\n{\n            'v': 68.6228,\n            'f': \"68.6228\",\n        },\n{\n            'v': 63.7866,\n            'f': \"63.7866\",\n        },\n8.102529526,\n9.173430443,\n3.896490097,\n5.035349846,\n1569.38031276588,\n7619.73462240109],\n [{\n            'v': 167,\n            'f': \"167\",\n        },\n{\n            'v': 162,\n            'f': \"162\",\n        },\n\"Togo\",\n0.849,\n0.497381322220123,\n0.586086092315206,\n{\n            'v': 62.3913,\n            'f': \"62.3913\",\n        },\n{\n            'v': 60.8495,\n            'f': \"60.8495\",\n        },\n12.19214922,\n14.30900219,\n3.400858516,\n6.828586144,\n1884.54822985892,\n2445.72155634053],\n [{\n            'v': 168,\n            'f': \"168\",\n        },\n{\n            'v': 163,\n            'f': \"163\",\n        },\n\"Haiti\",\n0.898,\n0.506097785502906,\n0.563765576932219,\n{\n            'v': 66.1191,\n            'f': \"66.1191\",\n        },\n{\n            'v': 60.399,\n            'f': \"60.399\",\n        },\n9.00792,\n10.39208,\n4.552,\n6.768,\n2408.20034201609,\n3294.68971562706],\n [{\n            'v': 169,\n            'f': \"169\",\n        },\n{\n            'v': 163,\n            'f': \"163\",\n        },\n\"Nigeria\",\n0.863,\n0.495057927268497,\n0.573601516836222,\n{\n            'v': 53.0701,\n            'f': \"53.0701\",\n        },\n{\n            'v': 52.2846,\n            'f': \"52.2846\",\n        },\n9.578901345,\n10.79903901,\n6.144916176,\n8.249763834,\n3758.75516359274,\n5800.26316310035],\n [{\n            'v': 170,\n            'f': \"170\",\n        },\n{\n            'v': 165,\n            'f': \"165\",\n        },\n\"Rwanda\",\n0.954,\n0.521187466167451,\n0.546603488178113,\n{\n            'v': 68.1639,\n            'f': \"68.1639\",\n        },\n{\n            'v': 63.798,\n            'f': \"63.798\",\n        },\n11.22247028,\n11.24172974,\n4.031224613,\n4.88597295,\n1989.56028628528,\n2439.98116649549],\n [{\n            'v': 171,\n            'f': \"171\",\n        },\n{\n            'v': 166,\n            'f': \"166\",\n        },\n\"Benin\",\n0.88,\n0.491304047701895,\n0.558101711375106,\n{\n            'v': 61.4449,\n            'f': \"61.4449\",\n        },\n{\n            'v': 58.2208,\n            'f': \"58.2208\",\n        },\n9.893950462,\n11.62110043,\n3.315197468,\n5.44505428,\n2997.70568642397,\n3818.80298436144],\n [{\n            'v': 172,\n            'f': \"172\",\n        },\n{\n            'v': 166,\n            'f': \"166\",\n        },\n\"Uganda\",\n0.927,\n0.504881399087615,\n0.54462045213737,\n{\n            'v': 64.9197,\n            'f': \"64.9197\",\n        },\n{\n            'v': 60.4228,\n            'f': \"60.4228\",\n        },\n10.15034489,\n10.11118149,\n4.896921296,\n6.683393581,\n1877.43031704592,\n2491.50259476524],\n [{\n            'v': 173,\n            'f': \"173\",\n        },\n{\n            'v': 168,\n            'f': \"168\",\n        },\n\"Lesotho\",\n0.985,\n0.511123839316858,\n0.519143816761409,\n{\n            'v': 55.9266,\n            'f': \"55.9266\",\n        },\n{\n            'v': 50.3736,\n            'f': \"50.3736\",\n        },\n12.43076407,\n11.66055444,\n6.56167247,\n5.982824978,\n2106.60285693164,\n3310.12522401048],\n [{\n            'v': 174,\n            'f': \"174\",\n        },\n{\n            'v': 169,\n            'f': \"169\",\n        },\n\"Malawi\",\n0.968,\n0.502014031803936,\n0.518874060809579,\n{\n            'v': 66.4685,\n            'f': \"66.4685\",\n        },\n{\n            'v': 59.4935,\n            'f': \"59.4935\",\n        },\n12.8264208,\n12.5388703,\n4.104782854,\n4.667895015,\n1231.62902364418,\n1712.9045922754],\n [{\n            'v': 175,\n            'f': \"175\",\n        },\n{\n            'v': 170,\n            'f': \"170\",\n        },\n\"Senegal\",\n0.874,\n0.474670176776252,\n0.542992333203957,\n{\n            'v': 69.2838,\n            'f': \"69.2838\",\n        },\n{\n            'v': 64.7525,\n            'f': \"64.7525\",\n        },\n9.478469849,\n8.462510109,\n1.568656105,\n4.459484359,\n2258.03397199865,\n4467.5895134494],\n [{\n            'v': 176,\n            'f': \"176\",\n        },\n{\n            'v': 171,\n            'f': \"171\",\n        },\n\"Djibouti\",\n\"..\",\n\"..\",\n\"..\",\n{\n            'v': 65.0189,\n            'f': \"65.0189\",\n        },\n{\n            'v': 59.7276,\n            'f': \"59.7276\",\n        },\n7.50865,\n7.43298,\n\"..\",\n\"..\",\n2178.95885971805,\n7911.35071691186],\n [{\n            'v': 177,\n            'f': \"177\",\n        },\n{\n            'v': 172,\n            'f': \"172\",\n        },\n\"Sudan\",\n0.87,\n0.465659504786238,\n0.535025903773824,\n{\n            'v': 67.8786,\n            'f': \"67.8786\",\n        },\n{\n            'v': 62.7408,\n            'f': \"62.7408\",\n        },\n7.74519446,\n8.144053506,\n3.422,\n4.21,\n1832.77032681804,\n5319.7317252066],\n [{\n            'v': 178,\n            'f': \"178\",\n        },\n{\n            'v': 173,\n            'f': \"173\",\n        },\n\"Madagascar\",\n0.956,\n0.489879193271668,\n0.512325749386751,\n{\n            'v': 66.8701,\n            'f': \"66.8701\",\n        },\n{\n            'v': 62.2341,\n            'f': \"62.2341\",\n        },\n10.1833395,\n10.08976666,\n4.914466457,\n5.339324566,\n1283.7995322321,\n1682.32977668736],\n [{\n            'v': 179,\n            'f': \"179\",\n        },\n{\n            'v': 174,\n            'f': \"174\",\n        },\n\"Gambia\",\n0.924,\n0.48051841103943,\n0.519921860485792,\n{\n            'v': 63.5287,\n            'f': \"63.5287\",\n        },\n{\n            'v': 60.6559,\n            'f': \"60.6559\",\n        },\n10.33742212,\n8.542828054,\n3.84120965,\n5.635258198,\n1648.84700821377,\n2701.01966529987],\n [{\n            'v': 180,\n            'f': \"180\",\n        },\n{\n            'v': 175,\n            'f': \"175\",\n        },\n\"Ethiopia\",\n0.921,\n0.477551764716401,\n0.518618804126192,\n{\n            'v': 68.2852,\n            'f': \"68.2852\",\n        },\n{\n            'v': 61.91,\n            'f': \"61.91\",\n        },\n9.824613044,\n9.556187685,\n2.161845446,\n4.23844862,\n1943.57558303304,\n2774.39318164818],\n [{\n            'v': 181,\n            'f': \"181\",\n        },\n{\n            'v': 176,\n            'f': \"176\",\n        },\n\"Eritrea\",\n\"..\",\n\"..\",\n\"..\",\n{\n            'v': 68.6547,\n            'f': \"68.6547\",\n        },\n{\n            'v': 64.3495,\n            'f': \"64.3495\",\n        },\n7.49902872,\n8.612197875,\n\"..\",\n\"..\",\n1387.31760185668,\n2079.46542049616],\n [{\n            'v': 182,\n            'f': \"182\",\n        },\n{\n            'v': 177,\n            'f': \"177\",\n        },\n\"Guinea-Bissau\",\n0.867,\n0.447933315540167,\n0.516530262718684,\n{\n            'v': 61.7958,\n            'f': \"61.7958\",\n        },\n{\n            'v': 57.3925,\n            'f': \"57.3925\",\n        },\n9.999406158,\n11.2267194,\n2.410659,\n4.939155,\n1561.42378446188,\n2264.02257866716],\n [{\n            'v': 183,\n            'f': \"183\",\n        },\n{\n            'v': 178,\n            'f': \"178\",\n        },\n\"Liberia\",\n0.871,\n0.446593575588021,\n0.512798523696766,\n{\n            'v': 62.0722,\n            'f': \"62.0722\",\n        },\n{\n            'v': 59.4109,\n            'f': \"59.4109\",\n        },\n10.12086582,\n10.75482082,\n3.866,\n6.308,\n1061.54844058872,\n1517.96377482353],\n [{\n            'v': 184,\n            'f': \"184\",\n        },\n{\n            'v': 179,\n            'f': \"179\",\n        },\n\"Congo (Democratic Republic of the)\",\n0.885,\n0.448765594148575,\n0.507288187937787,\n{\n            'v': 61.5207,\n            'f': \"61.5207\",\n        },\n{\n            'v': 56.9531,\n            'f': \"56.9531\",\n        },\n9.644028442,\n10.09291419,\n5.596261446,\n8.455105537,\n896.352883715462,\n1258.65721072412],\n [{\n            'v': 185,\n            'f': \"185\",\n        },\n{\n            'v': 180,\n            'f': \"180\",\n        },\n\"Afghanistan\",\n0.681,\n0.364840229738671,\n0.535610873371976,\n{\n            'v': 65.2791,\n            'f': \"65.2791\",\n        },\n{\n            'v': 58.9147,\n            'f': \"58.9147\",\n        },\n7.736391273,\n12.67218933,\n2.311079979,\n3.401309967,\n532.955368214296,\n3089.27041801243],\n [{\n            'v': 186,\n            'f': \"186\",\n        },\n{\n            'v': 181,\n            'f': \"181\",\n        },\n\"Sierra Leone\",\n0.893,\n0.4516967714271,\n0.505719508076905,\n{\n            'v': 61.3543,\n            'f': \"61.3543\",\n        },\n{\n            'v': 58.7582,\n            'f': \"58.7582\",\n        },\n9.555960911,\n9.857761045,\n3.477212173,\n5.815924164,\n1453.29281739816,\n1789.05289686897],\n [{\n            'v': 187,\n            'f': \"187\",\n        },\n{\n            'v': 182,\n            'f': \"182\",\n        },\n\"Guinea\",\n0.85,\n0.426440797265429,\n0.501452822011171,\n{\n            'v': 60.0985,\n            'f': \"60.0985\",\n        },\n{\n            'v': 57.595,\n            'f': \"57.595\",\n        },\n8.610094032,\n10.97551015,\n1.292843507,\n3.248563693,\n2320.38148501952,\n2645.23645466861],\n [{\n            'v': 188,\n            'f': \"188\",\n        },\n{\n            'v': 183,\n            'f': \"183\",\n        },\n\"Yemen\",\n0.496,\n0.262569632390209,\n0.529016004007725,\n{\n            'v': 67.1339,\n            'f': \"67.1339\",\n        },\n{\n            'v': 60.6287,\n            'f': \"60.6287\",\n        },\n7.651040077,\n10.49584007,\n2.88,\n5.146,\n176.059448160138,\n2428.22441519661],\n [{\n            'v': 189,\n            'f': \"189\",\n        },\n{\n            'v': 184,\n            'f': \"184\",\n        },\n\"Burkina Faso\",\n0.903,\n0.425128832560181,\n0.470559025887604,\n{\n            'v': 60.9896,\n            'f': \"60.9896\",\n        },\n{\n            'v': 57.4745,\n            'f': \"57.4745\",\n        },\n9.109199524,\n9.17743969,\n1.583301027,\n2.704233799,\n1659.23485218642,\n2579.89996162088],\n [{\n            'v': 190,\n            'f': \"190\",\n        },\n{\n            'v': 185,\n            'f': \"185\",\n        },\n\"Mozambique\",\n0.922,\n0.42801303160576,\n0.464036211048152,\n{\n            'v': 62.4325,\n            'f': \"62.4325\",\n        },\n{\n            'v': 56.2044,\n            'f': \"56.2044\",\n        },\n9.787595092,\n10.65669147,\n2.431994619,\n4.095451061,\n1095.66625677002,\n1304.40308478089],\n [{\n            'v': 191,\n            'f': \"191\",\n        },\n{\n            'v': 186,\n            'f': \"186\",\n        },\n\"Mali\",\n0.887,\n0.399133986428155,\n0.449875275855116,\n{\n            'v': 60.331,\n            'f': \"60.331\",\n        },\n{\n            'v': 57.6179,\n            'f': \"57.6179\",\n        },\n6.795167146,\n7.947588782,\n2.384,\n2.198,\n1482.68924316069,\n2769.84765421115],\n [{\n            'v': 192,\n            'f': \"192\",\n        },\n{\n            'v': 187,\n            'f': \"187\",\n        },\n\"Burundi\",\n0.935,\n0.412236236513349,\n0.440934982196266,\n{\n            'v': 63.6092,\n            'f': \"63.6092\",\n        },\n{\n            'v': 59.7112,\n            'f': \"59.7112\",\n        },\n10.91547198,\n10.53523917,\n2.491789031,\n3.851800592,\n667.520767773012,\n796.956456348474],\n [{\n            'v': 193,\n            'f': \"193\",\n        },\n{\n            'v': 188,\n            'f': \"188\",\n        },\n\"Central African Republic\",\n0.81,\n0.359110957280157,\n0.443253805643442,\n{\n            'v': 56.3035,\n            'f': \"56.3035\",\n        },\n{\n            'v': 51.6455,\n            'f': \"51.6455\",\n        },\n6.66856003,\n9.393838816,\n3.108,\n5.594,\n769.842841044816,\n1162.31720825857],\n [{\n            'v': 194,\n            'f': \"194\",\n        },\n{\n            'v': 189,\n            'f': \"189\",\n        },\n\"Niger\",\n0.835,\n0.364314531855778,\n0.43637050294465,\n{\n            'v': 62.7943,\n            'f': \"62.7943\",\n        },\n{\n            'v': 60.4065,\n            'f': \"60.4065\",\n        },\n6.260139106,\n7.638220809,\n1.708291787,\n2.789487771,\n936.484843415738,\n1534.59108898256],\n [{\n            'v': 195,\n            'f': \"195\",\n        },\n{\n            'v': 190,\n            'f': \"190\",\n        },\n\"Chad\",\n0.77,\n0.339311716767497,\n0.440888915531638,\n{\n            'v': 54.2828,\n            'f': \"54.2828\",\n        },\n{\n            'v': 50.8449,\n            'f': \"50.8449\",\n        },\n6.611644138,\n9.464517316,\n1.489173708,\n3.681625264,\n965.151077868731,\n1760.07280035442],\n [{\n            'v': 196,\n            'f': \"196\",\n        },\n{\n            'v': 191,\n            'f': \"191\",\n        },\n\"South Sudan\",\n0.843,\n0.348198975203914,\n0.413258564114821,\n{\n            'v': 56.4723,\n            'f': \"56.4723\",\n        },\n{\n            'v': 53.4286,\n            'f': \"53.4286\",\n        },\n4.45054,\n6.61495,\n4.762169838,\n6.189479828,\n664.423767805742,\n873.230936661844]],\n        columns: [[\"number\", \"index\"], [\"number\", \"rank\"], [\"string\", \"Unnamed: 1\"], [\"string\", \"Unnamed: 2\"], [\"string\", \"Unnamed: 6\"], [\"string\", \"Unnamed: 8\"], [\"number\", \"Unnamed: 10\"], [\"number\", \"Unnamed: 12\"], [\"string\", \"Unnamed: 14\"], [\"string\", \"Unnamed: 16\"], [\"string\", \"Unnamed: 18\"], [\"string\", \"Unnamed: 20\"], [\"string\", \"Unnamed: 22\"], [\"string\", \"Unnamed: 24\"]],\n        columnOptions: [{\"width\": \"1px\", \"className\": \"index_column\"}],\n        rowsPerPage: 25,\n        helpUrl: \"https://colab.research.google.com/notebooks/data_table.ipynb\",\n        suppressOutputScrolling: true,\n        minimumWidth: undefined,\n      });\n    "
          },
          "metadata": {},
          "execution_count": 55
        }
      ]
    },
    {
      "cell_type": "code",
      "source": [
        "gd1.rename(columns={'Unnamed:1':'country'},inplace=True)\n",
        "gd1.rename(columns={'Unnamed:2':'Gender Development Index'},inplace=True)\n",
        "gd1.rename(columns={'Unnamed:6':'HDI Female'},inplace=True)\n",
        "gd1.rename(columns={'Unnamed:8':'HDI Male'},inplace=True)\n",
        "gd1.rename(columns={'Unnamed:10':'Life expectancy at birth female'},inplace=True)\n",
        "gd1.rename(columns={'Unnamed:12':'Life expectancy at birth male'},inplace=True)\n",
        "gd1.rename(columns={'Unnamed:14':'Expected years of schooling female'},inplace=True)\n",
        "gd1.rename(columns={'Unnamed:16':'Expected years of schooling male'},inplace=True)\n",
        "gd1.rename(columns={'Unnamed:18':'Mean years of schooling female'},inplace=True)\n",
        "gd1.rename(columns={'Unnamed:20':'Mean years of schooling male'},inplace=True)\n",
        "gd1.rename(columns={'Unnamed:22':'GNI female'},inplace=True)\n",
        "gd1.rename(columns={'Unnamed:24':'GNI male'},inplace=True)"
      ],
      "metadata": {
        "id": "sI6XmutrdbCE"
      },
      "execution_count": 56,
      "outputs": []
    },
    {
      "cell_type": "code",
      "source": [
        "gd1 #still cannot rename"
      ],
      "metadata": {
        "colab": {
          "base_uri": "https://localhost:8080/",
          "height": 721
        },
        "id": "vJhlRCzwdeW3",
        "outputId": "a633847d-5676-43cb-c200-dc4068a9dedb"
      },
      "execution_count": 57,
      "outputs": [
        {
          "output_type": "execute_result",
          "data": {
            "text/plain": [
              "    rank                Unnamed: 1 Unnamed: 2 Unnamed: 6 Unnamed: 8  \\\n",
              "6      1               Switzerland      0.967   0.943709   0.975611   \n",
              "7      2                    Norway      0.983     0.9499   0.966061   \n",
              "8      3                   Iceland      0.976   0.946936   0.970604   \n",
              "9      4    Hong Kong, China (SAR)      0.976   0.941078   0.964311   \n",
              "10     5                 Australia      0.968   0.931672   0.962956   \n",
              "..   ...                       ...        ...        ...        ...   \n",
              "192  187                   Burundi      0.935   0.412236   0.440935   \n",
              "193  188  Central African Republic       0.81   0.359111   0.443254   \n",
              "194  189                     Niger      0.835   0.364315   0.436371   \n",
              "195  190                      Chad       0.77   0.339312   0.440889   \n",
              "196  191               South Sudan      0.843   0.348199   0.413259   \n",
              "\n",
              "    Unnamed: 10 Unnamed: 12 Unnamed: 14 Unnamed: 16 Unnamed: 18 Unnamed: 20  \\\n",
              "6       85.8959     81.9952    16.40519   16.593439    13.48301    14.24829   \n",
              "7       84.8787     81.5622   18.886789    17.52533    13.13508    12.87032   \n",
              "8       84.1804     81.2138    20.27153   18.090469    13.86953    13.67178   \n",
              "9       88.3257     82.6613   17.572201   17.033239     11.8457    12.70688   \n",
              "10      85.8396     83.1718   21.817579    20.30188    12.81059    12.63971   \n",
              "..          ...         ...         ...         ...         ...         ...   \n",
              "192     63.6092     59.7112   10.915472   10.535239    2.491789    3.851801   \n",
              "193     56.3035     51.6455     6.66856    9.393839       3.108       5.594   \n",
              "194     62.7943     60.4065    6.260139    7.638221    1.708292    2.789488   \n",
              "195     54.2828     50.8449    6.611644    9.464517    1.489174    3.681625   \n",
              "196     56.4723     53.4286     4.45054     6.61495     4.76217     6.18948   \n",
              "\n",
              "      Unnamed: 22   Unnamed: 24  \n",
              "6    54596.873938   79450.51016  \n",
              "7    54699.445557  74444.990916  \n",
              "8    47135.914239  64004.128579  \n",
              "9    51735.256517  75306.957306  \n",
              "10     37485.5883  61160.790107  \n",
              "..            ...           ...  \n",
              "192    667.520768    796.956456  \n",
              "193    769.842841   1162.317208  \n",
              "194    936.484843   1534.591089  \n",
              "195    965.151078     1760.0728  \n",
              "196    664.423768    873.230937  \n",
              "\n",
              "[191 rows x 13 columns]"
            ],
            "text/html": [
              "\n",
              "  <div id=\"df-a4cab4ef-363a-4a9b-8c95-8668ac23834a\">\n",
              "    <div class=\"colab-df-container\">\n",
              "      <div>\n",
              "<style scoped>\n",
              "    .dataframe tbody tr th:only-of-type {\n",
              "        vertical-align: middle;\n",
              "    }\n",
              "\n",
              "    .dataframe tbody tr th {\n",
              "        vertical-align: top;\n",
              "    }\n",
              "\n",
              "    .dataframe thead th {\n",
              "        text-align: right;\n",
              "    }\n",
              "</style>\n",
              "<table border=\"1\" class=\"dataframe\">\n",
              "  <thead>\n",
              "    <tr style=\"text-align: right;\">\n",
              "      <th></th>\n",
              "      <th>rank</th>\n",
              "      <th>Unnamed: 1</th>\n",
              "      <th>Unnamed: 2</th>\n",
              "      <th>Unnamed: 6</th>\n",
              "      <th>Unnamed: 8</th>\n",
              "      <th>Unnamed: 10</th>\n",
              "      <th>Unnamed: 12</th>\n",
              "      <th>Unnamed: 14</th>\n",
              "      <th>Unnamed: 16</th>\n",
              "      <th>Unnamed: 18</th>\n",
              "      <th>Unnamed: 20</th>\n",
              "      <th>Unnamed: 22</th>\n",
              "      <th>Unnamed: 24</th>\n",
              "    </tr>\n",
              "  </thead>\n",
              "  <tbody>\n",
              "    <tr>\n",
              "      <th>6</th>\n",
              "      <td>1</td>\n",
              "      <td>Switzerland</td>\n",
              "      <td>0.967</td>\n",
              "      <td>0.943709</td>\n",
              "      <td>0.975611</td>\n",
              "      <td>85.8959</td>\n",
              "      <td>81.9952</td>\n",
              "      <td>16.40519</td>\n",
              "      <td>16.593439</td>\n",
              "      <td>13.48301</td>\n",
              "      <td>14.24829</td>\n",
              "      <td>54596.873938</td>\n",
              "      <td>79450.51016</td>\n",
              "    </tr>\n",
              "    <tr>\n",
              "      <th>7</th>\n",
              "      <td>2</td>\n",
              "      <td>Norway</td>\n",
              "      <td>0.983</td>\n",
              "      <td>0.9499</td>\n",
              "      <td>0.966061</td>\n",
              "      <td>84.8787</td>\n",
              "      <td>81.5622</td>\n",
              "      <td>18.886789</td>\n",
              "      <td>17.52533</td>\n",
              "      <td>13.13508</td>\n",
              "      <td>12.87032</td>\n",
              "      <td>54699.445557</td>\n",
              "      <td>74444.990916</td>\n",
              "    </tr>\n",
              "    <tr>\n",
              "      <th>8</th>\n",
              "      <td>3</td>\n",
              "      <td>Iceland</td>\n",
              "      <td>0.976</td>\n",
              "      <td>0.946936</td>\n",
              "      <td>0.970604</td>\n",
              "      <td>84.1804</td>\n",
              "      <td>81.2138</td>\n",
              "      <td>20.27153</td>\n",
              "      <td>18.090469</td>\n",
              "      <td>13.86953</td>\n",
              "      <td>13.67178</td>\n",
              "      <td>47135.914239</td>\n",
              "      <td>64004.128579</td>\n",
              "    </tr>\n",
              "    <tr>\n",
              "      <th>9</th>\n",
              "      <td>4</td>\n",
              "      <td>Hong Kong, China (SAR)</td>\n",
              "      <td>0.976</td>\n",
              "      <td>0.941078</td>\n",
              "      <td>0.964311</td>\n",
              "      <td>88.3257</td>\n",
              "      <td>82.6613</td>\n",
              "      <td>17.572201</td>\n",
              "      <td>17.033239</td>\n",
              "      <td>11.8457</td>\n",
              "      <td>12.70688</td>\n",
              "      <td>51735.256517</td>\n",
              "      <td>75306.957306</td>\n",
              "    </tr>\n",
              "    <tr>\n",
              "      <th>10</th>\n",
              "      <td>5</td>\n",
              "      <td>Australia</td>\n",
              "      <td>0.968</td>\n",
              "      <td>0.931672</td>\n",
              "      <td>0.962956</td>\n",
              "      <td>85.8396</td>\n",
              "      <td>83.1718</td>\n",
              "      <td>21.817579</td>\n",
              "      <td>20.30188</td>\n",
              "      <td>12.81059</td>\n",
              "      <td>12.63971</td>\n",
              "      <td>37485.5883</td>\n",
              "      <td>61160.790107</td>\n",
              "    </tr>\n",
              "    <tr>\n",
              "      <th>...</th>\n",
              "      <td>...</td>\n",
              "      <td>...</td>\n",
              "      <td>...</td>\n",
              "      <td>...</td>\n",
              "      <td>...</td>\n",
              "      <td>...</td>\n",
              "      <td>...</td>\n",
              "      <td>...</td>\n",
              "      <td>...</td>\n",
              "      <td>...</td>\n",
              "      <td>...</td>\n",
              "      <td>...</td>\n",
              "      <td>...</td>\n",
              "    </tr>\n",
              "    <tr>\n",
              "      <th>192</th>\n",
              "      <td>187</td>\n",
              "      <td>Burundi</td>\n",
              "      <td>0.935</td>\n",
              "      <td>0.412236</td>\n",
              "      <td>0.440935</td>\n",
              "      <td>63.6092</td>\n",
              "      <td>59.7112</td>\n",
              "      <td>10.915472</td>\n",
              "      <td>10.535239</td>\n",
              "      <td>2.491789</td>\n",
              "      <td>3.851801</td>\n",
              "      <td>667.520768</td>\n",
              "      <td>796.956456</td>\n",
              "    </tr>\n",
              "    <tr>\n",
              "      <th>193</th>\n",
              "      <td>188</td>\n",
              "      <td>Central African Republic</td>\n",
              "      <td>0.81</td>\n",
              "      <td>0.359111</td>\n",
              "      <td>0.443254</td>\n",
              "      <td>56.3035</td>\n",
              "      <td>51.6455</td>\n",
              "      <td>6.66856</td>\n",
              "      <td>9.393839</td>\n",
              "      <td>3.108</td>\n",
              "      <td>5.594</td>\n",
              "      <td>769.842841</td>\n",
              "      <td>1162.317208</td>\n",
              "    </tr>\n",
              "    <tr>\n",
              "      <th>194</th>\n",
              "      <td>189</td>\n",
              "      <td>Niger</td>\n",
              "      <td>0.835</td>\n",
              "      <td>0.364315</td>\n",
              "      <td>0.436371</td>\n",
              "      <td>62.7943</td>\n",
              "      <td>60.4065</td>\n",
              "      <td>6.260139</td>\n",
              "      <td>7.638221</td>\n",
              "      <td>1.708292</td>\n",
              "      <td>2.789488</td>\n",
              "      <td>936.484843</td>\n",
              "      <td>1534.591089</td>\n",
              "    </tr>\n",
              "    <tr>\n",
              "      <th>195</th>\n",
              "      <td>190</td>\n",
              "      <td>Chad</td>\n",
              "      <td>0.77</td>\n",
              "      <td>0.339312</td>\n",
              "      <td>0.440889</td>\n",
              "      <td>54.2828</td>\n",
              "      <td>50.8449</td>\n",
              "      <td>6.611644</td>\n",
              "      <td>9.464517</td>\n",
              "      <td>1.489174</td>\n",
              "      <td>3.681625</td>\n",
              "      <td>965.151078</td>\n",
              "      <td>1760.0728</td>\n",
              "    </tr>\n",
              "    <tr>\n",
              "      <th>196</th>\n",
              "      <td>191</td>\n",
              "      <td>South Sudan</td>\n",
              "      <td>0.843</td>\n",
              "      <td>0.348199</td>\n",
              "      <td>0.413259</td>\n",
              "      <td>56.4723</td>\n",
              "      <td>53.4286</td>\n",
              "      <td>4.45054</td>\n",
              "      <td>6.61495</td>\n",
              "      <td>4.76217</td>\n",
              "      <td>6.18948</td>\n",
              "      <td>664.423768</td>\n",
              "      <td>873.230937</td>\n",
              "    </tr>\n",
              "  </tbody>\n",
              "</table>\n",
              "<p>191 rows × 13 columns</p>\n",
              "</div>\n",
              "      <button class=\"colab-df-convert\" onclick=\"convertToInteractive('df-a4cab4ef-363a-4a9b-8c95-8668ac23834a')\"\n",
              "              title=\"Convert this dataframe to an interactive table.\"\n",
              "              style=\"display:none;\">\n",
              "        \n",
              "  <svg xmlns=\"http://www.w3.org/2000/svg\" height=\"24px\"viewBox=\"0 0 24 24\"\n",
              "       width=\"24px\">\n",
              "    <path d=\"M0 0h24v24H0V0z\" fill=\"none\"/>\n",
              "    <path d=\"M18.56 5.44l.94 2.06.94-2.06 2.06-.94-2.06-.94-.94-2.06-.94 2.06-2.06.94zm-11 1L8.5 8.5l.94-2.06 2.06-.94-2.06-.94L8.5 2.5l-.94 2.06-2.06.94zm10 10l.94 2.06.94-2.06 2.06-.94-2.06-.94-.94-2.06-.94 2.06-2.06.94z\"/><path d=\"M17.41 7.96l-1.37-1.37c-.4-.4-.92-.59-1.43-.59-.52 0-1.04.2-1.43.59L10.3 9.45l-7.72 7.72c-.78.78-.78 2.05 0 2.83L4 21.41c.39.39.9.59 1.41.59.51 0 1.02-.2 1.41-.59l7.78-7.78 2.81-2.81c.8-.78.8-2.07 0-2.86zM5.41 20L4 18.59l7.72-7.72 1.47 1.35L5.41 20z\"/>\n",
              "  </svg>\n",
              "      </button>\n",
              "      \n",
              "  <style>\n",
              "    .colab-df-container {\n",
              "      display:flex;\n",
              "      flex-wrap:wrap;\n",
              "      gap: 12px;\n",
              "    }\n",
              "\n",
              "    .colab-df-convert {\n",
              "      background-color: #E8F0FE;\n",
              "      border: none;\n",
              "      border-radius: 50%;\n",
              "      cursor: pointer;\n",
              "      display: none;\n",
              "      fill: #1967D2;\n",
              "      height: 32px;\n",
              "      padding: 0 0 0 0;\n",
              "      width: 32px;\n",
              "    }\n",
              "\n",
              "    .colab-df-convert:hover {\n",
              "      background-color: #E2EBFA;\n",
              "      box-shadow: 0px 1px 2px rgba(60, 64, 67, 0.3), 0px 1px 3px 1px rgba(60, 64, 67, 0.15);\n",
              "      fill: #174EA6;\n",
              "    }\n",
              "\n",
              "    [theme=dark] .colab-df-convert {\n",
              "      background-color: #3B4455;\n",
              "      fill: #D2E3FC;\n",
              "    }\n",
              "\n",
              "    [theme=dark] .colab-df-convert:hover {\n",
              "      background-color: #434B5C;\n",
              "      box-shadow: 0px 1px 3px 1px rgba(0, 0, 0, 0.15);\n",
              "      filter: drop-shadow(0px 1px 2px rgba(0, 0, 0, 0.3));\n",
              "      fill: #FFFFFF;\n",
              "    }\n",
              "  </style>\n",
              "\n",
              "      <script>\n",
              "        const buttonEl =\n",
              "          document.querySelector('#df-a4cab4ef-363a-4a9b-8c95-8668ac23834a button.colab-df-convert');\n",
              "        buttonEl.style.display =\n",
              "          google.colab.kernel.accessAllowed ? 'block' : 'none';\n",
              "\n",
              "        async function convertToInteractive(key) {\n",
              "          const element = document.querySelector('#df-a4cab4ef-363a-4a9b-8c95-8668ac23834a');\n",
              "          const dataTable =\n",
              "            await google.colab.kernel.invokeFunction('convertToInteractive',\n",
              "                                                     [key], {});\n",
              "          if (!dataTable) return;\n",
              "\n",
              "          const docLinkHtml = 'Like what you see? Visit the ' +\n",
              "            '<a target=\"_blank\" href=https://colab.research.google.com/notebooks/data_table.ipynb>data table notebook</a>'\n",
              "            + ' to learn more about interactive tables.';\n",
              "          element.innerHTML = '';\n",
              "          dataTable['output_type'] = 'display_data';\n",
              "          await google.colab.output.renderOutput(dataTable, element);\n",
              "          const docLink = document.createElement('div');\n",
              "          docLink.innerHTML = docLinkHtml;\n",
              "          element.appendChild(docLink);\n",
              "        }\n",
              "      </script>\n",
              "    </div>\n",
              "  </div>\n",
              "  "
            ],
            "application/vnd.google.colaboratory.module+javascript": "\n      import \"https://ssl.gstatic.com/colaboratory/data_table/99dac6621f6ae8c4/data_table.js\";\n\n      window.createDataTable({\n        data: [[{\n            'v': 6,\n            'f': \"6\",\n        },\n{\n            'v': 1,\n            'f': \"1\",\n        },\n\"Switzerland\",\n0.967,\n0.943709306758023,\n0.97561127252473,\n{\n            'v': 85.8959,\n            'f': \"85.8959\",\n        },\n{\n            'v': 81.9952,\n            'f': \"81.9952\",\n        },\n16.40518951,\n16.5934391,\n13.48301029,\n14.24829006,\n54596.8739378823,\n79450.5101602455],\n [{\n            'v': 7,\n            'f': \"7\",\n        },\n{\n            'v': 2,\n            'f': \"2\",\n        },\n\"Norway\",\n0.983,\n0.949899881040614,\n0.966060981283021,\n{\n            'v': 84.8787,\n            'f': \"84.8787\",\n        },\n{\n            'v': 81.5622,\n            'f': \"81.5622\",\n        },\n18.88678932,\n17.52532959,\n13.13508034,\n12.87032032,\n54699.4455573899,\n74444.9909156756],\n [{\n            'v': 8,\n            'f': \"8\",\n        },\n{\n            'v': 3,\n            'f': \"3\",\n        },\n\"Iceland\",\n0.976,\n0.946935584883962,\n0.970604051881056,\n{\n            'v': 84.1804,\n            'f': \"84.1804\",\n        },\n{\n            'v': 81.2138,\n            'f': \"81.2138\",\n        },\n20.27153015,\n18.09046936,\n13.86952972,\n13.67177963,\n47135.9142393382,\n64004.1285793718],\n [{\n            'v': 9,\n            'f': \"9\",\n        },\n{\n            'v': 4,\n            'f': \"4\",\n        },\n\"Hong Kong, China (SAR)\",\n0.976,\n0.94107751715595,\n0.964310833265346,\n{\n            'v': 88.3257,\n            'f': \"88.3257\",\n        },\n{\n            'v': 82.6613,\n            'f': \"82.6613\",\n        },\n17.57220078,\n17.03323936,\n11.84570026,\n12.70687962,\n51735.2565167101,\n75306.9573059227],\n [{\n            'v': 10,\n            'f': \"10\",\n        },\n{\n            'v': 5,\n            'f': \"5\",\n        },\n\"Australia\",\n0.968,\n0.931672229905923,\n0.962956482669807,\n{\n            'v': 85.8396,\n            'f': \"85.8396\",\n        },\n{\n            'v': 83.1718,\n            'f': \"83.1718\",\n        },\n21.81757927,\n20.30187988,\n12.81058979,\n12.63971043,\n37485.5883003028,\n61160.7901070843],\n [{\n            'v': 11,\n            'f': \"11\",\n        },\n{\n            'v': 6,\n            'f': \"6\",\n        },\n\"Denmark\",\n0.98,\n0.937319032702361,\n0.956524411290307,\n{\n            'v': 83.2762,\n            'f': \"83.2762\",\n        },\n{\n            'v': 79.4848,\n            'f': \"79.4848\",\n        },\n19.34136963,\n18.10860062,\n13.15695,\n12.76414967,\n49876.264628754,\n70961.0915470663],\n [{\n            'v': 12,\n            'f': \"12\",\n        },\n{\n            'v': 7,\n            'f': \"7\",\n        },\n\"Sweden\",\n0.988,\n0.940969463117007,\n0.952156756095642,\n{\n            'v': 84.9097,\n            'f': \"84.9097\",\n        },\n{\n            'v': 81.0775,\n            'f': \"81.0775\",\n        },\n20.53377914,\n18.3472805,\n12.76821041,\n12.44828987,\n49580.1098288725,\n59326.0762468824],\n [{\n            'v': 13,\n            'f': \"13\",\n        },\n{\n            'v': 8,\n            'f': \"8\",\n        },\n\"Ireland\",\n0.987,\n0.934275848391951,\n0.946695538048208,\n{\n            'v': 83.7675,\n            'f': \"83.7675\",\n        },\n{\n            'v': 80.2476,\n            'f': \"80.2476\",\n        },\n19.23660088,\n18.64551926,\n11.78455323,\n11.36747134,\n61104.4939600282,\n91505.9249277234],\n [{\n            'v': 14,\n            'f': \"14\",\n        },\n{\n            'v': 9,\n            'f': \"9\",\n        },\n\"Germany\",\n0.978,\n0.931498430513263,\n0.952180253057389,\n{\n            'v': 83.2215,\n            'f': \"83.2215\",\n        },\n{\n            'v': 78.0809,\n            'f': \"78.0809\",\n        },\n17.00415993,\n17.0161705,\n13.84053479,\n14.3494364,\n46149.952498592,\n63142.6997535196],\n [{\n            'v': 15,\n            'f': \"15\",\n        },\n{\n            'v': 10,\n            'f': \"10\",\n        },\n\"Netherlands\",\n0.968,\n0.924997733192445,\n0.956065753936009,\n{\n            'v': 83.3568,\n            'f': \"83.3568\",\n        },\n{\n            'v': 79.9974,\n            'f': \"79.9974\",\n        },\n19.00924791,\n18.38851776,\n12.3527298,\n12.81820965,\n46301.3411836045,\n65778.4469654018],\n [{\n            'v': 16,\n            'f': \"16\",\n        },\n{\n            'v': 11,\n            'f': \"11\",\n        },\n\"Finland\",\n0.989,\n0.934283258715521,\n0.944567946425914,\n{\n            'v': 84.7177,\n            'f': \"84.7177\",\n        },\n{\n            'v': 79.3458,\n            'f': \"79.3458\",\n        },\n19.85631943,\n18.28832054,\n13.04683971,\n12.69112968,\n41697.5015644962,\n57393.7955345333],\n [{\n            'v': 17,\n            'f': \"17\",\n        },\n{\n            'v': 12,\n            'f': \"12\",\n        },\n\"Singapore\",\n0.992,\n0.935256237014482,\n0.943210265588796,\n{\n            'v': 84.9268,\n            'f': \"84.9268\",\n        },\n{\n            'v': 80.6357,\n            'f': \"80.6357\",\n        },\n16.71208,\n16.39477921,\n11.62705994,\n12.2547102,\n75093.9938620286,\n105348.328286382],\n [{\n            'v': 18,\n            'f': \"18\",\n        },\n{\n            'v': 13,\n            'f': \"13\",\n        },\n\"Belgium\",\n0.978,\n0.925048072885807,\n0.946127575010664,\n{\n            'v': 84.2957,\n            'f': \"84.2957\",\n        },\n{\n            'v': 79.4344,\n            'f': \"79.4344\",\n        },\n20.70512962,\n18.53882027,\n12.31939983,\n12.43480968,\n42532.9343066722,\n62295.0828930701],\n [{\n            'v': 19,\n            'f': \"19\",\n        },\n{\n            'v': 13,\n            'f': \"13\",\n        },\n\"New Zealand\",\n0.975,\n0.924682806655565,\n0.948211622989812,\n{\n            'v': 84.3213,\n            'f': \"84.3213\",\n        },\n{\n            'v': 80.5756,\n            'f': \"80.5756\",\n        },\n20.80978012,\n19.73480988,\n12.93587971,\n12.95394039,\n36864.4872006473,\n51377.4755766416],\n [{\n            'v': 20,\n            'f': \"20\",\n        },\n{\n            'v': 15,\n            'f': \"15\",\n        },\n\"Canada\",\n0.988,\n0.929499536355183,\n0.941126182850819,\n{\n            'v': 84.6711,\n            'f': \"84.6711\",\n        },\n{\n            'v': 80.621,\n            'f': \"80.621\",\n        },\n16.89101982,\n15.91734982,\n13.91497893,\n13.74785411,\n38651.8093900896,\n55065.2548117157],\n [{\n            'v': 21,\n            'f': \"21\",\n        },\n{\n            'v': 16,\n            'f': \"16\",\n        },\n\"Liechtenstein\",\n\"..\",\n\"..\",\n\"..\",\n{\n            'v': 85.35,\n            'f': \"85.35\",\n        },\n{\n            'v': 81.101,\n            'f': \"81.101\",\n        },\n14.16571045,\n16.17333984,\n\"..\",\n\"..\",\n\"..\",\n\"..\"],\n [{\n            'v': 22,\n            'f': \"22\",\n        },\n{\n            'v': 17,\n            'f': \"17\",\n        },\n\"Luxembourg\",\n0.993,\n0.924607692313635,\n0.931456057931993,\n{\n            'v': 84.8055,\n            'f': \"84.8055\",\n        },\n{\n            'v': 80.4463,\n            'f': \"80.4463\",\n        },\n14.38416004,\n14.41333008,\n13.0062666,\n13.02411775,\n70117.3744928982,\n98991.3462000986],\n [{\n            'v': 23,\n            'f': \"23\",\n        },\n{\n            'v': 18,\n            'f': \"18\",\n        },\n\"United Kingdom\",\n0.987,\n0.921594468173546,\n0.933932879522402,\n{\n            'v': 82.7722,\n            'f': \"82.7722\",\n        },\n{\n            'v': 78.7168,\n            'f': \"78.7168\",\n        },\n17.82233047,\n16.80278015,\n13.44999981,\n13.36056995,\n37374.4505059012,\n53264.9393045294],\n [{\n            'v': 24,\n            'f': \"24\",\n        },\n{\n            'v': 19,\n            'f': \"19\",\n        },\n\"Japan\",\n0.97,\n0.907973255534414,\n0.936097221047472,\n{\n            'v': 87.7313,\n            'f': \"87.7313\",\n        },\n{\n            'v': 81.8018,\n            'f': \"81.8018\",\n        },\n15.19815139,\n15.2438166,\n13.30556444,\n13.42565598,\n30620.8067529737,\n54596.8443486755],\n [{\n            'v': 25,\n            'f': \"25\",\n        },\n{\n            'v': 19,\n            'f': \"19\",\n        },\n\"Korea (Republic of)\",\n0.944,\n0.893687773805665,\n0.947120599532303,\n{\n            'v': 86.7603,\n            'f': \"86.7603\",\n        },\n{\n            'v': 80.3864,\n            'f': \"80.3864\",\n        },\n16.06004906,\n16.92740059,\n11.86020016,\n13.17625373,\n29299.8934691973,\n59737.3370407366],\n [{\n            'v': 26,\n            'f': \"26\",\n        },\n{\n            'v': 21,\n            'f': \"21\",\n        },\n\"United States\",\n1.001,\n0.919688966541077,\n0.919186121573777,\n{\n            'v': 80.238,\n            'f': \"80.238\",\n        },\n{\n            'v': 74.2999,\n            'f': \"74.2999\",\n        },\n16.93508911,\n15.64476967,\n13.73783016,\n13.62497997,\n51538.9555072382,\n78238.2140849607],\n [{\n            'v': 27,\n            'f': \"27\",\n        },\n{\n            'v': 22,\n            'f': \"22\",\n        },\n\"Israel\",\n0.992,\n0.914945896168946,\n0.921975238323938,\n{\n            'v': 84.2953,\n            'f': \"84.2953\",\n        },\n{\n            'v': 80.1535,\n            'f': \"80.1535\",\n        },\n16.72323036,\n15.40869045,\n13.38325237,\n13.30354585,\n34959.6986473428,\n48125.8880653021],\n [{\n            'v': 28,\n            'f': \"28\",\n        },\n{\n            'v': 23,\n            'f': \"23\",\n        },\n\"Malta\",\n0.98,\n0.906805756732783,\n0.92531424090035,\n{\n            'v': 86.1085,\n            'f': \"86.1085\",\n        },\n{\n            'v': 81.4414,\n            'f': \"81.4414\",\n        },\n17.38516045,\n16.32799911,\n12.00041962,\n12.40596962,\n30282.1014847071,\n46821.0132431008],\n [{\n            'v': 29,\n            'f': \"29\",\n        },\n{\n            'v': 23,\n            'f': \"23\",\n        },\n\"Slovenia\",\n0.999,\n0.915401466620424,\n0.91624322684683,\n{\n            'v': 83.8366,\n            'f': \"83.8366\",\n        },\n{\n            'v': 77.6469,\n            'f': \"77.6469\",\n        },\n18.41757965,\n16.93939018,\n12.83347034,\n12.77305984,\n33037.5284849374,\n46385.6391169428],\n [{\n            'v': 30,\n            'f': \"30\",\n        },\n{\n            'v': 25,\n            'f': \"25\",\n        },\n\"Austria\",\n0.98,\n0.905682295369603,\n0.923877355881014,\n{\n            'v': 84.084,\n            'f': \"84.084\",\n        },\n{\n            'v': 79.0433,\n            'f': \"79.0433\",\n        },\n16.39508057,\n15.64367962,\n11.97801018,\n12.55373955,\n43413.8873640821,\n64148.4873661337],\n [{\n            'v': 31,\n            'f': \"31\",\n        },\n{\n            'v': 26,\n            'f': \"26\",\n        },\n\"United Arab Emirates\",\n0.953,\n0.877132270313896,\n0.920631428756011,\n{\n            'v': 80.9371,\n            'f': \"80.9371\",\n        },\n{\n            'v': 77.2164,\n            'f': \"77.2164\",\n        },\n16.53561974,\n15.20983028,\n12.52534008,\n12.80508041,\n28921.1448181296,\n77317.6801660486],\n [{\n            'v': 32,\n            'f': \"32\",\n        },\n{\n            'v': 27,\n            'f': \"27\",\n        },\n\"Spain\",\n0.986,\n0.895714434096264,\n0.908603781219383,\n{\n            'v': 85.7735,\n            'f': \"85.7735\",\n        },\n{\n            'v': 80.2091,\n            'f': \"80.2091\",\n        },\n18.43042946,\n17.4191494,\n10.52787018,\n10.68844986,\n31212.6376334239,\n45784.0770108752],\n [{\n            'v': 33,\n            'f': \"33\",\n        },\n{\n            'v': 28,\n            'f': \"28\",\n        },\n\"France\",\n0.99,\n0.89751900872888,\n0.906690801873341,\n{\n            'v': 85.485,\n            'f': \"85.485\",\n        },\n{\n            'v': 79.425,\n            'f': \"79.425\",\n        },\n16.15681076,\n15.47455025,\n11.43721962,\n11.80276966,\n38403.4713023402,\n53987.6769718084],\n [{\n            'v': 34,\n            'f': \"34\",\n        },\n{\n            'v': 29,\n            'f': \"29\",\n        },\n\"Cyprus\",\n0.972,\n0.881957454328509,\n0.907058665812742,\n{\n            'v': 83.2037,\n            'f': \"83.2037\",\n        },\n{\n            'v': 79.2092,\n            'f': \"79.2092\",\n        },\n15.69172001,\n15.61785984,\n12.41040993,\n12.47198009,\n30616.5208378019,\n45734.5501001802],\n [{\n            'v': 35,\n            'f': \"35\",\n        },\n{\n            'v': 30,\n            'f': \"30\",\n        },\n\"Italy\",\n0.97,\n0.879184171966414,\n0.906110064007286,\n{\n            'v': 85.0955,\n            'f': \"85.0955\",\n        },\n{\n            'v': 80.5189,\n            'f': \"80.5189\",\n        },\n16.5740509,\n15.90188026,\n10.60560989,\n10.8870697,\n31099.8655235923,\n55186.5374305787],\n [{\n            'v': 36,\n            'f': \"36\",\n        },\n{\n            'v': 31,\n            'f': \"31\",\n        },\n\"Estonia\",\n1.021,\n0.898020476255881,\n0.879365758523169,\n{\n            'v': 81.2311,\n            'f': \"81.2311\",\n        },\n{\n            'v': 72.8152,\n            'f': \"72.8152\",\n        },\n16.76152992,\n15.14676952,\n13.78102016,\n13.2729702,\n30995.4047127434,\n45866.2068461356],\n [{\n            'v': 37,\n            'f': \"37\",\n        },\n{\n            'v': 32,\n            'f': \"32\",\n        },\n\"Czechia\",\n0.989,\n0.883640143214325,\n0.893197720581678,\n{\n            'v': 80.8885,\n            'f': \"80.8885\",\n        },\n{\n            'v': 74.6662,\n            'f': \"74.6662\",\n        },\n16.7543602,\n15.71041012,\n12.71214962,\n13.03565979,\n30454.505422077,\n47288.8088147064],\n [{\n            'v': 38,\n            'f': \"38\",\n        },\n{\n            'v': 33,\n            'f': \"33\",\n        },\n\"Greece\",\n0.969,\n0.871930103672562,\n0.900182194227927,\n{\n            'v': 82.8521,\n            'f': \"82.8521\",\n        },\n{\n            'v': 77.4923,\n            'f': \"77.4923\",\n        },\n20.05644035,\n20.00617981,\n11.09685993,\n11.74693966,\n22889.7921745763,\n35367.9478178113],\n [{\n            'v': 39,\n            'f': \"39\",\n        },\n{\n            'v': 34,\n            'f': \"34\",\n        },\n\"Poland\",\n1.008,\n0.878323947249469,\n0.871513812734441,\n{\n            'v': 80.3888,\n            'f': \"80.3888\",\n        },\n{\n            'v': 72.6255,\n            'f': \"72.6255\",\n        },\n16.7696991,\n15.31564045,\n13.34002972,\n12.96819973,\n25260.740440814,\n41335.5004493955],\n [{\n            'v': 40,\n            'f': \"40\",\n        },\n{\n            'v': 35,\n            'f': \"35\",\n        },\n\"Bahrain\",\n0.927,\n0.828959683366835,\n0.894074659875172,\n{\n            'v': 80.0178,\n            'f': \"80.0178\",\n        },\n{\n            'v': 77.7566,\n            'f': \"77.7566\",\n        },\n17.00485992,\n15.85118008,\n10.78437042,\n11.17325974,\n16786.1730610931,\n53359.4967138605],\n [{\n            'v': 41,\n            'f': \"41\",\n        },\n{\n            'v': 35,\n            'f': \"35\",\n        },\n\"Lithuania\",\n1.03,\n0.887521884692424,\n0.861661897078419,\n{\n            'v': 78.775,\n            'f': \"78.775\",\n        },\n{\n            'v': 68.7778,\n            'f': \"68.7778\",\n        },\n16.73283958,\n15.85984993,\n13.58351994,\n13.39519978,\n33891.3687228578,\n42500.0432599795],\n [{\n            'v': 42,\n            'f': \"42\",\n        },\n{\n            'v': 35,\n            'f': \"35\",\n        },\n\"Saudi Arabia\",\n0.917,\n0.825883187238768,\n0.900720983767021,\n{\n            'v': 78.7714,\n            'f': \"78.7714\",\n        },\n{\n            'v': 75.5902,\n            'f': \"75.5902\",\n        },\n16.20259094,\n16.10305977,\n10.73622036,\n11.67045021,\n20677.9755994882,\n64708.4238532023],\n [{\n            'v': 43,\n            'f': \"43\",\n        },\n{\n            'v': 38,\n            'f': \"38\",\n        },\n\"Portugal\",\n0.994,\n0.862546452391173,\n0.86749287058608,\n{\n            'v': 84.0791,\n            'f': \"84.0791\",\n        },\n{\n            'v': 77.8468,\n            'f': \"77.8468\",\n        },\n16.9929409,\n16.74909019,\n9.607560158,\n9.538669586,\n28713.4369712928,\n38126.79502683],\n [{\n            'v': 44,\n            'f': \"44\",\n        },\n{\n            'v': 39,\n            'f': \"39\",\n        },\n\"Latvia\",\n1.025,\n0.872905527468193,\n0.851825525785682,\n{\n            'v': 77.8257,\n            'f': \"77.8257\",\n        },\n{\n            'v': 69.2021,\n            'f': \"69.2021\",\n        },\n16.7930603,\n15.63866997,\n13.56832981,\n12.89021969,\n27882.2849264741,\n38506.1117070819],\n [{\n            'v': 45,\n            'f': \"45\",\n        },\n{\n            'v': 40,\n            'f': \"40\",\n        },\n\"Andorra\",\n\"..\",\n\"..\",\n\"..\",\n{\n            'v': 84.3238,\n            'f': \"84.3238\",\n        },\n{\n            'v': 77.1723,\n            'f': \"77.1723\",\n        },\n\"..\",\n\"..\",\n10.48113913,\n10.62797735,\n\"..\",\n\"..\"],\n [{\n            'v': 46,\n            'f': \"46\",\n        },\n{\n            'v': 40,\n            'f': \"40\",\n        },\n\"Croatia\",\n0.995,\n0.855338778458225,\n0.859239830853182,\n{\n            'v': 81.0549,\n            'f': \"81.0549\",\n        },\n{\n            'v': 74.233,\n            'f': \"74.233\",\n        },\n15.90723991,\n14.35393047,\n11.93745426,\n12.48016495,\n23887.9946672198,\n36712.7900935022],\n [{\n            'v': 47,\n            'f': \"47\",\n        },\n{\n            'v': 42,\n            'f': \"42\",\n        },\n\"Chile\",\n0.967,\n0.838413011605642,\n0.867267868435852,\n{\n            'v': 81.4368,\n            'f': \"81.4368\",\n        },\n{\n            'v': 76.4722,\n            'f': \"76.4722\",\n        },\n16.96546936,\n16.50263023,\n10.84131778,\n11.04624186,\n17552.929990094,\n31677.2770173509],\n [{\n            'v': 48,\n            'f': \"48\",\n        },\n{\n            'v': 42,\n            'f': \"42\",\n        },\n\"Qatar\",\n1.019,\n0.865842414496017,\n0.849982591645774,\n{\n            'v': 80.9374,\n            'f': \"80.9374\",\n        },\n{\n            'v': 78.3139,\n            'f': \"78.3139\",\n        },\n14.53326988,\n12.09377956,\n11.61881592,\n9.61258181,\n42100.8474303107,\n104066.164056264],\n [{\n            'v': 49,\n            'f': \"49\",\n        },\n{\n            'v': 44,\n            'f': \"44\",\n        },\n\"San Marino\",\n\"..\",\n\"..\",\n\"..\",\n{\n            'v': 83.495,\n            'f': \"83.495\",\n        },\n{\n            'v': 78.3621,\n            'f': \"78.3621\",\n        },\n11.75339031,\n12.81585979,\n10.89807987,\n10.69499016,\n\"..\",\n\"..\"],\n [{\n            'v': 50,\n            'f': \"50\",\n        },\n{\n            'v': 45,\n            'f': \"45\",\n        },\n\"Slovakia\",\n0.999,\n0.846502356712371,\n0.847723638092904,\n{\n            'v': 78.4307,\n            'f': \"78.4307\",\n        },\n{\n            'v': 71.4948,\n            'f': \"71.4948\",\n        },\n15.01887989,\n14.03100014,\n12.86800003,\n12.95855999,\n24848.6679746886,\n36813.1001887973],\n [{\n            'v': 51,\n            'f': \"51\",\n        },\n{\n            'v': 46,\n            'f': \"46\",\n        },\n\"Hungary\",\n0.987,\n0.840092841109874,\n0.850884144897607,\n{\n            'v': 77.9211,\n            'f': \"77.9211\",\n        },\n{\n            'v': 71.1047,\n            'f': \"71.1047\",\n        },\n15.30526079,\n14.77280122,\n12.09698963,\n12.42362022,\n25908.868426218,\n40262.2487631917],\n [{\n            'v': 52,\n            'f': \"52\",\n        },\n{\n            'v': 47,\n            'f': \"47\",\n        },\n\"Argentina\",\n0.997,\n0.833324995495747,\n0.835521147821412,\n{\n            'v': 78.6471,\n            'f': \"78.6471\",\n        },\n{\n            'v': 72.1818,\n            'f': \"72.1818\",\n        },\n19.23380089,\n16.55146027,\n11.35364528,\n10.90602315,\n15580.7157069431,\n26376.4250548888],\n [{\n            'v': 53,\n            'f': \"53\",\n        },\n{\n            'v': 48,\n            'f': \"48\",\n        },\n\"T\\u00fcrkiye\",\n0.937,\n0.806205301480887,\n0.860285269263296,\n{\n            'v': 79.1213,\n            'f': \"79.1213\",\n        },\n{\n            'v': 73.0397,\n            'f': \"73.0397\",\n        },\n17.85655022,\n18.81937981,\n7.87033987,\n9.411600113,\n19079.3504665313,\n42928.7894782511],\n [{\n            'v': 54,\n            'f': \"54\",\n        },\n{\n            'v': 49,\n            'f': \"49\",\n        },\n\"Montenegro\",\n0.981,\n0.82340419273311,\n0.839623822091397,\n{\n            'v': 79.8119,\n            'f': \"79.8119\",\n        },\n{\n            'v': 72.9973,\n            'f': \"72.9973\",\n        },\n15.60083008,\n14.60348034,\n11.795824,\n12.59037047,\n15934.7624932206,\n26000.7427698195],\n [{\n            'v': 55,\n            'f': \"55\",\n        },\n{\n            'v': 50,\n            'f': \"50\",\n        },\n\"Kuwait\",\n1.009,\n0.830933446942819,\n0.823823694749335,\n{\n            'v': 81.4628,\n            'f': \"81.4628\",\n        },\n{\n            'v': 77.1925,\n            'f': \"77.1925\",\n        },\n16.98758886,\n13.88226562,\n8.123162299,\n6.93646169,\n28085.5800910716,\n68826.8182154863],\n [{\n            'v': 56,\n            'f': \"56\",\n        },\n{\n            'v': 51,\n            'f': \"51\",\n        },\n\"Brunei Darussalam\",\n0.984,\n0.819470894364003,\n0.833025563440042,\n{\n            'v': 76.8812,\n            'f': \"76.8812\",\n        },\n{\n            'v': 72.6017,\n            'f': \"72.6017\",\n        },\n14.43284988,\n13.51095009,\n9.162,\n9.198,\n47578.7567634333,\n80260.7848628897],\n [{\n            'v': 57,\n            'f': \"57\",\n        },\n{\n            'v': 52,\n            'f': \"52\",\n        },\n\"Russian Federation\",\n1.016,\n0.828474835105471,\n0.815161030410319,\n{\n            'v': 74.7727,\n            'f': \"74.7727\",\n        },\n{\n            'v': 64.2085,\n            'f': \"64.2085\",\n        },\n15.97797966,\n15.56381035,\n12.75277374,\n12.80649889,\n21857.3324557337,\n33288.0598805046],\n [{\n            'v': 58,\n            'f': \"58\",\n        },\n{\n            'v': 53,\n            'f': \"53\",\n        },\n\"Romania\",\n0.994,\n0.818929277948892,\n0.82346438932339,\n{\n            'v': 77.8898,\n            'f': \"77.8898\",\n        },\n{\n            'v': 70.6364,\n            'f': \"70.6364\",\n        },\n14.7216301,\n13.77198982,\n10.98981953,\n11.58393002,\n24554.4767319832,\n35874.097597933],\n [{\n            'v': 59,\n            'f': \"59\",\n        },\n{\n            'v': 54,\n            'f': \"54\",\n        },\n\"Oman\",\n0.9,\n0.75183858397062,\n0.835466969514068,\n{\n            'v': 74.7155,\n            'f': \"74.7155\",\n        },\n{\n            'v': 70.9841,\n            'f': \"70.9841\",\n        },\n15.04283047,\n14.49594021,\n12.05675983,\n11.44030952,\n7169.21216933021,\n39717.2307243986],\n [{\n            'v': 60,\n            'f': \"60\",\n        },\n{\n            'v': 55,\n            'f': \"55\",\n        },\n\"Bahamas\",\n\"..\",\n\"..\",\n\"..\",\n{\n            'v': 75.0957,\n            'f': \"75.0957\",\n        },\n{\n            'v': 68.1206,\n            'f': \"68.1206\",\n        },\n\"..\",\n\"..\",\n12.7414244,\n12.55653686,\n25896.9841849982,\n35495.4252429557],\n [{\n            'v': 61,\n            'f': \"61\",\n        },\n{\n            'v': 56,\n            'f': \"56\",\n        },\n\"Kazakhstan\",\n0.998,\n0.80886045158257,\n0.810586606328901,\n{\n            'v': 73.0814,\n            'f': \"73.0814\",\n        },\n{\n            'v': 65.4761,\n            'f': \"65.4761\",\n        },\n16.04249954,\n15.49851036,\n12.37770421,\n12.31332986,\n18976.3473403292,\n29305.1269429111],\n [{\n            'v': 62,\n            'f': \"62\",\n        },\n{\n            'v': 57,\n            'f': \"57\",\n        },\n\"Trinidad and Tobago\",\n0.985,\n0.801419798725354,\n0.813863714882395,\n{\n            'v': 76.4032,\n            'f': \"76.4032\",\n        },\n{\n            'v': 69.6616,\n            'f': \"69.6616\",\n        },\n14.8003024,\n14.24290289,\n11.72598705,\n11.49873111,\n16793.8735504204,\n30166.2029841624],\n [{\n            'v': 63,\n            'f': \"63\",\n        },\n{\n            'v': 58,\n            'f': \"58\",\n        },\n\"Costa Rica\",\n0.996,\n0.806325603287496,\n0.809722197171215,\n{\n            'v': 79.8106,\n            'f': \"79.8106\",\n        },\n{\n            'v': 74.4177,\n            'f': \"74.4177\",\n        },\n17.05911064,\n16.04846001,\n8.892390251,\n8.702249527,\n16567.9331467918,\n23375.9577293755],\n [{\n            'v': 64,\n            'f': \"64\",\n        },\n{\n            'v': 58,\n            'f': \"58\",\n        },\n\"Uruguay\",\n1.022,\n0.81217901627522,\n0.794502920206434,\n{\n            'v': 79.2583,\n            'f': \"79.2583\",\n        },\n{\n            'v': 71.6545,\n            'f': \"71.6545\",\n        },\n17.32807722,\n15.44421384,\n9.251560211,\n8.6769104,\n17125.2922509839,\n25680.3291819876],\n [{\n            'v': 65,\n            'f': \"65\",\n        },\n{\n            'v': 60,\n            'f': \"60\",\n        },\n\"Belarus\",\n1.011,\n0.812031187979626,\n0.802832000481084,\n{\n            'v': 77.6972,\n            'f': \"77.6972\",\n        },\n{\n            'v': 67.2978,\n            'f': \"67.2978\",\n        },\n15.3424902,\n15.00576019,\n12.15460014,\n12.12977982,\n15158.3230260127,\n23165.0207652433],\n [{\n            'v': 66,\n            'f': \"66\",\n        },\n{\n            'v': 61,\n            'f': \"61\",\n        },\n\"Panama\",\n1.017,\n0.811685938093607,\n0.798281932492001,\n{\n            'v': 79.594,\n            'f': \"79.594\",\n        },\n{\n            'v': 73.0499,\n            'f': \"73.0499\",\n        },\n13.64869808,\n12.48239661,\n10.79374981,\n10.26064968,\n23379.6502898973,\n30531.1000053826],\n [{\n            'v': 67,\n            'f': \"67\",\n        },\n{\n            'v': 62,\n            'f': \"62\",\n        },\n\"Malaysia\",\n0.982,\n0.794154155626982,\n0.809075377595564,\n{\n            'v': 77.3623,\n            'f': \"77.3623\",\n        },\n{\n            'v': 72.659,\n            'f': \"72.659\",\n        },\n13.84428024,\n12.87180996,\n10.56863976,\n10.71778011,\n20671.5607299975,\n32379.5797368286],\n [{\n            'v': 68,\n            'f': \"68\",\n        },\n{\n            'v': 63,\n            'f': \"63\",\n        },\n\"Georgia\",\n1.007,\n0.803449378968075,\n0.79774145453163,\n{\n            'v': 76.6807,\n            'f': \"76.6807\",\n        },\n{\n            'v': 66.8028,\n            'f': \"66.8028\",\n        },\n15.93873978,\n15.2400198,\n12.86532021,\n12.77040005,\n11284.6655035638,\n18472.482610232],\n [{\n            'v': 69,\n            'f': \"69\",\n        },\n{\n            'v': 63,\n            'f': \"63\",\n        },\n\"Mauritius\",\n0.973,\n0.789107667613809,\n0.811010461550297,\n{\n            'v': 76.8265,\n            'f': \"76.8265\",\n        },\n{\n            'v': 70.44,\n            'f': \"70.44\",\n        },\n15.90719008,\n14.46316987,\n10.04156148,\n10.85802176,\n15015.8211366536,\n29221.0443354663],\n [{\n            'v': 70,\n            'f': \"70\",\n        },\n{\n            'v': 63,\n            'f': \"63\",\n        },\n\"Serbia\",\n0.982,\n0.794081583683848,\n0.808468225467158,\n{\n            'v': 77.1779,\n            'f': \"77.1779\",\n        },\n{\n            'v': 71.2212,\n            'f': \"71.2212\",\n        },\n14.97856998,\n13.85284996,\n11.01638985,\n11.75636005,\n15306.1035746539,\n23270.1670626274],\n [{\n            'v': 71,\n            'f': \"71\",\n        },\n{\n            'v': 66,\n            'f': \"66\",\n        },\n\"Thailand\",\n1.012,\n0.805394309918143,\n0.795766338010727,\n{\n            'v': 83.0408,\n            'f': \"83.0408\",\n        },\n{\n            'v': 74.518,\n            'f': \"74.518\",\n        },\n16.24098024,\n15.56719155,\n8.56564045,\n8.838259697,\n15457.0840999554,\n18694.2363336112],\n [{\n            'v': 72,\n            'f': \"72\",\n        },\n{\n            'v': 67,\n            'f': \"67\",\n        },\n\"Albania\",\n1.007,\n0.799221622279984,\n0.79360461283754,\n{\n            'v': 79.1726,\n            'f': \"79.1726\",\n        },\n{\n            'v': 74.0869,\n            'f': \"74.0869\",\n        },\n15.31414032,\n13.65186977,\n11.68443326,\n10.92069549,\n11637.2156716603,\n16629.9021108478],\n [{\n            'v': 73,\n            'f': \"73\",\n        },\n{\n            'v': 68,\n            'f': \"68\",\n        },\n\"Bulgaria\",\n0.995,\n0.792403351137831,\n0.796486005558525,\n{\n            'v': 75.4824,\n            'f': \"75.4824\",\n        },\n{\n            'v': 68.435,\n            'f': \"68.435\",\n        },\n14.17173004,\n13.64058971,\n11.50780964,\n11.30865955,\n18109.3893558731,\n28356.8151224426],\n [{\n            'v': 74,\n            'f': \"74\",\n        },\n{\n            'v': 68,\n            'f': \"68\",\n        },\n\"Grenada\",\n\"..\",\n\"..\",\n\"..\",\n{\n            'v': 77.8979,\n            'f': \"77.8979\",\n        },\n{\n            'v': 72.2123,\n            'f': \"72.2123\",\n        },\n19.26614739,\n18.07579333,\n\"..\",\n\"..\",\n\"..\",\n\"..\"],\n [{\n            'v': 75,\n            'f': \"75\",\n        },\n{\n            'v': 70,\n            'f': \"70\",\n        },\n\"Barbados\",\n1.034,\n0.799110547670975,\n0.772530746811268,\n{\n            'v': 79.3594,\n            'f': \"79.3594\",\n        },\n{\n            'v': 75.6292,\n            'f': \"75.6292\",\n        },\n17.69855459,\n13.76279051,\n10.28248279,\n9.088873873,\n10235.2143446648,\n14554.6140481282],\n [{\n            'v': 76,\n            'f': \"76\",\n        },\n{\n            'v': 71,\n            'f': \"71\",\n        },\n\"Antigua and Barbuda\",\n\"..\",\n\"..\",\n\"..\",\n{\n            'v': 80.9411,\n            'f': \"80.9411\",\n        },\n{\n            'v': 75.7753,\n            'f': \"75.7753\",\n        },\n15.20951739,\n13.19281252,\n\"..\",\n\"..\",\n\"..\",\n\"..\"],\n [{\n            'v': 77,\n            'f': \"77\",\n        },\n{\n            'v': 72,\n            'f': \"72\",\n        },\n\"Seychelles\",\n\"..\",\n\"..\",\n\"..\",\n{\n            'v': 75.6503,\n            'f': \"75.6503\",\n        },\n{\n            'v': 67.7429,\n            'f': \"67.7429\",\n        },\n15.11960983,\n12.86174011,\n10.21333,\n10.36414,\n\"..\",\n\"..\"],\n [{\n            'v': 78,\n            'f': \"78\",\n        },\n{\n            'v': 73,\n            'f': \"73\",\n        },\n\"Sri Lanka\",\n0.949,\n0.754666487027724,\n0.794880643060017,\n{\n            'v': 79.5018,\n            'f': \"79.5018\",\n        },\n{\n            'v': 73.1101,\n            'f': \"73.1101\",\n        },\n14.49209703,\n13.78702118,\n10.83043003,\n10.82703018,\n7004.61099016414,\n18573.3025486633],\n [{\n            'v': 79,\n            'f': \"79\",\n        },\n{\n            'v': 74,\n            'f': \"74\",\n        },\n\"Bosnia and Herzegovina\",\n0.94,\n0.753943386468645,\n0.802005823607188,\n{\n            'v': 77.5302,\n            'f': \"77.5302\",\n        },\n{\n            'v': 73.1078,\n            'f': \"73.1078\",\n        },\n14.07886364,\n13.52113636,\n9.778189659,\n11.35262966,\n10709.2849239449,\n19917.0061542094],\n [{\n            'v': 80,\n            'f': \"80\",\n        },\n{\n            'v': 75,\n            'f': \"75\",\n        },\n\"Saint Kitts and Nevis\",\n\"..\",\n\"..\",\n\"..\",\n{\n            'v': 75.3413,\n            'f': \"75.3413\",\n        },\n{\n            'v': 68.3456,\n            'f': \"68.3456\",\n        },\n15.99400249,\n14.9184988,\n\"..\",\n\"..\",\n\"..\",\n\"..\"],\n [{\n            'v': 81,\n            'f': \"81\",\n        },\n{\n            'v': 76,\n            'f': \"76\",\n        },\n\"Iran (Islamic Republic of)\",\n0.88,\n0.704065864639817,\n0.799718990025852,\n{\n            'v': 76.8085,\n            'f': \"76.8085\",\n        },\n{\n            'v': 71.2463,\n            'f': \"71.2463\",\n        },\n14.69062996,\n14.53594971,\n10.61832691,\n10.65504347,\n3767.3994597355,\n22040.7096548897],\n [{\n            'v': 82,\n            'f': \"82\",\n        },\n{\n            'v': 77,\n            'f': \"77\",\n        },\n\"Ukraine\",\n1.012,\n0.77570954187598,\n0.766191934849732,\n{\n            'v': 76.7002,\n            'f': \"76.7002\",\n        },\n{\n            'v': 66.5312,\n            'f': \"66.5312\",\n        },\n14.99265633,\n14.93059899,\n11.45783104,\n10.72236653,\n10369.8685562964,\n16604.7420082415],\n [{\n            'v': 83,\n            'f': \"83\",\n        },\n{\n            'v': 78,\n            'f': \"78\",\n        },\n\"North Macedonia\",\n0.945,\n0.746188014080375,\n0.789290228737714,\n{\n            'v': 76.1561,\n            'f': \"76.1561\",\n        },\n{\n            'v': 71.6616,\n            'f': \"71.6616\",\n        },\n13.86275189,\n13.39966973,\n9.653639793,\n10.8074398,\n11146.8390182508,\n20715.6717198476],\n [{\n            'v': 84,\n            'f': \"84\",\n        },\n{\n            'v': 79,\n            'f': \"79\",\n        },\n\"China\",\n0.984,\n0.761168005980658,\n0.773243023883288,\n{\n            'v': 81.1546,\n            'f': \"81.1546\",\n        },\n{\n            'v': 75.4634,\n            'f': \"75.4634\",\n        },\n14.77470471,\n13.69752509,\n7.33460805,\n7.861852212,\n13979.6897097644,\n20882.8663691594],\n [{\n            'v': 85,\n            'f': \"85\",\n        },\n{\n            'v': 80,\n            'f': \"80\",\n        },\n\"Dominican Republic\",\n1.014,\n0.771504074135683,\n0.760780375222154,\n{\n            'v': 76.2914,\n            'f': \"76.2914\",\n        },\n{\n            'v': 69.2978,\n            'f': \"69.2978\",\n        },\n15.35246548,\n13.57888472,\n9.607207455,\n8.988241636,\n13695.3114600437,\n22248.0612511166],\n [{\n            'v': 86,\n            'f': \"86\",\n        },\n{\n            'v': 80,\n            'f': \"80\",\n        },\n\"Moldova (Republic of)\",\n1.01,\n0.77077309927622,\n0.763199633984424,\n{\n            'v': 73.5466,\n            'f': \"73.5466\",\n        },\n{\n            'v': 64.4433,\n            'f': \"64.4433\",\n        },\n14.75263023,\n14.12357998,\n11.85783958,\n11.78106976,\n12086.9609175949,\n17961.1685357807],\n [{\n            'v': 87,\n            'f': \"87\",\n        },\n{\n            'v': 80,\n            'f': \"80\",\n        },\n\"Palau\",\n\"..\",\n\"..\",\n\"..\",\n{\n            'v': 70.5753,\n            'f': \"70.5753\",\n        },\n{\n            'v': 62.4323,\n            'f': \"62.4323\",\n        },\n15.98627,\n15.53672,\n\"..\",\n\"..\",\n\"..\",\n\"..\"],\n [{\n            'v': 88,\n            'f': \"88\",\n        },\n{\n            'v': 83,\n            'f': \"83\",\n        },\n\"Cuba\",\n0.961,\n0.744772410843252,\n0.774843635093927,\n{\n            'v': 76.3585,\n            'f': \"76.3585\",\n        },\n{\n            'v': 71.2446,\n            'f': \"71.2446\",\n        },\n15.10297966,\n13.81696987,\n12.59368627,\n12.40169983,\n5103.3485544724,\n10693.0076839618],\n [{\n            'v': 89,\n            'f': \"89\",\n        },\n{\n            'v': 84,\n            'f': \"84\",\n        },\n\"Peru\",\n0.95,\n0.742054002030932,\n0.781076188704073,\n{\n            'v': 74.7462,\n            'f': \"74.7462\",\n        },\n{\n            'v': 70.1206,\n            'f': \"70.1206\",\n        },\n15.225974,\n15.54962308,\n9.325330482,\n10.45869538,\n9812.53559644605,\n14726.6580215782],\n [{\n            'v': 90,\n            'f': \"90\",\n        },\n{\n            'v': 85,\n            'f': \"85\",\n        },\n\"Armenia\",\n1.001,\n0.756949514180017,\n0.75611056318535,\n{\n            'v': 77.35,\n            'f': \"77.35\",\n        },\n{\n            'v': 66.5544,\n            'f': \"66.5544\",\n        },\n13.81657982,\n12.52400017,\n11.32151985,\n11.34119034,\n8736.26384887973,\n18557.9479948061],\n [{\n            'v': 91,\n            'f': \"91\",\n        },\n{\n            'v': 86,\n            'f': \"86\",\n        },\n\"Mexico\",\n0.989,\n0.752508707905497,\n0.761102121687284,\n{\n            'v': 74.8637,\n            'f': \"74.8637\",\n        },\n{\n            'v': 66.0556,\n            'f': \"66.0556\",\n        },\n15.21201038,\n14.51403046,\n9.096670151,\n9.358039856,\n12455.7662515017,\n23600.0596263886],\n [{\n            'v': 92,\n            'f': \"92\",\n        },\n{\n            'v': 87,\n            'f': \"87\",\n        },\n\"Brazil\",\n0.994,\n0.750013091527245,\n0.754680006192227,\n{\n            'v': 76.0086,\n            'f': \"76.0086\",\n        },\n{\n            'v': 69.5597,\n            'f': \"69.5597\",\n        },\n16.03347969,\n15.16670036,\n8.333614199,\n7.89424439,\n10903.0750004898,\n17959.9647134631],\n [{\n            'v': 93,\n            'f': \"93\",\n        },\n{\n            'v': 88,\n            'f': \"88\",\n        },\n\"Colombia\",\n0.984,\n0.743729498389671,\n0.755726924162749,\n{\n            'v': 76.4421,\n            'f': \"76.4421\",\n        },\n{\n            'v': 69.4041,\n            'f': \"69.4041\",\n        },\n14.68078995,\n14.21420002,\n9.016329765,\n8.697070122,\n10280.7559774788,\n18598.7331638985],\n [{\n            'v': 94,\n            'f': \"94\",\n        },\n{\n            'v': 89,\n            'f': \"89\",\n        },\n\"Saint Vincent and the Grenadines\",\n0.97,\n0.738742139946784,\n0.761468999697585,\n{\n            'v': 72.3958,\n            'f': \"72.3958\",\n        },\n{\n            'v': 67.354,\n            'f': \"67.354\",\n        },\n14.90442804,\n14.45880707,\n10.92370987,\n10.74547958,\n8720.22377793274,\n15074.8975675202],\n [{\n            'v': 95,\n            'f': \"95\",\n        },\n{\n            'v': 90,\n            'f': \"90\",\n        },\n\"Maldives\",\n0.925,\n0.708976174237636,\n0.766385359520433,\n{\n            'v': 81.0193,\n            'f': \"81.0193\",\n        },\n{\n            'v': 79.082,\n            'f': \"79.082\",\n        },\n14.17418957,\n11.93892956,\n7.12,\n7.528,\n6358.7365347176,\n22119.1490135241],\n [{\n            'v': 96,\n            'f': \"96\",\n        },\n{\n            'v': 91,\n            'f': \"91\",\n        },\n\"Algeria\",\n0.88,\n0.680221302277268,\n0.773257247984168,\n{\n            'v': 77.9588,\n            'f': \"77.9588\",\n        },\n{\n            'v': 74.8787,\n            'f': \"74.8787\",\n        },\n15.34625536,\n13.96632659,\n7.735659996,\n8.438411764,\n3549.99674536026,\n17787.3129149831],\n [{\n            'v': 97,\n            'f': \"97\",\n        },\n{\n            'v': 91,\n            'f': \"91\",\n        },\n\"Azerbaijan\",\n0.974,\n0.733874991005832,\n0.753249711152281,\n{\n            'v': 73.2871,\n            'f': \"73.2871\",\n        },\n{\n            'v': 65.6458,\n            'f': \"65.6458\",\n        },\n13.63412952,\n13.37728024,\n10.2091198,\n10.90130997,\n10536.0159315317,\n18075.8323004514],\n [{\n            'v': 98,\n            'f': \"98\",\n        },\n{\n            'v': 91,\n            'f': \"91\",\n        },\n\"Tonga\",\n0.965,\n0.728001833634309,\n0.754353801555566,\n{\n            'v': 73.719,\n            'f': \"73.719\",\n        },\n{\n            'v': 68.4164,\n            'f': \"68.4164\",\n        },\n16.30469398,\n15.65363352,\n11.47622061,\n11.23541736,\n4842.0269916731,\n8845.00397381524],\n [{\n            'v': 99,\n            'f': \"99\",\n        },\n{\n            'v': 91,\n            'f': \"91\",\n        },\n\"Turkmenistan\",\n0.956,\n0.725895846709806,\n0.759567181536898,\n{\n            'v': 72.663,\n            'f': \"72.663\",\n        },\n{\n            'v': 65.8652,\n            'f': \"65.8652\",\n        },\n12.99555016,\n13.4203701,\n10.92442,\n11.62147,\n9227.49913565749,\n16884.4371904096],\n [{\n            'v': 100,\n            'f': \"100\",\n        },\n{\n            'v': 95,\n            'f': \"95\",\n        },\n\"Ecuador\",\n0.98,\n0.730715580711299,\n0.745435731744057,\n{\n            'v': 77.4619,\n            'f': \"77.4619\",\n        },\n{\n            'v': 70.2604,\n            'f': \"70.2604\",\n        },\n14.94892979,\n14.31173992,\n8.800060272,\n8.836270332,\n7450.79566670892,\n13180.2177294588],\n [{\n            'v': 101,\n            'f': \"101\",\n        },\n{\n            'v': 96,\n            'f': \"96\",\n        },\n\"Mongolia\",\n1.031,\n0.74898747657868,\n0.726425807898775,\n{\n            'v': 75.6958,\n            'f': \"75.6958\",\n        },\n{\n            'v': 66.5368,\n            'f': \"66.5368\",\n        },\n15.57209015,\n14.39468002,\n9.949589729,\n8.847709656,\n8540.71984457848,\n12666.3652094862],\n [{\n            'v': 102,\n            'f': \"102\",\n        },\n{\n            'v': 97,\n            'f': \"97\",\n        },\n\"Egypt\",\n0.882,\n0.665947413955719,\n0.755263190319675,\n{\n            'v': 72.6077,\n            'f': \"72.6077\",\n        },\n{\n            'v': 67.9353,\n            'f': \"67.9353\",\n        },\n13.84451035,\n13.73198027,\n9.802207806,\n9.420359504,\n3536.06517754087,\n19740.683936833],\n [{\n            'v': 103,\n            'f': \"103\",\n        },\n{\n            'v': 97,\n            'f': \"97\",\n        },\n\"Tunisia\",\n0.931,\n0.696830059789456,\n0.748367538855562,\n{\n            'v': 77.1448,\n            'f': \"77.1448\",\n        },\n{\n            'v': 70.7428,\n            'f': \"70.7428\",\n        },\n16.45976207,\n14.45251965,\n6.855294122,\n8.034592614,\n4869.59775251937,\n15777.9051500011],\n [{\n            'v': 104,\n            'f': \"104\",\n        },\n{\n            'v': 99,\n            'f': \"99\",\n        },\n\"Fiji\",\n0.931,\n0.69835081821258,\n0.750136509804892,\n{\n            'v': 68.8768,\n            'f': \"68.8768\",\n        },\n{\n            'v': 65.4261,\n            'f': \"65.4261\",\n        },\n14.97936708,\n14.49421292,\n11.00194066,\n10.84056513,\n5664.1868317186,\n14270.3683399562],\n [{\n            'v': 105,\n            'f': \"105\",\n        },\n{\n            'v': 99,\n            'f': \"99\",\n        },\n\"Suriname\",\n1.001,\n0.727709999110813,\n0.727228713685787,\n{\n            'v': 73.5513,\n            'f': \"73.5513\",\n        },\n{\n            'v': 67.2067,\n            'f': \"67.2067\",\n        },\n14.19690286,\n11.92232229,\n9.897562169,\n9.625531504,\n8865.60171275001,\n16506.3524653874],\n [{\n            'v': 106,\n            'f': \"106\",\n        },\n{\n            'v': 101,\n            'f': \"101\",\n        },\n\"Uzbekistan\",\n0.944,\n0.702783954299629,\n0.744266009327342,\n{\n            'v': 73.3899,\n            'f': \"73.3899\",\n        },\n{\n            'v': 68.3335,\n            'f': \"68.3335\",\n        },\n12.37631989,\n12.57161999,\n11.73186016,\n12.06482983,\n5427.35836653771,\n10402.9519307737],\n [{\n            'v': 107,\n            'f': \"107\",\n        },\n{\n            'v': 102,\n            'f': \"102\",\n        },\n\"Dominica\",\n\"..\",\n\"..\",\n\"..\",\n{\n            'v': 76.3013,\n            'f': \"76.3013\",\n        },\n{\n            'v': 69.7249,\n            'f': \"69.7249\",\n        },\n14.61002724,\n12.156349,\n\"..\",\n\"..\",\n\"..\",\n\"..\"],\n [{\n            'v': 108,\n            'f': \"108\",\n        },\n{\n            'v': 102,\n            'f': \"102\",\n        },\n\"Jordan\",\n0.887,\n0.663218429180759,\n0.747658803916358,\n{\n            'v': 76.7726,\n            'f': \"76.7726\",\n        },\n{\n            'v': 72.1277,\n            'f': \"72.1277\",\n        },\n10.84105015,\n10.45506954,\n10.07157993,\n10.8373003,\n3778.06487446032,\n15631.2796505655],\n [{\n            'v': 109,\n            'f': \"109\",\n        },\n{\n            'v': 104,\n            'f': \"104\",\n        },\n\"Libya\",\n0.975,\n0.708031742248212,\n0.72631059650525,\n{\n            'v': 74.3956,\n            'f': \"74.3956\",\n        },\n{\n            'v': 69.6305,\n            'f': \"69.6305\",\n        },\n13.06487113,\n12.64368887,\n8.47,\n7.214,\n9569.73206833024,\n20960.0752853179],\n [{\n            'v': 110,\n            'f': \"110\",\n        },\n{\n            'v': 105,\n            'f': \"105\",\n        },\n\"Paraguay\",\n0.99,\n0.712812675133761,\n0.71987843117796,\n{\n            'v': 73.3847,\n            'f': \"73.3847\",\n        },\n{\n            'v': 67.4336,\n            'f': \"67.4336\",\n        },\n13.63530124,\n12.37616125,\n8.856229782,\n8.867710114,\n9410.45530932146,\n15264.7720772972],\n [{\n            'v': 111,\n            'f': \"111\",\n        },\n{\n            'v': 106,\n            'f': \"106\",\n        },\n\"Palestine, State of\",\n0.891,\n0.655009063848998,\n0.734872626687393,\n{\n            'v': 75.9386,\n            'f': \"75.9386\",\n        },\n{\n            'v': 71.0939,\n            'f': \"71.0939\",\n        },\n14.26461983,\n12.48151016,\n9.916460037,\n9.960129738,\n2250.06755635548,\n10936.9569395981],\n [{\n            'v': 112,\n            'f': \"112\",\n        },\n{\n            'v': 106,\n            'f': \"106\",\n        },\n\"Saint Lucia\",\n1.011,\n0.718726697345967,\n0.710892671214437,\n{\n            'v': 74.7166,\n            'f': \"74.7166\",\n        },\n{\n            'v': 67.8378,\n            'f': \"67.8378\",\n        },\n13.35690022,\n12.37703991,\n8.804559708,\n8.290690422,\n9990.61775768094,\n14146.9746930103],\n [{\n            'v': 113,\n            'f': \"113\",\n        },\n{\n            'v': 108,\n            'f': \"108\",\n        },\n\"Guyana\",\n0.978,\n0.704002156022054,\n0.719594973357622,\n{\n            'v': 69.1042,\n            'f': \"69.1042\",\n        },\n{\n            'v': 62.4812,\n            'f': \"62.4812\",\n        },\n12.76161284,\n12.24144493,\n8.72292,\n8.489497,\n14734.6205638016,\n30534.3451793803],\n [{\n            'v': 114,\n            'f': \"114\",\n        },\n{\n            'v': 109,\n            'f': \"109\",\n        },\n\"South Africa\",\n0.944,\n0.685864456328166,\n0.726844169418606,\n{\n            'v': 64.9992,\n            'f': \"64.9992\",\n        },\n{\n            'v': 59.4575,\n            'f': \"59.4575\",\n        },\n13.9843998,\n13.30751038,\n9.657389641,\n12.15235043,\n9934.61143768003,\n16129.3349296619],\n [{\n            'v': 115,\n            'f': \"115\",\n        },\n{\n            'v': 110,\n            'f': \"110\",\n        },\n\"Jamaica\",\n0.99,\n0.703788216569689,\n0.710547841942973,\n{\n            'v': 72.543,\n            'f': \"72.543\",\n        },\n{\n            'v': 68.469,\n            'f': \"68.469\",\n        },\n13.72101442,\n13.08882643,\n9.744774949,\n8.530893495,\n6982.25134084938,\n10715.4698792703],\n [{\n            'v': 116,\n            'f': \"116\",\n        },\n{\n            'v': 111,\n            'f': \"111\",\n        },\n\"Samoa\",\n0.957,\n0.685493302521641,\n0.71649904694292,\n{\n            'v': 75.5034,\n            'f': \"75.5034\",\n        },\n{\n            'v': 70.3119,\n            'f': \"70.3119\",\n        },\n12.97950554,\n11.90373993,\n11.7741,\n11.02812,\n3222.69805006025,\n7312.13553072018],\n [{\n            'v': 117,\n            'f': \"117\",\n        },\n{\n            'v': 112,\n            'f': \"112\",\n        },\n\"Gabon\",\n0.908,\n0.666954989663341,\n0.734791953519311,\n{\n            'v': 68.4944,\n            'f': \"68.4944\",\n        },\n{\n            'v': 63.4876,\n            'f': \"63.4876\",\n        },\n12.59342306,\n13.36119694,\n7.843676749,\n10.49761667,\n9375.89599297558,\n17211.8952750153],\n [{\n            'v': 118,\n            'f': \"118\",\n        },\n{\n            'v': 112,\n            'f': \"112\",\n        },\n\"Lebanon\",\n0.882,\n0.649614298312712,\n0.73655597447969,\n{\n            'v': 77.2512,\n            'f': \"77.2512\",\n        },\n{\n            'v': 72.8466,\n            'f': \"72.8466\",\n        },\n11.11914,\n11.4526,\n8.4842,\n8.9158,\n3814.52256476512,\n15585.7976870531],\n [{\n            'v': 119,\n            'f': \"119\",\n        },\n{\n            'v': 114,\n            'f': \"114\",\n        },\n\"Indonesia\",\n0.941,\n0.680843111778455,\n0.72334559904842,\n{\n            'v': 69.7437,\n            'f': \"69.7437\",\n        },\n{\n            'v': 65.5327,\n            'f': \"65.5327\",\n        },\n13.83131392,\n13.67382635,\n8.206930161,\n8.912110329,\n7905.91742145043,\n14975.8134258192],\n [{\n            'v': 120,\n            'f': \"120\",\n        },\n{\n            'v': 115,\n            'f': \"115\",\n        },\n\"Viet Nam\",\n1.002,\n0.703772486659416,\n0.702084710051792,\n{\n            'v': 78.2349,\n            'f': \"78.2349\",\n        },\n{\n            'v': 69.117,\n            'f': \"69.117\",\n        },\n13.21517011,\n12.70955587,\n8.034310341,\n8.727129936,\n6932.36754714609,\n8825.59973668502],\n [{\n            'v': 121,\n            'f': \"121\",\n        },\n{\n            'v': 116,\n            'f': \"116\",\n        },\n\"Philippines\",\n0.99,\n0.694706500393723,\n0.70154970177919,\n{\n            'v': 71.4822,\n            'f': \"71.4822\",\n        },\n{\n            'v': 67.1717,\n            'f': \"67.1717\",\n        },\n13.48997021,\n12.78559017,\n9.232720375,\n8.702549934,\n7486.71823516506,\n10310.6296124629],\n [{\n            'v': 122,\n            'f': \"122\",\n        },\n{\n            'v': 117,\n            'f': \"117\",\n        },\n\"Botswana\",\n0.981,\n0.686186100735002,\n0.699553276642086,\n{\n            'v': 63.5942,\n            'f': \"63.5942\",\n        },\n{\n            'v': 58.6909,\n            'f': \"58.6909\",\n        },\n12.37531361,\n12.15496169,\n10.274,\n10.398,\n13839.156834811,\n18618.3231579809],\n [{\n            'v': 123,\n            'f': \"123\",\n        },\n{\n            'v': 118,\n            'f': \"118\",\n        },\n\"Bolivia (Plurinational State of)\",\n0.964,\n0.679814317928878,\n0.704911025662662,\n{\n            'v': 66.7999,\n            'f': \"66.7999\",\n        },\n{\n            'v': 60.879,\n            'f': \"60.879\",\n        },\n14.92614555,\n14.96779156,\n9.216730118,\n10.49209023,\n6855.90466102971,\n9358.68073052619],\n [{\n            'v': 124,\n            'f': \"124\",\n        },\n{\n            'v': 118,\n            'f': \"118\",\n        },\n\"Kyrgyzstan\",\n0.966,\n0.674734308344838,\n0.698277777982738,\n{\n            'v': 74.3515,\n            'f': \"74.3515\",\n        },\n{\n            'v': 65.8,\n            'f': \"65.8\",\n        },\n13.43486977,\n12.96424961,\n11.6026467,\n11.13378012,\n2863.19122408479,\n6331.48718900302],\n [{\n            'v': 125,\n            'f': \"125\",\n        },\n{\n            'v': 120,\n            'f': \"120\",\n        },\n\"Venezuela (Bolivarian Republic of)\",\n0.983,\n0.679218478409963,\n0.690932231750213,\n{\n            'v': 75.2072,\n            'f': \"75.2072\",\n        },\n{\n            'v': 66.2592,\n            'f': \"66.2592\",\n        },\n13.81196,\n11.8202,\n11.36222007,\n10.84877,\n2865.79386852269,\n6795.8637928422],\n [{\n            'v': 126,\n            'f': \"126\",\n        },\n{\n            'v': 121,\n            'f': \"121\",\n        },\n\"Iraq\",\n0.803,\n0.585138843584573,\n0.728293314880112,\n{\n            'v': 72.4219,\n            'f': \"72.4219\",\n        },\n{\n            'v': 68.2004,\n            'f': \"68.2004\",\n        },\n11.4617644,\n12.67899669,\n7.248047674,\n8.426082131,\n2184.12507490671,\n17748.4837662146],\n [{\n            'v': 127,\n            'f': \"127\",\n        },\n{\n            'v': 122,\n            'f': \"122\",\n        },\n\"Tajikistan\",\n0.909,\n0.647971593761769,\n0.712813626100714,\n{\n            'v': 73.7339,\n            'f': \"73.7339\",\n        },\n{\n            'v': 69.5682,\n            'f': \"69.5682\",\n        },\n11.17689865,\n12.10252231,\n10.88014417,\n11.76179455,\n2980.08809109594,\n6095.51503746544],\n [{\n            'v': 128,\n            'f': \"128\",\n        },\n{\n            'v': 123,\n            'f': \"123\",\n        },\n\"Belize\",\n0.975,\n0.671552426237091,\n0.68883798672152,\n{\n            'v': 74.3322,\n            'f': \"74.3322\",\n        },\n{\n            'v': 67.1187,\n            'f': \"67.1187\",\n        },\n13.29214954,\n12.68122959,\n9.042070389,\n8.652890205,\n4248.54338030356,\n8344.77350608919],\n [{\n            'v': 129,\n            'f': \"129\",\n        },\n{\n            'v': 123,\n            'f': \"123\",\n        },\n\"Morocco\",\n0.861,\n0.62125179556916,\n0.721809681581608,\n{\n            'v': 76.3977,\n            'f': \"76.3977\",\n        },\n{\n            'v': 71.8927,\n            'f': \"71.8927\",\n        },\n13.91057014,\n14.39321041,\n4.988,\n6.866,\n3193.53330118439,\n11356.0231495117],\n [{\n            'v': 130,\n            'f': \"130\",\n        },\n{\n            'v': 125,\n            'f': \"125\",\n        },\n\"El Salvador\",\n0.964,\n0.660206920795344,\n0.684866966914397,\n{\n            'v': 75.1492,\n            'f': \"75.1492\",\n        },\n{\n            'v': 66.0775,\n            'f': \"66.0775\",\n        },\n12.70825432,\n12.6377241,\n6.769279957,\n7.624269962,\n5823.67140162037,\n11014.9537984843],\n [{\n            'v': 131,\n            'f': \"131\",\n        },\n{\n            'v': 126,\n            'f': \"126\",\n        },\n\"Nicaragua\",\n0.956,\n0.647750656002047,\n0.677703927704236,\n{\n            'v': 76.8026,\n            'f': \"76.8026\",\n        },\n{\n            'v': 70.8357,\n            'f': \"70.8357\",\n        },\n12.65479952,\n12.62791614,\n7.42,\n6.84,\n3646.34102314576,\n7661.43405217748],\n [{\n            'v': 132,\n            'f': \"132\",\n        },\n{\n            'v': 127,\n            'f': \"127\",\n        },\n\"Bhutan\",\n0.937,\n0.641322529216457,\n0.684476486313076,\n{\n            'v': 73.7734,\n            'f': \"73.7734\",\n        },\n{\n            'v': 70.1411,\n            'f': \"70.1411\",\n        },\n13.63224386,\n12.83391543,\n4.450652072,\n5.761204893,\n6670.57607769609,\n11896.3299819611],\n [{\n            'v': 133,\n            'f': \"133\",\n        },\n{\n            'v': 128,\n            'f': \"128\",\n        },\n\"Cabo Verde\",\n0.981,\n0.653226940636031,\n0.666122006671912,\n{\n            'v': 78.4572,\n            'f': \"78.4572\",\n        },\n{\n            'v': 69.5891,\n            'f': \"69.5891\",\n        },\n12.83086562,\n12.28982854,\n6.025999125,\n6.573896076,\n4681.79174945485,\n7795.74818680473],\n [{\n            'v': 134,\n            'f': \"134\",\n        },\n{\n            'v': 129,\n            'f': \"129\",\n        },\n\"Bangladesh\",\n0.898,\n0.617374769969376,\n0.687568945719214,\n{\n            'v': 74.2672,\n            'f': \"74.2672\",\n        },\n{\n            'v': 70.5989,\n            'f': \"70.5989\",\n        },\n13.00008011,\n11.90853977,\n6.755380154,\n8.020810127,\n2811.24342225273,\n8176.05007673039],\n [{\n            'v': 135,\n            'f': \"135\",\n        },\n{\n            'v': 130,\n            'f': \"130\",\n        },\n\"Tuvalu\",\n\"..\",\n\"..\",\n\"..\",\n{\n            'v': 69.1378,\n            'f': \"69.1378\",\n        },\n{\n            'v': 60.8155,\n            'f': \"60.8155\",\n        },\n9.46434,\n9.34623,\n10.3877,\n10.7575,\n\"..\",\n\"..\"],\n [{\n            'v': 136,\n            'f': \"136\",\n        },\n{\n            'v': 131,\n            'f': \"131\",\n        },\n\"Marshall Islands\",\n\"..\",\n\"..\",\n\"..\",\n{\n            'v': 67.1997,\n            'f': \"67.1997\",\n        },\n{\n            'v': 63.6922,\n            'f': \"63.6922\",\n        },\n10.37392998,\n10.1091404,\n10.70687008,\n11.05574989,\n\"..\",\n\"..\"],\n [{\n            'v': 137,\n            'f': \"137\",\n        },\n{\n            'v': 132,\n            'f': \"132\",\n        },\n\"India\",\n0.849,\n0.566684747760222,\n0.667813532791371,\n{\n            'v': 68.8864,\n            'f': \"68.8864\",\n        },\n{\n            'v': 65.7563,\n            'f': \"65.7563\",\n        },\n11.94211006,\n11.81324005,\n6.251538841,\n7.228794054,\n2277.26552420848,\n10632.9329066072],\n [{\n            'v': 138,\n            'f': \"138\",\n        },\n{\n            'v': 133,\n            'f': \"133\",\n        },\n\"Ghana\",\n0.946,\n0.614164007667739,\n0.64935266523729,\n{\n            'v': 66.0136,\n            'f': \"66.0136\",\n        },\n{\n            'v': 61.6304,\n            'f': \"61.6304\",\n        },\n12.05702972,\n12.03862,\n7.779994279,\n8.969073236,\n4723.28854639103,\n6770.83066744231],\n [{\n            'v': 139,\n            'f': \"139\",\n        },\n{\n            'v': 134,\n            'f': \"134\",\n        },\n\"Micronesia (Federated States of)\",\n\"..\",\n\"..\",\n\"..\",\n{\n            'v': 74.608,\n            'f': \"74.608\",\n        },\n{\n            'v': 67.1203,\n            'f': \"67.1203\",\n        },\n\"..\",\n\"..\",\n\"..\",\n\"..\",\n\"..\",\n\"..\"],\n [{\n            'v': 140,\n            'f': \"140\",\n        },\n{\n            'v': 135,\n            'f': \"135\",\n        },\n\"Guatemala\",\n0.917,\n0.595718044061203,\n0.649879505685285,\n{\n            'v': 72.6514,\n            'f': \"72.6514\",\n        },\n{\n            'v': 66.0046,\n            'f': \"66.0046\",\n        },\n10.48863029,\n10.63549042,\n5.235280037,\n6.237989902,\n4909.09943086505,\n12613.8442265842],\n [{\n            'v': 141,\n            'f': \"141\",\n        },\n{\n            'v': 136,\n            'f': \"136\",\n        },\n\"Kiribati\",\n\"..\",\n\"..\",\n\"..\",\n{\n            'v': 69.0959,\n            'f': \"69.0959\",\n        },\n{\n            'v': 65.504,\n            'f': \"65.504\",\n        },\n12.426346,\n11.252668,\n\"..\",\n\"..\",\n\"..\",\n\"..\"],\n [{\n            'v': 142,\n            'f': \"142\",\n        },\n{\n            'v': 137,\n            'f': \"137\",\n        },\n\"Honduras\",\n0.96,\n0.607425220790325,\n0.633043538885481,\n{\n            'v': 72.5341,\n            'f': \"72.5341\",\n        },\n{\n            'v': 67.8945,\n            'f': \"67.8945\",\n        },\n10.37340486,\n9.901273236,\n6.756909847,\n7.431379795,\n4271.17764783735,\n6304.34665933144],\n [{\n            'v': 143,\n            'f': \"143\",\n        },\n{\n            'v': 138,\n            'f': \"138\",\n        },\n\"Sao Tome and Principe\",\n0.907,\n0.583599404094198,\n0.643189148522934,\n{\n            'v': 70.4194,\n            'f': \"70.4194\",\n        },\n{\n            'v': 65.1607,\n            'f': \"65.1607\",\n        },\n13.46457672,\n13.27850437,\n5.595629228,\n6.810886842,\n2414.87905559746,\n5634.98855657362],\n [{\n            'v': 144,\n            'f': \"144\",\n        },\n{\n            'v': 139,\n            'f': \"139\",\n        },\n\"Namibia\",\n1.004,\n0.615799012945208,\n0.613057327093242,\n{\n            'v': 62.9849,\n            'f': \"62.9849\",\n        },\n{\n            'v': 55.7206,\n            'f': \"55.7206\",\n        },\n11.89989359,\n11.94272709,\n7.454418013,\n6.912215715,\n7270.70465626511,\n10094.308150449],\n [{\n            'v': 145,\n            'f': \"145\",\n        },\n{\n            'v': 140,\n            'f': \"140\",\n        },\n\"Lao People's Democratic Republic\",\n0.949,\n0.590907405437141,\n0.622723508972845,\n{\n            'v': 70.0778,\n            'f': \"70.0778\",\n        },\n{\n            'v': 66.1536,\n            'f': \"66.1536\",\n        },\n9.9354496,\n10.33197975,\n5.008,\n5.764,\n6756.89131878323,\n8627.131679721],\n [{\n            'v': 146,\n            'f': \"146\",\n        },\n{\n            'v': 140,\n            'f': \"140\",\n        },\n\"Timor-Leste\",\n0.917,\n0.580299039479748,\n0.633048483891841,\n{\n            'v': 69.5445,\n            'f': \"69.5445\",\n        },\n{\n            'v': 66.0999,\n            'f': \"66.0999\",\n        },\n12.20868199,\n13.02351401,\n4.74176,\n6.161881,\n3641.65088486548,\n5248.1571197395],\n [{\n            'v': 147,\n            'f': \"147\",\n        },\n{\n            'v': 140,\n            'f': \"140\",\n        },\n\"Vanuatu\",\n\"..\",\n\"..\",\n\"..\",\n{\n            'v': 72.9446,\n            'f': \"72.9446\",\n        },\n{\n            'v': 68.3967,\n            'f': \"68.3967\",\n        },\n11.37982422,\n11.6999255,\n\"..\",\n\"..\",\n2353.69706869948,\n3808.57617010312],\n [{\n            'v': 148,\n            'f': \"148\",\n        },\n{\n            'v': 143,\n            'f': \"143\",\n        },\n\"Nepal\",\n0.942,\n0.584364172122592,\n0.620507696643259,\n{\n            'v': 70.3617,\n            'f': \"70.3617\",\n        },\n{\n            'v': 66.5739,\n            'f': \"66.5739\",\n        },\n12.9240799,\n12.84980011,\n4.160869361,\n6.220635063,\n3677.18314269268,\n4095.45510825047],\n [{\n            'v': 149,\n            'f': \"149\",\n        },\n{\n            'v': 144,\n            'f': \"144\",\n        },\n\"Eswatini (Kingdom of)\",\n0.986,\n0.592739586850899,\n0.601355620634285,\n{\n            'v': 61.2485,\n            'f': \"61.2485\",\n        },\n{\n            'v': 53.366,\n            'f': \"53.366\",\n        },\n13.23686462,\n14.24137883,\n5.662,\n5.53,\n6383.50781913565,\n8992.51691884394],\n [{\n            'v': 150,\n            'f': \"150\",\n        },\n{\n            'v': 145,\n            'f': \"145\",\n        },\n\"Equatorial Guinea\",\n\"..\",\n\"..\",\n\"..\",\n{\n            'v': 62.7256,\n            'f': \"62.7256\",\n        },\n{\n            'v': 58.7813,\n            'f': \"58.7813\",\n        },\n\"..\",\n\"..\",\n4.194548476,\n7.627197168,\n8351.08344722546,\n15398.9052765074],\n [{\n            'v': 151,\n            'f': \"151\",\n        },\n{\n            'v': 146,\n            'f': \"146\",\n        },\n\"Cambodia\",\n0.926,\n0.569886596850555,\n0.615205048613841,\n{\n            'v': 72.2907,\n            'f': \"72.2907\",\n        },\n{\n            'v': 66.8186,\n            'f': \"66.8186\",\n        },\n11.00490454,\n11.93053546,\n4.366,\n5.882,\n3463.50856229119,\n4706.23792166685],\n [{\n            'v': 152,\n            'f': \"152\",\n        },\n{\n            'v': 146,\n            'f': \"146\",\n        },\n\"Zimbabwe\",\n0.961,\n0.580303185949358,\n0.604054039325808,\n{\n            'v': 62.0449,\n            'f': \"62.0449\",\n        },\n{\n            'v': 56.2321,\n            'f': \"56.2321\",\n        },\n11.96458018,\n12.27069982,\n8.296557948,\n9.19064792,\n3285.93358505073,\n4396.77767970836],\n [{\n            'v': 153,\n            'f': \"153\",\n        },\n{\n            'v': 148,\n            'f': \"148\",\n        },\n\"Angola\",\n0.903,\n0.55674505760055,\n0.616557703374739,\n{\n            'v': 64.3066,\n            'f': \"64.3066\",\n        },\n{\n            'v': 59.0291,\n            'f': \"59.0291\",\n        },\n11.5409,\n12.9132,\n4.183875561,\n6.894268513,\n4751.37325620078,\n6196.65048458656],\n [{\n            'v': 154,\n            'f': \"154\",\n        },\n{\n            'v': 149,\n            'f': \"149\",\n        },\n\"Myanmar\",\n0.944,\n0.565270825741211,\n0.598757287133907,\n{\n            'v': 69.0009,\n            'f': \"69.0009\",\n        },\n{\n            'v': 62.5463,\n            'f': \"62.5463\",\n        },\n11.11379202,\n10.70448302,\n6.094560146,\n6.730899811,\n2618.85677302398,\n5092.89498148001],\n [{\n            'v': 155,\n            'f': \"155\",\n        },\n{\n            'v': 150,\n            'f': \"150\",\n        },\n\"Syrian Arab Republic\",\n0.825,\n0.502700292150096,\n0.609549664799253,\n{\n            'v': 75.1752,\n            'f': \"75.1752\",\n        },\n{\n            'v': 69.0583,\n            'f': \"69.0583\",\n        },\n9.074879646,\n9.249540329,\n4.6297,\n5.6,\n1285.23287333802,\n7088.31939905991],\n [{\n            'v': 156,\n            'f': \"156\",\n        },\n{\n            'v': 151,\n            'f': \"151\",\n        },\n\"Cameroon\",\n0.885,\n0.540217006097306,\n0.610395900542271,\n{\n            'v': 62.0182,\n            'f': \"62.0182\",\n        },\n{\n            'v': 58.6899,\n            'f': \"58.6899\",\n        },\n12.42278161,\n13.79085757,\n4.81709,\n7.50058,\n2981.38592866838,\n4263.78713068638],\n [{\n            'v': 157,\n            'f': \"157\",\n        },\n{\n            'v': 152,\n            'f': \"152\",\n        },\n\"Kenya\",\n0.941,\n0.557213851986965,\n0.592213974048735,\n{\n            'v': 64.0899,\n            'f': \"64.0899\",\n        },\n{\n            'v': 58.9354,\n            'f': \"58.9354\",\n        },\n10.34585953,\n11.05279836,\n6.064,\n7.26,\n3873.19105645338,\n5084.16747656608],\n [{\n            'v': 158,\n            'f': \"158\",\n        },\n{\n            'v': 153,\n            'f': \"153\",\n        },\n\"Congo\",\n0.934,\n0.551580285341668,\n0.590449067832358,\n{\n            'v': 64.9346,\n            'f': \"64.9346\",\n        },\n{\n            'v': 62.1236,\n            'f': \"62.1236\",\n        },\n12.2485696,\n12.41765711,\n5.59,\n6.762,\n2532.15297416706,\n3247.26424036521],\n [{\n            'v': 159,\n            'f': \"159\",\n        },\n{\n            'v': 154,\n            'f': \"154\",\n        },\n\"Zambia\",\n0.965,\n0.554427499366867,\n0.574296635910699,\n{\n            'v': 63.9276,\n            'f': \"63.9276\",\n        },\n{\n            'v': 58.4872,\n            'f': \"58.4872\",\n        },\n10.91116947,\n10.95687445,\n7.179212102,\n7.225677844,\n2614.50508407491,\n3837.04688832311],\n [{\n            'v': 160,\n            'f': \"160\",\n        },\n{\n            'v': 155,\n            'f': \"155\",\n        },\n\"Solomon Islands\",\n\"..\",\n\"..\",\n\"..\",\n{\n            'v': 71.9594,\n            'f': \"71.9594\",\n        },\n{\n            'v': 68.931,\n            'f': \"68.931\",\n        },\n10.79809865,\n9.93096504,\n\"..\",\n\"..\",\n2172.53489677988,\n2777.23292663893],\n [{\n            'v': 161,\n            'f': \"161\",\n        },\n{\n            'v': 156,\n            'f': \"156\",\n        },\n\"Comoros\",\n0.891,\n0.52185749626997,\n0.585432330711661,\n{\n            'v': 65.8272,\n            'f': \"65.8272\",\n        },\n{\n            'v': 61.2453,\n            'f': \"61.2453\",\n        },\n12.1795523,\n11.70042118,\n3.953311349,\n6.031009312,\n2013.58048901061,\n4260.2104547047],\n [{\n            'v': 162,\n            'f': \"162\",\n        },\n{\n            'v': 156,\n            'f': \"156\",\n        },\n\"Papua New Guinea\",\n0.931,\n0.537933946517305,\n0.577731744555533,\n{\n            'v': 68.4151,\n            'f': \"68.4151\",\n        },\n{\n            'v': 62.9479,\n            'f': \"62.9479\",\n        },\n9.825603009,\n10.86853449,\n4.08,\n5.378,\n3542.52601367319,\n4445.11710027146],\n [{\n            'v': 163,\n            'f': \"163\",\n        },\n{\n            'v': 158,\n            'f': \"158\",\n        },\n\"Mauritania\",\n0.89,\n0.517783711766824,\n0.581885716977571,\n{\n            'v': 66.0979,\n            'f': \"66.0979\",\n        },\n{\n            'v': 62.6661,\n            'f': \"62.6661\",\n        },\n9.570549965,\n9.187669754,\n4.634968748,\n5.326898062,\n2603.57742986229,\n7649.58943359637],\n [{\n            'v': 164,\n            'f': \"164\",\n        },\n{\n            'v': 159,\n            'f': \"159\",\n        },\n\"C\\u00f4te d'Ivoire\",\n0.887,\n0.515563726849053,\n0.581439618370691,\n{\n            'v': 59.9409,\n            'f': \"59.9409\",\n        },\n{\n            'v': 57.4001,\n            'f': \"57.4001\",\n        },\n10.01710033,\n11.33197021,\n4.6767215,\n5.712839185,\n3763.00304423729,\n6642.84440932222],\n [{\n            'v': 165,\n            'f': \"165\",\n        },\n{\n            'v': 160,\n            'f': \"160\",\n        },\n\"Tanzania (United Republic of)\",\n0.943,\n0.532483590133521,\n0.56476669284267,\n{\n            'v': 68.3107,\n            'f': \"68.3107\",\n        },\n{\n            'v': 64.1827,\n            'f': \"64.1827\",\n        },\n9.296609879,\n9.149600029,\n5.923837807,\n6.892428824,\n2246.73618115805,\n3091.93102011057],\n [{\n            'v': 166,\n            'f': \"166\",\n        },\n{\n            'v': 161,\n            'f': \"161\",\n        },\n\"Pakistan\",\n0.81,\n0.471396425483283,\n0.581877317114022,\n{\n            'v': 68.6228,\n            'f': \"68.6228\",\n        },\n{\n            'v': 63.7866,\n            'f': \"63.7866\",\n        },\n8.102529526,\n9.173430443,\n3.896490097,\n5.035349846,\n1569.38031276588,\n7619.73462240109],\n [{\n            'v': 167,\n            'f': \"167\",\n        },\n{\n            'v': 162,\n            'f': \"162\",\n        },\n\"Togo\",\n0.849,\n0.497381322220123,\n0.586086092315206,\n{\n            'v': 62.3913,\n            'f': \"62.3913\",\n        },\n{\n            'v': 60.8495,\n            'f': \"60.8495\",\n        },\n12.19214922,\n14.30900219,\n3.400858516,\n6.828586144,\n1884.54822985892,\n2445.72155634053],\n [{\n            'v': 168,\n            'f': \"168\",\n        },\n{\n            'v': 163,\n            'f': \"163\",\n        },\n\"Haiti\",\n0.898,\n0.506097785502906,\n0.563765576932219,\n{\n            'v': 66.1191,\n            'f': \"66.1191\",\n        },\n{\n            'v': 60.399,\n            'f': \"60.399\",\n        },\n9.00792,\n10.39208,\n4.552,\n6.768,\n2408.20034201609,\n3294.68971562706],\n [{\n            'v': 169,\n            'f': \"169\",\n        },\n{\n            'v': 163,\n            'f': \"163\",\n        },\n\"Nigeria\",\n0.863,\n0.495057927268497,\n0.573601516836222,\n{\n            'v': 53.0701,\n            'f': \"53.0701\",\n        },\n{\n            'v': 52.2846,\n            'f': \"52.2846\",\n        },\n9.578901345,\n10.79903901,\n6.144916176,\n8.249763834,\n3758.75516359274,\n5800.26316310035],\n [{\n            'v': 170,\n            'f': \"170\",\n        },\n{\n            'v': 165,\n            'f': \"165\",\n        },\n\"Rwanda\",\n0.954,\n0.521187466167451,\n0.546603488178113,\n{\n            'v': 68.1639,\n            'f': \"68.1639\",\n        },\n{\n            'v': 63.798,\n            'f': \"63.798\",\n        },\n11.22247028,\n11.24172974,\n4.031224613,\n4.88597295,\n1989.56028628528,\n2439.98116649549],\n [{\n            'v': 171,\n            'f': \"171\",\n        },\n{\n            'v': 166,\n            'f': \"166\",\n        },\n\"Benin\",\n0.88,\n0.491304047701895,\n0.558101711375106,\n{\n            'v': 61.4449,\n            'f': \"61.4449\",\n        },\n{\n            'v': 58.2208,\n            'f': \"58.2208\",\n        },\n9.893950462,\n11.62110043,\n3.315197468,\n5.44505428,\n2997.70568642397,\n3818.80298436144],\n [{\n            'v': 172,\n            'f': \"172\",\n        },\n{\n            'v': 166,\n            'f': \"166\",\n        },\n\"Uganda\",\n0.927,\n0.504881399087615,\n0.54462045213737,\n{\n            'v': 64.9197,\n            'f': \"64.9197\",\n        },\n{\n            'v': 60.4228,\n            'f': \"60.4228\",\n        },\n10.15034489,\n10.11118149,\n4.896921296,\n6.683393581,\n1877.43031704592,\n2491.50259476524],\n [{\n            'v': 173,\n            'f': \"173\",\n        },\n{\n            'v': 168,\n            'f': \"168\",\n        },\n\"Lesotho\",\n0.985,\n0.511123839316858,\n0.519143816761409,\n{\n            'v': 55.9266,\n            'f': \"55.9266\",\n        },\n{\n            'v': 50.3736,\n            'f': \"50.3736\",\n        },\n12.43076407,\n11.66055444,\n6.56167247,\n5.982824978,\n2106.60285693164,\n3310.12522401048],\n [{\n            'v': 174,\n            'f': \"174\",\n        },\n{\n            'v': 169,\n            'f': \"169\",\n        },\n\"Malawi\",\n0.968,\n0.502014031803936,\n0.518874060809579,\n{\n            'v': 66.4685,\n            'f': \"66.4685\",\n        },\n{\n            'v': 59.4935,\n            'f': \"59.4935\",\n        },\n12.8264208,\n12.5388703,\n4.104782854,\n4.667895015,\n1231.62902364418,\n1712.9045922754],\n [{\n            'v': 175,\n            'f': \"175\",\n        },\n{\n            'v': 170,\n            'f': \"170\",\n        },\n\"Senegal\",\n0.874,\n0.474670176776252,\n0.542992333203957,\n{\n            'v': 69.2838,\n            'f': \"69.2838\",\n        },\n{\n            'v': 64.7525,\n            'f': \"64.7525\",\n        },\n9.478469849,\n8.462510109,\n1.568656105,\n4.459484359,\n2258.03397199865,\n4467.5895134494],\n [{\n            'v': 176,\n            'f': \"176\",\n        },\n{\n            'v': 171,\n            'f': \"171\",\n        },\n\"Djibouti\",\n\"..\",\n\"..\",\n\"..\",\n{\n            'v': 65.0189,\n            'f': \"65.0189\",\n        },\n{\n            'v': 59.7276,\n            'f': \"59.7276\",\n        },\n7.50865,\n7.43298,\n\"..\",\n\"..\",\n2178.95885971805,\n7911.35071691186],\n [{\n            'v': 177,\n            'f': \"177\",\n        },\n{\n            'v': 172,\n            'f': \"172\",\n        },\n\"Sudan\",\n0.87,\n0.465659504786238,\n0.535025903773824,\n{\n            'v': 67.8786,\n            'f': \"67.8786\",\n        },\n{\n            'v': 62.7408,\n            'f': \"62.7408\",\n        },\n7.74519446,\n8.144053506,\n3.422,\n4.21,\n1832.77032681804,\n5319.7317252066],\n [{\n            'v': 178,\n            'f': \"178\",\n        },\n{\n            'v': 173,\n            'f': \"173\",\n        },\n\"Madagascar\",\n0.956,\n0.489879193271668,\n0.512325749386751,\n{\n            'v': 66.8701,\n            'f': \"66.8701\",\n        },\n{\n            'v': 62.2341,\n            'f': \"62.2341\",\n        },\n10.1833395,\n10.08976666,\n4.914466457,\n5.339324566,\n1283.7995322321,\n1682.32977668736],\n [{\n            'v': 179,\n            'f': \"179\",\n        },\n{\n            'v': 174,\n            'f': \"174\",\n        },\n\"Gambia\",\n0.924,\n0.48051841103943,\n0.519921860485792,\n{\n            'v': 63.5287,\n            'f': \"63.5287\",\n        },\n{\n            'v': 60.6559,\n            'f': \"60.6559\",\n        },\n10.33742212,\n8.542828054,\n3.84120965,\n5.635258198,\n1648.84700821377,\n2701.01966529987],\n [{\n            'v': 180,\n            'f': \"180\",\n        },\n{\n            'v': 175,\n            'f': \"175\",\n        },\n\"Ethiopia\",\n0.921,\n0.477551764716401,\n0.518618804126192,\n{\n            'v': 68.2852,\n            'f': \"68.2852\",\n        },\n{\n            'v': 61.91,\n            'f': \"61.91\",\n        },\n9.824613044,\n9.556187685,\n2.161845446,\n4.23844862,\n1943.57558303304,\n2774.39318164818],\n [{\n            'v': 181,\n            'f': \"181\",\n        },\n{\n            'v': 176,\n            'f': \"176\",\n        },\n\"Eritrea\",\n\"..\",\n\"..\",\n\"..\",\n{\n            'v': 68.6547,\n            'f': \"68.6547\",\n        },\n{\n            'v': 64.3495,\n            'f': \"64.3495\",\n        },\n7.49902872,\n8.612197875,\n\"..\",\n\"..\",\n1387.31760185668,\n2079.46542049616],\n [{\n            'v': 182,\n            'f': \"182\",\n        },\n{\n            'v': 177,\n            'f': \"177\",\n        },\n\"Guinea-Bissau\",\n0.867,\n0.447933315540167,\n0.516530262718684,\n{\n            'v': 61.7958,\n            'f': \"61.7958\",\n        },\n{\n            'v': 57.3925,\n            'f': \"57.3925\",\n        },\n9.999406158,\n11.2267194,\n2.410659,\n4.939155,\n1561.42378446188,\n2264.02257866716],\n [{\n            'v': 183,\n            'f': \"183\",\n        },\n{\n            'v': 178,\n            'f': \"178\",\n        },\n\"Liberia\",\n0.871,\n0.446593575588021,\n0.512798523696766,\n{\n            'v': 62.0722,\n            'f': \"62.0722\",\n        },\n{\n            'v': 59.4109,\n            'f': \"59.4109\",\n        },\n10.12086582,\n10.75482082,\n3.866,\n6.308,\n1061.54844058872,\n1517.96377482353],\n [{\n            'v': 184,\n            'f': \"184\",\n        },\n{\n            'v': 179,\n            'f': \"179\",\n        },\n\"Congo (Democratic Republic of the)\",\n0.885,\n0.448765594148575,\n0.507288187937787,\n{\n            'v': 61.5207,\n            'f': \"61.5207\",\n        },\n{\n            'v': 56.9531,\n            'f': \"56.9531\",\n        },\n9.644028442,\n10.09291419,\n5.596261446,\n8.455105537,\n896.352883715462,\n1258.65721072412],\n [{\n            'v': 185,\n            'f': \"185\",\n        },\n{\n            'v': 180,\n            'f': \"180\",\n        },\n\"Afghanistan\",\n0.681,\n0.364840229738671,\n0.535610873371976,\n{\n            'v': 65.2791,\n            'f': \"65.2791\",\n        },\n{\n            'v': 58.9147,\n            'f': \"58.9147\",\n        },\n7.736391273,\n12.67218933,\n2.311079979,\n3.401309967,\n532.955368214296,\n3089.27041801243],\n [{\n            'v': 186,\n            'f': \"186\",\n        },\n{\n            'v': 181,\n            'f': \"181\",\n        },\n\"Sierra Leone\",\n0.893,\n0.4516967714271,\n0.505719508076905,\n{\n            'v': 61.3543,\n            'f': \"61.3543\",\n        },\n{\n            'v': 58.7582,\n            'f': \"58.7582\",\n        },\n9.555960911,\n9.857761045,\n3.477212173,\n5.815924164,\n1453.29281739816,\n1789.05289686897],\n [{\n            'v': 187,\n            'f': \"187\",\n        },\n{\n            'v': 182,\n            'f': \"182\",\n        },\n\"Guinea\",\n0.85,\n0.426440797265429,\n0.501452822011171,\n{\n            'v': 60.0985,\n            'f': \"60.0985\",\n        },\n{\n            'v': 57.595,\n            'f': \"57.595\",\n        },\n8.610094032,\n10.97551015,\n1.292843507,\n3.248563693,\n2320.38148501952,\n2645.23645466861],\n [{\n            'v': 188,\n            'f': \"188\",\n        },\n{\n            'v': 183,\n            'f': \"183\",\n        },\n\"Yemen\",\n0.496,\n0.262569632390209,\n0.529016004007725,\n{\n            'v': 67.1339,\n            'f': \"67.1339\",\n        },\n{\n            'v': 60.6287,\n            'f': \"60.6287\",\n        },\n7.651040077,\n10.49584007,\n2.88,\n5.146,\n176.059448160138,\n2428.22441519661],\n [{\n            'v': 189,\n            'f': \"189\",\n        },\n{\n            'v': 184,\n            'f': \"184\",\n        },\n\"Burkina Faso\",\n0.903,\n0.425128832560181,\n0.470559025887604,\n{\n            'v': 60.9896,\n            'f': \"60.9896\",\n        },\n{\n            'v': 57.4745,\n            'f': \"57.4745\",\n        },\n9.109199524,\n9.17743969,\n1.583301027,\n2.704233799,\n1659.23485218642,\n2579.89996162088],\n [{\n            'v': 190,\n            'f': \"190\",\n        },\n{\n            'v': 185,\n            'f': \"185\",\n        },\n\"Mozambique\",\n0.922,\n0.42801303160576,\n0.464036211048152,\n{\n            'v': 62.4325,\n            'f': \"62.4325\",\n        },\n{\n            'v': 56.2044,\n            'f': \"56.2044\",\n        },\n9.787595092,\n10.65669147,\n2.431994619,\n4.095451061,\n1095.66625677002,\n1304.40308478089],\n [{\n            'v': 191,\n            'f': \"191\",\n        },\n{\n            'v': 186,\n            'f': \"186\",\n        },\n\"Mali\",\n0.887,\n0.399133986428155,\n0.449875275855116,\n{\n            'v': 60.331,\n            'f': \"60.331\",\n        },\n{\n            'v': 57.6179,\n            'f': \"57.6179\",\n        },\n6.795167146,\n7.947588782,\n2.384,\n2.198,\n1482.68924316069,\n2769.84765421115],\n [{\n            'v': 192,\n            'f': \"192\",\n        },\n{\n            'v': 187,\n            'f': \"187\",\n        },\n\"Burundi\",\n0.935,\n0.412236236513349,\n0.440934982196266,\n{\n            'v': 63.6092,\n            'f': \"63.6092\",\n        },\n{\n            'v': 59.7112,\n            'f': \"59.7112\",\n        },\n10.91547198,\n10.53523917,\n2.491789031,\n3.851800592,\n667.520767773012,\n796.956456348474],\n [{\n            'v': 193,\n            'f': \"193\",\n        },\n{\n            'v': 188,\n            'f': \"188\",\n        },\n\"Central African Republic\",\n0.81,\n0.359110957280157,\n0.443253805643442,\n{\n            'v': 56.3035,\n            'f': \"56.3035\",\n        },\n{\n            'v': 51.6455,\n            'f': \"51.6455\",\n        },\n6.66856003,\n9.393838816,\n3.108,\n5.594,\n769.842841044816,\n1162.31720825857],\n [{\n            'v': 194,\n            'f': \"194\",\n        },\n{\n            'v': 189,\n            'f': \"189\",\n        },\n\"Niger\",\n0.835,\n0.364314531855778,\n0.43637050294465,\n{\n            'v': 62.7943,\n            'f': \"62.7943\",\n        },\n{\n            'v': 60.4065,\n            'f': \"60.4065\",\n        },\n6.260139106,\n7.638220809,\n1.708291787,\n2.789487771,\n936.484843415738,\n1534.59108898256],\n [{\n            'v': 195,\n            'f': \"195\",\n        },\n{\n            'v': 190,\n            'f': \"190\",\n        },\n\"Chad\",\n0.77,\n0.339311716767497,\n0.440888915531638,\n{\n            'v': 54.2828,\n            'f': \"54.2828\",\n        },\n{\n            'v': 50.8449,\n            'f': \"50.8449\",\n        },\n6.611644138,\n9.464517316,\n1.489173708,\n3.681625264,\n965.151077868731,\n1760.07280035442],\n [{\n            'v': 196,\n            'f': \"196\",\n        },\n{\n            'v': 191,\n            'f': \"191\",\n        },\n\"South Sudan\",\n0.843,\n0.348198975203914,\n0.413258564114821,\n{\n            'v': 56.4723,\n            'f': \"56.4723\",\n        },\n{\n            'v': 53.4286,\n            'f': \"53.4286\",\n        },\n4.45054,\n6.61495,\n4.762169838,\n6.189479828,\n664.423767805742,\n873.230936661844]],\n        columns: [[\"number\", \"index\"], [\"number\", \"rank\"], [\"string\", \"Unnamed: 1\"], [\"string\", \"Unnamed: 2\"], [\"string\", \"Unnamed: 6\"], [\"string\", \"Unnamed: 8\"], [\"number\", \"Unnamed: 10\"], [\"number\", \"Unnamed: 12\"], [\"string\", \"Unnamed: 14\"], [\"string\", \"Unnamed: 16\"], [\"string\", \"Unnamed: 18\"], [\"string\", \"Unnamed: 20\"], [\"string\", \"Unnamed: 22\"], [\"string\", \"Unnamed: 24\"]],\n        columnOptions: [{\"width\": \"1px\", \"className\": \"index_column\"}],\n        rowsPerPage: 25,\n        helpUrl: \"https://colab.research.google.com/notebooks/data_table.ipynb\",\n        suppressOutputScrolling: true,\n        minimumWidth: undefined,\n      });\n    "
          },
          "metadata": {},
          "execution_count": 57
        }
      ]
    },
    {
      "cell_type": "code",
      "source": [
        "from plotly.offline import init_notebook_mode, iplot\n",
        "init_notebook_mode(connected = True)\n",
        "import plotly.graph_objs as go"
      ],
      "metadata": {
        "colab": {
          "base_uri": "https://localhost:8080/",
          "height": 17
        },
        "id": "wfORIa_8e__b",
        "outputId": "b2cac777-4a51-43da-f56c-a1bbef256640"
      },
      "execution_count": 58,
      "outputs": [
        {
          "output_type": "display_data",
          "data": {
            "text/html": [
              "        <script type=\"text/javascript\">\n",
              "        window.PlotlyConfig = {MathJaxConfig: 'local'};\n",
              "        if (window.MathJax && window.MathJax.Hub && window.MathJax.Hub.Config) {window.MathJax.Hub.Config({SVG: {font: \"STIX-Web\"}});}\n",
              "        if (typeof require !== 'undefined') {\n",
              "        require.undef(\"plotly\");\n",
              "        requirejs.config({\n",
              "            paths: {\n",
              "                'plotly': ['https://cdn.plot.ly/plotly-2.18.2.min']\n",
              "            }\n",
              "        });\n",
              "        require(['plotly'], function(Plotly) {\n",
              "            window._Plotly = Plotly;\n",
              "        });\n",
              "        }\n",
              "        </script>\n",
              "        "
            ]
          },
          "metadata": {}
        }
      ]
    },
    {
      "cell_type": "code",
      "source": [
        "trace1 = go.Box(\n",
        "    y=gd1[\"Unnamed: 10\"],\n",
        "    name = \"Life Expectancy at Birth (Female)\"\n",
        ")\n",
        "trace2 = go.Box(\n",
        "    y=gd1[\"Unnamed: 12\"],\n",
        "    name = \"Life Expectancy at Birth (Male)\"\n",
        ")\n",
        "fig = go.Figure( data = [trace1, trace2], layout = dict(title = \"Life Expectancy According To Years\"))\n",
        "iplot(fig) #I found this code online, but I don't know why it cannot show the vis in my colab"
      ],
      "metadata": {
        "colab": {
          "base_uri": "https://localhost:8080/",
          "height": 542
        },
        "id": "v8yb7dGtdnwR",
        "outputId": "ac287a45-3947-4d1e-cf3f-3847984db1ae"
      },
      "execution_count": 63,
      "outputs": [
        {
          "output_type": "display_data",
          "data": {
            "application/vnd.plotly.v1+json": {
              "data": [
                {
                  "name": "Life Expectancy at Birth (Female)",
                  "y": [
                    85.8959,
                    84.8787,
                    84.1804,
                    88.3257,
                    85.8396,
                    83.2762,
                    84.9097,
                    83.7675,
                    83.2215,
                    83.3568,
                    84.7177,
                    84.9268,
                    84.2957,
                    84.3213,
                    84.6711,
                    85.35,
                    84.8055,
                    82.7722,
                    87.7313,
                    86.7603,
                    80.238,
                    84.2953,
                    86.1085,
                    83.8366,
                    84.084,
                    80.9371,
                    85.7735,
                    85.485,
                    83.2037,
                    85.0955,
                    81.2311,
                    80.8885,
                    82.8521,
                    80.3888,
                    80.0178,
                    78.775,
                    78.7714,
                    84.0791,
                    77.8257,
                    84.3238,
                    81.0549,
                    81.4368,
                    80.9374,
                    83.495,
                    78.4307,
                    77.9211,
                    78.6471,
                    79.1213,
                    79.8119,
                    81.4628,
                    76.8812,
                    74.7727,
                    77.8898,
                    74.7155,
                    75.0957,
                    73.0814,
                    76.4032,
                    79.8106,
                    79.2583,
                    77.6972,
                    79.594,
                    77.3623,
                    76.6807,
                    76.8265,
                    77.1779,
                    83.0408,
                    79.1726,
                    75.4824,
                    77.8979,
                    79.3594,
                    80.9411,
                    75.6503,
                    79.5018,
                    77.5302,
                    75.3413,
                    76.8085,
                    76.7002,
                    76.1561,
                    81.1546,
                    76.2914,
                    73.5466,
                    70.5753,
                    76.3585,
                    74.7462,
                    77.35,
                    74.8637,
                    76.0086,
                    76.4421,
                    72.3958,
                    81.0193,
                    77.9588,
                    73.2871,
                    73.719,
                    72.663,
                    77.4619,
                    75.6958,
                    72.6077,
                    77.1448,
                    68.8768,
                    73.5513,
                    73.3899,
                    76.3013,
                    76.7726,
                    74.3956,
                    73.3847,
                    75.9386,
                    74.7166,
                    69.1042,
                    64.9992,
                    72.543,
                    75.5034,
                    68.4944,
                    77.2512,
                    69.7437,
                    78.2349,
                    71.4822,
                    63.5942,
                    66.7999,
                    74.3515,
                    75.2072,
                    72.4219,
                    73.7339,
                    74.3322,
                    76.3977,
                    75.1492,
                    76.8026,
                    73.7734,
                    78.4572,
                    74.2672,
                    69.1378,
                    67.1997,
                    68.8864,
                    66.0136,
                    74.608,
                    72.6514,
                    69.0959,
                    72.5341,
                    70.4194,
                    62.9849,
                    70.0778,
                    69.5445,
                    72.9446,
                    70.3617,
                    61.2485,
                    62.7256,
                    72.2907,
                    62.0449,
                    64.3066,
                    69.0009,
                    75.1752,
                    62.0182,
                    64.0899,
                    64.9346,
                    63.9276,
                    71.9594,
                    65.8272,
                    68.4151,
                    66.0979,
                    59.9409,
                    68.3107,
                    68.6228,
                    62.3913,
                    66.1191,
                    53.0701,
                    68.1639,
                    61.4449,
                    64.9197,
                    55.9266,
                    66.4685,
                    69.2838,
                    65.0189,
                    67.8786,
                    66.8701,
                    63.5287,
                    68.2852,
                    68.6547,
                    61.7958,
                    62.0722,
                    61.5207,
                    65.2791,
                    61.3543,
                    60.0985,
                    67.1339,
                    60.9896,
                    62.4325,
                    60.331,
                    63.6092,
                    56.3035,
                    62.7943,
                    54.2828,
                    56.4723
                  ],
                  "type": "box"
                },
                {
                  "name": "Life Expectancy at Birth (Male)",
                  "y": [
                    81.9952,
                    81.5622,
                    81.2138,
                    82.6613,
                    83.1718,
                    79.4848,
                    81.0775,
                    80.2476,
                    78.0809,
                    79.9974,
                    79.3458,
                    80.6357,
                    79.4344,
                    80.5756,
                    80.621,
                    81.101,
                    80.4463,
                    78.7168,
                    81.8018,
                    80.3864,
                    74.2999,
                    80.1535,
                    81.4414,
                    77.6469,
                    79.0433,
                    77.2164,
                    80.2091,
                    79.425,
                    79.2092,
                    80.5189,
                    72.8152,
                    74.6662,
                    77.4923,
                    72.6255,
                    77.7566,
                    68.7778,
                    75.5902,
                    77.8468,
                    69.2021,
                    77.1723,
                    74.233,
                    76.4722,
                    78.3139,
                    78.3621,
                    71.4948,
                    71.1047,
                    72.1818,
                    73.0397,
                    72.9973,
                    77.1925,
                    72.6017,
                    64.2085,
                    70.6364,
                    70.9841,
                    68.1206,
                    65.4761,
                    69.6616,
                    74.4177,
                    71.6545,
                    67.2978,
                    73.0499,
                    72.659,
                    66.8028,
                    70.44,
                    71.2212,
                    74.518,
                    74.0869,
                    68.435,
                    72.2123,
                    75.6292,
                    75.7753,
                    67.7429,
                    73.1101,
                    73.1078,
                    68.3456,
                    71.2463,
                    66.5312,
                    71.6616,
                    75.4634,
                    69.2978,
                    64.4433,
                    62.4323,
                    71.2446,
                    70.1206,
                    66.5544,
                    66.0556,
                    69.5597,
                    69.4041,
                    67.354,
                    79.082,
                    74.8787,
                    65.6458,
                    68.4164,
                    65.8652,
                    70.2604,
                    66.5368,
                    67.9353,
                    70.7428,
                    65.4261,
                    67.2067,
                    68.3335,
                    69.7249,
                    72.1277,
                    69.6305,
                    67.4336,
                    71.0939,
                    67.8378,
                    62.4812,
                    59.4575,
                    68.469,
                    70.3119,
                    63.4876,
                    72.8466,
                    65.5327,
                    69.117,
                    67.1717,
                    58.6909,
                    60.879,
                    65.8,
                    66.2592,
                    68.2004,
                    69.5682,
                    67.1187,
                    71.8927,
                    66.0775,
                    70.8357,
                    70.1411,
                    69.5891,
                    70.5989,
                    60.8155,
                    63.6922,
                    65.7563,
                    61.6304,
                    67.1203,
                    66.0046,
                    65.504,
                    67.8945,
                    65.1607,
                    55.7206,
                    66.1536,
                    66.0999,
                    68.3967,
                    66.5739,
                    53.366,
                    58.7813,
                    66.8186,
                    56.2321,
                    59.0291,
                    62.5463,
                    69.0583,
                    58.6899,
                    58.9354,
                    62.1236,
                    58.4872,
                    68.931,
                    61.2453,
                    62.9479,
                    62.6661,
                    57.4001,
                    64.1827,
                    63.7866,
                    60.8495,
                    60.399,
                    52.2846,
                    63.798,
                    58.2208,
                    60.4228,
                    50.3736,
                    59.4935,
                    64.7525,
                    59.7276,
                    62.7408,
                    62.2341,
                    60.6559,
                    61.91,
                    64.3495,
                    57.3925,
                    59.4109,
                    56.9531,
                    58.9147,
                    58.7582,
                    57.595,
                    60.6287,
                    57.4745,
                    56.2044,
                    57.6179,
                    59.7112,
                    51.6455,
                    60.4065,
                    50.8449,
                    53.4286
                  ],
                  "type": "box"
                }
              ],
              "layout": {
                "template": {
                  "data": {
                    "barpolar": [
                      {
                        "marker": {
                          "line": {
                            "color": "#E5ECF6",
                            "width": 0.5
                          },
                          "pattern": {
                            "fillmode": "overlay",
                            "size": 10,
                            "solidity": 0.2
                          }
                        },
                        "type": "barpolar"
                      }
                    ],
                    "bar": [
                      {
                        "error_x": {
                          "color": "#2a3f5f"
                        },
                        "error_y": {
                          "color": "#2a3f5f"
                        },
                        "marker": {
                          "line": {
                            "color": "#E5ECF6",
                            "width": 0.5
                          },
                          "pattern": {
                            "fillmode": "overlay",
                            "size": 10,
                            "solidity": 0.2
                          }
                        },
                        "type": "bar"
                      }
                    ],
                    "carpet": [
                      {
                        "aaxis": {
                          "endlinecolor": "#2a3f5f",
                          "gridcolor": "white",
                          "linecolor": "white",
                          "minorgridcolor": "white",
                          "startlinecolor": "#2a3f5f"
                        },
                        "baxis": {
                          "endlinecolor": "#2a3f5f",
                          "gridcolor": "white",
                          "linecolor": "white",
                          "minorgridcolor": "white",
                          "startlinecolor": "#2a3f5f"
                        },
                        "type": "carpet"
                      }
                    ],
                    "choropleth": [
                      {
                        "colorbar": {
                          "outlinewidth": 0,
                          "ticks": ""
                        },
                        "type": "choropleth"
                      }
                    ],
                    "contourcarpet": [
                      {
                        "colorbar": {
                          "outlinewidth": 0,
                          "ticks": ""
                        },
                        "type": "contourcarpet"
                      }
                    ],
                    "contour": [
                      {
                        "colorbar": {
                          "outlinewidth": 0,
                          "ticks": ""
                        },
                        "colorscale": [
                          [
                            0,
                            "#0d0887"
                          ],
                          [
                            0.1111111111111111,
                            "#46039f"
                          ],
                          [
                            0.2222222222222222,
                            "#7201a8"
                          ],
                          [
                            0.3333333333333333,
                            "#9c179e"
                          ],
                          [
                            0.4444444444444444,
                            "#bd3786"
                          ],
                          [
                            0.5555555555555556,
                            "#d8576b"
                          ],
                          [
                            0.6666666666666666,
                            "#ed7953"
                          ],
                          [
                            0.7777777777777778,
                            "#fb9f3a"
                          ],
                          [
                            0.8888888888888888,
                            "#fdca26"
                          ],
                          [
                            1,
                            "#f0f921"
                          ]
                        ],
                        "type": "contour"
                      }
                    ],
                    "heatmapgl": [
                      {
                        "colorbar": {
                          "outlinewidth": 0,
                          "ticks": ""
                        },
                        "colorscale": [
                          [
                            0,
                            "#0d0887"
                          ],
                          [
                            0.1111111111111111,
                            "#46039f"
                          ],
                          [
                            0.2222222222222222,
                            "#7201a8"
                          ],
                          [
                            0.3333333333333333,
                            "#9c179e"
                          ],
                          [
                            0.4444444444444444,
                            "#bd3786"
                          ],
                          [
                            0.5555555555555556,
                            "#d8576b"
                          ],
                          [
                            0.6666666666666666,
                            "#ed7953"
                          ],
                          [
                            0.7777777777777778,
                            "#fb9f3a"
                          ],
                          [
                            0.8888888888888888,
                            "#fdca26"
                          ],
                          [
                            1,
                            "#f0f921"
                          ]
                        ],
                        "type": "heatmapgl"
                      }
                    ],
                    "heatmap": [
                      {
                        "colorbar": {
                          "outlinewidth": 0,
                          "ticks": ""
                        },
                        "colorscale": [
                          [
                            0,
                            "#0d0887"
                          ],
                          [
                            0.1111111111111111,
                            "#46039f"
                          ],
                          [
                            0.2222222222222222,
                            "#7201a8"
                          ],
                          [
                            0.3333333333333333,
                            "#9c179e"
                          ],
                          [
                            0.4444444444444444,
                            "#bd3786"
                          ],
                          [
                            0.5555555555555556,
                            "#d8576b"
                          ],
                          [
                            0.6666666666666666,
                            "#ed7953"
                          ],
                          [
                            0.7777777777777778,
                            "#fb9f3a"
                          ],
                          [
                            0.8888888888888888,
                            "#fdca26"
                          ],
                          [
                            1,
                            "#f0f921"
                          ]
                        ],
                        "type": "heatmap"
                      }
                    ],
                    "histogram2dcontour": [
                      {
                        "colorbar": {
                          "outlinewidth": 0,
                          "ticks": ""
                        },
                        "colorscale": [
                          [
                            0,
                            "#0d0887"
                          ],
                          [
                            0.1111111111111111,
                            "#46039f"
                          ],
                          [
                            0.2222222222222222,
                            "#7201a8"
                          ],
                          [
                            0.3333333333333333,
                            "#9c179e"
                          ],
                          [
                            0.4444444444444444,
                            "#bd3786"
                          ],
                          [
                            0.5555555555555556,
                            "#d8576b"
                          ],
                          [
                            0.6666666666666666,
                            "#ed7953"
                          ],
                          [
                            0.7777777777777778,
                            "#fb9f3a"
                          ],
                          [
                            0.8888888888888888,
                            "#fdca26"
                          ],
                          [
                            1,
                            "#f0f921"
                          ]
                        ],
                        "type": "histogram2dcontour"
                      }
                    ],
                    "histogram2d": [
                      {
                        "colorbar": {
                          "outlinewidth": 0,
                          "ticks": ""
                        },
                        "colorscale": [
                          [
                            0,
                            "#0d0887"
                          ],
                          [
                            0.1111111111111111,
                            "#46039f"
                          ],
                          [
                            0.2222222222222222,
                            "#7201a8"
                          ],
                          [
                            0.3333333333333333,
                            "#9c179e"
                          ],
                          [
                            0.4444444444444444,
                            "#bd3786"
                          ],
                          [
                            0.5555555555555556,
                            "#d8576b"
                          ],
                          [
                            0.6666666666666666,
                            "#ed7953"
                          ],
                          [
                            0.7777777777777778,
                            "#fb9f3a"
                          ],
                          [
                            0.8888888888888888,
                            "#fdca26"
                          ],
                          [
                            1,
                            "#f0f921"
                          ]
                        ],
                        "type": "histogram2d"
                      }
                    ],
                    "histogram": [
                      {
                        "marker": {
                          "pattern": {
                            "fillmode": "overlay",
                            "size": 10,
                            "solidity": 0.2
                          }
                        },
                        "type": "histogram"
                      }
                    ],
                    "mesh3d": [
                      {
                        "colorbar": {
                          "outlinewidth": 0,
                          "ticks": ""
                        },
                        "type": "mesh3d"
                      }
                    ],
                    "parcoords": [
                      {
                        "line": {
                          "colorbar": {
                            "outlinewidth": 0,
                            "ticks": ""
                          }
                        },
                        "type": "parcoords"
                      }
                    ],
                    "pie": [
                      {
                        "automargin": true,
                        "type": "pie"
                      }
                    ],
                    "scatter3d": [
                      {
                        "line": {
                          "colorbar": {
                            "outlinewidth": 0,
                            "ticks": ""
                          }
                        },
                        "marker": {
                          "colorbar": {
                            "outlinewidth": 0,
                            "ticks": ""
                          }
                        },
                        "type": "scatter3d"
                      }
                    ],
                    "scattercarpet": [
                      {
                        "marker": {
                          "colorbar": {
                            "outlinewidth": 0,
                            "ticks": ""
                          }
                        },
                        "type": "scattercarpet"
                      }
                    ],
                    "scattergeo": [
                      {
                        "marker": {
                          "colorbar": {
                            "outlinewidth": 0,
                            "ticks": ""
                          }
                        },
                        "type": "scattergeo"
                      }
                    ],
                    "scattergl": [
                      {
                        "marker": {
                          "colorbar": {
                            "outlinewidth": 0,
                            "ticks": ""
                          }
                        },
                        "type": "scattergl"
                      }
                    ],
                    "scattermapbox": [
                      {
                        "marker": {
                          "colorbar": {
                            "outlinewidth": 0,
                            "ticks": ""
                          }
                        },
                        "type": "scattermapbox"
                      }
                    ],
                    "scatterpolargl": [
                      {
                        "marker": {
                          "colorbar": {
                            "outlinewidth": 0,
                            "ticks": ""
                          }
                        },
                        "type": "scatterpolargl"
                      }
                    ],
                    "scatterpolar": [
                      {
                        "marker": {
                          "colorbar": {
                            "outlinewidth": 0,
                            "ticks": ""
                          }
                        },
                        "type": "scatterpolar"
                      }
                    ],
                    "scatter": [
                      {
                        "fillpattern": {
                          "fillmode": "overlay",
                          "size": 10,
                          "solidity": 0.2
                        },
                        "type": "scatter"
                      }
                    ],
                    "scatterternary": [
                      {
                        "marker": {
                          "colorbar": {
                            "outlinewidth": 0,
                            "ticks": ""
                          }
                        },
                        "type": "scatterternary"
                      }
                    ],
                    "surface": [
                      {
                        "colorbar": {
                          "outlinewidth": 0,
                          "ticks": ""
                        },
                        "colorscale": [
                          [
                            0,
                            "#0d0887"
                          ],
                          [
                            0.1111111111111111,
                            "#46039f"
                          ],
                          [
                            0.2222222222222222,
                            "#7201a8"
                          ],
                          [
                            0.3333333333333333,
                            "#9c179e"
                          ],
                          [
                            0.4444444444444444,
                            "#bd3786"
                          ],
                          [
                            0.5555555555555556,
                            "#d8576b"
                          ],
                          [
                            0.6666666666666666,
                            "#ed7953"
                          ],
                          [
                            0.7777777777777778,
                            "#fb9f3a"
                          ],
                          [
                            0.8888888888888888,
                            "#fdca26"
                          ],
                          [
                            1,
                            "#f0f921"
                          ]
                        ],
                        "type": "surface"
                      }
                    ],
                    "table": [
                      {
                        "cells": {
                          "fill": {
                            "color": "#EBF0F8"
                          },
                          "line": {
                            "color": "white"
                          }
                        },
                        "header": {
                          "fill": {
                            "color": "#C8D4E3"
                          },
                          "line": {
                            "color": "white"
                          }
                        },
                        "type": "table"
                      }
                    ]
                  },
                  "layout": {
                    "annotationdefaults": {
                      "arrowcolor": "#2a3f5f",
                      "arrowhead": 0,
                      "arrowwidth": 1
                    },
                    "autotypenumbers": "strict",
                    "coloraxis": {
                      "colorbar": {
                        "outlinewidth": 0,
                        "ticks": ""
                      }
                    },
                    "colorscale": {
                      "diverging": [
                        [
                          0,
                          "#8e0152"
                        ],
                        [
                          0.1,
                          "#c51b7d"
                        ],
                        [
                          0.2,
                          "#de77ae"
                        ],
                        [
                          0.3,
                          "#f1b6da"
                        ],
                        [
                          0.4,
                          "#fde0ef"
                        ],
                        [
                          0.5,
                          "#f7f7f7"
                        ],
                        [
                          0.6,
                          "#e6f5d0"
                        ],
                        [
                          0.7,
                          "#b8e186"
                        ],
                        [
                          0.8,
                          "#7fbc41"
                        ],
                        [
                          0.9,
                          "#4d9221"
                        ],
                        [
                          1,
                          "#276419"
                        ]
                      ],
                      "sequential": [
                        [
                          0,
                          "#0d0887"
                        ],
                        [
                          0.1111111111111111,
                          "#46039f"
                        ],
                        [
                          0.2222222222222222,
                          "#7201a8"
                        ],
                        [
                          0.3333333333333333,
                          "#9c179e"
                        ],
                        [
                          0.4444444444444444,
                          "#bd3786"
                        ],
                        [
                          0.5555555555555556,
                          "#d8576b"
                        ],
                        [
                          0.6666666666666666,
                          "#ed7953"
                        ],
                        [
                          0.7777777777777778,
                          "#fb9f3a"
                        ],
                        [
                          0.8888888888888888,
                          "#fdca26"
                        ],
                        [
                          1,
                          "#f0f921"
                        ]
                      ],
                      "sequentialminus": [
                        [
                          0,
                          "#0d0887"
                        ],
                        [
                          0.1111111111111111,
                          "#46039f"
                        ],
                        [
                          0.2222222222222222,
                          "#7201a8"
                        ],
                        [
                          0.3333333333333333,
                          "#9c179e"
                        ],
                        [
                          0.4444444444444444,
                          "#bd3786"
                        ],
                        [
                          0.5555555555555556,
                          "#d8576b"
                        ],
                        [
                          0.6666666666666666,
                          "#ed7953"
                        ],
                        [
                          0.7777777777777778,
                          "#fb9f3a"
                        ],
                        [
                          0.8888888888888888,
                          "#fdca26"
                        ],
                        [
                          1,
                          "#f0f921"
                        ]
                      ]
                    },
                    "colorway": [
                      "#636efa",
                      "#EF553B",
                      "#00cc96",
                      "#ab63fa",
                      "#FFA15A",
                      "#19d3f3",
                      "#FF6692",
                      "#B6E880",
                      "#FF97FF",
                      "#FECB52"
                    ],
                    "font": {
                      "color": "#2a3f5f"
                    },
                    "geo": {
                      "bgcolor": "white",
                      "lakecolor": "white",
                      "landcolor": "#E5ECF6",
                      "showlakes": true,
                      "showland": true,
                      "subunitcolor": "white"
                    },
                    "hoverlabel": {
                      "align": "left"
                    },
                    "hovermode": "closest",
                    "mapbox": {
                      "style": "light"
                    },
                    "paper_bgcolor": "white",
                    "plot_bgcolor": "#E5ECF6",
                    "polar": {
                      "angularaxis": {
                        "gridcolor": "white",
                        "linecolor": "white",
                        "ticks": ""
                      },
                      "bgcolor": "#E5ECF6",
                      "radialaxis": {
                        "gridcolor": "white",
                        "linecolor": "white",
                        "ticks": ""
                      }
                    },
                    "scene": {
                      "xaxis": {
                        "backgroundcolor": "#E5ECF6",
                        "gridcolor": "white",
                        "gridwidth": 2,
                        "linecolor": "white",
                        "showbackground": true,
                        "ticks": "",
                        "zerolinecolor": "white"
                      },
                      "yaxis": {
                        "backgroundcolor": "#E5ECF6",
                        "gridcolor": "white",
                        "gridwidth": 2,
                        "linecolor": "white",
                        "showbackground": true,
                        "ticks": "",
                        "zerolinecolor": "white"
                      },
                      "zaxis": {
                        "backgroundcolor": "#E5ECF6",
                        "gridcolor": "white",
                        "gridwidth": 2,
                        "linecolor": "white",
                        "showbackground": true,
                        "ticks": "",
                        "zerolinecolor": "white"
                      }
                    },
                    "shapedefaults": {
                      "line": {
                        "color": "#2a3f5f"
                      }
                    },
                    "ternary": {
                      "aaxis": {
                        "gridcolor": "white",
                        "linecolor": "white",
                        "ticks": ""
                      },
                      "baxis": {
                        "gridcolor": "white",
                        "linecolor": "white",
                        "ticks": ""
                      },
                      "bgcolor": "#E5ECF6",
                      "caxis": {
                        "gridcolor": "white",
                        "linecolor": "white",
                        "ticks": ""
                      }
                    },
                    "title": {
                      "x": 0.05
                    },
                    "xaxis": {
                      "automargin": true,
                      "gridcolor": "white",
                      "linecolor": "white",
                      "ticks": "",
                      "title": {
                        "standoff": 15
                      },
                      "zerolinecolor": "white",
                      "zerolinewidth": 2
                    },
                    "yaxis": {
                      "automargin": true,
                      "gridcolor": "white",
                      "linecolor": "white",
                      "ticks": "",
                      "title": {
                        "standoff": 15
                      },
                      "zerolinecolor": "white",
                      "zerolinewidth": 2
                    }
                  }
                },
                "title": {
                  "text": "Life Expectancy According To Years"
                }
              },
              "config": {
                "showLink": false,
                "linkText": "Export to plot.ly",
                "plotlyServerURL": "https://plot.ly"
              }
            },
            "text/html": [
              "<div>                            <div id=\"ade05c2e-0f01-4f25-9730-e1cd95dfbd8b\" class=\"plotly-graph-div\" style=\"height:525px; width:100%;\"></div>            <script type=\"text/javascript\">                require([\"plotly\"], function(Plotly) {                    window.PLOTLYENV=window.PLOTLYENV || {};                                    if (document.getElementById(\"ade05c2e-0f01-4f25-9730-e1cd95dfbd8b\")) {                    Plotly.newPlot(                        \"ade05c2e-0f01-4f25-9730-e1cd95dfbd8b\",                        [{\"name\":\"Life Expectancy at Birth (Female)\",\"y\":[85.8959,84.8787,84.1804,88.3257,85.8396,83.2762,84.9097,83.7675,83.2215,83.3568,84.7177,84.9268,84.2957,84.3213,84.6711,85.35,84.8055,82.7722,87.7313,86.7603,80.238,84.2953,86.1085,83.8366,84.084,80.9371,85.7735,85.485,83.2037,85.0955,81.2311,80.8885,82.8521,80.3888,80.0178,78.775,78.7714,84.0791,77.8257,84.3238,81.0549,81.4368,80.9374,83.495,78.4307,77.9211,78.6471,79.1213,79.8119,81.4628,76.8812,74.7727,77.8898,74.7155,75.0957,73.0814,76.4032,79.8106,79.2583,77.6972,79.594,77.3623,76.6807,76.8265,77.1779,83.0408,79.1726,75.4824,77.8979,79.3594,80.9411,75.6503,79.5018,77.5302,75.3413,76.8085,76.7002,76.1561,81.1546,76.2914,73.5466,70.5753,76.3585,74.7462,77.35,74.8637,76.0086,76.4421,72.3958,81.0193,77.9588,73.2871,73.719,72.663,77.4619,75.6958,72.6077,77.1448,68.8768,73.5513,73.3899,76.3013,76.7726,74.3956,73.3847,75.9386,74.7166,69.1042,64.9992,72.543,75.5034,68.4944,77.2512,69.7437,78.2349,71.4822,63.5942,66.7999,74.3515,75.2072,72.4219,73.7339,74.3322,76.3977,75.1492,76.8026,73.7734,78.4572,74.2672,69.1378,67.1997,68.8864,66.0136,74.608,72.6514,69.0959,72.5341,70.4194,62.9849,70.0778,69.5445,72.9446,70.3617,61.2485,62.7256,72.2907,62.0449,64.3066,69.0009,75.1752,62.0182,64.0899,64.9346,63.9276,71.9594,65.8272,68.4151,66.0979,59.9409,68.3107,68.6228,62.3913,66.1191,53.0701,68.1639,61.4449,64.9197,55.9266,66.4685,69.2838,65.0189,67.8786,66.8701,63.5287,68.2852,68.6547,61.7958,62.0722,61.5207,65.2791,61.3543,60.0985,67.1339,60.9896,62.4325,60.331,63.6092,56.3035,62.7943,54.2828,56.4723],\"type\":\"box\"},{\"name\":\"Life Expectancy at Birth (Male)\",\"y\":[81.9952,81.5622,81.2138,82.6613,83.1718,79.4848,81.0775,80.2476,78.0809,79.9974,79.3458,80.6357,79.4344,80.5756,80.621,81.101,80.4463,78.7168,81.8018,80.3864,74.2999,80.1535,81.4414,77.6469,79.0433,77.2164,80.2091,79.425,79.2092,80.5189,72.8152,74.6662,77.4923,72.6255,77.7566,68.7778,75.5902,77.8468,69.2021,77.1723,74.233,76.4722,78.3139,78.3621,71.4948,71.1047,72.1818,73.0397,72.9973,77.1925,72.6017,64.2085,70.6364,70.9841,68.1206,65.4761,69.6616,74.4177,71.6545,67.2978,73.0499,72.659,66.8028,70.44,71.2212,74.518,74.0869,68.435,72.2123,75.6292,75.7753,67.7429,73.1101,73.1078,68.3456,71.2463,66.5312,71.6616,75.4634,69.2978,64.4433,62.4323,71.2446,70.1206,66.5544,66.0556,69.5597,69.4041,67.354,79.082,74.8787,65.6458,68.4164,65.8652,70.2604,66.5368,67.9353,70.7428,65.4261,67.2067,68.3335,69.7249,72.1277,69.6305,67.4336,71.0939,67.8378,62.4812,59.4575,68.469,70.3119,63.4876,72.8466,65.5327,69.117,67.1717,58.6909,60.879,65.8,66.2592,68.2004,69.5682,67.1187,71.8927,66.0775,70.8357,70.1411,69.5891,70.5989,60.8155,63.6922,65.7563,61.6304,67.1203,66.0046,65.504,67.8945,65.1607,55.7206,66.1536,66.0999,68.3967,66.5739,53.366,58.7813,66.8186,56.2321,59.0291,62.5463,69.0583,58.6899,58.9354,62.1236,58.4872,68.931,61.2453,62.9479,62.6661,57.4001,64.1827,63.7866,60.8495,60.399,52.2846,63.798,58.2208,60.4228,50.3736,59.4935,64.7525,59.7276,62.7408,62.2341,60.6559,61.91,64.3495,57.3925,59.4109,56.9531,58.9147,58.7582,57.595,60.6287,57.4745,56.2044,57.6179,59.7112,51.6455,60.4065,50.8449,53.4286],\"type\":\"box\"}],                        {\"template\":{\"data\":{\"barpolar\":[{\"marker\":{\"line\":{\"color\":\"#E5ECF6\",\"width\":0.5},\"pattern\":{\"fillmode\":\"overlay\",\"size\":10,\"solidity\":0.2}},\"type\":\"barpolar\"}],\"bar\":[{\"error_x\":{\"color\":\"#2a3f5f\"},\"error_y\":{\"color\":\"#2a3f5f\"},\"marker\":{\"line\":{\"color\":\"#E5ECF6\",\"width\":0.5},\"pattern\":{\"fillmode\":\"overlay\",\"size\":10,\"solidity\":0.2}},\"type\":\"bar\"}],\"carpet\":[{\"aaxis\":{\"endlinecolor\":\"#2a3f5f\",\"gridcolor\":\"white\",\"linecolor\":\"white\",\"minorgridcolor\":\"white\",\"startlinecolor\":\"#2a3f5f\"},\"baxis\":{\"endlinecolor\":\"#2a3f5f\",\"gridcolor\":\"white\",\"linecolor\":\"white\",\"minorgridcolor\":\"white\",\"startlinecolor\":\"#2a3f5f\"},\"type\":\"carpet\"}],\"choropleth\":[{\"colorbar\":{\"outlinewidth\":0,\"ticks\":\"\"},\"type\":\"choropleth\"}],\"contourcarpet\":[{\"colorbar\":{\"outlinewidth\":0,\"ticks\":\"\"},\"type\":\"contourcarpet\"}],\"contour\":[{\"colorbar\":{\"outlinewidth\":0,\"ticks\":\"\"},\"colorscale\":[[0.0,\"#0d0887\"],[0.1111111111111111,\"#46039f\"],[0.2222222222222222,\"#7201a8\"],[0.3333333333333333,\"#9c179e\"],[0.4444444444444444,\"#bd3786\"],[0.5555555555555556,\"#d8576b\"],[0.6666666666666666,\"#ed7953\"],[0.7777777777777778,\"#fb9f3a\"],[0.8888888888888888,\"#fdca26\"],[1.0,\"#f0f921\"]],\"type\":\"contour\"}],\"heatmapgl\":[{\"colorbar\":{\"outlinewidth\":0,\"ticks\":\"\"},\"colorscale\":[[0.0,\"#0d0887\"],[0.1111111111111111,\"#46039f\"],[0.2222222222222222,\"#7201a8\"],[0.3333333333333333,\"#9c179e\"],[0.4444444444444444,\"#bd3786\"],[0.5555555555555556,\"#d8576b\"],[0.6666666666666666,\"#ed7953\"],[0.7777777777777778,\"#fb9f3a\"],[0.8888888888888888,\"#fdca26\"],[1.0,\"#f0f921\"]],\"type\":\"heatmapgl\"}],\"heatmap\":[{\"colorbar\":{\"outlinewidth\":0,\"ticks\":\"\"},\"colorscale\":[[0.0,\"#0d0887\"],[0.1111111111111111,\"#46039f\"],[0.2222222222222222,\"#7201a8\"],[0.3333333333333333,\"#9c179e\"],[0.4444444444444444,\"#bd3786\"],[0.5555555555555556,\"#d8576b\"],[0.6666666666666666,\"#ed7953\"],[0.7777777777777778,\"#fb9f3a\"],[0.8888888888888888,\"#fdca26\"],[1.0,\"#f0f921\"]],\"type\":\"heatmap\"}],\"histogram2dcontour\":[{\"colorbar\":{\"outlinewidth\":0,\"ticks\":\"\"},\"colorscale\":[[0.0,\"#0d0887\"],[0.1111111111111111,\"#46039f\"],[0.2222222222222222,\"#7201a8\"],[0.3333333333333333,\"#9c179e\"],[0.4444444444444444,\"#bd3786\"],[0.5555555555555556,\"#d8576b\"],[0.6666666666666666,\"#ed7953\"],[0.7777777777777778,\"#fb9f3a\"],[0.8888888888888888,\"#fdca26\"],[1.0,\"#f0f921\"]],\"type\":\"histogram2dcontour\"}],\"histogram2d\":[{\"colorbar\":{\"outlinewidth\":0,\"ticks\":\"\"},\"colorscale\":[[0.0,\"#0d0887\"],[0.1111111111111111,\"#46039f\"],[0.2222222222222222,\"#7201a8\"],[0.3333333333333333,\"#9c179e\"],[0.4444444444444444,\"#bd3786\"],[0.5555555555555556,\"#d8576b\"],[0.6666666666666666,\"#ed7953\"],[0.7777777777777778,\"#fb9f3a\"],[0.8888888888888888,\"#fdca26\"],[1.0,\"#f0f921\"]],\"type\":\"histogram2d\"}],\"histogram\":[{\"marker\":{\"pattern\":{\"fillmode\":\"overlay\",\"size\":10,\"solidity\":0.2}},\"type\":\"histogram\"}],\"mesh3d\":[{\"colorbar\":{\"outlinewidth\":0,\"ticks\":\"\"},\"type\":\"mesh3d\"}],\"parcoords\":[{\"line\":{\"colorbar\":{\"outlinewidth\":0,\"ticks\":\"\"}},\"type\":\"parcoords\"}],\"pie\":[{\"automargin\":true,\"type\":\"pie\"}],\"scatter3d\":[{\"line\":{\"colorbar\":{\"outlinewidth\":0,\"ticks\":\"\"}},\"marker\":{\"colorbar\":{\"outlinewidth\":0,\"ticks\":\"\"}},\"type\":\"scatter3d\"}],\"scattercarpet\":[{\"marker\":{\"colorbar\":{\"outlinewidth\":0,\"ticks\":\"\"}},\"type\":\"scattercarpet\"}],\"scattergeo\":[{\"marker\":{\"colorbar\":{\"outlinewidth\":0,\"ticks\":\"\"}},\"type\":\"scattergeo\"}],\"scattergl\":[{\"marker\":{\"colorbar\":{\"outlinewidth\":0,\"ticks\":\"\"}},\"type\":\"scattergl\"}],\"scattermapbox\":[{\"marker\":{\"colorbar\":{\"outlinewidth\":0,\"ticks\":\"\"}},\"type\":\"scattermapbox\"}],\"scatterpolargl\":[{\"marker\":{\"colorbar\":{\"outlinewidth\":0,\"ticks\":\"\"}},\"type\":\"scatterpolargl\"}],\"scatterpolar\":[{\"marker\":{\"colorbar\":{\"outlinewidth\":0,\"ticks\":\"\"}},\"type\":\"scatterpolar\"}],\"scatter\":[{\"fillpattern\":{\"fillmode\":\"overlay\",\"size\":10,\"solidity\":0.2},\"type\":\"scatter\"}],\"scatterternary\":[{\"marker\":{\"colorbar\":{\"outlinewidth\":0,\"ticks\":\"\"}},\"type\":\"scatterternary\"}],\"surface\":[{\"colorbar\":{\"outlinewidth\":0,\"ticks\":\"\"},\"colorscale\":[[0.0,\"#0d0887\"],[0.1111111111111111,\"#46039f\"],[0.2222222222222222,\"#7201a8\"],[0.3333333333333333,\"#9c179e\"],[0.4444444444444444,\"#bd3786\"],[0.5555555555555556,\"#d8576b\"],[0.6666666666666666,\"#ed7953\"],[0.7777777777777778,\"#fb9f3a\"],[0.8888888888888888,\"#fdca26\"],[1.0,\"#f0f921\"]],\"type\":\"surface\"}],\"table\":[{\"cells\":{\"fill\":{\"color\":\"#EBF0F8\"},\"line\":{\"color\":\"white\"}},\"header\":{\"fill\":{\"color\":\"#C8D4E3\"},\"line\":{\"color\":\"white\"}},\"type\":\"table\"}]},\"layout\":{\"annotationdefaults\":{\"arrowcolor\":\"#2a3f5f\",\"arrowhead\":0,\"arrowwidth\":1},\"autotypenumbers\":\"strict\",\"coloraxis\":{\"colorbar\":{\"outlinewidth\":0,\"ticks\":\"\"}},\"colorscale\":{\"diverging\":[[0,\"#8e0152\"],[0.1,\"#c51b7d\"],[0.2,\"#de77ae\"],[0.3,\"#f1b6da\"],[0.4,\"#fde0ef\"],[0.5,\"#f7f7f7\"],[0.6,\"#e6f5d0\"],[0.7,\"#b8e186\"],[0.8,\"#7fbc41\"],[0.9,\"#4d9221\"],[1,\"#276419\"]],\"sequential\":[[0.0,\"#0d0887\"],[0.1111111111111111,\"#46039f\"],[0.2222222222222222,\"#7201a8\"],[0.3333333333333333,\"#9c179e\"],[0.4444444444444444,\"#bd3786\"],[0.5555555555555556,\"#d8576b\"],[0.6666666666666666,\"#ed7953\"],[0.7777777777777778,\"#fb9f3a\"],[0.8888888888888888,\"#fdca26\"],[1.0,\"#f0f921\"]],\"sequentialminus\":[[0.0,\"#0d0887\"],[0.1111111111111111,\"#46039f\"],[0.2222222222222222,\"#7201a8\"],[0.3333333333333333,\"#9c179e\"],[0.4444444444444444,\"#bd3786\"],[0.5555555555555556,\"#d8576b\"],[0.6666666666666666,\"#ed7953\"],[0.7777777777777778,\"#fb9f3a\"],[0.8888888888888888,\"#fdca26\"],[1.0,\"#f0f921\"]]},\"colorway\":[\"#636efa\",\"#EF553B\",\"#00cc96\",\"#ab63fa\",\"#FFA15A\",\"#19d3f3\",\"#FF6692\",\"#B6E880\",\"#FF97FF\",\"#FECB52\"],\"font\":{\"color\":\"#2a3f5f\"},\"geo\":{\"bgcolor\":\"white\",\"lakecolor\":\"white\",\"landcolor\":\"#E5ECF6\",\"showlakes\":true,\"showland\":true,\"subunitcolor\":\"white\"},\"hoverlabel\":{\"align\":\"left\"},\"hovermode\":\"closest\",\"mapbox\":{\"style\":\"light\"},\"paper_bgcolor\":\"white\",\"plot_bgcolor\":\"#E5ECF6\",\"polar\":{\"angularaxis\":{\"gridcolor\":\"white\",\"linecolor\":\"white\",\"ticks\":\"\"},\"bgcolor\":\"#E5ECF6\",\"radialaxis\":{\"gridcolor\":\"white\",\"linecolor\":\"white\",\"ticks\":\"\"}},\"scene\":{\"xaxis\":{\"backgroundcolor\":\"#E5ECF6\",\"gridcolor\":\"white\",\"gridwidth\":2,\"linecolor\":\"white\",\"showbackground\":true,\"ticks\":\"\",\"zerolinecolor\":\"white\"},\"yaxis\":{\"backgroundcolor\":\"#E5ECF6\",\"gridcolor\":\"white\",\"gridwidth\":2,\"linecolor\":\"white\",\"showbackground\":true,\"ticks\":\"\",\"zerolinecolor\":\"white\"},\"zaxis\":{\"backgroundcolor\":\"#E5ECF6\",\"gridcolor\":\"white\",\"gridwidth\":2,\"linecolor\":\"white\",\"showbackground\":true,\"ticks\":\"\",\"zerolinecolor\":\"white\"}},\"shapedefaults\":{\"line\":{\"color\":\"#2a3f5f\"}},\"ternary\":{\"aaxis\":{\"gridcolor\":\"white\",\"linecolor\":\"white\",\"ticks\":\"\"},\"baxis\":{\"gridcolor\":\"white\",\"linecolor\":\"white\",\"ticks\":\"\"},\"bgcolor\":\"#E5ECF6\",\"caxis\":{\"gridcolor\":\"white\",\"linecolor\":\"white\",\"ticks\":\"\"}},\"title\":{\"x\":0.05},\"xaxis\":{\"automargin\":true,\"gridcolor\":\"white\",\"linecolor\":\"white\",\"ticks\":\"\",\"title\":{\"standoff\":15},\"zerolinecolor\":\"white\",\"zerolinewidth\":2},\"yaxis\":{\"automargin\":true,\"gridcolor\":\"white\",\"linecolor\":\"white\",\"ticks\":\"\",\"title\":{\"standoff\":15},\"zerolinecolor\":\"white\",\"zerolinewidth\":2}}},\"title\":{\"text\":\"Life Expectancy According To Years\"}},                        {\"responsive\": true}                    ).then(function(){\n",
              "                            \n",
              "var gd = document.getElementById('ade05c2e-0f01-4f25-9730-e1cd95dfbd8b');\n",
              "var x = new MutationObserver(function (mutations, observer) {{\n",
              "        var display = window.getComputedStyle(gd).display;\n",
              "        if (!display || display === 'none') {{\n",
              "            console.log([gd, 'removed!']);\n",
              "            Plotly.purge(gd);\n",
              "            observer.disconnect();\n",
              "        }}\n",
              "}});\n",
              "\n",
              "// Listen for the removal of the full notebook cells\n",
              "var notebookContainer = gd.closest('#notebook-container');\n",
              "if (notebookContainer) {{\n",
              "    x.observe(notebookContainer, {childList: true});\n",
              "}}\n",
              "\n",
              "// Listen for the clearing of the current output cell\n",
              "var outputEl = gd.closest('.output');\n",
              "if (outputEl) {{\n",
              "    x.observe(outputEl, {childList: true});\n",
              "}}\n",
              "\n",
              "                        })                };                });            </script>        </div>"
            ]
          },
          "metadata": {}
        }
      ]
    },
    {
      "cell_type": "code",
      "source": [
        "trace1 = go.Box(\n",
        "    y=gd1[\"Unnamed: 22\"],\n",
        "    name = \"Female\"\n",
        ")\n",
        "trace2 = go.Box(\n",
        "    y=gd1[\"Unnamed: 24\"],\n",
        "    name = \"Male\"\n",
        ")\n",
        "fig = go.Figure( data = [trace1, trace2], layout = dict(title = \"Estimated Gross National Income per Capita\"))\n",
        "iplot(fig)"
      ],
      "metadata": {
        "colab": {
          "base_uri": "https://localhost:8080/",
          "height": 542
        },
        "id": "3Tlv32YFhbSB",
        "outputId": "61e8d887-2275-476f-f2ff-2ab6c9bafb33"
      },
      "execution_count": 64,
      "outputs": [
        {
          "output_type": "display_data",
          "data": {
            "application/vnd.plotly.v1+json": {
              "data": [
                {
                  "name": "Female",
                  "y": [
                    54596.8739378823,
                    54699.4455573899,
                    47135.9142393382,
                    51735.2565167101,
                    37485.5883003028,
                    49876.264628754,
                    49580.1098288725,
                    61104.4939600282,
                    46149.952498592,
                    46301.3411836045,
                    41697.5015644962,
                    75093.9938620286,
                    42532.9343066722,
                    36864.4872006473,
                    38651.8093900896,
                    "..",
                    70117.3744928982,
                    37374.4505059012,
                    30620.8067529737,
                    29299.8934691973,
                    51538.9555072382,
                    34959.6986473428,
                    30282.1014847071,
                    33037.5284849374,
                    43413.8873640821,
                    28921.1448181296,
                    31212.6376334239,
                    38403.4713023402,
                    30616.5208378019,
                    31099.8655235923,
                    30995.4047127434,
                    30454.505422077,
                    22889.7921745763,
                    25260.740440814,
                    16786.1730610931,
                    33891.3687228578,
                    20677.9755994882,
                    28713.4369712928,
                    27882.2849264741,
                    "..",
                    23887.9946672198,
                    17552.929990094,
                    42100.8474303107,
                    "..",
                    24848.6679746886,
                    25908.868426218,
                    15580.7157069431,
                    19079.3504665313,
                    15934.7624932206,
                    28085.5800910716,
                    47578.7567634333,
                    21857.3324557337,
                    24554.4767319832,
                    7169.21216933021,
                    25896.9841849982,
                    18976.3473403292,
                    16793.8735504204,
                    16567.9331467918,
                    17125.2922509839,
                    15158.3230260127,
                    23379.6502898973,
                    20671.5607299975,
                    11284.6655035638,
                    15015.8211366536,
                    15306.1035746539,
                    15457.0840999554,
                    11637.2156716603,
                    18109.3893558731,
                    "..",
                    10235.2143446648,
                    "..",
                    "..",
                    7004.61099016414,
                    10709.2849239449,
                    "..",
                    3767.3994597355,
                    10369.8685562964,
                    11146.8390182508,
                    13979.6897097644,
                    13695.3114600437,
                    12086.9609175949,
                    "..",
                    5103.3485544724,
                    9812.53559644605,
                    8736.26384887973,
                    12455.7662515017,
                    10903.0750004898,
                    10280.7559774788,
                    8720.22377793274,
                    6358.7365347176,
                    3549.99674536026,
                    10536.0159315317,
                    4842.0269916731,
                    9227.49913565749,
                    7450.79566670892,
                    8540.71984457848,
                    3536.06517754087,
                    4869.59775251937,
                    5664.1868317186,
                    8865.60171275001,
                    5427.35836653771,
                    "..",
                    3778.06487446032,
                    9569.73206833024,
                    9410.45530932146,
                    2250.06755635548,
                    9990.61775768094,
                    14734.6205638016,
                    9934.61143768003,
                    6982.25134084938,
                    3222.69805006025,
                    9375.89599297558,
                    3814.52256476512,
                    7905.91742145043,
                    6932.36754714609,
                    7486.71823516506,
                    13839.156834811,
                    6855.90466102971,
                    2863.19122408479,
                    2865.79386852269,
                    2184.12507490671,
                    2980.08809109594,
                    4248.54338030356,
                    3193.53330118439,
                    5823.67140162037,
                    3646.34102314576,
                    6670.57607769609,
                    4681.79174945485,
                    2811.24342225273,
                    "..",
                    "..",
                    2277.26552420848,
                    4723.28854639103,
                    "..",
                    4909.09943086505,
                    "..",
                    4271.17764783735,
                    2414.87905559746,
                    7270.70465626511,
                    6756.89131878323,
                    3641.65088486548,
                    2353.69706869948,
                    3677.18314269268,
                    6383.50781913565,
                    8351.08344722546,
                    3463.50856229119,
                    3285.93358505073,
                    4751.37325620078,
                    2618.85677302398,
                    1285.23287333802,
                    2981.38592866838,
                    3873.19105645338,
                    2532.15297416706,
                    2614.50508407491,
                    2172.53489677988,
                    2013.58048901061,
                    3542.52601367319,
                    2603.57742986229,
                    3763.00304423729,
                    2246.73618115805,
                    1569.38031276588,
                    1884.54822985892,
                    2408.20034201609,
                    3758.75516359274,
                    1989.56028628528,
                    2997.70568642397,
                    1877.43031704592,
                    2106.60285693164,
                    1231.62902364418,
                    2258.03397199865,
                    2178.95885971805,
                    1832.77032681804,
                    1283.7995322321,
                    1648.84700821377,
                    1943.57558303304,
                    1387.31760185668,
                    1561.42378446188,
                    1061.54844058872,
                    896.352883715462,
                    532.955368214296,
                    1453.29281739816,
                    2320.38148501952,
                    176.059448160138,
                    1659.23485218642,
                    1095.66625677002,
                    1482.68924316069,
                    667.520767773012,
                    769.842841044816,
                    936.484843415738,
                    965.151077868731,
                    664.423767805742
                  ],
                  "type": "box"
                },
                {
                  "name": "Male",
                  "y": [
                    79450.5101602455,
                    74444.9909156756,
                    64004.1285793718,
                    75306.9573059227,
                    61160.7901070843,
                    70961.0915470663,
                    59326.0762468824,
                    91505.9249277234,
                    63142.6997535196,
                    65778.4469654018,
                    57393.7955345333,
                    105348.328286382,
                    62295.0828930701,
                    51377.4755766416,
                    55065.2548117157,
                    "..",
                    98991.3462000986,
                    53264.9393045294,
                    54596.8443486755,
                    59737.3370407366,
                    78238.2140849607,
                    48125.8880653021,
                    46821.0132431008,
                    46385.6391169428,
                    64148.4873661337,
                    77317.6801660486,
                    45784.0770108752,
                    53987.6769718084,
                    45734.5501001802,
                    55186.5374305787,
                    45866.2068461356,
                    47288.8088147064,
                    35367.9478178113,
                    41335.5004493955,
                    53359.4967138605,
                    42500.0432599795,
                    64708.4238532023,
                    38126.79502683,
                    38506.1117070819,
                    "..",
                    36712.7900935022,
                    31677.2770173509,
                    104066.164056264,
                    "..",
                    36813.1001887973,
                    40262.2487631917,
                    26376.4250548888,
                    42928.7894782511,
                    26000.7427698195,
                    68826.8182154863,
                    80260.7848628897,
                    33288.0598805046,
                    35874.097597933,
                    39717.2307243986,
                    35495.4252429557,
                    29305.1269429111,
                    30166.2029841624,
                    23375.9577293755,
                    25680.3291819876,
                    23165.0207652433,
                    30531.1000053826,
                    32379.5797368286,
                    18472.482610232,
                    29221.0443354663,
                    23270.1670626274,
                    18694.2363336112,
                    16629.9021108478,
                    28356.8151224426,
                    "..",
                    14554.6140481282,
                    "..",
                    "..",
                    18573.3025486633,
                    19917.0061542094,
                    "..",
                    22040.7096548897,
                    16604.7420082415,
                    20715.6717198476,
                    20882.8663691594,
                    22248.0612511166,
                    17961.1685357807,
                    "..",
                    10693.0076839618,
                    14726.6580215782,
                    18557.9479948061,
                    23600.0596263886,
                    17959.9647134631,
                    18598.7331638985,
                    15074.8975675202,
                    22119.1490135241,
                    17787.3129149831,
                    18075.8323004514,
                    8845.00397381524,
                    16884.4371904096,
                    13180.2177294588,
                    12666.3652094862,
                    19740.683936833,
                    15777.9051500011,
                    14270.3683399562,
                    16506.3524653874,
                    10402.9519307737,
                    "..",
                    15631.2796505655,
                    20960.0752853179,
                    15264.7720772972,
                    10936.9569395981,
                    14146.9746930103,
                    30534.3451793803,
                    16129.3349296619,
                    10715.4698792703,
                    7312.13553072018,
                    17211.8952750153,
                    15585.7976870531,
                    14975.8134258192,
                    8825.59973668502,
                    10310.6296124629,
                    18618.3231579809,
                    9358.68073052619,
                    6331.48718900302,
                    6795.8637928422,
                    17748.4837662146,
                    6095.51503746544,
                    8344.77350608919,
                    11356.0231495117,
                    11014.9537984843,
                    7661.43405217748,
                    11896.3299819611,
                    7795.74818680473,
                    8176.05007673039,
                    "..",
                    "..",
                    10632.9329066072,
                    6770.83066744231,
                    "..",
                    12613.8442265842,
                    "..",
                    6304.34665933144,
                    5634.98855657362,
                    10094.308150449,
                    8627.131679721,
                    5248.1571197395,
                    3808.57617010312,
                    4095.45510825047,
                    8992.51691884394,
                    15398.9052765074,
                    4706.23792166685,
                    4396.77767970836,
                    6196.65048458656,
                    5092.89498148001,
                    7088.31939905991,
                    4263.78713068638,
                    5084.16747656608,
                    3247.26424036521,
                    3837.04688832311,
                    2777.23292663893,
                    4260.2104547047,
                    4445.11710027146,
                    7649.58943359637,
                    6642.84440932222,
                    3091.93102011057,
                    7619.73462240109,
                    2445.72155634053,
                    3294.68971562706,
                    5800.26316310035,
                    2439.98116649549,
                    3818.80298436144,
                    2491.50259476524,
                    3310.12522401048,
                    1712.9045922754,
                    4467.5895134494,
                    7911.35071691186,
                    5319.7317252066,
                    1682.32977668736,
                    2701.01966529987,
                    2774.39318164818,
                    2079.46542049616,
                    2264.02257866716,
                    1517.96377482353,
                    1258.65721072412,
                    3089.27041801243,
                    1789.05289686897,
                    2645.23645466861,
                    2428.22441519661,
                    2579.89996162088,
                    1304.40308478089,
                    2769.84765421115,
                    796.956456348474,
                    1162.31720825857,
                    1534.59108898256,
                    1760.07280035442,
                    873.230936661844
                  ],
                  "type": "box"
                }
              ],
              "layout": {
                "template": {
                  "data": {
                    "barpolar": [
                      {
                        "marker": {
                          "line": {
                            "color": "#E5ECF6",
                            "width": 0.5
                          },
                          "pattern": {
                            "fillmode": "overlay",
                            "size": 10,
                            "solidity": 0.2
                          }
                        },
                        "type": "barpolar"
                      }
                    ],
                    "bar": [
                      {
                        "error_x": {
                          "color": "#2a3f5f"
                        },
                        "error_y": {
                          "color": "#2a3f5f"
                        },
                        "marker": {
                          "line": {
                            "color": "#E5ECF6",
                            "width": 0.5
                          },
                          "pattern": {
                            "fillmode": "overlay",
                            "size": 10,
                            "solidity": 0.2
                          }
                        },
                        "type": "bar"
                      }
                    ],
                    "carpet": [
                      {
                        "aaxis": {
                          "endlinecolor": "#2a3f5f",
                          "gridcolor": "white",
                          "linecolor": "white",
                          "minorgridcolor": "white",
                          "startlinecolor": "#2a3f5f"
                        },
                        "baxis": {
                          "endlinecolor": "#2a3f5f",
                          "gridcolor": "white",
                          "linecolor": "white",
                          "minorgridcolor": "white",
                          "startlinecolor": "#2a3f5f"
                        },
                        "type": "carpet"
                      }
                    ],
                    "choropleth": [
                      {
                        "colorbar": {
                          "outlinewidth": 0,
                          "ticks": ""
                        },
                        "type": "choropleth"
                      }
                    ],
                    "contourcarpet": [
                      {
                        "colorbar": {
                          "outlinewidth": 0,
                          "ticks": ""
                        },
                        "type": "contourcarpet"
                      }
                    ],
                    "contour": [
                      {
                        "colorbar": {
                          "outlinewidth": 0,
                          "ticks": ""
                        },
                        "colorscale": [
                          [
                            0,
                            "#0d0887"
                          ],
                          [
                            0.1111111111111111,
                            "#46039f"
                          ],
                          [
                            0.2222222222222222,
                            "#7201a8"
                          ],
                          [
                            0.3333333333333333,
                            "#9c179e"
                          ],
                          [
                            0.4444444444444444,
                            "#bd3786"
                          ],
                          [
                            0.5555555555555556,
                            "#d8576b"
                          ],
                          [
                            0.6666666666666666,
                            "#ed7953"
                          ],
                          [
                            0.7777777777777778,
                            "#fb9f3a"
                          ],
                          [
                            0.8888888888888888,
                            "#fdca26"
                          ],
                          [
                            1,
                            "#f0f921"
                          ]
                        ],
                        "type": "contour"
                      }
                    ],
                    "heatmapgl": [
                      {
                        "colorbar": {
                          "outlinewidth": 0,
                          "ticks": ""
                        },
                        "colorscale": [
                          [
                            0,
                            "#0d0887"
                          ],
                          [
                            0.1111111111111111,
                            "#46039f"
                          ],
                          [
                            0.2222222222222222,
                            "#7201a8"
                          ],
                          [
                            0.3333333333333333,
                            "#9c179e"
                          ],
                          [
                            0.4444444444444444,
                            "#bd3786"
                          ],
                          [
                            0.5555555555555556,
                            "#d8576b"
                          ],
                          [
                            0.6666666666666666,
                            "#ed7953"
                          ],
                          [
                            0.7777777777777778,
                            "#fb9f3a"
                          ],
                          [
                            0.8888888888888888,
                            "#fdca26"
                          ],
                          [
                            1,
                            "#f0f921"
                          ]
                        ],
                        "type": "heatmapgl"
                      }
                    ],
                    "heatmap": [
                      {
                        "colorbar": {
                          "outlinewidth": 0,
                          "ticks": ""
                        },
                        "colorscale": [
                          [
                            0,
                            "#0d0887"
                          ],
                          [
                            0.1111111111111111,
                            "#46039f"
                          ],
                          [
                            0.2222222222222222,
                            "#7201a8"
                          ],
                          [
                            0.3333333333333333,
                            "#9c179e"
                          ],
                          [
                            0.4444444444444444,
                            "#bd3786"
                          ],
                          [
                            0.5555555555555556,
                            "#d8576b"
                          ],
                          [
                            0.6666666666666666,
                            "#ed7953"
                          ],
                          [
                            0.7777777777777778,
                            "#fb9f3a"
                          ],
                          [
                            0.8888888888888888,
                            "#fdca26"
                          ],
                          [
                            1,
                            "#f0f921"
                          ]
                        ],
                        "type": "heatmap"
                      }
                    ],
                    "histogram2dcontour": [
                      {
                        "colorbar": {
                          "outlinewidth": 0,
                          "ticks": ""
                        },
                        "colorscale": [
                          [
                            0,
                            "#0d0887"
                          ],
                          [
                            0.1111111111111111,
                            "#46039f"
                          ],
                          [
                            0.2222222222222222,
                            "#7201a8"
                          ],
                          [
                            0.3333333333333333,
                            "#9c179e"
                          ],
                          [
                            0.4444444444444444,
                            "#bd3786"
                          ],
                          [
                            0.5555555555555556,
                            "#d8576b"
                          ],
                          [
                            0.6666666666666666,
                            "#ed7953"
                          ],
                          [
                            0.7777777777777778,
                            "#fb9f3a"
                          ],
                          [
                            0.8888888888888888,
                            "#fdca26"
                          ],
                          [
                            1,
                            "#f0f921"
                          ]
                        ],
                        "type": "histogram2dcontour"
                      }
                    ],
                    "histogram2d": [
                      {
                        "colorbar": {
                          "outlinewidth": 0,
                          "ticks": ""
                        },
                        "colorscale": [
                          [
                            0,
                            "#0d0887"
                          ],
                          [
                            0.1111111111111111,
                            "#46039f"
                          ],
                          [
                            0.2222222222222222,
                            "#7201a8"
                          ],
                          [
                            0.3333333333333333,
                            "#9c179e"
                          ],
                          [
                            0.4444444444444444,
                            "#bd3786"
                          ],
                          [
                            0.5555555555555556,
                            "#d8576b"
                          ],
                          [
                            0.6666666666666666,
                            "#ed7953"
                          ],
                          [
                            0.7777777777777778,
                            "#fb9f3a"
                          ],
                          [
                            0.8888888888888888,
                            "#fdca26"
                          ],
                          [
                            1,
                            "#f0f921"
                          ]
                        ],
                        "type": "histogram2d"
                      }
                    ],
                    "histogram": [
                      {
                        "marker": {
                          "pattern": {
                            "fillmode": "overlay",
                            "size": 10,
                            "solidity": 0.2
                          }
                        },
                        "type": "histogram"
                      }
                    ],
                    "mesh3d": [
                      {
                        "colorbar": {
                          "outlinewidth": 0,
                          "ticks": ""
                        },
                        "type": "mesh3d"
                      }
                    ],
                    "parcoords": [
                      {
                        "line": {
                          "colorbar": {
                            "outlinewidth": 0,
                            "ticks": ""
                          }
                        },
                        "type": "parcoords"
                      }
                    ],
                    "pie": [
                      {
                        "automargin": true,
                        "type": "pie"
                      }
                    ],
                    "scatter3d": [
                      {
                        "line": {
                          "colorbar": {
                            "outlinewidth": 0,
                            "ticks": ""
                          }
                        },
                        "marker": {
                          "colorbar": {
                            "outlinewidth": 0,
                            "ticks": ""
                          }
                        },
                        "type": "scatter3d"
                      }
                    ],
                    "scattercarpet": [
                      {
                        "marker": {
                          "colorbar": {
                            "outlinewidth": 0,
                            "ticks": ""
                          }
                        },
                        "type": "scattercarpet"
                      }
                    ],
                    "scattergeo": [
                      {
                        "marker": {
                          "colorbar": {
                            "outlinewidth": 0,
                            "ticks": ""
                          }
                        },
                        "type": "scattergeo"
                      }
                    ],
                    "scattergl": [
                      {
                        "marker": {
                          "colorbar": {
                            "outlinewidth": 0,
                            "ticks": ""
                          }
                        },
                        "type": "scattergl"
                      }
                    ],
                    "scattermapbox": [
                      {
                        "marker": {
                          "colorbar": {
                            "outlinewidth": 0,
                            "ticks": ""
                          }
                        },
                        "type": "scattermapbox"
                      }
                    ],
                    "scatterpolargl": [
                      {
                        "marker": {
                          "colorbar": {
                            "outlinewidth": 0,
                            "ticks": ""
                          }
                        },
                        "type": "scatterpolargl"
                      }
                    ],
                    "scatterpolar": [
                      {
                        "marker": {
                          "colorbar": {
                            "outlinewidth": 0,
                            "ticks": ""
                          }
                        },
                        "type": "scatterpolar"
                      }
                    ],
                    "scatter": [
                      {
                        "fillpattern": {
                          "fillmode": "overlay",
                          "size": 10,
                          "solidity": 0.2
                        },
                        "type": "scatter"
                      }
                    ],
                    "scatterternary": [
                      {
                        "marker": {
                          "colorbar": {
                            "outlinewidth": 0,
                            "ticks": ""
                          }
                        },
                        "type": "scatterternary"
                      }
                    ],
                    "surface": [
                      {
                        "colorbar": {
                          "outlinewidth": 0,
                          "ticks": ""
                        },
                        "colorscale": [
                          [
                            0,
                            "#0d0887"
                          ],
                          [
                            0.1111111111111111,
                            "#46039f"
                          ],
                          [
                            0.2222222222222222,
                            "#7201a8"
                          ],
                          [
                            0.3333333333333333,
                            "#9c179e"
                          ],
                          [
                            0.4444444444444444,
                            "#bd3786"
                          ],
                          [
                            0.5555555555555556,
                            "#d8576b"
                          ],
                          [
                            0.6666666666666666,
                            "#ed7953"
                          ],
                          [
                            0.7777777777777778,
                            "#fb9f3a"
                          ],
                          [
                            0.8888888888888888,
                            "#fdca26"
                          ],
                          [
                            1,
                            "#f0f921"
                          ]
                        ],
                        "type": "surface"
                      }
                    ],
                    "table": [
                      {
                        "cells": {
                          "fill": {
                            "color": "#EBF0F8"
                          },
                          "line": {
                            "color": "white"
                          }
                        },
                        "header": {
                          "fill": {
                            "color": "#C8D4E3"
                          },
                          "line": {
                            "color": "white"
                          }
                        },
                        "type": "table"
                      }
                    ]
                  },
                  "layout": {
                    "annotationdefaults": {
                      "arrowcolor": "#2a3f5f",
                      "arrowhead": 0,
                      "arrowwidth": 1
                    },
                    "autotypenumbers": "strict",
                    "coloraxis": {
                      "colorbar": {
                        "outlinewidth": 0,
                        "ticks": ""
                      }
                    },
                    "colorscale": {
                      "diverging": [
                        [
                          0,
                          "#8e0152"
                        ],
                        [
                          0.1,
                          "#c51b7d"
                        ],
                        [
                          0.2,
                          "#de77ae"
                        ],
                        [
                          0.3,
                          "#f1b6da"
                        ],
                        [
                          0.4,
                          "#fde0ef"
                        ],
                        [
                          0.5,
                          "#f7f7f7"
                        ],
                        [
                          0.6,
                          "#e6f5d0"
                        ],
                        [
                          0.7,
                          "#b8e186"
                        ],
                        [
                          0.8,
                          "#7fbc41"
                        ],
                        [
                          0.9,
                          "#4d9221"
                        ],
                        [
                          1,
                          "#276419"
                        ]
                      ],
                      "sequential": [
                        [
                          0,
                          "#0d0887"
                        ],
                        [
                          0.1111111111111111,
                          "#46039f"
                        ],
                        [
                          0.2222222222222222,
                          "#7201a8"
                        ],
                        [
                          0.3333333333333333,
                          "#9c179e"
                        ],
                        [
                          0.4444444444444444,
                          "#bd3786"
                        ],
                        [
                          0.5555555555555556,
                          "#d8576b"
                        ],
                        [
                          0.6666666666666666,
                          "#ed7953"
                        ],
                        [
                          0.7777777777777778,
                          "#fb9f3a"
                        ],
                        [
                          0.8888888888888888,
                          "#fdca26"
                        ],
                        [
                          1,
                          "#f0f921"
                        ]
                      ],
                      "sequentialminus": [
                        [
                          0,
                          "#0d0887"
                        ],
                        [
                          0.1111111111111111,
                          "#46039f"
                        ],
                        [
                          0.2222222222222222,
                          "#7201a8"
                        ],
                        [
                          0.3333333333333333,
                          "#9c179e"
                        ],
                        [
                          0.4444444444444444,
                          "#bd3786"
                        ],
                        [
                          0.5555555555555556,
                          "#d8576b"
                        ],
                        [
                          0.6666666666666666,
                          "#ed7953"
                        ],
                        [
                          0.7777777777777778,
                          "#fb9f3a"
                        ],
                        [
                          0.8888888888888888,
                          "#fdca26"
                        ],
                        [
                          1,
                          "#f0f921"
                        ]
                      ]
                    },
                    "colorway": [
                      "#636efa",
                      "#EF553B",
                      "#00cc96",
                      "#ab63fa",
                      "#FFA15A",
                      "#19d3f3",
                      "#FF6692",
                      "#B6E880",
                      "#FF97FF",
                      "#FECB52"
                    ],
                    "font": {
                      "color": "#2a3f5f"
                    },
                    "geo": {
                      "bgcolor": "white",
                      "lakecolor": "white",
                      "landcolor": "#E5ECF6",
                      "showlakes": true,
                      "showland": true,
                      "subunitcolor": "white"
                    },
                    "hoverlabel": {
                      "align": "left"
                    },
                    "hovermode": "closest",
                    "mapbox": {
                      "style": "light"
                    },
                    "paper_bgcolor": "white",
                    "plot_bgcolor": "#E5ECF6",
                    "polar": {
                      "angularaxis": {
                        "gridcolor": "white",
                        "linecolor": "white",
                        "ticks": ""
                      },
                      "bgcolor": "#E5ECF6",
                      "radialaxis": {
                        "gridcolor": "white",
                        "linecolor": "white",
                        "ticks": ""
                      }
                    },
                    "scene": {
                      "xaxis": {
                        "backgroundcolor": "#E5ECF6",
                        "gridcolor": "white",
                        "gridwidth": 2,
                        "linecolor": "white",
                        "showbackground": true,
                        "ticks": "",
                        "zerolinecolor": "white"
                      },
                      "yaxis": {
                        "backgroundcolor": "#E5ECF6",
                        "gridcolor": "white",
                        "gridwidth": 2,
                        "linecolor": "white",
                        "showbackground": true,
                        "ticks": "",
                        "zerolinecolor": "white"
                      },
                      "zaxis": {
                        "backgroundcolor": "#E5ECF6",
                        "gridcolor": "white",
                        "gridwidth": 2,
                        "linecolor": "white",
                        "showbackground": true,
                        "ticks": "",
                        "zerolinecolor": "white"
                      }
                    },
                    "shapedefaults": {
                      "line": {
                        "color": "#2a3f5f"
                      }
                    },
                    "ternary": {
                      "aaxis": {
                        "gridcolor": "white",
                        "linecolor": "white",
                        "ticks": ""
                      },
                      "baxis": {
                        "gridcolor": "white",
                        "linecolor": "white",
                        "ticks": ""
                      },
                      "bgcolor": "#E5ECF6",
                      "caxis": {
                        "gridcolor": "white",
                        "linecolor": "white",
                        "ticks": ""
                      }
                    },
                    "title": {
                      "x": 0.05
                    },
                    "xaxis": {
                      "automargin": true,
                      "gridcolor": "white",
                      "linecolor": "white",
                      "ticks": "",
                      "title": {
                        "standoff": 15
                      },
                      "zerolinecolor": "white",
                      "zerolinewidth": 2
                    },
                    "yaxis": {
                      "automargin": true,
                      "gridcolor": "white",
                      "linecolor": "white",
                      "ticks": "",
                      "title": {
                        "standoff": 15
                      },
                      "zerolinecolor": "white",
                      "zerolinewidth": 2
                    }
                  }
                },
                "title": {
                  "text": "Estimated Gross National Income per Capita"
                }
              },
              "config": {
                "showLink": false,
                "linkText": "Export to plot.ly",
                "plotlyServerURL": "https://plot.ly"
              }
            },
            "text/html": [
              "<div>                            <div id=\"db897c46-6aca-4ca2-9ffd-79ac02fbc112\" class=\"plotly-graph-div\" style=\"height:525px; width:100%;\"></div>            <script type=\"text/javascript\">                require([\"plotly\"], function(Plotly) {                    window.PLOTLYENV=window.PLOTLYENV || {};                                    if (document.getElementById(\"db897c46-6aca-4ca2-9ffd-79ac02fbc112\")) {                    Plotly.newPlot(                        \"db897c46-6aca-4ca2-9ffd-79ac02fbc112\",                        [{\"name\":\"Female\",\"y\":[54596.8739378823,54699.4455573899,47135.9142393382,51735.2565167101,37485.5883003028,49876.264628754,49580.1098288725,61104.4939600282,46149.952498592,46301.3411836045,41697.5015644962,75093.9938620286,42532.9343066722,36864.4872006473,38651.8093900896,\"..\",70117.3744928982,37374.4505059012,30620.8067529737,29299.8934691973,51538.9555072382,34959.6986473428,30282.1014847071,33037.5284849374,43413.8873640821,28921.1448181296,31212.6376334239,38403.4713023402,30616.5208378019,31099.8655235923,30995.4047127434,30454.505422077,22889.7921745763,25260.740440814,16786.1730610931,33891.3687228578,20677.9755994882,28713.4369712928,27882.2849264741,\"..\",23887.9946672198,17552.929990094,42100.8474303107,\"..\",24848.6679746886,25908.868426218,15580.7157069431,19079.3504665313,15934.7624932206,28085.5800910716,47578.7567634333,21857.3324557337,24554.4767319832,7169.21216933021,25896.9841849982,18976.3473403292,16793.8735504204,16567.9331467918,17125.2922509839,15158.3230260127,23379.6502898973,20671.5607299975,11284.6655035638,15015.8211366536,15306.1035746539,15457.0840999554,11637.2156716603,18109.3893558731,\"..\",10235.2143446648,\"..\",\"..\",7004.61099016414,10709.2849239449,\"..\",3767.3994597355,10369.8685562964,11146.8390182508,13979.6897097644,13695.3114600437,12086.9609175949,\"..\",5103.3485544724,9812.53559644605,8736.26384887973,12455.7662515017,10903.0750004898,10280.7559774788,8720.22377793274,6358.7365347176,3549.99674536026,10536.0159315317,4842.0269916731,9227.49913565749,7450.79566670892,8540.71984457848,3536.06517754087,4869.59775251937,5664.1868317186,8865.60171275001,5427.35836653771,\"..\",3778.06487446032,9569.73206833024,9410.45530932146,2250.06755635548,9990.61775768094,14734.6205638016,9934.61143768003,6982.25134084938,3222.69805006025,9375.89599297558,3814.52256476512,7905.91742145043,6932.36754714609,7486.71823516506,13839.156834811,6855.90466102971,2863.19122408479,2865.79386852269,2184.12507490671,2980.08809109594,4248.54338030356,3193.53330118439,5823.67140162037,3646.34102314576,6670.57607769609,4681.79174945485,2811.24342225273,\"..\",\"..\",2277.26552420848,4723.28854639103,\"..\",4909.09943086505,\"..\",4271.17764783735,2414.87905559746,7270.70465626511,6756.89131878323,3641.65088486548,2353.69706869948,3677.18314269268,6383.50781913565,8351.08344722546,3463.50856229119,3285.93358505073,4751.37325620078,2618.85677302398,1285.23287333802,2981.38592866838,3873.19105645338,2532.15297416706,2614.50508407491,2172.53489677988,2013.58048901061,3542.52601367319,2603.57742986229,3763.00304423729,2246.73618115805,1569.38031276588,1884.54822985892,2408.20034201609,3758.75516359274,1989.56028628528,2997.70568642397,1877.43031704592,2106.60285693164,1231.62902364418,2258.03397199865,2178.95885971805,1832.77032681804,1283.7995322321,1648.84700821377,1943.57558303304,1387.31760185668,1561.42378446188,1061.54844058872,896.352883715462,532.955368214296,1453.29281739816,2320.38148501952,176.059448160138,1659.23485218642,1095.66625677002,1482.68924316069,667.520767773012,769.842841044816,936.484843415738,965.151077868731,664.423767805742],\"type\":\"box\"},{\"name\":\"Male\",\"y\":[79450.5101602455,74444.9909156756,64004.1285793718,75306.9573059227,61160.7901070843,70961.0915470663,59326.0762468824,91505.9249277234,63142.6997535196,65778.4469654018,57393.7955345333,105348.328286382,62295.0828930701,51377.4755766416,55065.2548117157,\"..\",98991.3462000986,53264.9393045294,54596.8443486755,59737.3370407366,78238.2140849607,48125.8880653021,46821.0132431008,46385.6391169428,64148.4873661337,77317.6801660486,45784.0770108752,53987.6769718084,45734.5501001802,55186.5374305787,45866.2068461356,47288.8088147064,35367.9478178113,41335.5004493955,53359.4967138605,42500.0432599795,64708.4238532023,38126.79502683,38506.1117070819,\"..\",36712.7900935022,31677.2770173509,104066.164056264,\"..\",36813.1001887973,40262.2487631917,26376.4250548888,42928.7894782511,26000.7427698195,68826.8182154863,80260.7848628897,33288.0598805046,35874.097597933,39717.2307243986,35495.4252429557,29305.1269429111,30166.2029841624,23375.9577293755,25680.3291819876,23165.0207652433,30531.1000053826,32379.5797368286,18472.482610232,29221.0443354663,23270.1670626274,18694.2363336112,16629.9021108478,28356.8151224426,\"..\",14554.6140481282,\"..\",\"..\",18573.3025486633,19917.0061542094,\"..\",22040.7096548897,16604.7420082415,20715.6717198476,20882.8663691594,22248.0612511166,17961.1685357807,\"..\",10693.0076839618,14726.6580215782,18557.9479948061,23600.0596263886,17959.9647134631,18598.7331638985,15074.8975675202,22119.1490135241,17787.3129149831,18075.8323004514,8845.00397381524,16884.4371904096,13180.2177294588,12666.3652094862,19740.683936833,15777.9051500011,14270.3683399562,16506.3524653874,10402.9519307737,\"..\",15631.2796505655,20960.0752853179,15264.7720772972,10936.9569395981,14146.9746930103,30534.3451793803,16129.3349296619,10715.4698792703,7312.13553072018,17211.8952750153,15585.7976870531,14975.8134258192,8825.59973668502,10310.6296124629,18618.3231579809,9358.68073052619,6331.48718900302,6795.8637928422,17748.4837662146,6095.51503746544,8344.77350608919,11356.0231495117,11014.9537984843,7661.43405217748,11896.3299819611,7795.74818680473,8176.05007673039,\"..\",\"..\",10632.9329066072,6770.83066744231,\"..\",12613.8442265842,\"..\",6304.34665933144,5634.98855657362,10094.308150449,8627.131679721,5248.1571197395,3808.57617010312,4095.45510825047,8992.51691884394,15398.9052765074,4706.23792166685,4396.77767970836,6196.65048458656,5092.89498148001,7088.31939905991,4263.78713068638,5084.16747656608,3247.26424036521,3837.04688832311,2777.23292663893,4260.2104547047,4445.11710027146,7649.58943359637,6642.84440932222,3091.93102011057,7619.73462240109,2445.72155634053,3294.68971562706,5800.26316310035,2439.98116649549,3818.80298436144,2491.50259476524,3310.12522401048,1712.9045922754,4467.5895134494,7911.35071691186,5319.7317252066,1682.32977668736,2701.01966529987,2774.39318164818,2079.46542049616,2264.02257866716,1517.96377482353,1258.65721072412,3089.27041801243,1789.05289686897,2645.23645466861,2428.22441519661,2579.89996162088,1304.40308478089,2769.84765421115,796.956456348474,1162.31720825857,1534.59108898256,1760.07280035442,873.230936661844],\"type\":\"box\"}],                        {\"template\":{\"data\":{\"barpolar\":[{\"marker\":{\"line\":{\"color\":\"#E5ECF6\",\"width\":0.5},\"pattern\":{\"fillmode\":\"overlay\",\"size\":10,\"solidity\":0.2}},\"type\":\"barpolar\"}],\"bar\":[{\"error_x\":{\"color\":\"#2a3f5f\"},\"error_y\":{\"color\":\"#2a3f5f\"},\"marker\":{\"line\":{\"color\":\"#E5ECF6\",\"width\":0.5},\"pattern\":{\"fillmode\":\"overlay\",\"size\":10,\"solidity\":0.2}},\"type\":\"bar\"}],\"carpet\":[{\"aaxis\":{\"endlinecolor\":\"#2a3f5f\",\"gridcolor\":\"white\",\"linecolor\":\"white\",\"minorgridcolor\":\"white\",\"startlinecolor\":\"#2a3f5f\"},\"baxis\":{\"endlinecolor\":\"#2a3f5f\",\"gridcolor\":\"white\",\"linecolor\":\"white\",\"minorgridcolor\":\"white\",\"startlinecolor\":\"#2a3f5f\"},\"type\":\"carpet\"}],\"choropleth\":[{\"colorbar\":{\"outlinewidth\":0,\"ticks\":\"\"},\"type\":\"choropleth\"}],\"contourcarpet\":[{\"colorbar\":{\"outlinewidth\":0,\"ticks\":\"\"},\"type\":\"contourcarpet\"}],\"contour\":[{\"colorbar\":{\"outlinewidth\":0,\"ticks\":\"\"},\"colorscale\":[[0.0,\"#0d0887\"],[0.1111111111111111,\"#46039f\"],[0.2222222222222222,\"#7201a8\"],[0.3333333333333333,\"#9c179e\"],[0.4444444444444444,\"#bd3786\"],[0.5555555555555556,\"#d8576b\"],[0.6666666666666666,\"#ed7953\"],[0.7777777777777778,\"#fb9f3a\"],[0.8888888888888888,\"#fdca26\"],[1.0,\"#f0f921\"]],\"type\":\"contour\"}],\"heatmapgl\":[{\"colorbar\":{\"outlinewidth\":0,\"ticks\":\"\"},\"colorscale\":[[0.0,\"#0d0887\"],[0.1111111111111111,\"#46039f\"],[0.2222222222222222,\"#7201a8\"],[0.3333333333333333,\"#9c179e\"],[0.4444444444444444,\"#bd3786\"],[0.5555555555555556,\"#d8576b\"],[0.6666666666666666,\"#ed7953\"],[0.7777777777777778,\"#fb9f3a\"],[0.8888888888888888,\"#fdca26\"],[1.0,\"#f0f921\"]],\"type\":\"heatmapgl\"}],\"heatmap\":[{\"colorbar\":{\"outlinewidth\":0,\"ticks\":\"\"},\"colorscale\":[[0.0,\"#0d0887\"],[0.1111111111111111,\"#46039f\"],[0.2222222222222222,\"#7201a8\"],[0.3333333333333333,\"#9c179e\"],[0.4444444444444444,\"#bd3786\"],[0.5555555555555556,\"#d8576b\"],[0.6666666666666666,\"#ed7953\"],[0.7777777777777778,\"#fb9f3a\"],[0.8888888888888888,\"#fdca26\"],[1.0,\"#f0f921\"]],\"type\":\"heatmap\"}],\"histogram2dcontour\":[{\"colorbar\":{\"outlinewidth\":0,\"ticks\":\"\"},\"colorscale\":[[0.0,\"#0d0887\"],[0.1111111111111111,\"#46039f\"],[0.2222222222222222,\"#7201a8\"],[0.3333333333333333,\"#9c179e\"],[0.4444444444444444,\"#bd3786\"],[0.5555555555555556,\"#d8576b\"],[0.6666666666666666,\"#ed7953\"],[0.7777777777777778,\"#fb9f3a\"],[0.8888888888888888,\"#fdca26\"],[1.0,\"#f0f921\"]],\"type\":\"histogram2dcontour\"}],\"histogram2d\":[{\"colorbar\":{\"outlinewidth\":0,\"ticks\":\"\"},\"colorscale\":[[0.0,\"#0d0887\"],[0.1111111111111111,\"#46039f\"],[0.2222222222222222,\"#7201a8\"],[0.3333333333333333,\"#9c179e\"],[0.4444444444444444,\"#bd3786\"],[0.5555555555555556,\"#d8576b\"],[0.6666666666666666,\"#ed7953\"],[0.7777777777777778,\"#fb9f3a\"],[0.8888888888888888,\"#fdca26\"],[1.0,\"#f0f921\"]],\"type\":\"histogram2d\"}],\"histogram\":[{\"marker\":{\"pattern\":{\"fillmode\":\"overlay\",\"size\":10,\"solidity\":0.2}},\"type\":\"histogram\"}],\"mesh3d\":[{\"colorbar\":{\"outlinewidth\":0,\"ticks\":\"\"},\"type\":\"mesh3d\"}],\"parcoords\":[{\"line\":{\"colorbar\":{\"outlinewidth\":0,\"ticks\":\"\"}},\"type\":\"parcoords\"}],\"pie\":[{\"automargin\":true,\"type\":\"pie\"}],\"scatter3d\":[{\"line\":{\"colorbar\":{\"outlinewidth\":0,\"ticks\":\"\"}},\"marker\":{\"colorbar\":{\"outlinewidth\":0,\"ticks\":\"\"}},\"type\":\"scatter3d\"}],\"scattercarpet\":[{\"marker\":{\"colorbar\":{\"outlinewidth\":0,\"ticks\":\"\"}},\"type\":\"scattercarpet\"}],\"scattergeo\":[{\"marker\":{\"colorbar\":{\"outlinewidth\":0,\"ticks\":\"\"}},\"type\":\"scattergeo\"}],\"scattergl\":[{\"marker\":{\"colorbar\":{\"outlinewidth\":0,\"ticks\":\"\"}},\"type\":\"scattergl\"}],\"scattermapbox\":[{\"marker\":{\"colorbar\":{\"outlinewidth\":0,\"ticks\":\"\"}},\"type\":\"scattermapbox\"}],\"scatterpolargl\":[{\"marker\":{\"colorbar\":{\"outlinewidth\":0,\"ticks\":\"\"}},\"type\":\"scatterpolargl\"}],\"scatterpolar\":[{\"marker\":{\"colorbar\":{\"outlinewidth\":0,\"ticks\":\"\"}},\"type\":\"scatterpolar\"}],\"scatter\":[{\"fillpattern\":{\"fillmode\":\"overlay\",\"size\":10,\"solidity\":0.2},\"type\":\"scatter\"}],\"scatterternary\":[{\"marker\":{\"colorbar\":{\"outlinewidth\":0,\"ticks\":\"\"}},\"type\":\"scatterternary\"}],\"surface\":[{\"colorbar\":{\"outlinewidth\":0,\"ticks\":\"\"},\"colorscale\":[[0.0,\"#0d0887\"],[0.1111111111111111,\"#46039f\"],[0.2222222222222222,\"#7201a8\"],[0.3333333333333333,\"#9c179e\"],[0.4444444444444444,\"#bd3786\"],[0.5555555555555556,\"#d8576b\"],[0.6666666666666666,\"#ed7953\"],[0.7777777777777778,\"#fb9f3a\"],[0.8888888888888888,\"#fdca26\"],[1.0,\"#f0f921\"]],\"type\":\"surface\"}],\"table\":[{\"cells\":{\"fill\":{\"color\":\"#EBF0F8\"},\"line\":{\"color\":\"white\"}},\"header\":{\"fill\":{\"color\":\"#C8D4E3\"},\"line\":{\"color\":\"white\"}},\"type\":\"table\"}]},\"layout\":{\"annotationdefaults\":{\"arrowcolor\":\"#2a3f5f\",\"arrowhead\":0,\"arrowwidth\":1},\"autotypenumbers\":\"strict\",\"coloraxis\":{\"colorbar\":{\"outlinewidth\":0,\"ticks\":\"\"}},\"colorscale\":{\"diverging\":[[0,\"#8e0152\"],[0.1,\"#c51b7d\"],[0.2,\"#de77ae\"],[0.3,\"#f1b6da\"],[0.4,\"#fde0ef\"],[0.5,\"#f7f7f7\"],[0.6,\"#e6f5d0\"],[0.7,\"#b8e186\"],[0.8,\"#7fbc41\"],[0.9,\"#4d9221\"],[1,\"#276419\"]],\"sequential\":[[0.0,\"#0d0887\"],[0.1111111111111111,\"#46039f\"],[0.2222222222222222,\"#7201a8\"],[0.3333333333333333,\"#9c179e\"],[0.4444444444444444,\"#bd3786\"],[0.5555555555555556,\"#d8576b\"],[0.6666666666666666,\"#ed7953\"],[0.7777777777777778,\"#fb9f3a\"],[0.8888888888888888,\"#fdca26\"],[1.0,\"#f0f921\"]],\"sequentialminus\":[[0.0,\"#0d0887\"],[0.1111111111111111,\"#46039f\"],[0.2222222222222222,\"#7201a8\"],[0.3333333333333333,\"#9c179e\"],[0.4444444444444444,\"#bd3786\"],[0.5555555555555556,\"#d8576b\"],[0.6666666666666666,\"#ed7953\"],[0.7777777777777778,\"#fb9f3a\"],[0.8888888888888888,\"#fdca26\"],[1.0,\"#f0f921\"]]},\"colorway\":[\"#636efa\",\"#EF553B\",\"#00cc96\",\"#ab63fa\",\"#FFA15A\",\"#19d3f3\",\"#FF6692\",\"#B6E880\",\"#FF97FF\",\"#FECB52\"],\"font\":{\"color\":\"#2a3f5f\"},\"geo\":{\"bgcolor\":\"white\",\"lakecolor\":\"white\",\"landcolor\":\"#E5ECF6\",\"showlakes\":true,\"showland\":true,\"subunitcolor\":\"white\"},\"hoverlabel\":{\"align\":\"left\"},\"hovermode\":\"closest\",\"mapbox\":{\"style\":\"light\"},\"paper_bgcolor\":\"white\",\"plot_bgcolor\":\"#E5ECF6\",\"polar\":{\"angularaxis\":{\"gridcolor\":\"white\",\"linecolor\":\"white\",\"ticks\":\"\"},\"bgcolor\":\"#E5ECF6\",\"radialaxis\":{\"gridcolor\":\"white\",\"linecolor\":\"white\",\"ticks\":\"\"}},\"scene\":{\"xaxis\":{\"backgroundcolor\":\"#E5ECF6\",\"gridcolor\":\"white\",\"gridwidth\":2,\"linecolor\":\"white\",\"showbackground\":true,\"ticks\":\"\",\"zerolinecolor\":\"white\"},\"yaxis\":{\"backgroundcolor\":\"#E5ECF6\",\"gridcolor\":\"white\",\"gridwidth\":2,\"linecolor\":\"white\",\"showbackground\":true,\"ticks\":\"\",\"zerolinecolor\":\"white\"},\"zaxis\":{\"backgroundcolor\":\"#E5ECF6\",\"gridcolor\":\"white\",\"gridwidth\":2,\"linecolor\":\"white\",\"showbackground\":true,\"ticks\":\"\",\"zerolinecolor\":\"white\"}},\"shapedefaults\":{\"line\":{\"color\":\"#2a3f5f\"}},\"ternary\":{\"aaxis\":{\"gridcolor\":\"white\",\"linecolor\":\"white\",\"ticks\":\"\"},\"baxis\":{\"gridcolor\":\"white\",\"linecolor\":\"white\",\"ticks\":\"\"},\"bgcolor\":\"#E5ECF6\",\"caxis\":{\"gridcolor\":\"white\",\"linecolor\":\"white\",\"ticks\":\"\"}},\"title\":{\"x\":0.05},\"xaxis\":{\"automargin\":true,\"gridcolor\":\"white\",\"linecolor\":\"white\",\"ticks\":\"\",\"title\":{\"standoff\":15},\"zerolinecolor\":\"white\",\"zerolinewidth\":2},\"yaxis\":{\"automargin\":true,\"gridcolor\":\"white\",\"linecolor\":\"white\",\"ticks\":\"\",\"title\":{\"standoff\":15},\"zerolinecolor\":\"white\",\"zerolinewidth\":2}}},\"title\":{\"text\":\"Estimated Gross National Income per Capita\"}},                        {\"responsive\": true}                    ).then(function(){\n",
              "                            \n",
              "var gd = document.getElementById('db897c46-6aca-4ca2-9ffd-79ac02fbc112');\n",
              "var x = new MutationObserver(function (mutations, observer) {{\n",
              "        var display = window.getComputedStyle(gd).display;\n",
              "        if (!display || display === 'none') {{\n",
              "            console.log([gd, 'removed!']);\n",
              "            Plotly.purge(gd);\n",
              "            observer.disconnect();\n",
              "        }}\n",
              "}});\n",
              "\n",
              "// Listen for the removal of the full notebook cells\n",
              "var notebookContainer = gd.closest('#notebook-container');\n",
              "if (notebookContainer) {{\n",
              "    x.observe(notebookContainer, {childList: true});\n",
              "}}\n",
              "\n",
              "// Listen for the clearing of the current output cell\n",
              "var outputEl = gd.closest('.output');\n",
              "if (outputEl) {{\n",
              "    x.observe(outputEl, {childList: true});\n",
              "}}\n",
              "\n",
              "                        })                };                });            </script>        </div>"
            ]
          },
          "metadata": {}
        }
      ]
    }
  ]
}